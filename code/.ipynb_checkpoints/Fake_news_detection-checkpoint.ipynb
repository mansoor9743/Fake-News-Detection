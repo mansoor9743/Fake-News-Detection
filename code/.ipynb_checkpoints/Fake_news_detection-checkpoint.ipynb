{
 "cells": [
  {
   "cell_type": "markdown",
   "metadata": {},
   "source": [
    "# Natural Language Processing\n",
    "## Fake News Detection "
   ]
  },
  {
   "cell_type": "code",
   "execution_count": 1,
   "metadata": {},
   "outputs": [],
   "source": [
    "# import libraries\n",
    "import ftfy\n",
    "import nltk\n",
    "import json\n",
    "import re\n",
    "import seaborn as sns\n",
    "import pandas as pd\n",
    "import matplotlib.pyplot as plt\n",
    "%matplotlib inline\n",
    "import pandas as pd\n",
    "import csv\n",
    "import numpy as np\n",
    "import nltk\n",
    "import seaborn as sb\n",
    "import warnings\n",
    "\n",
    "from sklearn.model_selection import train_test_split\n",
    "from sklearn.base import BaseEstimator, TransformerMixin\n",
    "from sklearn.pipeline import Pipeline, FeatureUnion\n",
    "from sklearn.feature_extraction import DictVectorizer\n",
    "from sklearn.feature_selection import SelectKBest, chi2\n",
    "from sklearn.linear_model import LogisticRegression\n",
    "from sklearn.naive_bayes import MultinomialNB\n",
    "from sklearn.model_selection import cross_validate, StratifiedKFold\n",
    "from sklearn.metrics import accuracy_score, classification_report, confusion_matrix\n",
    "from sklearn.model_selection import GridSearchCV\n",
    "from sklearn.feature_extraction.text import TfidfTransformer\n",
    "from sklearn.preprocessing import Binarizer\n",
    "\n",
    "\n",
    "from collections import Counter\n",
    "from os import listdir, makedirs\n",
    "from os.path import isfile, join, splitext, split\n",
    "\n",
    "from nltk.stem import SnowballStemmer\n",
    "from nltk.stem.porter import PorterStemmer\n",
    "from nltk.tokenize import word_tokenize\n",
    "from nltk.corpus import stopwords\n",
    "from collections import defaultdict\n",
    "from nltk.corpus import wordnet as wn\n",
    "from nltk.stem import WordNetLemmatizer\n",
    "from nltk.tokenize import word_tokenize\n",
    "from nltk import pos_tag\n",
    "#nltk.download('stopwords')\n",
    "\n",
    "\n",
    "from wordcloud import STOPWORDS, WordCloud\n",
    "\n",
    "from sklearn.feature_extraction.text import CountVectorizer\n",
    "from sklearn.pipeline import Pipeline, FeatureUnion\n",
    "from sklearn.feature_extraction.text import TfidfVectorizer\n",
    "from sklearn.preprocessing import StandardScaler\n",
    "from sklearn.decomposition import TruncatedSVD\n",
    "from sklearn.metrics import accuracy_score, classification_report, confusion_matrix\n",
    "from sklearn.model_selection import cross_validate, StratifiedKFold\n",
    "from sklearn.naive_bayes import GaussianNB\n",
    "\n",
    "from sklearn import tree\n",
    "from sklearn.ensemble import RandomForestClassifier\n",
    "from sklearn import model_selection, naive_bayes, svm\n",
    "from sklearn.feature_extraction.text import TfidfVectorizer\n",
    "from sklearn.preprocessing import LabelEncoder\n",
    "from xgboost import XGBClassifier # need to import xboost calssifer\n",
    "\n",
    "warnings.filterwarnings('ignore')\n",
    "np.random.seed(0)"
   ]
  },
  {
   "cell_type": "markdown",
   "metadata": {},
   "source": [
    "# Loading the LIAR Dataset\n",
    "The dataset is in the format of 3 tab seperated files. Loading it as a pandas dataframe. Combining the train, test and validation files to a single file so that we can do the train and test split as required."
   ]
  },
  {
   "cell_type": "code",
   "execution_count": 2,
   "metadata": {},
   "outputs": [],
   "source": [
    "# Importing the dataset\n",
    "train = pd.read_csv('train.tsv', delimiter='\\t', quoting=3, header=None)\n",
    "test = pd.read_csv('test.tsv', delimiter='\\t', quoting=3, header=None)\n",
    "valid = pd.read_csv('valid.tsv', delimiter='\\t', quoting=3, header=None)"
   ]
  },
  {
   "cell_type": "code",
   "execution_count": 3,
   "metadata": {},
   "outputs": [
    {
     "data": {
      "text/html": [
       "<div>\n",
       "<style scoped>\n",
       "    .dataframe tbody tr th:only-of-type {\n",
       "        vertical-align: middle;\n",
       "    }\n",
       "\n",
       "    .dataframe tbody tr th {\n",
       "        vertical-align: top;\n",
       "    }\n",
       "\n",
       "    .dataframe thead th {\n",
       "        text-align: right;\n",
       "    }\n",
       "</style>\n",
       "<table border=\"1\" class=\"dataframe\">\n",
       "  <thead>\n",
       "    <tr style=\"text-align: right;\">\n",
       "      <th></th>\n",
       "      <th>index</th>\n",
       "      <th>0</th>\n",
       "      <th>1</th>\n",
       "      <th>2</th>\n",
       "      <th>3</th>\n",
       "      <th>4</th>\n",
       "      <th>5</th>\n",
       "      <th>6</th>\n",
       "      <th>7</th>\n",
       "      <th>8</th>\n",
       "      <th>9</th>\n",
       "      <th>10</th>\n",
       "      <th>11</th>\n",
       "      <th>12</th>\n",
       "      <th>13</th>\n",
       "    </tr>\n",
       "  </thead>\n",
       "  <tbody>\n",
       "    <tr>\n",
       "      <th>0</th>\n",
       "      <td>8289</td>\n",
       "      <td>423.json</td>\n",
       "      <td>true</td>\n",
       "      <td>\"McCain opposes a woman's right to choose.\"</td>\n",
       "      <td>abortion</td>\n",
       "      <td>moveon</td>\n",
       "      <td>NaN</td>\n",
       "      <td>NaN</td>\n",
       "      <td>democrat</td>\n",
       "      <td>2</td>\n",
       "      <td>4</td>\n",
       "      <td>3</td>\n",
       "      <td>0</td>\n",
       "      <td>0</td>\n",
       "      <td>an e-mail message</td>\n",
       "    </tr>\n",
       "    <tr>\n",
       "      <th>1</th>\n",
       "      <td>1156</td>\n",
       "      <td>10379.json</td>\n",
       "      <td>barely-true</td>\n",
       "      <td>The name Frank has risen in popularity by 20 p...</td>\n",
       "      <td>pop-culture</td>\n",
       "      <td>matt-lauer</td>\n",
       "      <td>Today Show host</td>\n",
       "      <td>NaN</td>\n",
       "      <td>none</td>\n",
       "      <td>1</td>\n",
       "      <td>0</td>\n",
       "      <td>0</td>\n",
       "      <td>0</td>\n",
       "      <td>0</td>\n",
       "      <td>a red carpet interview before the Golden Globes</td>\n",
       "    </tr>\n",
       "  </tbody>\n",
       "</table>\n",
       "</div>"
      ],
      "text/plain": [
       "   index           0            1  \\\n",
       "0   8289    423.json         true   \n",
       "1   1156  10379.json  barely-true   \n",
       "\n",
       "                                                   2            3           4  \\\n",
       "0        \"McCain opposes a woman's right to choose.\"     abortion      moveon   \n",
       "1  The name Frank has risen in popularity by 20 p...  pop-culture  matt-lauer   \n",
       "\n",
       "                 5    6         7  8  9  10  11  12  \\\n",
       "0              NaN  NaN  democrat  2  4   3   0   0   \n",
       "1  Today Show host  NaN      none  1  0   0   0   0   \n",
       "\n",
       "                                                13  \n",
       "0                                an e-mail message  \n",
       "1  a red carpet interview before the Golden Globes  "
      ]
     },
     "execution_count": 3,
     "metadata": {},
     "output_type": "execute_result"
    }
   ],
   "source": [
    "df_raw = pd.concat([train, test, valid], axis=0, sort=False)\n",
    "df_raw = df_raw.sample(frac=1).reset_index()\n",
    "df_raw.head(2)"
   ]
  },
  {
   "cell_type": "code",
   "execution_count": 4,
   "metadata": {},
   "outputs": [
    {
     "data": {
      "text/plain": [
       "(12836, 15)"
      ]
     },
     "execution_count": 4,
     "metadata": {},
     "output_type": "execute_result"
    }
   ],
   "source": [
    "# The file contains 12836 rows and 15 columns\n",
    "df_raw.shape"
   ]
  },
  {
   "cell_type": "code",
   "execution_count": 5,
   "metadata": {},
   "outputs": [],
   "source": [
    "# naming the columns of the dataset\n",
    "df_raw.columns=[\"index\",\"ID\", \"label\", \"statement\", \"subject\", \"speaker\", \"job\", \"state\", \"party\", \"barely_true_cts\",\n",
    "        \"false_cts\", \"half_true_cts\", \"mostly_true_cts\", \"pants_on_fire_cts\", \"context\"]"
   ]
  },
  {
   "cell_type": "code",
   "execution_count": 6,
   "metadata": {},
   "outputs": [
    {
     "data": {
      "text/html": [
       "<div>\n",
       "<style scoped>\n",
       "    .dataframe tbody tr th:only-of-type {\n",
       "        vertical-align: middle;\n",
       "    }\n",
       "\n",
       "    .dataframe tbody tr th {\n",
       "        vertical-align: top;\n",
       "    }\n",
       "\n",
       "    .dataframe thead th {\n",
       "        text-align: right;\n",
       "    }\n",
       "</style>\n",
       "<table border=\"1\" class=\"dataframe\">\n",
       "  <thead>\n",
       "    <tr style=\"text-align: right;\">\n",
       "      <th></th>\n",
       "      <th>index</th>\n",
       "      <th>ID</th>\n",
       "      <th>label</th>\n",
       "      <th>statement</th>\n",
       "      <th>subject</th>\n",
       "      <th>speaker</th>\n",
       "      <th>job</th>\n",
       "      <th>state</th>\n",
       "      <th>party</th>\n",
       "      <th>barely_true_cts</th>\n",
       "      <th>false_cts</th>\n",
       "      <th>half_true_cts</th>\n",
       "      <th>mostly_true_cts</th>\n",
       "      <th>pants_on_fire_cts</th>\n",
       "      <th>context</th>\n",
       "    </tr>\n",
       "  </thead>\n",
       "  <tbody>\n",
       "    <tr>\n",
       "      <th>0</th>\n",
       "      <td>8289</td>\n",
       "      <td>423.json</td>\n",
       "      <td>true</td>\n",
       "      <td>\"McCain opposes a woman's right to choose.\"</td>\n",
       "      <td>abortion</td>\n",
       "      <td>moveon</td>\n",
       "      <td>NaN</td>\n",
       "      <td>NaN</td>\n",
       "      <td>democrat</td>\n",
       "      <td>2</td>\n",
       "      <td>4</td>\n",
       "      <td>3</td>\n",
       "      <td>0</td>\n",
       "      <td>0</td>\n",
       "      <td>an e-mail message</td>\n",
       "    </tr>\n",
       "    <tr>\n",
       "      <th>1</th>\n",
       "      <td>1156</td>\n",
       "      <td>10379.json</td>\n",
       "      <td>barely-true</td>\n",
       "      <td>The name Frank has risen in popularity by 20 p...</td>\n",
       "      <td>pop-culture</td>\n",
       "      <td>matt-lauer</td>\n",
       "      <td>Today Show host</td>\n",
       "      <td>NaN</td>\n",
       "      <td>none</td>\n",
       "      <td>1</td>\n",
       "      <td>0</td>\n",
       "      <td>0</td>\n",
       "      <td>0</td>\n",
       "      <td>0</td>\n",
       "      <td>a red carpet interview before the Golden Globes</td>\n",
       "    </tr>\n",
       "  </tbody>\n",
       "</table>\n",
       "</div>"
      ],
      "text/plain": [
       "   index          ID        label  \\\n",
       "0   8289    423.json         true   \n",
       "1   1156  10379.json  barely-true   \n",
       "\n",
       "                                           statement      subject     speaker  \\\n",
       "0        \"McCain opposes a woman's right to choose.\"     abortion      moveon   \n",
       "1  The name Frank has risen in popularity by 20 p...  pop-culture  matt-lauer   \n",
       "\n",
       "               job state     party  barely_true_cts  false_cts  half_true_cts  \\\n",
       "0              NaN   NaN  democrat                2          4              3   \n",
       "1  Today Show host   NaN      none                1          0              0   \n",
       "\n",
       "   mostly_true_cts  pants_on_fire_cts  \\\n",
       "0                0                  0   \n",
       "1                0                  0   \n",
       "\n",
       "                                           context  \n",
       "0                                an e-mail message  \n",
       "1  a red carpet interview before the Golden Globes  "
      ]
     },
     "execution_count": 6,
     "metadata": {},
     "output_type": "execute_result"
    }
   ],
   "source": [
    "df_raw.head(2)"
   ]
  },
  {
   "cell_type": "code",
   "execution_count": 7,
   "metadata": {},
   "outputs": [
    {
     "data": {
      "text/plain": [
       "['\"McCain opposes a woman\\'s right to choose.\"',\n",
       " 'The name Frank has risen in popularity by 20 percent since the debut of House of Cardson Netflix.',\n",
       " 'Says Ted Cruz never denied his father was photographedwith Lee Harvey Oswald.',\n",
       " 'Its been 14 years since a president or a vice president or a member of their family has not gone and attended at least an event at the Olympics.',\n",
       " 'In the year 2013, the Obama administration released 104,000 criminal illegal aliens. They released 196 murderers people with homicide convictions, who are here illegally.',\n",
       " 'Says the United States does not trade as much as other developed nations.',\n",
       " '\"Oil companies ...currently have 68-million acres that they\\'re not using.\"',\n",
       " 'Says 24 million people in this country cant find a full-time job, 50 million cant see a doctor when theyre sick, 47 million people need government help to feed themselves and 15 million families owe more than the value of their home.',\n",
       " 'President Obama went around the world and apologized for America.',\n",
       " '\"Joe Biden is the only candidate with a plan to get us out of Iraq and keep us out.\"']"
      ]
     },
     "execution_count": 7,
     "metadata": {},
     "output_type": "execute_result"
    }
   ],
   "source": [
    "# some of the statements\n",
    "df_raw['statement'].head(10).tolist()"
   ]
  },
  {
   "cell_type": "code",
   "execution_count": 8,
   "metadata": {},
   "outputs": [
    {
     "data": {
      "text/plain": [
       "['moveon',\n",
       " 'matt-lauer',\n",
       " 'donald-trump',\n",
       " 'candy-crowley',\n",
       " 'ted-cruz',\n",
       " 'rob-portman',\n",
       " 'barack-obama',\n",
       " 'alan-grayson',\n",
       " 'mitt-romney',\n",
       " 'joe-biden',\n",
       " 'ellen-rosenblum',\n",
       " 'linda-finn',\n",
       " 'us-chamber-commerce',\n",
       " 'tom-barrett',\n",
       " 'chris-christie',\n",
       " 'russell-edwards',\n",
       " 'mitt-romney',\n",
       " 'jeff-merkley',\n",
       " 'rush-limbaugh',\n",
       " 'john-boehner']"
      ]
     },
     "execution_count": 8,
     "metadata": {},
     "output_type": "execute_result"
    }
   ],
   "source": [
    "# some of the speakers\n",
    "df_raw['speaker'].head(20).tolist()"
   ]
  },
  {
   "cell_type": "markdown",
   "metadata": {},
   "source": [
    "# Exploratory Data Analysis"
   ]
  },
  {
   "cell_type": "code",
   "execution_count": 9,
   "metadata": {},
   "outputs": [
    {
     "data": {
      "text/plain": [
       "Text(0.5, 1.0, 'Types & Number of Classes in the dataset')"
      ]
     },
     "execution_count": 9,
     "metadata": {},
     "output_type": "execute_result"
    },
    {
     "data": {
      "image/png": "[encoded data removed]",
      "text/plain": [
       "<Figure size 432x288 with 1 Axes>"
      ]
     },
     "metadata": {
      "needs_background": "light"
     },
     "output_type": "display_data"
    }
   ],
   "source": [
    "sns.countplot(x='label',data=df_raw)\n",
    "plt.title('Types & Number of Classes in the dataset')"
   ]
  },
  {
   "cell_type": "markdown",
   "metadata": {},
   "source": [
    "### Converting multiclass labels to two classes - Fake and True for exploratory data analysis"
   ]
  },
  {
   "cell_type": "code",
   "execution_count": 10,
   "metadata": {},
   "outputs": [],
   "source": [
    "#function for mapping labels \"true, mostly-true, half-true\" to TRUE and \"false, barely-true, pants-fire\" to FAKE.\n",
    "def binary_class_dataset(data):\n",
    "    \n",
    "    data = data.iloc[:, [2, 3]]\n",
    "    data.columns = ['label', 'statement']\n",
    "    Original_labels = {\n",
    "        'true': 'True',\n",
    "        'mostly-true': 'True',\n",
    "        'half-true': 'True',\n",
    "        'false': 'Fake',\n",
    "        'barely-true': 'Fake',\n",
    "        'pants-fire': 'Fake'\n",
    "    }\n",
    "    data['label'] = data['label'].map(Original_labels)\n",
    "\n",
    "    return data"
   ]
  },
  {
   "cell_type": "code",
   "execution_count": 11,
   "metadata": {},
   "outputs": [],
   "source": [
    "# running the function on the loaded dataframe\n",
    "bi_class= binary_class_dataset(df_raw)"
   ]
  },
  {
   "cell_type": "code",
   "execution_count": 12,
   "metadata": {},
   "outputs": [
    {
     "data": {
      "text/html": [
       "<div>\n",
       "<style scoped>\n",
       "    .dataframe tbody tr th:only-of-type {\n",
       "        vertical-align: middle;\n",
       "    }\n",
       "\n",
       "    .dataframe tbody tr th {\n",
       "        vertical-align: top;\n",
       "    }\n",
       "\n",
       "    .dataframe thead th {\n",
       "        text-align: right;\n",
       "    }\n",
       "</style>\n",
       "<table border=\"1\" class=\"dataframe\">\n",
       "  <thead>\n",
       "    <tr style=\"text-align: right;\">\n",
       "      <th></th>\n",
       "      <th>label</th>\n",
       "      <th>statement</th>\n",
       "    </tr>\n",
       "  </thead>\n",
       "  <tbody>\n",
       "    <tr>\n",
       "      <th>0</th>\n",
       "      <td>True</td>\n",
       "      <td>\"McCain opposes a woman's right to choose.\"</td>\n",
       "    </tr>\n",
       "    <tr>\n",
       "      <th>1</th>\n",
       "      <td>Fake</td>\n",
       "      <td>The name Frank has risen in popularity by 20 p...</td>\n",
       "    </tr>\n",
       "  </tbody>\n",
       "</table>\n",
       "</div>"
      ],
      "text/plain": [
       "  label                                          statement\n",
       "0  True        \"McCain opposes a woman's right to choose.\"\n",
       "1  Fake  The name Frank has risen in popularity by 20 p..."
      ]
     },
     "execution_count": 12,
     "metadata": {},
     "output_type": "execute_result"
    }
   ],
   "source": [
    "# new dataset with binary class labels - True and Fake substituted for the originals labels\n",
    "\n",
    "bi_class.head(2)"
   ]
  },
  {
   "cell_type": "markdown",
   "metadata": {},
   "source": [
    "## Creating Word Clouds for the text 'statements' in the LIAR dataset"
   ]
  },
  {
   "cell_type": "code",
   "execution_count": 13,
   "metadata": {},
   "outputs": [
    {
     "data": {
      "image/png": "[encoded data removed]",
      "text/plain": [
       "<Figure size 432x288 with 1 Axes>"
      ]
     },
     "metadata": {
      "needs_background": "light"
     },
     "output_type": "display_data"
    }
   ],
   "source": [
    "np.random.seed(0) # setting seed to get similar results over multiple experiments.\n",
    "\n",
    "# word cloud for all the statements in the entire dataset\n",
    "text = bi_class['statement'].values\n",
    "wordcloud = WordCloud(width=3000, height=2000, background_color='white',stopwords=STOPWORDS).generate(str(text))\n",
    "plt.imshow(wordcloud)\n",
    "plt.axis('off')\n",
    "plt.title(\"Word Cloud of 'Statements' in LIAR dataset\")\n",
    "plt.show()"
   ]
  },
  {
   "cell_type": "code",
   "execution_count": 14,
   "metadata": {},
   "outputs": [],
   "source": [
    "# creating two dataset consisting of True and Fake statements seperately\n",
    "np.random.seed(0)\n",
    "true_statements_dataset = bi_class[bi_class['label'].astype(str) == 'True']\n",
    "fake_statements_dataset = bi_class[bi_class['label'].astype(str) == 'Fake']"
   ]
  },
  {
   "cell_type": "code",
   "execution_count": 15,
   "metadata": {},
   "outputs": [
    {
     "data": {
      "text/html": [
       "<div>\n",
       "<style scoped>\n",
       "    .dataframe tbody tr th:only-of-type {\n",
       "        vertical-align: middle;\n",
       "    }\n",
       "\n",
       "    .dataframe tbody tr th {\n",
       "        vertical-align: top;\n",
       "    }\n",
       "\n",
       "    .dataframe thead th {\n",
       "        text-align: right;\n",
       "    }\n",
       "</style>\n",
       "<table border=\"1\" class=\"dataframe\">\n",
       "  <thead>\n",
       "    <tr style=\"text-align: right;\">\n",
       "      <th></th>\n",
       "      <th>label</th>\n",
       "      <th>statement</th>\n",
       "    </tr>\n",
       "  </thead>\n",
       "  <tbody>\n",
       "    <tr>\n",
       "      <th>0</th>\n",
       "      <td>True</td>\n",
       "      <td>\"McCain opposes a woman's right to choose.\"</td>\n",
       "    </tr>\n",
       "    <tr>\n",
       "      <th>3</th>\n",
       "      <td>True</td>\n",
       "      <td>Its been 14 years since a president or a vice ...</td>\n",
       "    </tr>\n",
       "    <tr>\n",
       "      <th>4</th>\n",
       "      <td>True</td>\n",
       "      <td>In the year 2013, the Obama administration rel...</td>\n",
       "    </tr>\n",
       "    <tr>\n",
       "      <th>5</th>\n",
       "      <td>True</td>\n",
       "      <td>Says the United States does not trade as much ...</td>\n",
       "    </tr>\n",
       "    <tr>\n",
       "      <th>7</th>\n",
       "      <td>True</td>\n",
       "      <td>Says 24 million people in this country cant fi...</td>\n",
       "    </tr>\n",
       "  </tbody>\n",
       "</table>\n",
       "</div>"
      ],
      "text/plain": [
       "  label                                          statement\n",
       "0  True        \"McCain opposes a woman's right to choose.\"\n",
       "3  True  Its been 14 years since a president or a vice ...\n",
       "4  True  In the year 2013, the Obama administration rel...\n",
       "5  True  Says the United States does not trade as much ...\n",
       "7  True  Says 24 million people in this country cant fi..."
      ]
     },
     "execution_count": 15,
     "metadata": {},
     "output_type": "execute_result"
    }
   ],
   "source": [
    "np.random.seed(0)\n",
    "# contains only TRUE statements\n",
    "true_statements_dataset.head(5)"
   ]
  },
  {
   "cell_type": "code",
   "execution_count": 16,
   "metadata": {},
   "outputs": [
    {
     "data": {
      "text/html": [
       "<div>\n",
       "<style scoped>\n",
       "    .dataframe tbody tr th:only-of-type {\n",
       "        vertical-align: middle;\n",
       "    }\n",
       "\n",
       "    .dataframe tbody tr th {\n",
       "        vertical-align: top;\n",
       "    }\n",
       "\n",
       "    .dataframe thead th {\n",
       "        text-align: right;\n",
       "    }\n",
       "</style>\n",
       "<table border=\"1\" class=\"dataframe\">\n",
       "  <thead>\n",
       "    <tr style=\"text-align: right;\">\n",
       "      <th></th>\n",
       "      <th>label</th>\n",
       "      <th>statement</th>\n",
       "    </tr>\n",
       "  </thead>\n",
       "  <tbody>\n",
       "    <tr>\n",
       "      <th>1</th>\n",
       "      <td>Fake</td>\n",
       "      <td>The name Frank has risen in popularity by 20 p...</td>\n",
       "    </tr>\n",
       "    <tr>\n",
       "      <th>2</th>\n",
       "      <td>Fake</td>\n",
       "      <td>Says Ted Cruz never denied his father was phot...</td>\n",
       "    </tr>\n",
       "    <tr>\n",
       "      <th>6</th>\n",
       "      <td>Fake</td>\n",
       "      <td>\"Oil companies ...currently have 68-million ac...</td>\n",
       "    </tr>\n",
       "    <tr>\n",
       "      <th>8</th>\n",
       "      <td>Fake</td>\n",
       "      <td>President Obama went around the world and apol...</td>\n",
       "    </tr>\n",
       "    <tr>\n",
       "      <th>12</th>\n",
       "      <td>Fake</td>\n",
       "      <td>The new health care law crushes small business...</td>\n",
       "    </tr>\n",
       "  </tbody>\n",
       "</table>\n",
       "</div>"
      ],
      "text/plain": [
       "   label                                          statement\n",
       "1   Fake  The name Frank has risen in popularity by 20 p...\n",
       "2   Fake  Says Ted Cruz never denied his father was phot...\n",
       "6   Fake  \"Oil companies ...currently have 68-million ac...\n",
       "8   Fake  President Obama went around the world and apol...\n",
       "12  Fake  The new health care law crushes small business..."
      ]
     },
     "execution_count": 16,
     "metadata": {},
     "output_type": "execute_result"
    }
   ],
   "source": [
    "# contains only FAKE statements\n",
    "np.random.seed(0)\n",
    "fake_statements_dataset.head(5)"
   ]
  },
  {
   "cell_type": "code",
   "execution_count": 17,
   "metadata": {},
   "outputs": [
    {
     "data": {
      "image/png": "[encoded data removed]",
      "text/plain": [
       "<Figure size 432x288 with 1 Axes>"
      ]
     },
     "metadata": {
      "needs_background": "light"
     },
     "output_type": "display_data"
    }
   ],
   "source": [
    "np.random.seed(0)\n",
    "# creating word cloud for only those statements that are TRUE\n",
    "text_true = true_statements_dataset['statement'].values\n",
    "wordcloud_true = WordCloud(width=3000, height=2000, background_color='white',stopwords=STOPWORDS).generate(str(text_true))\n",
    "plt.imshow(wordcloud_true)\n",
    "plt.axis('off')\n",
    "plt.title(\"Word Cloud of statements that are TRUE\")\n",
    "plt.show()"
   ]
  },
  {
   "cell_type": "code",
   "execution_count": 18,
   "metadata": {},
   "outputs": [
    {
     "data": {
      "image/png": "[encoded data removed]",
      "text/plain": [
       "<Figure size 432x288 with 1 Axes>"
      ]
     },
     "metadata": {
      "needs_background": "light"
     },
     "output_type": "display_data"
    }
   ],
   "source": [
    "np.random.seed(0)\n",
    "# creating word cloud for or only those statements that are FAKE\n",
    "text_false = fake_statements_dataset['statement'].values\n",
    "wordcloud_false = WordCloud(width=3000, height=2000, background_color='white',stopwords=STOPWORDS).generate(str(text_false))\n",
    "plt.imshow(wordcloud_false)\n",
    "plt.axis('off')\n",
    "plt.title(\"Word Cloud of statements that are FALSE\")\n",
    "plt.show()"
   ]
  },
  {
   "cell_type": "markdown",
   "metadata": {},
   "source": [
    "### Exploring the 'speakers' who have given the statements in the LIAR dataset"
   ]
  },
  {
   "cell_type": "code",
   "execution_count": 19,
   "metadata": {},
   "outputs": [
    {
     "name": "stdout",
     "output_type": "stream",
     "text": [
      "The total number of speakers in the LIAR dataset is : 3318  \n",
      "\n",
      "Some sample speakers are:\n",
      " ['moveon', 'matt-lauer', 'donald-trump', 'candy-crowley', 'ted-cruz', 'rob-portman', 'barack-obama', 'alan-grayson', 'mitt-romney', 'joe-biden']\n"
     ]
    }
   ],
   "source": [
    "\"\"\"finding the total number of unique 'speakers' in the LIAR dataset\"\"\"\n",
    "speakers_data = df_raw.copy()\n",
    "speakers = speakers_data['speaker'].unique()\n",
    "\n",
    "print(\"The total number of speakers in the LIAR dataset is : %d  \" % len(speakers))\n",
    "print()\n",
    "print(\"Some sample speakers are:\\n\", speakers[:10].tolist())"
   ]
  },
  {
   "cell_type": "code",
   "execution_count": 20,
   "metadata": {},
   "outputs": [
    {
     "name": "stdout",
     "output_type": "stream",
     "text": [
      "There are 13 speakers who have made statements more than 50 times in the dataset\n",
      "\n",
      "Some of the speakers and the number of statements made by them are:\n",
      " speaker\n",
      "barack-obama       616\n",
      "bernie-s           107\n",
      "chain-email        178\n",
      "chris-christie     105\n",
      "donald-trump       344\n",
      "hillary-clinton    297\n",
      "john-mccain        189\n",
      "marco-rubio        153\n",
      "mitt-romney        216\n",
      "rick-perry         173\n",
      "Name: statement, dtype: int64\n"
     ]
    }
   ],
   "source": [
    "\n",
    "\"\"\"\"displaying all the speakers in exploratory plot will not be possible nor meaningful.\n",
    "            Hence finding the top speakers who have made frequent statements\"\"\"\n",
    "\n",
    "speakers_cts = speakers_data.groupby(\"speaker\").statement.count()\n",
    "speakers = speakers_cts[speakers_cts > 100] # speakers who have made more than 100 statements.\n",
    "print(\"There are %d speakers who have made statements more than 50 times in the dataset\" % len(speakers))\n",
    "print()\n",
    "print(\"Some of the speakers and the number of statements made by them are:\\n\", speakers[:10])"
   ]
  },
  {
   "cell_type": "code",
   "execution_count": 21,
   "metadata": {},
   "outputs": [],
   "source": [
    "#Limiting ourselves to only prominent speakers for visualization\n",
    "speakers_data = speakers_data[speakers_data['speaker'].isin(speakers.keys())]"
   ]
  },
  {
   "cell_type": "code",
   "execution_count": 22,
   "metadata": {},
   "outputs": [],
   "source": [
    "\"\"\"function to groupby the speakers by the class and count of statements spoken by them\"\"\"\n",
    "\n",
    "def class_counts(data, column):\n",
    "    return data.groupby([column,\"label\"]).agg({\"ID\" : \"count\"})\n"
   ]
  },
  {
   "cell_type": "markdown",
   "metadata": {},
   "source": [
    "#### Plot of top 13 speakers in the LIAR dataset labelled by class and count of statements they have given."
   ]
  },
  {
   "cell_type": "code",
   "execution_count": 23,
   "metadata": {},
   "outputs": [
    {
     "data": {
      "text/plain": [
       "Text(0.5, 1.0, 'Top 13 speakers in the LIAR dataset with count and class of statements made')"
      ]
     },
     "execution_count": 23,
     "metadata": {},
     "output_type": "execute_result"
    },
    {
     "data": {
      "image/png": "[encoded data removed]",
      "text/plain": [
       "<Figure size 1080x360 with 1 Axes>"
      ]
     },
     "metadata": {
      "needs_background": "light"
     },
     "output_type": "display_data"
    }
   ],
   "source": [
    "# stacked bar plot of speakrs with class and count of statements\n",
    "breakdown = class_counts(speakers_data, 'speaker')\n",
    "breakdown.unstack().plot(kind='bar', stacked=True, figsize=(15,5))\n",
    "plt.title(\"Top 13 speakers in the LIAR dataset with count and class of statements made\")"
   ]
  },
  {
   "cell_type": "code",
   "execution_count": 24,
   "metadata": {},
   "outputs": [],
   "source": [
    "# Function for Normalising the statements and the speakers for comparison purpose\n",
    "\n",
    "def normalize(data, column):\n",
    "    norm = data.reset_index()\n",
    "    norm = norm.set_index([column,'label'])['ID'].unstack(fill_value=0)\n",
    "\n",
    "    row_totals = norm.sum(axis=1)\n",
    "    for row in range(len(norm.index)):\n",
    "        norm.iloc[row]/= row_totals[row]\n",
    "\n",
    "    norm = norm.stack().reset_index(name='Percent').set_index([column, 'label'])\n",
    "    return norm"
   ]
  },
  {
   "cell_type": "markdown",
   "metadata": {},
   "source": [
    "#### Normalised plot of top 13 speakers in the LIAR dataset labelled type of statements they have given (for comparison)"
   ]
  },
  {
   "cell_type": "code",
   "execution_count": 25,
   "metadata": {},
   "outputs": [
    {
     "data": {
      "text/plain": [
       "Text(0.5, 1.0, 'Top 13 speakers in the LIAR dataset with count and class of statements made by them')"
      ]
     },
     "execution_count": 25,
     "metadata": {},
     "output_type": "execute_result"
    },
    {
     "data": {
      "image/png": "[encoded data removed]",
      "text/plain": [
       "<Figure size 1080x360 with 1 Axes>"
      ]
     },
     "metadata": {
      "needs_background": "light"
     },
     "output_type": "display_data"
    }
   ],
   "source": [
    "normalised_data = normalize(breakdown, 'speaker')\n",
    "normalised_data.unstack().plot(kind='bar', stacked=True, figsize=(15,5))\n",
    "plt.title(\"Top 13 speakers in the LIAR dataset with count and class of statements made by them\")"
   ]
  },
  {
   "cell_type": "markdown",
   "metadata": {},
   "source": [
    "From the above plot it can be seen that Facebook posts, Chain emails and Donald Trump have relatively higher number of 'pant-on_fire' fake statements compared to other speakers. We can also note that even though Obama made highest number of statements, his pant-on-fire statements are almost nill."
   ]
  },
  {
   "cell_type": "markdown",
   "metadata": {},
   "source": [
    "### Exploring the parties who have given statements in the LIAR dataset"
   ]
  },
  {
   "cell_type": "code",
   "execution_count": 26,
   "metadata": {},
   "outputs": [
    {
     "name": "stdout",
     "output_type": "stream",
     "text": [
      "The total number of parties in LIAR dataset are : 24\n",
      "\n",
      "Some  parties are:\n",
      " ['democrat', 'none', 'republican', 'organization', 'journalist', 'newsmaker', 'independent', 'libertarian', 'state-official', 'columnist', 'activist', 'tea-party-member', 'labor-leader', 'talk-show-host', 'ocean-state-tea-party-action', 'business-leader', 'county-commissioner', 'constitution-party', 'government-body', 'education-official', 'democratic-farmer-labor', 'green', 'Moderate', 'liberal-party-canada']\n"
     ]
    }
   ],
   "source": [
    "# finding total number of parties in the LIAR dataset\n",
    "parties_data = df_raw.copy()\n",
    "parties = parties_data['party'].unique()\n",
    "print(\"The total number of parties in LIAR dataset are : %d\" % len(parties))\n",
    "print()\n",
    "print(\"Some  parties are:\\n\", parties.tolist())"
   ]
  },
  {
   "cell_type": "code",
   "execution_count": 27,
   "metadata": {},
   "outputs": [
    {
     "name": "stdout",
     "output_type": "stream",
     "text": [
      "Number of parties or entities who have made more than 20 statements in the LIAR dataset : 12\n",
      "\n",
      "Some of the parties and number of statements made by them are :\n",
      " party\n",
      "activist          47\n",
      "columnist         45\n",
      "democrat        4150\n",
      "independent      182\n",
      "journalist        49\n",
      "libertarian       51\n",
      "newsmaker         66\n",
      "none            2185\n",
      "organization     265\n",
      "republican      5687\n",
      "Name: statement, dtype: int64\n"
     ]
    }
   ],
   "source": [
    "# limiting the parties to those which have made frequent statements in the dataset.\n",
    "parties_count = parties_data.groupby(\"party\").statement.count()\n",
    "parties = parties_count[parties_count > 20]     # more than 20 statements\n",
    "\n",
    "print(\"Number of parties or entities who have made more than 20 statements in the LIAR dataset : %d\" % len(parties))\n",
    "print()\n",
    "print(\"Some of the parties and number of statements made by them are :\\n\", parties[:10])"
   ]
  },
  {
   "cell_type": "code",
   "execution_count": 28,
   "metadata": {},
   "outputs": [],
   "source": [
    "## Limiting ourselves to the top 12 parties in the LIAR dataset\n",
    "\n",
    "parties_data = parties_data[parties_data['party'].isin(parties.keys())]"
   ]
  },
  {
   "cell_type": "markdown",
   "metadata": {},
   "source": [
    "####  Plot of top 12 parties in the LIAR dataset labelled type of statements they have given"
   ]
  },
  {
   "cell_type": "code",
   "execution_count": 29,
   "metadata": {},
   "outputs": [
    {
     "data": {
      "text/plain": [
       "Text(0.5, 1.0, 'Top 12 parties/entities in the LIAR dataset with count and class of statements made by them')"
      ]
     },
     "execution_count": 29,
     "metadata": {},
     "output_type": "execute_result"
    },
    {
     "data": {
      "image/png": "[encoded data removed]",
      "text/plain": [
       "<Figure size 1440x360 with 1 Axes>"
      ]
     },
     "metadata": {
      "needs_background": "light"
     },
     "output_type": "display_data"
    }
   ],
   "source": [
    "breakdown = class_counts(parties_data, 'party')\n",
    "breakdown.unstack().plot(kind='bar', stacked=True, figsize=(20,5))\n",
    "plt.title(\"Top 12 parties/entities in the LIAR dataset with count and class of statements made by them\")"
   ]
  },
  {
   "cell_type": "markdown",
   "metadata": {},
   "source": [
    "#### Normalised plot of top 12 parties in the LIAR dataset labelled type of statements they have given (for comparison)"
   ]
  },
  {
   "cell_type": "code",
   "execution_count": 30,
   "metadata": {},
   "outputs": [
    {
     "data": {
      "text/plain": [
       "Text(0.5, 1.0, 'Top 12 parties/entities in the LIAR dataset with count and class of statements made by them')"
      ]
     },
     "execution_count": 30,
     "metadata": {},
     "output_type": "execute_result"
    },
    {
     "data": {
      "image/png": "[encoded data removed]",
      "text/plain": [
       "<Figure size 1080x360 with 1 Axes>"
      ]
     },
     "metadata": {
      "needs_background": "light"
     },
     "output_type": "display_data"
    }
   ],
   "source": [
    "normalized_data = normalize(breakdown, 'party')\n",
    "normalized_data.unstack().plot(kind='bar', stacked=True, figsize=(15,5))\n",
    "plt.title(\"Top 12 parties/entities in the LIAR dataset with count and class of statements made by them\")"
   ]
  },
  {
   "cell_type": "markdown",
   "metadata": {},
   "source": [
    "# Using CountVectorizer for Extracting features from 'statements' in LIAR dataset"
   ]
  },
  {
   "cell_type": "code",
   "execution_count": 31,
   "metadata": {},
   "outputs": [],
   "source": [
    "# specifying features and labels\n",
    "X= df_raw['statement']\n",
    "y=df_raw['label']"
   ]
  },
  {
   "cell_type": "code",
   "execution_count": 32,
   "metadata": {},
   "outputs": [
    {
     "data": {
      "text/plain": [
       "['\"McCain opposes a woman\\'s right to choose.\"',\n",
       " 'The name Frank has risen in popularity by 20 percent since the debut of House of Cardson Netflix.',\n",
       " 'Says Ted Cruz never denied his father was photographedwith Lee Harvey Oswald.',\n",
       " 'Its been 14 years since a president or a vice president or a member of their family has not gone and attended at least an event at the Olympics.',\n",
       " 'In the year 2013, the Obama administration released 104,000 criminal illegal aliens. They released 196 murderers people with homicide convictions, who are here illegally.']"
      ]
     },
     "execution_count": 32,
     "metadata": {},
     "output_type": "execute_result"
    }
   ],
   "source": [
    "# sample statements\n",
    "X.head(5).tolist()"
   ]
  },
  {
   "cell_type": "code",
   "execution_count": 33,
   "metadata": {},
   "outputs": [
    {
     "data": {
      "text/plain": [
       "0           true\n",
       "1    barely-true\n",
       "2     pants-fire\n",
       "3           true\n",
       "4      half-true\n",
       "Name: label, dtype: object"
      ]
     },
     "execution_count": 33,
     "metadata": {},
     "output_type": "execute_result"
    }
   ],
   "source": [
    "#sample labels\n",
    "y.head(5)"
   ]
  },
  {
   "cell_type": "code",
   "execution_count": 34,
   "metadata": {},
   "outputs": [
    {
     "name": "stdout",
     "output_type": "stream",
     "text": [
      "10268 2568\n",
      "10268 2568\n"
     ]
    }
   ],
   "source": [
    "# specifying train and test split with ratio of 80:20\n",
    "X_train, X_test, y_train, y_test = train_test_split(X,y, test_size=0.2, random_state = 0, stratify=y)\n",
    "print(len(X_train), len(X_test))\n",
    "print(len(y_train), len(y_test))"
   ]
  },
  {
   "cell_type": "markdown",
   "metadata": {},
   "source": [
    "### Custom Pre - Processing and Tokenisation of the data"
   ]
  },
  {
   "cell_type": "code",
   "execution_count": 35,
   "metadata": {},
   "outputs": [
    {
     "data": {
      "text/plain": [
       "' function for decontracting the statements'"
      ]
     },
     "execution_count": 35,
     "metadata": {},
     "output_type": "execute_result"
    }
   ],
   "source": [
    "\n",
    "\"\"\" Regular expression for cleaning the statements\"\"\"\n",
    "\n",
    "hashtag_re = re.compile(r\"#\\w+\")\n",
    "mention_re = re.compile(r\"@\\w+\")\n",
    "url_re = re.compile(r\"(?:https?://)?(?:[-\\w]+\\.)+[a-zA-Z]{2,9}[-\\w/#~:;.?+=&%@~]*\")\n",
    "extras_re = re.compile(\"[.;:!\\'?,\\\"()\\[\\]]\")\n",
    "#apos_re = \"\\'[a-z]*\"\n",
    "#leftover_re = \"\\S+\"\n",
    "\n",
    "\"\"\" Preprocessing the text in the statements\"\"\"\n",
    "def preprocess(text):\n",
    "    p_text = hashtag_re.sub(\"[hashtag]\",text)\n",
    "    p_text = mention_re.sub(\"[mention]\",p_text)\n",
    "    p_text = extras_re.sub(\"\",p_text)\n",
    "    p_text = url_re.sub(\"[url]\",p_text)\n",
    "    p_text = ftfy.fix_text(p_text)\n",
    "    return p_text.lower()\n",
    "\n",
    "# regular expression for custom tokenisation\"\n",
    "tokenise_re = re.compile(r\"(\\[[^\\]]+\\]|[-'\\w]+|[^\\s\\w\\[']+)\") #([]|words|other non-space)\n",
    "\n",
    "# defining 3 types of tokenisation\n",
    "\n",
    "def custom_tokenise(text):\n",
    "    return tokenise_re.findall(text.lower())\n",
    "\n",
    "def Tokenizer(str_input):\n",
    "    words = re.sub(r\"[^A-Za-z0-9\\-]\", \" \", str_input).lower().split()\n",
    "    porter_stemmer=nltk.PorterStemmer()\n",
    "    words = [porter_stemmer.stem(word) for word in words]\n",
    "    return words\n",
    "\n",
    "\n",
    "def nltk_twitter_tokenise(text):\n",
    "    twtok = nltk.tokenize.TweetTokenizer()\n",
    "    return twtok.tokenize(text.lower())\n",
    "\n",
    "# stop words list set to english\n",
    "stopwords_list = stopwords.words('english') # stop word list\n",
    "\n",
    "\n",
    "\n",
    "\"\"\" function for decontracting the statements\"\"\"\n",
    "#def decontracted(phrase):\n",
    "   # phrase = re.sub(r\"won\\'t\", \"will not\", phrase)\n",
    "   # phrase = re.sub(r\"can\\'t\", \"can not\", phrase)\n",
    "   # phrase = re.sub(r\"n\\'t\", \" not\", phrase)\n",
    "   # phrase = re.sub(r\"\\'re\", \" are\", phrase)\n",
    "   # phrase = re.sub(r\"\\'s\", \" is\", phrase)\n",
    "   # phrase = re.sub(r\"\\'d\", \" would\", phrase)\n",
    "    #phrase = re.sub(r\"\\'ll\", \" will\", phrase)\n",
    "    #phrase = re.sub(r\"\\'t\", \" not\", phrase)\n",
    "    #phrase = re.sub(r\"\\'ve\", \" have\", phrase)\n",
    "   # phrase = re.sub(r\"\\'m\", \" am\", phrase)\n",
    "    #return phrase"
   ]
  },
  {
   "cell_type": "markdown",
   "metadata": {},
   "source": [
    "### Defining custom functions for displaying results of Classification"
   ]
  },
  {
   "cell_type": "code",
   "execution_count": 36,
   "metadata": {},
   "outputs": [],
   "source": [
    "# function for results of cross-validation\n",
    "def print_cv_scores_summary(name, scores):\n",
    "    print(\"{}: mean = {:.2f}%, sd = {:.2f}%, min = {:.2f}, max = {:.2f}\".format(name, scores.mean()*100, scores.std()*100, scores.min()*100, scores.max()*100))\n",
    "\n",
    "\n",
    "# fucntion for results of model fitting\n",
    "def print_scores():\n",
    "    print(\"Accuracy: \", accuracy_score(y_test, predictions))\n",
    "    print(classification_report(y_test, predictions))\n",
    "    print(confusion_matrix(y_test, predictions))\n",
    "    \n",
    "# function for displaying confusion matrix\n",
    "def confusion_matrix_heatmap(cm, index):\n",
    "    cmdf = pd.DataFrame(cm, index = index, columns=index)\n",
    "    dims = (10, 8)\n",
    "    fig, ax = plt.subplots(figsize=dims)\n",
    "    sns.heatmap(cmdf, annot=True, cmap=\"BuPu\", center=0, fmt='g')\n",
    "    ax.set_ylabel('Actual')    \n",
    "    ax.set_xlabel('Predicted')\n",
    "\n",
    "# function for displaying confusion matrix in percentage terms\n",
    "def confusion_matrix_percent_heatmap(cm, index):\n",
    "    cmdf = pd.DataFrame(cm, index = index, columns=index)\n",
    "    percents = cmdf.div(cmdf.sum(axis=1), axis=0)*100\n",
    "    dims = (10, 10)\n",
    "    fig, ax = plt.subplots(figsize=dims)\n",
    "    sns.heatmap(percents, annot=True, cmap=\"PiYG\", center=0, vmin=0, vmax=100)\n",
    "    ax.set_ylabel('Actual')    \n",
    "    ax.set_xlabel('Predicted')\n",
    "    cbar = ax.collections[0].colorbar\n",
    "    cbar.set_ticks([0, 25, 50, 75, 100])\n",
    "    cbar.set_ticklabels(['0%', '25%', '50%', '75%', '100%'])\n",
    "    \n",
    "#list(df_columns.columns))-list(df_raw['labels'])\"coolwarm\"'Blues'PiYG'BuPu'"
   ]
  },
  {
   "cell_type": "markdown",
   "metadata": {},
   "source": [
    "## Creating Pipeline with CountVectorizer with Custom preprocessing, Tokenisation, Stopwords, Normalistion (using TFIDTransformer), Feature selection and Logistic regression classifier"
   ]
  },
  {
   "cell_type": "code",
   "execution_count": 37,
   "metadata": {},
   "outputs": [],
   "source": [
    "model = Pipeline([\n",
    "    ('vectorizer', CountVectorizer(analyzer='word',preprocessor=preprocess,tokenizer=Tokenizer,stop_words=stopwords_list)),\n",
    "    ('norm2', TfidfTransformer(norm=None)),\n",
    "    ('selector', SelectKBest(chi2, k=1000)),\n",
    "    ('clf', LogisticRegression(solver='liblinear', random_state=0)),\n",
    "])"
   ]
  },
  {
   "cell_type": "code",
   "execution_count": 38,
   "metadata": {},
   "outputs": [
    {
     "name": "stdout",
     "output_type": "stream",
     "text": [
      "Accuracy:  0.24182242990654207\n",
      "              precision    recall  f1-score   support\n",
      "\n",
      " barely-true       0.25      0.17      0.20       422\n",
      "       false       0.22      0.40      0.28       502\n",
      "   half-true       0.24      0.25      0.25       528\n",
      " mostly-true       0.26      0.25      0.25       493\n",
      "  pants-fire       0.32      0.15      0.20       210\n",
      "        true       0.26      0.15      0.19       413\n",
      "\n",
      "   micro avg       0.24      0.24      0.24      2568\n",
      "   macro avg       0.26      0.23      0.23      2568\n",
      "weighted avg       0.25      0.24      0.23      2568\n",
      "\n",
      "[[ 71 162  85  64  17  23]\n",
      " [ 59 202 109  76  18  38]\n",
      " [ 60 172 134  94  15  53]\n",
      " [ 32 158 120 121   9  53]\n",
      " [ 28  84  39  19  31   9]\n",
      " [ 29 146  75  93   8  62]]\n"
     ]
    }
   ],
   "source": [
    "# fitting the model\n",
    "model.fit(X_train, y_train)\n",
    "predictions = model.predict(X_test)\n",
    "print_scores() # using the predefined function to display results of the classification"
   ]
  },
  {
   "cell_type": "code",
   "execution_count": 39,
   "metadata": {},
   "outputs": [
    {
     "data": {
      "text/plain": [
       "Pipeline(memory=None,\n",
       "     steps=[('vectorizer', CountVectorizer(analyzer='word', binary=False, decode_error='strict',\n",
       "        dtype=<class 'numpy.int64'>, encoding='utf-8', input='content',\n",
       "        lowercase=True, max_df=1.0, max_features=1000, min_df=1,\n",
       "        ngram_range=(1, 1),\n",
       "        preprocessor=<function preprocess a...nalty='l2', random_state=0, solver='liblinear',\n",
       "          tol=0.0001, verbose=0, warm_start=False))])"
      ]
     },
     "execution_count": 39,
     "metadata": {},
     "output_type": "execute_result"
    }
   ],
   "source": [
    "# limiting the max features to 1000 and checking the model\n",
    "model.set_params(vectorizer__max_features=1000)"
   ]
  },
  {
   "cell_type": "code",
   "execution_count": 40,
   "metadata": {},
   "outputs": [
    {
     "name": "stdout",
     "output_type": "stream",
     "text": [
      "Accuracy:  0.23870716510903428\n",
      "              precision    recall  f1-score   support\n",
      "\n",
      " barely-true       0.23      0.20      0.22       422\n",
      "       false       0.25      0.30      0.27       502\n",
      "   half-true       0.24      0.24      0.24       528\n",
      " mostly-true       0.27      0.27      0.27       493\n",
      "  pants-fire       0.19      0.17      0.18       210\n",
      "        true       0.21      0.21      0.21       413\n",
      "\n",
      "   micro avg       0.24      0.24      0.24      2568\n",
      "   macro avg       0.23      0.23      0.23      2568\n",
      "weighted avg       0.24      0.24      0.24      2568\n",
      "\n",
      "[[ 84 113  79  62  29  55]\n",
      " [ 70 149  92  71  48  72]\n",
      " [ 71 103 125 107  36  86]\n",
      " [ 63  86  91 132  22  99]\n",
      " [ 32  58  45  21  36  18]\n",
      " [ 39  87  90  88  22  87]]\n"
     ]
    }
   ],
   "source": [
    "model.fit(X_train, y_train)\n",
    "predictions = model.predict(X_test)\n",
    "print_scores()\n",
    "# the accuracy is reduced so reverting back without setting max features"
   ]
  },
  {
   "cell_type": "markdown",
   "metadata": {},
   "source": [
    "#### Using Binarizer for normalisation instead of TfidfTransformer (i.e. scale to 0 for not present or 1 for present at any frequency), this is useful when documents are shorts as 'statements' in LIAR dataset"
   ]
  },
  {
   "cell_type": "code",
   "execution_count": 41,
   "metadata": {},
   "outputs": [],
   "source": [
    "\n",
    "model = Pipeline([\n",
    "    ('vectorizer', CountVectorizer(analyzer='word',preprocessor=preprocess,tokenizer=Tokenizer,stop_words=stopwords_list)),\n",
    "    ('norm', Binarizer()),\n",
    "    ('clf', LogisticRegression(solver='liblinear', random_state=0)),\n",
    "])"
   ]
  },
  {
   "cell_type": "code",
   "execution_count": 42,
   "metadata": {},
   "outputs": [
    {
     "name": "stdout",
     "output_type": "stream",
     "text": [
      "Accuracy:  0.2472741433021807\n",
      "              precision    recall  f1-score   support\n",
      "\n",
      " barely-true       0.25      0.23      0.24       422\n",
      "       false       0.24      0.28      0.26       502\n",
      "   half-true       0.27      0.30      0.28       528\n",
      " mostly-true       0.25      0.25      0.25       493\n",
      "  pants-fire       0.24      0.14      0.17       210\n",
      "        true       0.23      0.21      0.22       413\n",
      "\n",
      "   micro avg       0.25      0.25      0.25      2568\n",
      "   macro avg       0.24      0.23      0.24      2568\n",
      "weighted avg       0.25      0.25      0.25      2568\n",
      "\n",
      "[[ 98 100  94  60  23  47]\n",
      " [ 82 140  96  89  28  67]\n",
      " [ 67 100 157 103  19  82]\n",
      " [ 71  98 108 123   8  85]\n",
      " [ 41  57  46  21  29  16]\n",
      " [ 35  88  83 104  15  88]]\n"
     ]
    }
   ],
   "source": [
    "model.fit(X_train, y_train)\n",
    "predictions = model.predict(X_test)\n",
    "print_scores()\n"
   ]
  },
  {
   "cell_type": "code",
   "execution_count": 43,
   "metadata": {},
   "outputs": [
    {
     "data": {
      "image/png": "[encoded data removed]",
      "text/plain": [
       "<Figure size 720x576 with 2 Axes>"
      ]
     },
     "metadata": {
      "needs_background": "light"
     },
     "output_type": "display_data"
    }
   ],
   "source": [
    "confusion_matrix_heatmap(confusion_matrix(y_test,predictions), model.classes_)"
   ]
  },
  {
   "cell_type": "code",
   "execution_count": 44,
   "metadata": {},
   "outputs": [],
   "source": [
    "# code to view the selected features\n",
    "vectorizer = CountVectorizer(analyzer='word')\n",
    "selector = SelectKBest(chi2, k=100)\n",
    "feats = vectorizer.fit_transform(X_train)\n",
    "filtered = selector.fit_transform(feats, y_train)"
   ]
  },
  {
   "cell_type": "code",
   "execution_count": 45,
   "metadata": {},
   "outputs": [
    {
     "name": "stdout",
     "output_type": "stream",
     "text": [
      "['000', '10', '247', 'and', 'average', 'bachmann', 'barack', 'beliefs', 'blue', 'border', 'bulbs', 'care', 'country', 'cross', 'cut', 'debunked', 'duffy', 'face', 'georgia', 'gov', 'half', 'hillary', 'in', 'increased', 'jersey', 'jobs', 'kenyan', 'kloppenburgs', 'landrieu', 'last', 'less', 'lowest', 'lying', 'mcauliffe', 'mccain', 'meat', 'michelle', 'million', 'monument', 'more', 'mormon', 'muslim', 'muslims', 'nose', 'obama', 'obamacare', 'obamas', 'of', 'ops', 'oswald', 'outbreak', 'outlaws', 'percent', 'photographed', 'plan', 'poverty', 'president', 'prisons', 'protein', 'radar', 'rate', 'rep', 'reps', 'retiree', 'richest', 'riot', 'rugs', 'says', 'scheme', 'scott', 'sean', 'sharia', 'sic', 'since', 'socialists', 'society', 'spending', 'sporting', 'states', 'stimulus', 'supports', 'takeover', 'than', 'the', 'three', 'to', 'today', 'top', 'transactions', 'unelected', 'walker', 'wash', 'we', 'wic', 'will', 'wisconsin', 'wording', 'words', 'year', 'your']\n"
     ]
    }
   ],
   "source": [
    "from itertools import compress\n",
    "cols = selector.get_support()\n",
    "names = vectorizer.get_feature_names()\n",
    "\n",
    "print(list(compress(names,cols)))"
   ]
  },
  {
   "cell_type": "code",
   "execution_count": 46,
   "metadata": {},
   "outputs": [
    {
     "data": {
      "text/plain": [
       "Pipeline(memory=None,\n",
       "     steps=[('vectorizer', CountVectorizer(analyzer='word', binary=False, decode_error='strict',\n",
       "        dtype=<class 'numpy.int64'>, encoding='utf-8', input='content',\n",
       "        lowercase=True, max_df=1.0, max_features=None, min_df=1,\n",
       "        ngram_range=(1, 1),\n",
       "        preprocessor=<function preprocess a...zer(copy=True, threshold=0.0)), ('clf', MultinomialNB(alpha=1.0, class_prior=None, fit_prior=True))])"
      ]
     },
     "execution_count": 46,
     "metadata": {},
     "output_type": "execute_result"
    }
   ],
   "source": [
    "# Using Multinomial Naive Bayes classifier\n",
    "model.set_params(clf=MultinomialNB())"
   ]
  },
  {
   "cell_type": "code",
   "execution_count": 47,
   "metadata": {},
   "outputs": [
    {
     "name": "stdout",
     "output_type": "stream",
     "text": [
      "Accuracy:  0.24805295950155765\n",
      "              precision    recall  f1-score   support\n",
      "\n",
      " barely-true       0.23      0.21      0.22       422\n",
      "       false       0.23      0.23      0.23       502\n",
      "   half-true       0.25      0.36      0.29       528\n",
      " mostly-true       0.27      0.33      0.30       493\n",
      "  pants-fire       0.30      0.08      0.13       210\n",
      "        true       0.24      0.15      0.18       413\n",
      "\n",
      "   micro avg       0.25      0.25      0.25      2568\n",
      "   macro avg       0.25      0.23      0.23      2568\n",
      "weighted avg       0.25      0.25      0.24      2568\n",
      "\n",
      "[[ 90  93 122  73  12  32]\n",
      " [ 84 117 140 100  12  49]\n",
      " [ 70  93 191 115  10  49]\n",
      " [ 62  73 144 161   3  50]\n",
      " [ 43  60  54  24  17  12]\n",
      " [ 36  68 125 120   3  61]]\n"
     ]
    }
   ],
   "source": [
    "model.fit(X_train, y_train)\n",
    "predictions = model.predict(X_test)\n",
    "print_scores()"
   ]
  },
  {
   "cell_type": "code",
   "execution_count": 48,
   "metadata": {},
   "outputs": [
    {
     "name": "stdout",
     "output_type": "stream",
     "text": [
      "Accuracy:  0.23325545171339565\n",
      "              precision    recall  f1-score   support\n",
      "\n",
      " barely-true       0.20      0.25      0.22       422\n",
      "       false       0.24      0.28      0.26       502\n",
      "   half-true       0.27      0.27      0.27       528\n",
      " mostly-true       0.25      0.22      0.23       493\n",
      "  pants-fire       0.21      0.16      0.18       210\n",
      "        true       0.22      0.17      0.19       413\n",
      "\n",
      "   micro avg       0.23      0.23      0.23      2568\n",
      "   macro avg       0.23      0.22      0.23      2568\n",
      "weighted avg       0.23      0.23      0.23      2568\n",
      "\n",
      "[[104 108  88  51  26  45]\n",
      " [117 141  74  74  39  57]\n",
      " [105  94 141  93  31  64]\n",
      " [ 94  98 107 109  11  74]\n",
      " [ 53  58  33  18  33  15]\n",
      " [ 59  98  80  90  15  71]]\n"
     ]
    }
   ],
   "source": [
    "# Fitting C-Support Vector Classifier\n",
    "model.set_params(clf=svm.SVC(C=1.0, kernel='linear', degree=3, gamma='auto',random_state=1000))\n",
    "model.fit(X_train, y_train)\n",
    "predictions = model.predict(X_test)\n",
    "print_scores()"
   ]
  },
  {
   "cell_type": "code",
   "execution_count": 49,
   "metadata": {},
   "outputs": [
    {
     "name": "stdout",
     "output_type": "stream",
     "text": [
      "Accuracy:  0.23208722741433022\n",
      "              precision    recall  f1-score   support\n",
      "\n",
      " barely-true       0.20      0.18      0.19       422\n",
      "       false       0.27      0.32      0.30       502\n",
      "   half-true       0.24      0.24      0.24       528\n",
      " mostly-true       0.24      0.25      0.25       493\n",
      "  pants-fire       0.15      0.13      0.14       210\n",
      "        true       0.21      0.20      0.20       413\n",
      "\n",
      "   micro avg       0.23      0.23      0.23      2568\n",
      "   macro avg       0.22      0.22      0.22      2568\n",
      "weighted avg       0.23      0.23      0.23      2568\n",
      "\n",
      "[[ 76 103  91  72  28  52]\n",
      " [ 80 162  88  77  36  59]\n",
      " [ 67 111 126 108  36  80]\n",
      " [ 60  99  89 124  27  94]\n",
      " [ 36  49  37  39  27  22]\n",
      " [ 55  71  90  91  25  81]]\n"
     ]
    }
   ],
   "source": [
    "# fitting Decision tree classifier\n",
    "decision_tree=tree.DecisionTreeClassifier(random_state=1000)\n",
    "model.set_params(clf=decision_tree)\n",
    "model.fit(X_train, y_train)\n",
    "predictions = model.predict(X_test)\n",
    "print_scores()"
   ]
  },
  {
   "cell_type": "code",
   "execution_count": 50,
   "metadata": {},
   "outputs": [
    {
     "name": "stdout",
     "output_type": "stream",
     "text": [
      "Accuracy:  0.220404984423676\n",
      "              precision    recall  f1-score   support\n",
      "\n",
      " barely-true       0.20      0.21      0.21       422\n",
      "       false       0.22      0.36      0.28       502\n",
      "   half-true       0.24      0.23      0.23       528\n",
      " mostly-true       0.21      0.20      0.21       493\n",
      "  pants-fire       0.22      0.10      0.13       210\n",
      "        true       0.23      0.14      0.17       413\n",
      "\n",
      "   micro avg       0.22      0.22      0.22      2568\n",
      "   macro avg       0.22      0.21      0.20      2568\n",
      "weighted avg       0.22      0.22      0.21      2568\n",
      "\n",
      "[[ 90 142  84  66  12  28]\n",
      " [ 89 182  87  80  20  44]\n",
      " [102 142 119 106  15  44]\n",
      " [ 71 153  99  99  12  59]\n",
      " [ 43  78  36  22  20  11]\n",
      " [ 53 119  78  96  11  56]]\n"
     ]
    }
   ],
   "source": [
    "# fitting Random forest classifier\n",
    "model.set_params(clf=RandomForestClassifier(random_state=1000))\n",
    "model.fit(X_train, y_train)\n",
    "predictions = model.predict(X_test)\n",
    "print_scores()"
   ]
  },
  {
   "cell_type": "code",
   "execution_count": 51,
   "metadata": {},
   "outputs": [
    {
     "name": "stdout",
     "output_type": "stream",
     "text": [
      "Accuracy:  0.23870716510903428\n",
      "              precision    recall  f1-score   support\n",
      "\n",
      " barely-true       0.21      0.11      0.15       422\n",
      "       false       0.23      0.43      0.30       502\n",
      "   half-true       0.25      0.29      0.27       528\n",
      " mostly-true       0.24      0.26      0.25       493\n",
      "  pants-fire       0.29      0.05      0.09       210\n",
      "        true       0.24      0.13      0.17       413\n",
      "\n",
      "   micro avg       0.24      0.24      0.24      2568\n",
      "   macro avg       0.24      0.21      0.20      2568\n",
      "weighted avg       0.24      0.24      0.22      2568\n",
      "\n",
      "[[ 47 159 106  81   6  23]\n",
      " [ 49 218 104  88   9  34]\n",
      " [ 51 161 152 106   8  50]\n",
      " [ 30 139 128 130   2  64]\n",
      " [ 25 111  34  25  11   4]\n",
      " [ 20 142  85 109   2  55]]\n"
     ]
    }
   ],
   "source": [
    "# fitting X-gradient boost algorithm\n",
    "model.set_params(clf=XGBClassifier(max_depth=3, n_estimators=300, learning_rate=0.1, random_state=0))\n",
    "model.fit(X_train, y_train)\n",
    "predictions = model.predict(X_test)\n",
    "print_scores()"
   ]
  },
  {
   "cell_type": "markdown",
   "metadata": {},
   "source": [
    "## Cross validating the best models from CountVectorizer Pipeline - Logistic regression and Multinomial Guassian NB"
   ]
  },
  {
   "cell_type": "code",
   "execution_count": 52,
   "metadata": {},
   "outputs": [
    {
     "data": {
      "text/plain": [
       "Pipeline(memory=None,\n",
       "     steps=[('vectorizer', CountVectorizer(analyzer='word', binary=False, decode_error='strict',\n",
       "        dtype=<class 'numpy.int64'>, encoding='utf-8', input='content',\n",
       "        lowercase=True, max_df=1.0, max_features=None, min_df=1,\n",
       "        ngram_range=(1, 1),\n",
       "        preprocessor=<function preprocess a...nalty='l2', random_state=0, solver='liblinear',\n",
       "          tol=0.0001, verbose=0, warm_start=False))])"
      ]
     },
     "execution_count": 52,
     "metadata": {},
     "output_type": "execute_result"
    }
   ],
   "source": [
    "model.set_params(clf= LogisticRegression(solver='liblinear', random_state=0))"
   ]
  },
  {
   "cell_type": "code",
   "execution_count": 53,
   "metadata": {},
   "outputs": [],
   "source": [
    "\n",
    "cv_scores = cross_validate(model, X, y, \n",
    "                           cv=StratifiedKFold(n_splits=5, random_state=0), \n",
    "                           return_train_score=False, \n",
    "                           scoring=['accuracy', 'precision_weighted', 'recall_weighted', 'f1_weighted']\n",
    "                          )"
   ]
  },
  {
   "cell_type": "code",
   "execution_count": 54,
   "metadata": {},
   "outputs": [
    {
     "name": "stdout",
     "output_type": "stream",
     "text": [
      "Accuracy: mean = 24.19%, sd = 1.05%, min = 22.96, max = 25.55\n",
      "Precision: mean = 24.19%, sd = 1.03%, min = 22.94, max = 25.50\n",
      "Recall: mean = 24.19%, sd = 1.05%, min = 22.96, max = 25.55\n",
      "F1: mean = 23.98%, sd = 1.05%, min = 22.81, max = 25.35\n"
     ]
    }
   ],
   "source": [
    "print_cv_scores_summary(\"Accuracy\", cv_scores['test_accuracy'])\n",
    "print_cv_scores_summary(\"Precision\", cv_scores['test_precision_weighted'])\n",
    "print_cv_scores_summary(\"Recall\", cv_scores['test_recall_weighted'])\n",
    "print_cv_scores_summary(\"F1\", cv_scores['test_f1_weighted'])"
   ]
  },
  {
   "cell_type": "code",
   "execution_count": 55,
   "metadata": {},
   "outputs": [
    {
     "data": {
      "text/plain": [
       "Pipeline(memory=None,\n",
       "     steps=[('vectorizer', CountVectorizer(analyzer='word', binary=False, decode_error='strict',\n",
       "        dtype=<class 'numpy.int64'>, encoding='utf-8', input='content',\n",
       "        lowercase=True, max_df=1.0, max_features=None, min_df=1,\n",
       "        ngram_range=(1, 1),\n",
       "        preprocessor=<function preprocess a...zer(copy=True, threshold=0.0)), ('clf', MultinomialNB(alpha=1.0, class_prior=None, fit_prior=True))])"
      ]
     },
     "execution_count": 55,
     "metadata": {},
     "output_type": "execute_result"
    }
   ],
   "source": [
    "model.set_params(clf=MultinomialNB())"
   ]
  },
  {
   "cell_type": "code",
   "execution_count": 56,
   "metadata": {},
   "outputs": [],
   "source": [
    "cv_scores = cross_validate(model, X, y, \n",
    "                           cv=StratifiedKFold(n_splits=5, random_state=0), \n",
    "                           return_train_score=False, \n",
    "                           scoring=['accuracy', 'precision_weighted', 'recall_weighted', 'f1_weighted']\n",
    "                          )"
   ]
  },
  {
   "cell_type": "code",
   "execution_count": 57,
   "metadata": {},
   "outputs": [
    {
     "name": "stdout",
     "output_type": "stream",
     "text": [
      "Accuracy: mean = 24.28%, sd = 0.63%, min = 23.56, max = 25.22\n",
      "Precision: mean = 24.43%, sd = 0.77%, min = 23.36, max = 25.20\n",
      "Recall: mean = 24.28%, sd = 0.63%, min = 23.56, max = 25.22\n",
      "F1: mean = 23.38%, sd = 0.63%, min = 22.68, max = 24.33\n"
     ]
    }
   ],
   "source": [
    "print_cv_scores_summary(\"Accuracy\", cv_scores['test_accuracy'])\n",
    "print_cv_scores_summary(\"Precision\", cv_scores['test_precision_weighted'])\n",
    "print_cv_scores_summary(\"Recall\", cv_scores['test_recall_weighted'])\n",
    "print_cv_scores_summary(\"F1\", cv_scores['test_f1_weighted'])"
   ]
  },
  {
   "cell_type": "markdown",
   "metadata": {},
   "source": [
    "### Replacing 'word' with char_wb(which counts characters within words) and ngrams range of 1-3 in the pipeline."
   ]
  },
  {
   "cell_type": "code",
   "execution_count": 58,
   "metadata": {},
   "outputs": [],
   "source": [
    "model = Pipeline([\n",
    "    ('vectorizer', CountVectorizer(analyzer='char_wb',preprocessor=preprocess,tokenizer=Tokenizer,stop_words=stopwords_list, ngram_range=(1,3))),\n",
    "    ('norm', Binarizer()),\n",
    "    ('clf', LogisticRegression(solver='liblinear', random_state=0)),\n",
    "])"
   ]
  },
  {
   "cell_type": "code",
   "execution_count": 59,
   "metadata": {},
   "outputs": [
    {
     "name": "stdout",
     "output_type": "stream",
     "text": [
      "Accuracy:  0.21378504672897197\n",
      "              precision    recall  f1-score   support\n",
      "\n",
      " barely-true       0.18      0.18      0.18       422\n",
      "       false       0.22      0.24      0.23       502\n",
      "   half-true       0.25      0.26      0.25       528\n",
      " mostly-true       0.24      0.25      0.25       493\n",
      "  pants-fire       0.15      0.12      0.13       210\n",
      "        true       0.19      0.17      0.18       413\n",
      "\n",
      "   micro avg       0.21      0.21      0.21      2568\n",
      "   macro avg       0.20      0.20      0.20      2568\n",
      "weighted avg       0.21      0.21      0.21      2568\n",
      "\n",
      "[[ 77  87 100  74  31  53]\n",
      " [105 119  87  77  48  66]\n",
      " [ 82  97 136 103  25  85]\n",
      " [ 72  79 115 121  22  84]\n",
      " [ 39  57  41  27  26  20]\n",
      " [ 56  93  75  92  27  70]]\n"
     ]
    }
   ],
   "source": [
    "model.fit(X_train, y_train)\n",
    "predictions = model.predict(X_test)\n",
    "print_scores()\n",
    "\n"
   ]
  },
  {
   "cell_type": "code",
   "execution_count": 60,
   "metadata": {},
   "outputs": [
    {
     "name": "stdout",
     "output_type": "stream",
     "text": [
      "Accuracy:  0.24182242990654207\n",
      "              precision    recall  f1-score   support\n",
      "\n",
      " barely-true       0.22      0.21      0.22       422\n",
      "       false       0.24      0.28      0.26       502\n",
      "   half-true       0.28      0.23      0.25       528\n",
      " mostly-true       0.26      0.27      0.26       493\n",
      "  pants-fire       0.20      0.25      0.22       210\n",
      "        true       0.24      0.20      0.22       413\n",
      "\n",
      "   micro avg       0.24      0.24      0.24      2568\n",
      "   macro avg       0.24      0.24      0.24      2568\n",
      "weighted avg       0.24      0.24      0.24      2568\n",
      "\n",
      "[[ 89 107  67  74  47  38]\n",
      " [ 81 140  76  77  71  57]\n",
      " [ 76 104 122 117  41  68]\n",
      " [ 65  93  83 134  31  87]\n",
      " [ 40  58  24  18  53  17]\n",
      " [ 48  90  63 102  27  83]]\n"
     ]
    }
   ],
   "source": [
    "model.set_params(clf=MultinomialNB())\n",
    "model.fit(X_train, y_train)\n",
    "predictions = model.predict(X_test)\n",
    "print_scores()\n"
   ]
  },
  {
   "cell_type": "code",
   "execution_count": 61,
   "metadata": {},
   "outputs": [
    {
     "name": "stdout",
     "output_type": "stream",
     "text": [
      "Accuracy:  0.2044392523364486\n",
      "              precision    recall  f1-score   support\n",
      "\n",
      " barely-true       0.16      0.23      0.19       422\n",
      "       false       0.23      0.25      0.24       502\n",
      "   half-true       0.24      0.23      0.23       528\n",
      " mostly-true       0.23      0.19      0.21       493\n",
      "  pants-fire       0.15      0.14      0.15       210\n",
      "        true       0.19      0.14      0.16       413\n",
      "\n",
      "   micro avg       0.20      0.20      0.20      2568\n",
      "   macro avg       0.20      0.20      0.20      2568\n",
      "weighted avg       0.21      0.20      0.20      2568\n",
      "\n",
      "[[ 96  98  84  73  36  35]\n",
      " [135 126  74  69  45  53]\n",
      " [121 104 121  85  32  65]\n",
      " [102  92 106  95  26  72]\n",
      " [ 57  51  35  22  30  15]\n",
      " [ 79  89  89  70  29  57]]\n"
     ]
    }
   ],
   "source": [
    "model.set_params(clf=svm.SVC(C=1.0, kernel='linear', degree=3, gamma='auto',random_state=1000))\n",
    "model.fit(X_train, y_train)\n",
    "predictions = model.predict(X_test)\n",
    "print_scores()"
   ]
  },
  {
   "cell_type": "code",
   "execution_count": 62,
   "metadata": {},
   "outputs": [
    {
     "name": "stdout",
     "output_type": "stream",
     "text": [
      "Accuracy:  0.2091121495327103\n",
      "              precision    recall  f1-score   support\n",
      "\n",
      " barely-true       0.18      0.19      0.18       422\n",
      "       false       0.26      0.26      0.26       502\n",
      "   half-true       0.24      0.24      0.24       528\n",
      " mostly-true       0.20      0.21      0.21       493\n",
      "  pants-fire       0.10      0.10      0.10       210\n",
      "        true       0.20      0.18      0.19       413\n",
      "\n",
      "   micro avg       0.21      0.21      0.21      2568\n",
      "   macro avg       0.20      0.20      0.20      2568\n",
      "weighted avg       0.21      0.21      0.21      2568\n",
      "\n",
      "[[ 79  75  89  82  39  58]\n",
      " [ 80 132 100  93  41  56]\n",
      " [108  92 128  98  28  74]\n",
      " [ 81  88  90 105  43  86]\n",
      " [ 41  39  49  43  20  18]\n",
      " [ 57  82  77  93  31  73]]\n"
     ]
    }
   ],
   "source": [
    "decision_tree=tree.DecisionTreeClassifier(random_state=1000)\n",
    "model.set_params(clf=decision_tree)\n",
    "model.fit(X_train, y_train)\n",
    "predictions = model.predict(X_test)\n",
    "print_scores()"
   ]
  },
  {
   "cell_type": "code",
   "execution_count": 63,
   "metadata": {},
   "outputs": [
    {
     "name": "stdout",
     "output_type": "stream",
     "text": [
      "Accuracy:  0.21456386292834892\n",
      "              precision    recall  f1-score   support\n",
      "\n",
      " barely-true       0.21      0.28      0.24       422\n",
      "       false       0.20      0.28      0.24       502\n",
      "   half-true       0.21      0.24      0.22       528\n",
      " mostly-true       0.24      0.20      0.22       493\n",
      "  pants-fire       0.21      0.05      0.08       210\n",
      "        true       0.22      0.13      0.16       413\n",
      "\n",
      "   micro avg       0.21      0.21      0.21      2568\n",
      "   macro avg       0.22      0.20      0.19      2568\n",
      "weighted avg       0.22      0.21      0.21      2568\n",
      "\n",
      "[[119 126  87  61   6  23]\n",
      " [121 141 113  67  18  42]\n",
      " [ 99 143 125 102   9  50]\n",
      " [ 88 120 122 101   6  56]\n",
      " [ 48  60  44  29  11  18]\n",
      " [ 88 102  97  69   3  54]]\n"
     ]
    }
   ],
   "source": [
    "model.set_params(clf=RandomForestClassifier(random_state=1000))\n",
    "model.fit(X_train, y_train)\n",
    "predictions = model.predict(X_test)\n",
    "print_scores()"
   ]
  },
  {
   "cell_type": "code",
   "execution_count": 64,
   "metadata": {},
   "outputs": [
    {
     "name": "stdout",
     "output_type": "stream",
     "text": [
      "Accuracy:  0.2542834890965732\n",
      "              precision    recall  f1-score   support\n",
      "\n",
      " barely-true       0.25      0.15      0.19       422\n",
      "       false       0.25      0.43      0.32       502\n",
      "   half-true       0.27      0.34      0.30       528\n",
      " mostly-true       0.24      0.26      0.25       493\n",
      "  pants-fire       0.21      0.04      0.07       210\n",
      "        true       0.26      0.15      0.19       413\n",
      "\n",
      "   micro avg       0.25      0.25      0.25      2568\n",
      "   macro avg       0.25      0.23      0.22      2568\n",
      "weighted avg       0.25      0.25      0.24      2568\n",
      "\n",
      "[[ 63 126 125  80   8  20]\n",
      " [ 52 215  97  87  15  36]\n",
      " [ 46 145 177 106   5  49]\n",
      " [ 42 140 121 126   4  60]\n",
      " [ 29  87  42  33   9  10]\n",
      " [ 25 133  94  96   2  63]]\n"
     ]
    }
   ],
   "source": [
    "model.set_params(clf=XGBClassifier(max_depth=3, n_estimators=300, learning_rate=0.1, random_state=0))\n",
    "model.fit(X_train, y_train)\n",
    "predictions = model.predict(X_test)\n",
    "print_scores()"
   ]
  },
  {
   "cell_type": "markdown",
   "metadata": {},
   "source": [
    "## Grid search CV with top_k from chi squared feature selection set to different values and top 2 performing classifiers with CountVectorizer "
   ]
  },
  {
   "cell_type": "code",
   "execution_count": 65,
   "metadata": {},
   "outputs": [
    {
     "data": {
      "text/plain": [
       "GridSearchCV(cv=StratifiedKFold(n_splits=5, random_state=0, shuffle=False),\n",
       "       error_score='raise-deprecating',\n",
       "       estimator=Pipeline(memory=None,\n",
       "     steps=[('vectorizer', CountVectorizer(analyzer='word', binary=False, decode_error='strict',\n",
       "        dtype=<class 'numpy.int64'>, encoding='utf-8', input='content',\n",
       "        lowercase=True, max_df=1.0, max_features=None, min_df=1,\n",
       "        ngram_range=(1, 3),\n",
       "        preprocessor=<function preprocess a...nalty='l2', random_state=0, solver='liblinear',\n",
       "          tol=0.0001, verbose=0, warm_start=False))]),\n",
       "       fit_params=None, iid='warn', n_jobs=None,\n",
       "       param_grid={'selector__k': [10, 50, 100, 250, 500, 1000], 'clf': [MultinomialNB(alpha=1.0, class_prior=None, fit_prior=True), XGBClassifier(base_score=0.5, booster='gbtree', colsample_bylevel=1,\n",
       "       colsample_bytree=1, gamma=0, learning_rate=0.1, max_delta_step=0,\n",
       "       max_depth=3, min_child_we...\n",
       "       reg_alpha=0, reg_lambda=1, scale_pos_weight=1, seed=None,\n",
       "       silent=True, subsample=1)]},\n",
       "       pre_dispatch='2*n_jobs', refit='f1_weighted',\n",
       "       return_train_score=False,\n",
       "       scoring=['accuracy', 'precision_weighted', 'recall_weighted', 'f1_weighted'],\n",
       "       verbose=0)"
      ]
     },
     "execution_count": 65,
     "metadata": {},
     "output_type": "execute_result"
    }
   ],
   "source": [
    "model = Pipeline([\n",
    "    ('vectorizer', CountVectorizer(analyzer='word',preprocessor=preprocess,tokenizer=Tokenizer,stop_words=stopwords_list, ngram_range=(1,3))),\n",
    "    ('norm', Binarizer()),\n",
    "    ('selector', SelectKBest(score_func = chi2)),\n",
    "    ('clf', LogisticRegression(solver='liblinear', random_state=0)),\n",
    "])\n",
    "\n",
    "search = GridSearchCV(model, cv=StratifiedKFold(n_splits=5, random_state=0), \n",
    "                      return_train_score=False, \n",
    "                      scoring=['accuracy', 'precision_weighted', 'recall_weighted', 'f1_weighted'],\n",
    "                      refit = 'f1_weighted',\n",
    "                      param_grid={\n",
    "                          'selector__k': [10, 50, 100, 250, 500, 1000],\n",
    "                          'clf': [MultinomialNB(), XGBClassifier(max_depth=3, n_estimators=300, learning_rate=0.1, random_state=0)],\n",
    "                      })\n",
    "\n",
    "search.fit(X_train, y_train)"
   ]
  },
  {
   "cell_type": "code",
   "execution_count": 66,
   "metadata": {},
   "outputs": [
    {
     "data": {
      "text/html": [
       "<div>\n",
       "<style scoped>\n",
       "    .dataframe tbody tr th:only-of-type {\n",
       "        vertical-align: middle;\n",
       "    }\n",
       "\n",
       "    .dataframe tbody tr th {\n",
       "        vertical-align: top;\n",
       "    }\n",
       "\n",
       "    .dataframe thead th {\n",
       "        text-align: right;\n",
       "    }\n",
       "</style>\n",
       "<table border=\"1\" class=\"dataframe\">\n",
       "  <thead>\n",
       "    <tr style=\"text-align: right;\">\n",
       "      <th></th>\n",
       "      <th>mean_fit_time</th>\n",
       "      <th>std_fit_time</th>\n",
       "      <th>mean_score_time</th>\n",
       "      <th>std_score_time</th>\n",
       "      <th>param_clf</th>\n",
       "      <th>param_selector__k</th>\n",
       "      <th>params</th>\n",
       "      <th>split0_test_accuracy</th>\n",
       "      <th>split1_test_accuracy</th>\n",
       "      <th>split2_test_accuracy</th>\n",
       "      <th>...</th>\n",
       "      <th>std_test_recall_weighted</th>\n",
       "      <th>rank_test_recall_weighted</th>\n",
       "      <th>split0_test_f1_weighted</th>\n",
       "      <th>split1_test_f1_weighted</th>\n",
       "      <th>split2_test_f1_weighted</th>\n",
       "      <th>split3_test_f1_weighted</th>\n",
       "      <th>split4_test_f1_weighted</th>\n",
       "      <th>mean_test_f1_weighted</th>\n",
       "      <th>std_test_f1_weighted</th>\n",
       "      <th>rank_test_f1_weighted</th>\n",
       "    </tr>\n",
       "  </thead>\n",
       "  <tbody>\n",
       "    <tr>\n",
       "      <th>0</th>\n",
       "      <td>5.066205</td>\n",
       "      <td>0.107881</td>\n",
       "      <td>4.470505</td>\n",
       "      <td>0.012073</td>\n",
       "      <td>MultinomialNB(alpha=1.0, class_prior=None, fit...</td>\n",
       "      <td>10</td>\n",
       "      <td>{'clf': MultinomialNB(alpha=1.0, class_prior=N...</td>\n",
       "      <td>0.210219</td>\n",
       "      <td>0.204966</td>\n",
       "      <td>0.212756</td>\n",
       "      <td>...</td>\n",
       "      <td>0.005313</td>\n",
       "      <td>11</td>\n",
       "      <td>0.146366</td>\n",
       "      <td>0.117305</td>\n",
       "      <td>0.148734</td>\n",
       "      <td>0.139070</td>\n",
       "      <td>0.162499</td>\n",
       "      <td>0.142792</td>\n",
       "      <td>0.014830</td>\n",
       "      <td>11</td>\n",
       "    </tr>\n",
       "    <tr>\n",
       "      <th>1</th>\n",
       "      <td>5.265847</td>\n",
       "      <td>0.347337</td>\n",
       "      <td>4.834284</td>\n",
       "      <td>0.716322</td>\n",
       "      <td>MultinomialNB(alpha=1.0, class_prior=None, fit...</td>\n",
       "      <td>50</td>\n",
       "      <td>{'clf': MultinomialNB(alpha=1.0, class_prior=N...</td>\n",
       "      <td>0.217518</td>\n",
       "      <td>0.215190</td>\n",
       "      <td>0.220545</td>\n",
       "      <td>...</td>\n",
       "      <td>0.005010</td>\n",
       "      <td>10</td>\n",
       "      <td>0.177294</td>\n",
       "      <td>0.177779</td>\n",
       "      <td>0.179298</td>\n",
       "      <td>0.184101</td>\n",
       "      <td>0.190455</td>\n",
       "      <td>0.181783</td>\n",
       "      <td>0.004958</td>\n",
       "      <td>9</td>\n",
       "    </tr>\n",
       "    <tr>\n",
       "      <th>2</th>\n",
       "      <td>5.051118</td>\n",
       "      <td>0.086565</td>\n",
       "      <td>4.610430</td>\n",
       "      <td>0.242156</td>\n",
       "      <td>MultinomialNB(alpha=1.0, class_prior=None, fit...</td>\n",
       "      <td>100</td>\n",
       "      <td>{'clf': MultinomialNB(alpha=1.0, class_prior=N...</td>\n",
       "      <td>0.217032</td>\n",
       "      <td>0.205453</td>\n",
       "      <td>0.223953</td>\n",
       "      <td>...</td>\n",
       "      <td>0.009590</td>\n",
       "      <td>9</td>\n",
       "      <td>0.196841</td>\n",
       "      <td>0.171910</td>\n",
       "      <td>0.202899</td>\n",
       "      <td>0.196349</td>\n",
       "      <td>0.204892</td>\n",
       "      <td>0.194576</td>\n",
       "      <td>0.011813</td>\n",
       "      <td>5</td>\n",
       "    </tr>\n",
       "    <tr>\n",
       "      <th>3</th>\n",
       "      <td>5.571449</td>\n",
       "      <td>0.207332</td>\n",
       "      <td>4.945372</td>\n",
       "      <td>0.170043</td>\n",
       "      <td>MultinomialNB(alpha=1.0, class_prior=None, fit...</td>\n",
       "      <td>250</td>\n",
       "      <td>{'clf': MultinomialNB(alpha=1.0, class_prior=N...</td>\n",
       "      <td>0.218005</td>\n",
       "      <td>0.208374</td>\n",
       "      <td>0.223466</td>\n",
       "      <td>...</td>\n",
       "      <td>0.009709</td>\n",
       "      <td>8</td>\n",
       "      <td>0.194495</td>\n",
       "      <td>0.172376</td>\n",
       "      <td>0.210059</td>\n",
       "      <td>0.196029</td>\n",
       "      <td>0.199171</td>\n",
       "      <td>0.194425</td>\n",
       "      <td>0.012295</td>\n",
       "      <td>6</td>\n",
       "    </tr>\n",
       "    <tr>\n",
       "      <th>4</th>\n",
       "      <td>5.331514</td>\n",
       "      <td>0.150665</td>\n",
       "      <td>4.697368</td>\n",
       "      <td>0.205673</td>\n",
       "      <td>MultinomialNB(alpha=1.0, class_prior=None, fit...</td>\n",
       "      <td>500</td>\n",
       "      <td>{'clf': MultinomialNB(alpha=1.0, class_prior=N...</td>\n",
       "      <td>0.222384</td>\n",
       "      <td>0.232230</td>\n",
       "      <td>0.234177</td>\n",
       "      <td>...</td>\n",
       "      <td>0.005406</td>\n",
       "      <td>4</td>\n",
       "      <td>0.206567</td>\n",
       "      <td>0.219778</td>\n",
       "      <td>0.227306</td>\n",
       "      <td>0.223806</td>\n",
       "      <td>0.212865</td>\n",
       "      <td>0.218064</td>\n",
       "      <td>0.007492</td>\n",
       "      <td>3</td>\n",
       "    </tr>\n",
       "    <tr>\n",
       "      <th>5</th>\n",
       "      <td>5.135728</td>\n",
       "      <td>0.122961</td>\n",
       "      <td>4.555354</td>\n",
       "      <td>0.081240</td>\n",
       "      <td>MultinomialNB(alpha=1.0, class_prior=None, fit...</td>\n",
       "      <td>1000</td>\n",
       "      <td>{'clf': MultinomialNB(alpha=1.0, class_prior=N...</td>\n",
       "      <td>0.246715</td>\n",
       "      <td>0.241967</td>\n",
       "      <td>0.239533</td>\n",
       "      <td>...</td>\n",
       "      <td>0.003819</td>\n",
       "      <td>2</td>\n",
       "      <td>0.238117</td>\n",
       "      <td>0.234687</td>\n",
       "      <td>0.233107</td>\n",
       "      <td>0.233334</td>\n",
       "      <td>0.227087</td>\n",
       "      <td>0.233268</td>\n",
       "      <td>0.003571</td>\n",
       "      <td>1</td>\n",
       "    </tr>\n",
       "    <tr>\n",
       "      <th>6</th>\n",
       "      <td>6.896729</td>\n",
       "      <td>0.053180</td>\n",
       "      <td>4.968376</td>\n",
       "      <td>0.014739</td>\n",
       "      <td>XGBClassifier(base_score=0.5, booster='gbtree'...</td>\n",
       "      <td>10</td>\n",
       "      <td>{'clf': XGBClassifier(base_score=0.5, booster=...</td>\n",
       "      <td>0.206813</td>\n",
       "      <td>0.205453</td>\n",
       "      <td>0.214216</td>\n",
       "      <td>...</td>\n",
       "      <td>0.003412</td>\n",
       "      <td>12</td>\n",
       "      <td>0.139372</td>\n",
       "      <td>0.117942</td>\n",
       "      <td>0.137553</td>\n",
       "      <td>0.140697</td>\n",
       "      <td>0.134278</td>\n",
       "      <td>0.133968</td>\n",
       "      <td>0.008299</td>\n",
       "      <td>12</td>\n",
       "    </tr>\n",
       "    <tr>\n",
       "      <th>7</th>\n",
       "      <td>7.517044</td>\n",
       "      <td>0.095601</td>\n",
       "      <td>4.986464</td>\n",
       "      <td>0.022308</td>\n",
       "      <td>XGBClassifier(base_score=0.5, booster='gbtree'...</td>\n",
       "      <td>50</td>\n",
       "      <td>{'clf': XGBClassifier(base_score=0.5, booster=...</td>\n",
       "      <td>0.224818</td>\n",
       "      <td>0.219085</td>\n",
       "      <td>0.240019</td>\n",
       "      <td>...</td>\n",
       "      <td>0.007378</td>\n",
       "      <td>7</td>\n",
       "      <td>0.179077</td>\n",
       "      <td>0.164246</td>\n",
       "      <td>0.185533</td>\n",
       "      <td>0.183433</td>\n",
       "      <td>0.166620</td>\n",
       "      <td>0.175783</td>\n",
       "      <td>0.008735</td>\n",
       "      <td>10</td>\n",
       "    </tr>\n",
       "    <tr>\n",
       "      <th>8</th>\n",
       "      <td>8.069905</td>\n",
       "      <td>0.128869</td>\n",
       "      <td>4.982375</td>\n",
       "      <td>0.030587</td>\n",
       "      <td>XGBClassifier(base_score=0.5, booster='gbtree'...</td>\n",
       "      <td>100</td>\n",
       "      <td>{'clf': XGBClassifier(base_score=0.5, booster=...</td>\n",
       "      <td>0.222871</td>\n",
       "      <td>0.221519</td>\n",
       "      <td>0.242454</td>\n",
       "      <td>...</td>\n",
       "      <td>0.007708</td>\n",
       "      <td>6</td>\n",
       "      <td>0.187396</td>\n",
       "      <td>0.180239</td>\n",
       "      <td>0.206881</td>\n",
       "      <td>0.192986</td>\n",
       "      <td>0.188731</td>\n",
       "      <td>0.191247</td>\n",
       "      <td>0.008830</td>\n",
       "      <td>8</td>\n",
       "    </tr>\n",
       "    <tr>\n",
       "      <th>9</th>\n",
       "      <td>8.889566</td>\n",
       "      <td>0.149069</td>\n",
       "      <td>4.968692</td>\n",
       "      <td>0.020292</td>\n",
       "      <td>XGBClassifier(base_score=0.5, booster='gbtree'...</td>\n",
       "      <td>250</td>\n",
       "      <td>{'clf': XGBClassifier(base_score=0.5, booster=...</td>\n",
       "      <td>0.222871</td>\n",
       "      <td>0.221519</td>\n",
       "      <td>0.248783</td>\n",
       "      <td>...</td>\n",
       "      <td>0.009900</td>\n",
       "      <td>5</td>\n",
       "      <td>0.187396</td>\n",
       "      <td>0.180239</td>\n",
       "      <td>0.218803</td>\n",
       "      <td>0.192986</td>\n",
       "      <td>0.188731</td>\n",
       "      <td>0.193631</td>\n",
       "      <td>0.013240</td>\n",
       "      <td>7</td>\n",
       "    </tr>\n",
       "    <tr>\n",
       "      <th>10</th>\n",
       "      <td>10.895047</td>\n",
       "      <td>0.104807</td>\n",
       "      <td>4.986520</td>\n",
       "      <td>0.025943</td>\n",
       "      <td>XGBClassifier(base_score=0.5, booster='gbtree'...</td>\n",
       "      <td>500</td>\n",
       "      <td>{'clf': XGBClassifier(base_score=0.5, booster=...</td>\n",
       "      <td>0.235523</td>\n",
       "      <td>0.240993</td>\n",
       "      <td>0.246349</td>\n",
       "      <td>...</td>\n",
       "      <td>0.003485</td>\n",
       "      <td>3</td>\n",
       "      <td>0.207796</td>\n",
       "      <td>0.219128</td>\n",
       "      <td>0.225414</td>\n",
       "      <td>0.214705</td>\n",
       "      <td>0.206453</td>\n",
       "      <td>0.214700</td>\n",
       "      <td>0.007072</td>\n",
       "      <td>4</td>\n",
       "    </tr>\n",
       "    <tr>\n",
       "      <th>11</th>\n",
       "      <td>14.412036</td>\n",
       "      <td>0.174185</td>\n",
       "      <td>5.027370</td>\n",
       "      <td>0.097069</td>\n",
       "      <td>XGBClassifier(base_score=0.5, booster='gbtree'...</td>\n",
       "      <td>1000</td>\n",
       "      <td>{'clf': XGBClassifier(base_score=0.5, booster=...</td>\n",
       "      <td>0.242336</td>\n",
       "      <td>0.246349</td>\n",
       "      <td>0.244401</td>\n",
       "      <td>...</td>\n",
       "      <td>0.002451</td>\n",
       "      <td>1</td>\n",
       "      <td>0.219954</td>\n",
       "      <td>0.224784</td>\n",
       "      <td>0.226250</td>\n",
       "      <td>0.225249</td>\n",
       "      <td>0.225083</td>\n",
       "      <td>0.224263</td>\n",
       "      <td>0.002211</td>\n",
       "      <td>2</td>\n",
       "    </tr>\n",
       "  </tbody>\n",
       "</table>\n",
       "<p>12 rows × 39 columns</p>\n",
       "</div>"
      ],
      "text/plain": [
       "    mean_fit_time  std_fit_time  mean_score_time  std_score_time  \\\n",
       "0        5.066205      0.107881         4.470505        0.012073   \n",
       "1        5.265847      0.347337         4.834284        0.716322   \n",
       "2        5.051118      0.086565         4.610430        0.242156   \n",
       "3        5.571449      0.207332         4.945372        0.170043   \n",
       "4        5.331514      0.150665         4.697368        0.205673   \n",
       "5        5.135728      0.122961         4.555354        0.081240   \n",
       "6        6.896729      0.053180         4.968376        0.014739   \n",
       "7        7.517044      0.095601         4.986464        0.022308   \n",
       "8        8.069905      0.128869         4.982375        0.030587   \n",
       "9        8.889566      0.149069         4.968692        0.020292   \n",
       "10      10.895047      0.104807         4.986520        0.025943   \n",
       "11      14.412036      0.174185         5.027370        0.097069   \n",
       "\n",
       "                                            param_clf param_selector__k  \\\n",
       "0   MultinomialNB(alpha=1.0, class_prior=None, fit...                10   \n",
       "1   MultinomialNB(alpha=1.0, class_prior=None, fit...                50   \n",
       "2   MultinomialNB(alpha=1.0, class_prior=None, fit...               100   \n",
       "3   MultinomialNB(alpha=1.0, class_prior=None, fit...               250   \n",
       "4   MultinomialNB(alpha=1.0, class_prior=None, fit...               500   \n",
       "5   MultinomialNB(alpha=1.0, class_prior=None, fit...              1000   \n",
       "6   XGBClassifier(base_score=0.5, booster='gbtree'...                10   \n",
       "7   XGBClassifier(base_score=0.5, booster='gbtree'...                50   \n",
       "8   XGBClassifier(base_score=0.5, booster='gbtree'...               100   \n",
       "9   XGBClassifier(base_score=0.5, booster='gbtree'...               250   \n",
       "10  XGBClassifier(base_score=0.5, booster='gbtree'...               500   \n",
       "11  XGBClassifier(base_score=0.5, booster='gbtree'...              1000   \n",
       "\n",
       "                                               params  split0_test_accuracy  \\\n",
       "0   {'clf': MultinomialNB(alpha=1.0, class_prior=N...              0.210219   \n",
       "1   {'clf': MultinomialNB(alpha=1.0, class_prior=N...              0.217518   \n",
       "2   {'clf': MultinomialNB(alpha=1.0, class_prior=N...              0.217032   \n",
       "3   {'clf': MultinomialNB(alpha=1.0, class_prior=N...              0.218005   \n",
       "4   {'clf': MultinomialNB(alpha=1.0, class_prior=N...              0.222384   \n",
       "5   {'clf': MultinomialNB(alpha=1.0, class_prior=N...              0.246715   \n",
       "6   {'clf': XGBClassifier(base_score=0.5, booster=...              0.206813   \n",
       "7   {'clf': XGBClassifier(base_score=0.5, booster=...              0.224818   \n",
       "8   {'clf': XGBClassifier(base_score=0.5, booster=...              0.222871   \n",
       "9   {'clf': XGBClassifier(base_score=0.5, booster=...              0.222871   \n",
       "10  {'clf': XGBClassifier(base_score=0.5, booster=...              0.235523   \n",
       "11  {'clf': XGBClassifier(base_score=0.5, booster=...              0.242336   \n",
       "\n",
       "    split1_test_accuracy  split2_test_accuracy          ...            \\\n",
       "0               0.204966              0.212756          ...             \n",
       "1               0.215190              0.220545          ...             \n",
       "2               0.205453              0.223953          ...             \n",
       "3               0.208374              0.223466          ...             \n",
       "4               0.232230              0.234177          ...             \n",
       "5               0.241967              0.239533          ...             \n",
       "6               0.205453              0.214216          ...             \n",
       "7               0.219085              0.240019          ...             \n",
       "8               0.221519              0.242454          ...             \n",
       "9               0.221519              0.248783          ...             \n",
       "10              0.240993              0.246349          ...             \n",
       "11              0.246349              0.244401          ...             \n",
       "\n",
       "    std_test_recall_weighted  rank_test_recall_weighted  \\\n",
       "0                   0.005313                         11   \n",
       "1                   0.005010                         10   \n",
       "2                   0.009590                          9   \n",
       "3                   0.009709                          8   \n",
       "4                   0.005406                          4   \n",
       "5                   0.003819                          2   \n",
       "6                   0.003412                         12   \n",
       "7                   0.007378                          7   \n",
       "8                   0.007708                          6   \n",
       "9                   0.009900                          5   \n",
       "10                  0.003485                          3   \n",
       "11                  0.002451                          1   \n",
       "\n",
       "    split0_test_f1_weighted  split1_test_f1_weighted  split2_test_f1_weighted  \\\n",
       "0                  0.146366                 0.117305                 0.148734   \n",
       "1                  0.177294                 0.177779                 0.179298   \n",
       "2                  0.196841                 0.171910                 0.202899   \n",
       "3                  0.194495                 0.172376                 0.210059   \n",
       "4                  0.206567                 0.219778                 0.227306   \n",
       "5                  0.238117                 0.234687                 0.233107   \n",
       "6                  0.139372                 0.117942                 0.137553   \n",
       "7                  0.179077                 0.164246                 0.185533   \n",
       "8                  0.187396                 0.180239                 0.206881   \n",
       "9                  0.187396                 0.180239                 0.218803   \n",
       "10                 0.207796                 0.219128                 0.225414   \n",
       "11                 0.219954                 0.224784                 0.226250   \n",
       "\n",
       "    split3_test_f1_weighted  split4_test_f1_weighted  mean_test_f1_weighted  \\\n",
       "0                  0.139070                 0.162499               0.142792   \n",
       "1                  0.184101                 0.190455               0.181783   \n",
       "2                  0.196349                 0.204892               0.194576   \n",
       "3                  0.196029                 0.199171               0.194425   \n",
       "4                  0.223806                 0.212865               0.218064   \n",
       "5                  0.233334                 0.227087               0.233268   \n",
       "6                  0.140697                 0.134278               0.133968   \n",
       "7                  0.183433                 0.166620               0.175783   \n",
       "8                  0.192986                 0.188731               0.191247   \n",
       "9                  0.192986                 0.188731               0.193631   \n",
       "10                 0.214705                 0.206453               0.214700   \n",
       "11                 0.225249                 0.225083               0.224263   \n",
       "\n",
       "    std_test_f1_weighted  rank_test_f1_weighted  \n",
       "0               0.014830                     11  \n",
       "1               0.004958                      9  \n",
       "2               0.011813                      5  \n",
       "3               0.012295                      6  \n",
       "4               0.007492                      3  \n",
       "5               0.003571                      1  \n",
       "6               0.008299                     12  \n",
       "7               0.008735                     10  \n",
       "8               0.008830                      8  \n",
       "9               0.013240                      7  \n",
       "10              0.007072                      4  \n",
       "11              0.002211                      2  \n",
       "\n",
       "[12 rows x 39 columns]"
      ]
     },
     "execution_count": 66,
     "metadata": {},
     "output_type": "execute_result"
    }
   ],
   "source": [
    "pd.DataFrame(search.cv_results_)"
   ]
  },
  {
   "cell_type": "code",
   "execution_count": 67,
   "metadata": {},
   "outputs": [
    {
     "name": "stdout",
     "output_type": "stream",
     "text": [
      "Accuracy:  0.24104361370716512\n",
      "              precision    recall  f1-score   support\n",
      "\n",
      " barely-true       0.26      0.20      0.22       422\n",
      "       false       0.26      0.30      0.28       502\n",
      "   half-true       0.22      0.32      0.26       528\n",
      " mostly-true       0.23      0.25      0.24       493\n",
      "  pants-fire       0.31      0.11      0.16       210\n",
      "        true       0.23      0.17      0.20       413\n",
      "\n",
      "   micro avg       0.24      0.24      0.24      2568\n",
      "   macro avg       0.25      0.22      0.23      2568\n",
      "weighted avg       0.25      0.24      0.24      2568\n",
      "\n",
      "[[ 83 115 105  75  13  31]\n",
      " [ 65 152 150  79  14  42]\n",
      " [ 68  89 168 119  11  73]\n",
      " [ 37  85 158 121   8  84]\n",
      " [ 30  67  62  16  23  12]\n",
      " [ 34  80 110 112   5  72]]\n"
     ]
    },
    {
     "data": {
      "image/png": "[encoded data removed]",
      "text/plain": [
       "<Figure size 720x576 with 2 Axes>"
      ]
     },
     "metadata": {
      "needs_background": "light"
     },
     "output_type": "display_data"
    }
   ],
   "source": [
    "# results of the best fit classifier\n",
    "predictions = search.predict(X_test)\n",
    "\n",
    "print(\"Accuracy: \", accuracy_score(y_test, predictions))\n",
    "print(classification_report(y_test, predictions))\n",
    "print(confusion_matrix(y_test, predictions))\n",
    "\n",
    "confusion_matrix_heatmap(confusion_matrix(y_test,predictions), search.classes_)"
   ]
  },
  {
   "cell_type": "code",
   "execution_count": 68,
   "metadata": {},
   "outputs": [
    {
     "name": "stdout",
     "output_type": "stream",
     "text": [
      "Pipeline(memory=None,\n",
      "     steps=[('vectorizer', CountVectorizer(analyzer='word', binary=False, decode_error='strict',\n",
      "        dtype=<class 'numpy.int64'>, encoding='utf-8', input='content',\n",
      "        lowercase=True, max_df=1.0, max_features=None, min_df=1,\n",
      "        ngram_range=(1, 3),\n",
      "        preprocessor=<function preprocess a...unction chi2 at 0x11afb8730>)), ('clf', MultinomialNB(alpha=1.0, class_prior=None, fit_prior=True))])\n"
     ]
    }
   ],
   "source": [
    "print(search.best_estimator_ )"
   ]
  },
  {
   "cell_type": "code",
   "execution_count": 69,
   "metadata": {},
   "outputs": [
    {
     "data": {
      "text/plain": [
       "0.23326803598618945"
      ]
     },
     "execution_count": 69,
     "metadata": {},
     "output_type": "execute_result"
    }
   ],
   "source": [
    "search.best_score_"
   ]
  },
  {
   "cell_type": "code",
   "execution_count": 70,
   "metadata": {},
   "outputs": [
    {
     "name": "stdout",
     "output_type": "stream",
     "text": [
      "{'clf': MultinomialNB(alpha=1.0, class_prior=None, fit_prior=True), 'selector__k': 1000}\n"
     ]
    }
   ],
   "source": [
    "print(search.best_params_)"
   ]
  },
  {
   "cell_type": "code",
   "execution_count": 71,
   "metadata": {},
   "outputs": [
    {
     "name": "stdout",
     "output_type": "stream",
     "text": [
      "{'accuracy': make_scorer(accuracy_score), 'precision_weighted': make_scorer(precision_score, pos_label=None, average=weighted), 'recall_weighted': make_scorer(recall_score, pos_label=None, average=weighted), 'f1_weighted': make_scorer(f1_score, pos_label=None, average=weighted)}\n"
     ]
    }
   ],
   "source": [
    "print(search.scorer_)"
   ]
  },
  {
   "cell_type": "code",
   "execution_count": null,
   "metadata": {},
   "outputs": [],
   "source": []
  },
  {
   "cell_type": "markdown",
   "metadata": {},
   "source": [
    "## Creating Pipeline with TFID Vectorizer along with Feature Union of 'total words' in the 'statements'\n"
   ]
  },
  {
   "cell_type": "markdown",
   "metadata": {},
   "source": [
    "TF-IDF - stands for “Term Frequency — Inverse Document”. Term Frequency summarizes how often a given word appears within a document.Inverse Document Frequency scales words that appear a lot across documents.TF-IDF highlight words that are more interesting, e.g. frequent in a document but not across documents."
   ]
  },
  {
   "cell_type": "markdown",
   "metadata": {},
   "source": [
    "However in this instance we use feature union as well by incorporating the total words in each sentence as another feature. We build a custom transformer with two classes for features in the statements and the total number of words in the statements. By setting min\\_df to 0.25 and max\\_df to 0.75 we restrict the terms in the vocabulary based on document frequency"
   ]
  },
  {
   "cell_type": "code",
   "execution_count": 72,
   "metadata": {},
   "outputs": [],
   "source": [
    "from sklearn.base import BaseEstimator, TransformerMixin\n",
    "class TextSelector(BaseEstimator, TransformerMixin):\n",
    "    def __init__(self, field):\n",
    "        self.field = field\n",
    "    def fit(self, X, y=None):\n",
    "        return self\n",
    "    def transform(self, X):\n",
    "        return X[self.field]\n",
    "class NumberSelector(BaseEstimator, TransformerMixin):\n",
    "    def __init__(self, field):\n",
    "        self.field = field\n",
    "    def fit(self, X, y=None):\n",
    "        return self\n",
    "    def transform(self, X):\n",
    "        return X[[self.field]]"
   ]
  },
  {
   "cell_type": "code",
   "execution_count": 73,
   "metadata": {},
   "outputs": [],
   "source": [
    "df_raw_tfid= df_raw.copy()"
   ]
  },
  {
   "cell_type": "code",
   "execution_count": 74,
   "metadata": {},
   "outputs": [
    {
     "data": {
      "text/html": [
       "<div>\n",
       "<style scoped>\n",
       "    .dataframe tbody tr th:only-of-type {\n",
       "        vertical-align: middle;\n",
       "    }\n",
       "\n",
       "    .dataframe tbody tr th {\n",
       "        vertical-align: top;\n",
       "    }\n",
       "\n",
       "    .dataframe thead th {\n",
       "        text-align: right;\n",
       "    }\n",
       "</style>\n",
       "<table border=\"1\" class=\"dataframe\">\n",
       "  <thead>\n",
       "    <tr style=\"text-align: right;\">\n",
       "      <th></th>\n",
       "      <th>index</th>\n",
       "      <th>ID</th>\n",
       "      <th>label</th>\n",
       "      <th>statement</th>\n",
       "      <th>subject</th>\n",
       "      <th>speaker</th>\n",
       "      <th>job</th>\n",
       "      <th>state</th>\n",
       "      <th>party</th>\n",
       "      <th>barely_true_cts</th>\n",
       "      <th>false_cts</th>\n",
       "      <th>half_true_cts</th>\n",
       "      <th>mostly_true_cts</th>\n",
       "      <th>pants_on_fire_cts</th>\n",
       "      <th>context</th>\n",
       "    </tr>\n",
       "  </thead>\n",
       "  <tbody>\n",
       "    <tr>\n",
       "      <th>0</th>\n",
       "      <td>8289</td>\n",
       "      <td>423.json</td>\n",
       "      <td>true</td>\n",
       "      <td>\"McCain opposes a woman's right to choose.\"</td>\n",
       "      <td>abortion</td>\n",
       "      <td>moveon</td>\n",
       "      <td>NaN</td>\n",
       "      <td>NaN</td>\n",
       "      <td>democrat</td>\n",
       "      <td>2</td>\n",
       "      <td>4</td>\n",
       "      <td>3</td>\n",
       "      <td>0</td>\n",
       "      <td>0</td>\n",
       "      <td>an e-mail message</td>\n",
       "    </tr>\n",
       "    <tr>\n",
       "      <th>1</th>\n",
       "      <td>1156</td>\n",
       "      <td>10379.json</td>\n",
       "      <td>barely-true</td>\n",
       "      <td>The name Frank has risen in popularity by 20 p...</td>\n",
       "      <td>pop-culture</td>\n",
       "      <td>matt-lauer</td>\n",
       "      <td>Today Show host</td>\n",
       "      <td>NaN</td>\n",
       "      <td>none</td>\n",
       "      <td>1</td>\n",
       "      <td>0</td>\n",
       "      <td>0</td>\n",
       "      <td>0</td>\n",
       "      <td>0</td>\n",
       "      <td>a red carpet interview before the Golden Globes</td>\n",
       "    </tr>\n",
       "  </tbody>\n",
       "</table>\n",
       "</div>"
      ],
      "text/plain": [
       "   index          ID        label  \\\n",
       "0   8289    423.json         true   \n",
       "1   1156  10379.json  barely-true   \n",
       "\n",
       "                                           statement      subject     speaker  \\\n",
       "0        \"McCain opposes a woman's right to choose.\"     abortion      moveon   \n",
       "1  The name Frank has risen in popularity by 20 p...  pop-culture  matt-lauer   \n",
       "\n",
       "               job state     party  barely_true_cts  false_cts  half_true_cts  \\\n",
       "0              NaN   NaN  democrat                2          4              3   \n",
       "1  Today Show host   NaN      none                1          0              0   \n",
       "\n",
       "   mostly_true_cts  pants_on_fire_cts  \\\n",
       "0                0                  0   \n",
       "1                0                  0   \n",
       "\n",
       "                                           context  \n",
       "0                                an e-mail message  \n",
       "1  a red carpet interview before the Golden Globes  "
      ]
     },
     "execution_count": 74,
     "metadata": {},
     "output_type": "execute_result"
    }
   ],
   "source": [
    "df_raw_tfid.head(2)"
   ]
  },
  {
   "cell_type": "code",
   "execution_count": 75,
   "metadata": {},
   "outputs": [],
   "source": [
    "header_list=[\"index\",\"ID\", \"label\", \"statement\",\"TotalWords\",\"Lemmatised_words\", \"subject\", \"speaker\", \"job\", \"state\", \"party\", \"barely_true_cts\",\n",
    "        \"false_cts\", \"half_true_cts\", \"mostly_true_cts\", \"pants_on_fire_cts\", \"context\"]"
   ]
  },
  {
   "cell_type": "code",
   "execution_count": 76,
   "metadata": {},
   "outputs": [],
   "source": [
    "df_raw_tfid = df_raw_tfid.reindex(columns = header_list) "
   ]
  },
  {
   "cell_type": "code",
   "execution_count": 77,
   "metadata": {},
   "outputs": [],
   "source": [
    "# creating new column to hold total number of words in the statements and calculating the total words\n",
    "df_raw_tfid['TotalWords'] = df_raw_tfid['statement'].str.split().str.len()"
   ]
  },
  {
   "cell_type": "code",
   "execution_count": 78,
   "metadata": {},
   "outputs": [
    {
     "data": {
      "text/html": [
       "<div>\n",
       "<style scoped>\n",
       "    .dataframe tbody tr th:only-of-type {\n",
       "        vertical-align: middle;\n",
       "    }\n",
       "\n",
       "    .dataframe tbody tr th {\n",
       "        vertical-align: top;\n",
       "    }\n",
       "\n",
       "    .dataframe thead th {\n",
       "        text-align: right;\n",
       "    }\n",
       "</style>\n",
       "<table border=\"1\" class=\"dataframe\">\n",
       "  <thead>\n",
       "    <tr style=\"text-align: right;\">\n",
       "      <th></th>\n",
       "      <th>index</th>\n",
       "      <th>ID</th>\n",
       "      <th>label</th>\n",
       "      <th>statement</th>\n",
       "      <th>TotalWords</th>\n",
       "      <th>Lemmatised_words</th>\n",
       "      <th>subject</th>\n",
       "      <th>speaker</th>\n",
       "      <th>job</th>\n",
       "      <th>state</th>\n",
       "      <th>party</th>\n",
       "      <th>barely_true_cts</th>\n",
       "      <th>false_cts</th>\n",
       "      <th>half_true_cts</th>\n",
       "      <th>mostly_true_cts</th>\n",
       "      <th>pants_on_fire_cts</th>\n",
       "      <th>context</th>\n",
       "    </tr>\n",
       "  </thead>\n",
       "  <tbody>\n",
       "    <tr>\n",
       "      <th>0</th>\n",
       "      <td>8289</td>\n",
       "      <td>423.json</td>\n",
       "      <td>true</td>\n",
       "      <td>\"McCain opposes a woman's right to choose.\"</td>\n",
       "      <td>7</td>\n",
       "      <td>NaN</td>\n",
       "      <td>abortion</td>\n",
       "      <td>moveon</td>\n",
       "      <td>NaN</td>\n",
       "      <td>NaN</td>\n",
       "      <td>democrat</td>\n",
       "      <td>2</td>\n",
       "      <td>4</td>\n",
       "      <td>3</td>\n",
       "      <td>0</td>\n",
       "      <td>0</td>\n",
       "      <td>an e-mail message</td>\n",
       "    </tr>\n",
       "    <tr>\n",
       "      <th>1</th>\n",
       "      <td>1156</td>\n",
       "      <td>10379.json</td>\n",
       "      <td>barely-true</td>\n",
       "      <td>The name Frank has risen in popularity by 20 p...</td>\n",
       "      <td>18</td>\n",
       "      <td>NaN</td>\n",
       "      <td>pop-culture</td>\n",
       "      <td>matt-lauer</td>\n",
       "      <td>Today Show host</td>\n",
       "      <td>NaN</td>\n",
       "      <td>none</td>\n",
       "      <td>1</td>\n",
       "      <td>0</td>\n",
       "      <td>0</td>\n",
       "      <td>0</td>\n",
       "      <td>0</td>\n",
       "      <td>a red carpet interview before the Golden Globes</td>\n",
       "    </tr>\n",
       "  </tbody>\n",
       "</table>\n",
       "</div>"
      ],
      "text/plain": [
       "   index          ID        label  \\\n",
       "0   8289    423.json         true   \n",
       "1   1156  10379.json  barely-true   \n",
       "\n",
       "                                           statement  TotalWords  \\\n",
       "0        \"McCain opposes a woman's right to choose.\"           7   \n",
       "1  The name Frank has risen in popularity by 20 p...          18   \n",
       "\n",
       "   Lemmatised_words      subject     speaker              job state     party  \\\n",
       "0               NaN     abortion      moveon              NaN   NaN  democrat   \n",
       "1               NaN  pop-culture  matt-lauer  Today Show host   NaN      none   \n",
       "\n",
       "   barely_true_cts  false_cts  half_true_cts  mostly_true_cts  \\\n",
       "0                2          4              3                0   \n",
       "1                1          0              0                0   \n",
       "\n",
       "   pants_on_fire_cts                                          context  \n",
       "0                  0                                an e-mail message  \n",
       "1                  0  a red carpet interview before the Golden Globes  "
      ]
     },
     "execution_count": 78,
     "metadata": {},
     "output_type": "execute_result"
    }
   ],
   "source": [
    "df_raw_tfid.head(2)"
   ]
  },
  {
   "cell_type": "code",
   "execution_count": 79,
   "metadata": {},
   "outputs": [],
   "source": [
    "X = df_raw_tfid[['statement', 'TotalWords']]\n",
    "\n",
    "Y = df_raw_tfid['label']"
   ]
  },
  {
   "cell_type": "code",
   "execution_count": 80,
   "metadata": {},
   "outputs": [],
   "source": [
    "X_train, X_test, y_train, y_test = train_test_split(X, Y, test_size=0.25)"
   ]
  },
  {
   "cell_type": "markdown",
   "metadata": {},
   "source": [
    "## Creating the pipeline with TFIDVectorizer and feature union of total words in statements"
   ]
  },
  {
   "cell_type": "code",
   "execution_count": 81,
   "metadata": {},
   "outputs": [],
   "source": [
    "classifier = Pipeline([\n",
    "    ('features', FeatureUnion([\n",
    "        ('text', Pipeline([\n",
    "            ('colext', TextSelector('statement')),\n",
    "            ('tfidf', TfidfVectorizer(analyzer='word',preprocessor=preprocess, tokenizer=Tokenizer, stop_words=stopwords_list,\n",
    "                     min_df=.0025, max_df=0.25, ngram_range=(1,3))),\n",
    "            ('svd', TruncatedSVD(algorithm='randomized', n_components=300)), #for XGB\n",
    "        ])),\n",
    "        ('words', Pipeline([\n",
    "            ('wordext', NumberSelector('TotalWords')),\n",
    "            ('wscaler', StandardScaler()),\n",
    "        ])),\n",
    "    ])),\n",
    "    ('clf', LogisticRegression(solver='liblinear', random_state=0)),\n",
    "    ])\n",
    "\n"
   ]
  },
  {
   "cell_type": "code",
   "execution_count": 82,
   "metadata": {},
   "outputs": [
    {
     "name": "stdout",
     "output_type": "stream",
     "text": [
      "Accuracy:  0.2542848239326893\n",
      "              precision    recall  f1-score   support\n",
      "\n",
      " barely-true       0.24      0.18      0.20       497\n",
      "       false       0.28      0.39      0.32       644\n",
      "   half-true       0.24      0.31      0.27       647\n",
      " mostly-true       0.25      0.30      0.28       629\n",
      "  pants-fire       0.22      0.03      0.06       244\n",
      "        true       0.26      0.15      0.19       548\n",
      "\n",
      "   micro avg       0.25      0.25      0.25      3209\n",
      "   macro avg       0.25      0.23      0.22      3209\n",
      "weighted avg       0.25      0.25      0.24      3209\n",
      "\n",
      "[[ 87 143 135  90   5  37]\n",
      " [ 56 248 168 104   7  61]\n",
      " [ 81 143 199 169   4  51]\n",
      " [ 53 142 163 190   6  75]\n",
      " [ 34 102  53  33   8  14]\n",
      " [ 46 121 127 163   7  84]]\n"
     ]
    }
   ],
   "source": [
    "# logistic regression\n",
    "classifier.fit(X_train, y_train)\n",
    "predictions = classifier.predict(X_test)\n",
    "print_scores()\n",
    "\n"
   ]
  },
  {
   "cell_type": "code",
   "execution_count": 83,
   "metadata": {},
   "outputs": [
    {
     "data": {
      "image/png": "[encoded data removed]",
      "text/plain": [
       "<Figure size 720x576 with 2 Axes>"
      ]
     },
     "metadata": {
      "needs_background": "light"
     },
     "output_type": "display_data"
    }
   ],
   "source": [
    "confusion_matrix_heatmap(confusion_matrix(y_test, predictions), classifier.classes_)"
   ]
  },
  {
   "cell_type": "code",
   "execution_count": 84,
   "metadata": {},
   "outputs": [
    {
     "name": "stdout",
     "output_type": "stream",
     "text": [
      "Accuracy:  0.20878778435649736\n",
      "              precision    recall  f1-score   support\n",
      "\n",
      " barely-true       0.23      0.11      0.15       497\n",
      "       false       0.22      0.30      0.26       644\n",
      "   half-true       0.26      0.13      0.17       647\n",
      " mostly-true       0.23      0.27      0.25       629\n",
      "  pants-fire       0.12      0.30      0.17       244\n",
      "        true       0.21      0.18      0.19       548\n",
      "\n",
      "   micro avg       0.21      0.21      0.21      3209\n",
      "   macro avg       0.21      0.21      0.20      3209\n",
      "weighted avg       0.22      0.21      0.20      3209\n",
      "\n",
      "[[ 54 130  55  99 101  58]\n",
      " [ 43 193  52 141 140  75]\n",
      " [ 44 192  83 138 100  90]\n",
      " [ 43 167  51 172  92 104]\n",
      " [ 22  55  23  37  72  35]\n",
      " [ 30 129  56 160  77  96]]\n"
     ]
    }
   ],
   "source": [
    "#becasue multinominal naive baiese deosnt fit\n",
    "classifier.set_params(clf=GaussianNB())\n",
    "classifier.fit(X_train, y_train)\n",
    "predictions = classifier.predict(X_test)\n",
    "print_scores()"
   ]
  },
  {
   "cell_type": "code",
   "execution_count": 85,
   "metadata": {},
   "outputs": [
    {
     "name": "stdout",
     "output_type": "stream",
     "text": [
      "Accuracy:  0.25771268307884077\n",
      "              precision    recall  f1-score   support\n",
      "\n",
      " barely-true       0.24      0.19      0.21       497\n",
      "       false       0.28      0.43      0.34       644\n",
      "   half-true       0.24      0.31      0.27       647\n",
      " mostly-true       0.26      0.30      0.28       629\n",
      "  pants-fire       0.00      0.00      0.00       244\n",
      "        true       0.25      0.13      0.17       548\n",
      "\n",
      "   micro avg       0.26      0.26      0.26      3209\n",
      "   macro avg       0.21      0.23      0.21      3209\n",
      "weighted avg       0.24      0.26      0.24      3209\n",
      "\n",
      "[[ 94 150 129  89   1  34]\n",
      " [ 71 275 152  94   2  50]\n",
      " [ 87 152 200 162   1  45]\n",
      " [ 66 148 164 187   0  64]\n",
      " [ 30 111  60  27   0  16]\n",
      " [ 39 142 124 172   0  71]]\n"
     ]
    }
   ],
   "source": [
    "classifier.set_params(clf=svm.SVC(C=1.0, kernel='linear', degree=3, gamma='auto',random_state=1000))\n",
    "classifier.fit(X_train, y_train)\n",
    "predictions = classifier.predict(X_test)\n",
    "print_scores()"
   ]
  },
  {
   "cell_type": "code",
   "execution_count": 86,
   "metadata": {},
   "outputs": [
    {
     "data": {
      "image/png": "[encoded data removed]",
      "text/plain": [
       "<Figure size 720x576 with 2 Axes>"
      ]
     },
     "metadata": {
      "needs_background": "light"
     },
     "output_type": "display_data"
    }
   ],
   "source": [
    "#highest accuracy \n",
    "confusion_matrix_heatmap(confusion_matrix(y_test,predictions), classifier.classes_)"
   ]
  },
  {
   "cell_type": "code",
   "execution_count": 87,
   "metadata": {},
   "outputs": [
    {
     "name": "stdout",
     "output_type": "stream",
     "text": [
      "Accuracy:  0.20130881894671238\n",
      "              precision    recall  f1-score   support\n",
      "\n",
      " barely-true       0.17      0.19      0.18       497\n",
      "       false       0.23      0.22      0.23       644\n",
      "   half-true       0.21      0.20      0.20       647\n",
      " mostly-true       0.23      0.23      0.23       629\n",
      "  pants-fire       0.11      0.12      0.12       244\n",
      "        true       0.21      0.20      0.20       548\n",
      "\n",
      "   micro avg       0.20      0.20      0.20      3209\n",
      "   macro avg       0.19      0.19      0.19      3209\n",
      "weighted avg       0.20      0.20      0.20      3209\n",
      "\n",
      "[[ 96 104  96  90  43  68]\n",
      " [122 143 106 122  55  96]\n",
      " [106 127 127 130  52 105]\n",
      " [124 106 116 143  40 100]\n",
      " [ 41  50  42  44  30  37]\n",
      " [ 85  94 114 104  44 107]]\n"
     ]
    }
   ],
   "source": [
    "decision_tree=tree.DecisionTreeClassifier(random_state=1000)\n",
    "classifier.set_params(clf=decision_tree)\n",
    "classifier.fit(X_train, y_train)\n",
    "predictions = classifier.predict(X_test)\n",
    "print_scores()"
   ]
  },
  {
   "cell_type": "code",
   "execution_count": 88,
   "metadata": {},
   "outputs": [
    {
     "name": "stdout",
     "output_type": "stream",
     "text": [
      "Accuracy:  0.20598317232782798\n",
      "              precision    recall  f1-score   support\n",
      "\n",
      " barely-true       0.16      0.23      0.19       497\n",
      "       false       0.22      0.29      0.25       644\n",
      "   half-true       0.20      0.22      0.21       647\n",
      " mostly-true       0.23      0.20      0.21       629\n",
      "  pants-fire       0.13      0.05      0.07       244\n",
      "        true       0.26      0.15      0.19       548\n",
      "\n",
      "   micro avg       0.21      0.21      0.21      3209\n",
      "   macro avg       0.20      0.19      0.19      3209\n",
      "weighted avg       0.21      0.21      0.20      3209\n",
      "\n",
      "[[114 143 108  91   8  33]\n",
      " [137 186 147 102  14  58]\n",
      " [160 167 145  99  20  56]\n",
      " [142 152 135 125  15  60]\n",
      " [ 46  72  55  42  11  18]\n",
      " [112 128 126  88  14  80]]\n"
     ]
    }
   ],
   "source": [
    "classifier.set_params(clf=RandomForestClassifier(random_state=1000))\n",
    "classifier.fit(X_train, y_train)\n",
    "predictions = classifier.predict(X_test)\n",
    "print_scores()"
   ]
  },
  {
   "cell_type": "code",
   "execution_count": 89,
   "metadata": {},
   "outputs": [
    {
     "name": "stdout",
     "output_type": "stream",
     "text": [
      "Accuracy:  0.22904331567466502\n",
      "              precision    recall  f1-score   support\n",
      "\n",
      " barely-true       0.21      0.17      0.19       497\n",
      "       false       0.26      0.33      0.29       644\n",
      "   half-true       0.24      0.30      0.26       647\n",
      " mostly-true       0.21      0.26      0.23       629\n",
      "  pants-fire       0.22      0.06      0.09       244\n",
      "        true       0.21      0.12      0.15       548\n",
      "\n",
      "   micro avg       0.23      0.23      0.23      3209\n",
      "   macro avg       0.22      0.21      0.20      3209\n",
      "weighted avg       0.23      0.23      0.22      3209\n",
      "\n",
      "[[ 86 133 123 109   9  37]\n",
      " [ 75 211 150 139  16  53]\n",
      " [ 84 123 192 180   8  60]\n",
      " [ 77 144 154 166  10  78]\n",
      " [ 30  88  54  38  14  20]\n",
      " [ 58 124 138 156   6  66]]\n"
     ]
    }
   ],
   "source": [
    "classifier.set_params(clf=XGBClassifier(max_depth=3, n_estimators=300, learning_rate=0.1, random_state=0))\n",
    "classifier.fit(X_train, y_train)\n",
    "predictions = classifier.predict(X_test)\n",
    "print_scores()"
   ]
  },
  {
   "cell_type": "markdown",
   "metadata": {},
   "source": [
    "## Using char_wb for the TFIDVectorizer and features union"
   ]
  },
  {
   "cell_type": "code",
   "execution_count": 90,
   "metadata": {},
   "outputs": [],
   "source": [
    "classifier_char_wb = Pipeline([\n",
    "    ('features', FeatureUnion([\n",
    "        ('text', Pipeline([\n",
    "            ('colext', TextSelector('statement')),\n",
    "            ('tfidf', TfidfVectorizer(analyzer='char_wb',preprocessor=preprocess, tokenizer=Tokenizer, stop_words=stopwords_list,\n",
    "                     min_df=.0025, max_df=0.25, ngram_range=(1,3))),\n",
    "            ('svd', TruncatedSVD(algorithm='randomized', n_components=300)), #for XGB\n",
    "        ])),\n",
    "        ('words', Pipeline([\n",
    "            ('wordext', NumberSelector('TotalWords')),\n",
    "            ('wscaler', StandardScaler()),\n",
    "        ])),\n",
    "    ])),\n",
    "    ('clf', LogisticRegression(solver='liblinear', random_state=1000)),\n",
    "    ])"
   ]
  },
  {
   "cell_type": "code",
   "execution_count": 91,
   "metadata": {},
   "outputs": [
    {
     "name": "stdout",
     "output_type": "stream",
     "text": [
      "Accuracy:  0.24992209411031474\n",
      "              precision    recall  f1-score   support\n",
      "\n",
      " barely-true       0.23      0.17      0.19       497\n",
      "       false       0.26      0.35      0.30       644\n",
      "   half-true       0.25      0.35      0.29       647\n",
      " mostly-true       0.26      0.29      0.27       629\n",
      "  pants-fire       0.07      0.01      0.01       244\n",
      "        true       0.26      0.15      0.19       548\n",
      "\n",
      "   micro avg       0.25      0.25      0.25      3209\n",
      "   macro avg       0.22      0.22      0.21      3209\n",
      "weighted avg       0.24      0.25      0.24      3209\n",
      "\n",
      "[[ 84 142 132  92   7  40]\n",
      " [ 79 225 162 106  10  62]\n",
      " [ 73 138 225 154   4  53]\n",
      " [ 61 147 171 185   0  65]\n",
      " [ 35  90  72  32   2  13]\n",
      " [ 35 132 138 156   6  81]]\n"
     ]
    }
   ],
   "source": [
    "#logistic regression\n",
    "classifier_char_wb.fit(X_train, y_train)\n",
    "predictions = classifier_char_wb.predict(X_test)\n",
    "print_scores()"
   ]
  },
  {
   "cell_type": "code",
   "execution_count": 92,
   "metadata": {},
   "outputs": [
    {
     "name": "stdout",
     "output_type": "stream",
     "text": [
      "Accuracy:  0.22655032720473667\n",
      "              precision    recall  f1-score   support\n",
      "\n",
      " barely-true       0.20      0.18      0.19       497\n",
      "       false       0.25      0.23      0.24       644\n",
      "   half-true       0.26      0.26      0.26       647\n",
      " mostly-true       0.25      0.24      0.24       629\n",
      "  pants-fire       0.15      0.26      0.19       244\n",
      "        true       0.22      0.20      0.21       548\n",
      "\n",
      "   micro avg       0.23      0.23      0.23      3209\n",
      "   macro avg       0.22      0.23      0.22      3209\n",
      "weighted avg       0.23      0.23      0.23      3209\n",
      "\n",
      "[[ 91  92  93  83  71  67]\n",
      " [ 95 145 109 106  92  97]\n",
      " [ 98 114 169 118  63  85]\n",
      " [ 88  91 123 150  70 107]\n",
      " [ 31  58  44  22  63  26]\n",
      " [ 51  90 110 125  63 109]]\n"
     ]
    }
   ],
   "source": [
    "# Gaussian NB\n",
    "classifier_char_wb.set_params(clf=GaussianNB())\n",
    "classifier_char_wb.fit(X_train, y_train)\n",
    "predictions = classifier_char_wb.predict(X_test)\n",
    "print_scores()"
   ]
  },
  {
   "cell_type": "code",
   "execution_count": 93,
   "metadata": {},
   "outputs": [
    {
     "name": "stdout",
     "output_type": "stream",
     "text": [
      "Accuracy:  0.24992209411031474\n",
      "              precision    recall  f1-score   support\n",
      "\n",
      " barely-true       0.25      0.20      0.22       497\n",
      "       false       0.24      0.35      0.29       644\n",
      "   half-true       0.26      0.37      0.30       647\n",
      " mostly-true       0.25      0.26      0.26       629\n",
      "  pants-fire       0.00      0.00      0.00       244\n",
      "        true       0.25      0.13      0.17       548\n",
      "\n",
      "   micro avg       0.25      0.25      0.25      3209\n",
      "   macro avg       0.21      0.22      0.21      3209\n",
      "weighted avg       0.23      0.25      0.23      3209\n",
      "\n",
      "[[ 97 151 132  80   0  37]\n",
      " [ 85 227 174 104   0  54]\n",
      " [ 73 154 239 137   0  44]\n",
      " [ 59 160 174 166   0  70]\n",
      " [ 31 100  72  29   0  12]\n",
      " [ 40 143 136 156   0  73]]\n"
     ]
    }
   ],
   "source": [
    "#Support vector Machine classifier\n",
    "classifier_char_wb.set_params(clf=svm.SVC(C=1.0, kernel='linear', degree=3, gamma='auto'))\n",
    "classifier_char_wb.fit(X_train, y_train)\n",
    "predictions = classifier_char_wb.predict(X_test)\n",
    "print_scores()"
   ]
  },
  {
   "cell_type": "code",
   "execution_count": 94,
   "metadata": {},
   "outputs": [
    {
     "name": "stdout",
     "output_type": "stream",
     "text": [
      "Accuracy:  0.1869741352446245\n",
      "              precision    recall  f1-score   support\n",
      "\n",
      " barely-true       0.19      0.19      0.19       497\n",
      "       false       0.21      0.20      0.20       644\n",
      "   half-true       0.22      0.23      0.22       647\n",
      " mostly-true       0.20      0.20      0.20       629\n",
      "  pants-fire       0.09      0.11      0.10       244\n",
      "        true       0.16      0.14      0.15       548\n",
      "\n",
      "   micro avg       0.19      0.19      0.19      3209\n",
      "   macro avg       0.18      0.18      0.18      3209\n",
      "weighted avg       0.19      0.19      0.19      3209\n",
      "\n",
      "[[ 94  94 100  92  42  75]\n",
      " [ 91 130 139 131  62  91]\n",
      " [ 99 109 148 127  56 108]\n",
      " [103 119 120 126  61 100]\n",
      " [ 34  62  37  55  27  29]\n",
      " [ 78 116 128 108  43  75]]\n"
     ]
    }
   ],
   "source": [
    "#decision tree\n",
    "decision_tree=tree.DecisionTreeClassifier(random_state=1000)\n",
    "classifier_char_wb.set_params(clf=decision_tree)\n",
    "classifier_char_wb.fit(X_train, y_train)\n",
    "predictions = classifier_char_wb.predict(X_test)\n",
    "print_scores()"
   ]
  },
  {
   "cell_type": "code",
   "execution_count": 95,
   "metadata": {},
   "outputs": [
    {
     "name": "stdout",
     "output_type": "stream",
     "text": [
      "Accuracy:  0.198504206918043\n",
      "              precision    recall  f1-score   support\n",
      "\n",
      " barely-true       0.16      0.24      0.19       497\n",
      "       false       0.23      0.28      0.25       644\n",
      "   half-true       0.22      0.26      0.24       647\n",
      " mostly-true       0.20      0.17      0.18       629\n",
      "  pants-fire       0.08      0.02      0.03       244\n",
      "        true       0.18      0.10      0.13       548\n",
      "\n",
      "   micro avg       0.20      0.20      0.20      3209\n",
      "   macro avg       0.18      0.18      0.17      3209\n",
      "weighted avg       0.19      0.20      0.19      3209\n",
      "\n",
      "[[118 124 124  70  15  46]\n",
      " [131 183 146 115  13  56]\n",
      " [141 135 170 115  18  68]\n",
      " [157 149 150 106   9  58]\n",
      " [ 65  67  55  29   5  23]\n",
      " [130 145 129  83   6  55]]\n"
     ]
    }
   ],
   "source": [
    "classifier_char_wb.set_params(clf=RandomForestClassifier())\n",
    "classifier_char_wb.fit(X_train, y_train)\n",
    "predictions = classifier_char_wb.predict(X_test)\n",
    "print_scores()"
   ]
  },
  {
   "cell_type": "code",
   "execution_count": 96,
   "metadata": {},
   "outputs": [
    {
     "name": "stdout",
     "output_type": "stream",
     "text": [
      "Accuracy:  0.22904331567466502\n",
      "              precision    recall  f1-score   support\n",
      "\n",
      " barely-true       0.21      0.17      0.19       497\n",
      "       false       0.26      0.33      0.29       644\n",
      "   half-true       0.24      0.30      0.26       647\n",
      " mostly-true       0.21      0.26      0.23       629\n",
      "  pants-fire       0.22      0.06      0.09       244\n",
      "        true       0.21      0.12      0.15       548\n",
      "\n",
      "   micro avg       0.23      0.23      0.23      3209\n",
      "   macro avg       0.22      0.21      0.20      3209\n",
      "weighted avg       0.23      0.23      0.22      3209\n",
      "\n",
      "[[ 86 133 123 109   9  37]\n",
      " [ 75 211 150 139  16  53]\n",
      " [ 84 123 192 180   8  60]\n",
      " [ 77 144 154 166  10  78]\n",
      " [ 30  88  54  38  14  20]\n",
      " [ 58 124 138 156   6  66]]\n"
     ]
    }
   ],
   "source": [
    "classifier_char_wb.set_params(clf=XGBClassifier(max_depth=3, n_estimators=300, learning_rate=0.1, random_state=0))\n",
    "classifier_char_wb.fit(X_train, y_train)\n",
    "predictions = classifier.predict(X_test)\n",
    "print_scores()"
   ]
  },
  {
   "cell_type": "markdown",
   "metadata": {},
   "source": [
    "### Grid Search CV with TFIDVectorizer, feature Union and top 2 performing classifiers"
   ]
  },
  {
   "cell_type": "code",
   "execution_count": 97,
   "metadata": {},
   "outputs": [],
   "source": [
    "classifier_grid = Pipeline([\n",
    "    ('features', FeatureUnion([\n",
    "        ('text', Pipeline([\n",
    "            ('colext', TextSelector('statement')),\n",
    "            ('tfidf', TfidfVectorizer(analyzer='word', preprocessor=preprocess, tokenizer=Tokenizer, stop_words='english',\n",
    "                     min_df=.0025, max_df=0.25, ngram_range=(1,3))),\n",
    "            ('svd', TruncatedSVD(algorithm='randomized', n_components=300)), #for XGB\n",
    "        ])),\n",
    "        ('words', Pipeline([\n",
    "            ('wordext', NumberSelector('TotalWords')),\n",
    "            ('wscaler', StandardScaler()),\n",
    "        ])),\n",
    "    ])),\n",
    "    ('clf',None),\n",
    "    ])\n",
    "    \n",
    "param_grid={\n",
    "   # 'selector__k': [100, 50,150],\n",
    "    'clf': [LogisticRegression(solver='liblinear', random_state=0),svm.SVC(C=1.0, kernel='linear', degree=3, gamma='auto'),\n",
    "    svm.SVC(C=1.0, kernel='linear', degree=3, gamma='auto'),RandomForestClassifier() ],\n",
    "}\n"
   ]
  },
  {
   "cell_type": "code",
   "execution_count": 98,
   "metadata": {},
   "outputs": [
    {
     "data": {
      "text/plain": [
       "GridSearchCV(cv=StratifiedKFold(n_splits=5, random_state=0, shuffle=False),\n",
       "       error_score='raise-deprecating',\n",
       "       estimator=Pipeline(memory=None,\n",
       "     steps=[('features', FeatureUnion(n_jobs=None,\n",
       "       transformer_list=[('text', Pipeline(memory=None,\n",
       "     steps=[('colext', TextSelector(field='statement')), ('tfidf', TfidfVectorizer(analyzer='word', binary=False, decode_error='strict',\n",
       "        dtype=<class 'numpy.float64'>, encoding='utf-8', inpu...er(copy=True, with_mean=True, with_std=True))]))],\n",
       "       transformer_weights=None)), ('clf', None)]),\n",
       "       fit_params=None, iid='warn', n_jobs=None,\n",
       "       param_grid={'clf': [LogisticRegression(C=1.0, class_weight=None, dual=False, fit_intercept=True,\n",
       "          intercept_scaling=1, max_iter=100, multi_class='warn',\n",
       "          n_jobs=None, penalty='l2', random_state=0, solver='liblinear',\n",
       "          tol=0.0001, verbose=0, warm_start=False), SVC(C=1.0, ca...obs=None,\n",
       "            oob_score=False, random_state=None, verbose=0,\n",
       "            warm_start=False)]},\n",
       "       pre_dispatch='2*n_jobs', refit='f1_weighted',\n",
       "       return_train_score=False,\n",
       "       scoring=['accuracy', 'precision_weighted', 'recall_weighted', 'f1_weighted'],\n",
       "       verbose=0)"
      ]
     },
     "execution_count": 98,
     "metadata": {},
     "output_type": "execute_result"
    }
   ],
   "source": [
    "search = GridSearchCV(classifier_grid, cv = StratifiedKFold(n_splits=5, random_state=0), \n",
    "                      return_train_score = False, \n",
    "                      scoring = ['accuracy', 'precision_weighted', 'recall_weighted', 'f1_weighted'],\n",
    "                      refit = 'f1_weighted',\n",
    "                      param_grid = param_grid)\n",
    "\n",
    "search.fit(X_train, y_train)\n",
    " "
   ]
  },
  {
   "cell_type": "code",
   "execution_count": 99,
   "metadata": {},
   "outputs": [
    {
     "data": {
      "text/html": [
       "<div>\n",
       "<style scoped>\n",
       "    .dataframe tbody tr th:only-of-type {\n",
       "        vertical-align: middle;\n",
       "    }\n",
       "\n",
       "    .dataframe tbody tr th {\n",
       "        vertical-align: top;\n",
       "    }\n",
       "\n",
       "    .dataframe thead th {\n",
       "        text-align: right;\n",
       "    }\n",
       "</style>\n",
       "<table border=\"1\" class=\"dataframe\">\n",
       "  <thead>\n",
       "    <tr style=\"text-align: right;\">\n",
       "      <th></th>\n",
       "      <th>mean_fit_time</th>\n",
       "      <th>std_fit_time</th>\n",
       "      <th>mean_score_time</th>\n",
       "      <th>std_score_time</th>\n",
       "      <th>param_clf</th>\n",
       "      <th>params</th>\n",
       "      <th>split0_test_accuracy</th>\n",
       "      <th>split1_test_accuracy</th>\n",
       "      <th>split2_test_accuracy</th>\n",
       "      <th>split3_test_accuracy</th>\n",
       "      <th>...</th>\n",
       "      <th>std_test_recall_weighted</th>\n",
       "      <th>rank_test_recall_weighted</th>\n",
       "      <th>split0_test_f1_weighted</th>\n",
       "      <th>split1_test_f1_weighted</th>\n",
       "      <th>split2_test_f1_weighted</th>\n",
       "      <th>split3_test_f1_weighted</th>\n",
       "      <th>split4_test_f1_weighted</th>\n",
       "      <th>mean_test_f1_weighted</th>\n",
       "      <th>std_test_f1_weighted</th>\n",
       "      <th>rank_test_f1_weighted</th>\n",
       "    </tr>\n",
       "  </thead>\n",
       "  <tbody>\n",
       "    <tr>\n",
       "      <th>0</th>\n",
       "      <td>7.926627</td>\n",
       "      <td>0.197351</td>\n",
       "      <td>4.339041</td>\n",
       "      <td>0.148405</td>\n",
       "      <td>LogisticRegression(C=1.0, class_weight=None, d...</td>\n",
       "      <td>{'clf': LogisticRegression(C=1.0, class_weight...</td>\n",
       "      <td>0.238466</td>\n",
       "      <td>0.241433</td>\n",
       "      <td>0.246881</td>\n",
       "      <td>0.240644</td>\n",
       "      <td>...</td>\n",
       "      <td>0.003636</td>\n",
       "      <td>1</td>\n",
       "      <td>0.227192</td>\n",
       "      <td>0.232748</td>\n",
       "      <td>0.237134</td>\n",
       "      <td>0.230332</td>\n",
       "      <td>0.223467</td>\n",
       "      <td>0.230173</td>\n",
       "      <td>0.004667</td>\n",
       "      <td>1</td>\n",
       "    </tr>\n",
       "    <tr>\n",
       "      <th>1</th>\n",
       "      <td>41.058423</td>\n",
       "      <td>0.342404</td>\n",
       "      <td>23.654015</td>\n",
       "      <td>0.704532</td>\n",
       "      <td>SVC(C=1.0, cache_size=200, class_weight=None, ...</td>\n",
       "      <td>{'clf': SVC(C=1.0, cache_size=200, class_weigh...</td>\n",
       "      <td>0.237947</td>\n",
       "      <td>0.234683</td>\n",
       "      <td>0.240644</td>\n",
       "      <td>0.233888</td>\n",
       "      <td>...</td>\n",
       "      <td>0.003712</td>\n",
       "      <td>3</td>\n",
       "      <td>0.220479</td>\n",
       "      <td>0.217470</td>\n",
       "      <td>0.223236</td>\n",
       "      <td>0.218769</td>\n",
       "      <td>0.212340</td>\n",
       "      <td>0.218459</td>\n",
       "      <td>0.003616</td>\n",
       "      <td>3</td>\n",
       "    </tr>\n",
       "    <tr>\n",
       "      <th>2</th>\n",
       "      <td>42.271672</td>\n",
       "      <td>0.714013</td>\n",
       "      <td>23.680071</td>\n",
       "      <td>0.511668</td>\n",
       "      <td>SVC(C=1.0, cache_size=200, class_weight=None, ...</td>\n",
       "      <td>{'clf': SVC(C=1.0, cache_size=200, class_weigh...</td>\n",
       "      <td>0.238984</td>\n",
       "      <td>0.235722</td>\n",
       "      <td>0.243763</td>\n",
       "      <td>0.234927</td>\n",
       "      <td>...</td>\n",
       "      <td>0.004062</td>\n",
       "      <td>2</td>\n",
       "      <td>0.220552</td>\n",
       "      <td>0.219367</td>\n",
       "      <td>0.226006</td>\n",
       "      <td>0.219154</td>\n",
       "      <td>0.213436</td>\n",
       "      <td>0.219703</td>\n",
       "      <td>0.004002</td>\n",
       "      <td>2</td>\n",
       "    </tr>\n",
       "    <tr>\n",
       "      <th>3</th>\n",
       "      <td>7.476867</td>\n",
       "      <td>0.205901</td>\n",
       "      <td>4.540583</td>\n",
       "      <td>0.255830</td>\n",
       "      <td>(DecisionTreeClassifier(class_weight=None, cri...</td>\n",
       "      <td>{'clf': (DecisionTreeClassifier(class_weight=N...</td>\n",
       "      <td>0.208917</td>\n",
       "      <td>0.198858</td>\n",
       "      <td>0.211019</td>\n",
       "      <td>0.189709</td>\n",
       "      <td>...</td>\n",
       "      <td>0.007888</td>\n",
       "      <td>4</td>\n",
       "      <td>0.197807</td>\n",
       "      <td>0.190557</td>\n",
       "      <td>0.201956</td>\n",
       "      <td>0.182481</td>\n",
       "      <td>0.189505</td>\n",
       "      <td>0.192464</td>\n",
       "      <td>0.006791</td>\n",
       "      <td>4</td>\n",
       "    </tr>\n",
       "  </tbody>\n",
       "</table>\n",
       "<p>4 rows × 38 columns</p>\n",
       "</div>"
      ],
      "text/plain": [
       "   mean_fit_time  std_fit_time  mean_score_time  std_score_time  \\\n",
       "0       7.926627      0.197351         4.339041        0.148405   \n",
       "1      41.058423      0.342404        23.654015        0.704532   \n",
       "2      42.271672      0.714013        23.680071        0.511668   \n",
       "3       7.476867      0.205901         4.540583        0.255830   \n",
       "\n",
       "                                           param_clf  \\\n",
       "0  LogisticRegression(C=1.0, class_weight=None, d...   \n",
       "1  SVC(C=1.0, cache_size=200, class_weight=None, ...   \n",
       "2  SVC(C=1.0, cache_size=200, class_weight=None, ...   \n",
       "3  (DecisionTreeClassifier(class_weight=None, cri...   \n",
       "\n",
       "                                              params  split0_test_accuracy  \\\n",
       "0  {'clf': LogisticRegression(C=1.0, class_weight...              0.238466   \n",
       "1  {'clf': SVC(C=1.0, cache_size=200, class_weigh...              0.237947   \n",
       "2  {'clf': SVC(C=1.0, cache_size=200, class_weigh...              0.238984   \n",
       "3  {'clf': (DecisionTreeClassifier(class_weight=N...              0.208917   \n",
       "\n",
       "   split1_test_accuracy  split2_test_accuracy  split3_test_accuracy  \\\n",
       "0              0.241433              0.246881              0.240644   \n",
       "1              0.234683              0.240644              0.233888   \n",
       "2              0.235722              0.243763              0.234927   \n",
       "3              0.198858              0.211019              0.189709   \n",
       "\n",
       "           ...            std_test_recall_weighted  rank_test_recall_weighted  \\\n",
       "0          ...                            0.003636                          1   \n",
       "1          ...                            0.003712                          3   \n",
       "2          ...                            0.004062                          2   \n",
       "3          ...                            0.007888                          4   \n",
       "\n",
       "   split0_test_f1_weighted  split1_test_f1_weighted  split2_test_f1_weighted  \\\n",
       "0                 0.227192                 0.232748                 0.237134   \n",
       "1                 0.220479                 0.217470                 0.223236   \n",
       "2                 0.220552                 0.219367                 0.226006   \n",
       "3                 0.197807                 0.190557                 0.201956   \n",
       "\n",
       "   split3_test_f1_weighted  split4_test_f1_weighted  mean_test_f1_weighted  \\\n",
       "0                 0.230332                 0.223467               0.230173   \n",
       "1                 0.218769                 0.212340               0.218459   \n",
       "2                 0.219154                 0.213436               0.219703   \n",
       "3                 0.182481                 0.189505               0.192464   \n",
       "\n",
       "   std_test_f1_weighted  rank_test_f1_weighted  \n",
       "0              0.004667                      1  \n",
       "1              0.003616                      3  \n",
       "2              0.004002                      2  \n",
       "3              0.006791                      4  \n",
       "\n",
       "[4 rows x 38 columns]"
      ]
     },
     "execution_count": 99,
     "metadata": {},
     "output_type": "execute_result"
    }
   ],
   "source": [
    "pd.DataFrame(search.cv_results_)"
   ]
  },
  {
   "cell_type": "code",
   "execution_count": 100,
   "metadata": {},
   "outputs": [
    {
     "name": "stdout",
     "output_type": "stream",
     "text": [
      "Accuracy:  0.24306637581801185\n",
      "              precision    recall  f1-score   support\n",
      "\n",
      " barely-true       0.22      0.18      0.20       497\n",
      "       false       0.27      0.36      0.31       644\n",
      "   half-true       0.24      0.30      0.26       647\n",
      " mostly-true       0.23      0.28      0.25       629\n",
      "  pants-fire       0.21      0.04      0.06       244\n",
      "        true       0.24      0.15      0.18       548\n",
      "\n",
      "   micro avg       0.24      0.24      0.24      3209\n",
      "   macro avg       0.24      0.22      0.21      3209\n",
      "weighted avg       0.24      0.24      0.23      3209\n",
      "\n",
      "[[ 87 143 120  93   5  49]\n",
      " [ 77 235 157 114   7  54]\n",
      " [ 83 131 193 174   7  59]\n",
      " [ 68 146 158 175   7  75]\n",
      " [ 34 102  52  32   9  15]\n",
      " [ 40 126 134 159   8  81]]\n"
     ]
    },
    {
     "data": {
      "image/png": "[encoded data removed]",
      "text/plain": [
       "<Figure size 720x576 with 2 Axes>"
      ]
     },
     "metadata": {
      "needs_background": "light"
     },
     "output_type": "display_data"
    }
   ],
   "source": [
    "predictions = search.predict(X_test)\n",
    "\n",
    "print(\"Accuracy: \", accuracy_score(y_test, predictions))\n",
    "print(classification_report(y_test, predictions))\n",
    "print(confusion_matrix(y_test, predictions))\n",
    "\n",
    "confusion_matrix_heatmap(confusion_matrix(y_test,predictions), search.classes_)"
   ]
  },
  {
   "cell_type": "code",
   "execution_count": 101,
   "metadata": {},
   "outputs": [
    {
     "data": {
      "image/png": "[encoded data removed]",
      "text/plain": [
       "<Figure size 720x720 with 2 Axes>"
      ]
     },
     "metadata": {
      "needs_background": "light"
     },
     "output_type": "display_data"
    }
   ],
   "source": [
    "confusion_matrix_percent_heatmap(confusion_matrix(y_test,predictions), search.classes_)"
   ]
  },
  {
   "cell_type": "code",
   "execution_count": 102,
   "metadata": {},
   "outputs": [
    {
     "name": "stdout",
     "output_type": "stream",
     "text": [
      "Pipeline(memory=None,\n",
      "     steps=[('features', FeatureUnion(n_jobs=None,\n",
      "       transformer_list=[('text', Pipeline(memory=None,\n",
      "     steps=[('colext', TextSelector(field='statement')), ('tfidf', TfidfVectorizer(analyzer='word', binary=False, decode_error='strict',\n",
      "        dtype=<class 'numpy.float64'>, encoding='utf-8', inpu...nalty='l2', random_state=0, solver='liblinear',\n",
      "          tol=0.0001, verbose=0, warm_start=False))])\n"
     ]
    }
   ],
   "source": [
    "print(search.best_estimator_ )"
   ]
  },
  {
   "cell_type": "code",
   "execution_count": 103,
   "metadata": {},
   "outputs": [
    {
     "data": {
      "text/plain": [
       "0.2301733652620842"
      ]
     },
     "execution_count": 103,
     "metadata": {},
     "output_type": "execute_result"
    }
   ],
   "source": [
    "search.best_score_"
   ]
  },
  {
   "cell_type": "code",
   "execution_count": 104,
   "metadata": {},
   "outputs": [
    {
     "name": "stdout",
     "output_type": "stream",
     "text": [
      "{'clf': LogisticRegression(C=1.0, class_weight=None, dual=False, fit_intercept=True,\n",
      "          intercept_scaling=1, max_iter=100, multi_class='warn',\n",
      "          n_jobs=None, penalty='l2', random_state=0, solver='liblinear',\n",
      "          tol=0.0001, verbose=0, warm_start=False)}\n"
     ]
    }
   ],
   "source": [
    "print(search.best_params_) "
   ]
  },
  {
   "cell_type": "code",
   "execution_count": 105,
   "metadata": {},
   "outputs": [
    {
     "name": "stdout",
     "output_type": "stream",
     "text": [
      "{'accuracy': make_scorer(accuracy_score), 'precision_weighted': make_scorer(precision_score, pos_label=None, average=weighted), 'recall_weighted': make_scorer(recall_score, pos_label=None, average=weighted), 'f1_weighted': make_scorer(f1_score, pos_label=None, average=weighted)}\n"
     ]
    }
   ],
   "source": [
    "print(search.scorer_)"
   ]
  },
  {
   "cell_type": "markdown",
   "metadata": {},
   "source": [
    "## Lemmatisation of the 'statements' by giving POS (parts of speech) Tags as context"
   ]
  },
  {
   "cell_type": "markdown",
   "metadata": {},
   "source": [
    "> Earlier we did stemming of the 'statements' in the LIAR dataset using NLTK porter stemmer. Now we use stemming.The aim of both is the similar that is to reduce the inflectional forms of each word into a common base or root. Lemmatization is closely related to stemming, However the difference is that a stemmer operates on a single word without knowledge of the context, and therefore cannot discriminate between words which have different meanings depending on part of speech. Here we provide POS (parts of speech tagging) as the context for lemmatisation. Stemmers are typically easier to implement and run faster but have reduced accuracy.\n"
   ]
  },
  {
   "cell_type": "code",
   "execution_count": 106,
   "metadata": {},
   "outputs": [],
   "source": [
    "\"\"\"WordNetLemmatizer requires Pos tags to understand if the word is noun or verb or adjective etc.\n",
    "        By default it is set to Noun. Here we consider only POS tags of Noun, Adjective, Verb and Adverb. \"\"\"\n",
    "\n",
    "corpus=[]\n",
    "\n",
    "for state in df_raw_tfid['statement']:\n",
    "    \n",
    "    texts=preprocess(state)\n",
    "    token=nltk.word_tokenize(texts)\n",
    "    corpus.append(token)\n",
    "\n",
    "tag_map = defaultdict(lambda : wn.NOUN)\n",
    "tag_map['J'] = wn.ADJ\n",
    "tag_map['V'] = wn.VERB\n",
    "tag_map['R'] = wn.ADV\n",
    "\n",
    "for index,entry in enumerate(corpus):\n",
    "    # looping through the entries and saving in the corpus\n",
    "    Final_words = []\n",
    "    # fitting WordNetLemmatizer()\n",
    "    word_Lemmatized = WordNetLemmatizer()\n",
    "    # pos_tag will provide the 'tag' i.e if the word is Noun(N) or Verb(V) etc.\n",
    "    for word, tag in pos_tag(entry):\n",
    "        # condition is to check for Stop words and consider only alphabets\n",
    "        if word not in stopwords.words('english') and word.isalpha():\n",
    "            word_Final = word_Lemmatized.lemmatize(word,tag_map[tag[0]])\n",
    "            Final_words.append(word_Final)\n",
    "    # The processed words for each 'statement' will be store in column 'lemmatised_words in the dataframe'\n",
    "    df_raw_tfid.loc[index,'Lemmatised_words'] = str(Final_words)"
   ]
  },
  {
   "cell_type": "code",
   "execution_count": 107,
   "metadata": {},
   "outputs": [
    {
     "data": {
      "text/plain": [
       "[['the',\n",
       "  'name',\n",
       "  'frank',\n",
       "  'has',\n",
       "  'risen',\n",
       "  'in',\n",
       "  'popularity',\n",
       "  'by',\n",
       "  '20',\n",
       "  'percent',\n",
       "  'since',\n",
       "  'the',\n",
       "  'debut',\n",
       "  'of',\n",
       "  'house',\n",
       "  'of',\n",
       "  'cardson',\n",
       "  'netflix']]"
      ]
     },
     "execution_count": 107,
     "metadata": {},
     "output_type": "execute_result"
    }
   ],
   "source": [
    "# sample lemmatised text of the 'statements'\n",
    "corpus[1:2]"
   ]
  },
  {
   "cell_type": "code",
   "execution_count": 108,
   "metadata": {},
   "outputs": [
    {
     "data": {
      "text/html": [
       "<div>\n",
       "<style scoped>\n",
       "    .dataframe tbody tr th:only-of-type {\n",
       "        vertical-align: middle;\n",
       "    }\n",
       "\n",
       "    .dataframe tbody tr th {\n",
       "        vertical-align: top;\n",
       "    }\n",
       "\n",
       "    .dataframe thead th {\n",
       "        text-align: right;\n",
       "    }\n",
       "</style>\n",
       "<table border=\"1\" class=\"dataframe\">\n",
       "  <thead>\n",
       "    <tr style=\"text-align: right;\">\n",
       "      <th></th>\n",
       "      <th>index</th>\n",
       "      <th>ID</th>\n",
       "      <th>label</th>\n",
       "      <th>statement</th>\n",
       "      <th>TotalWords</th>\n",
       "      <th>Lemmatised_words</th>\n",
       "      <th>subject</th>\n",
       "      <th>speaker</th>\n",
       "      <th>job</th>\n",
       "      <th>state</th>\n",
       "      <th>party</th>\n",
       "      <th>barely_true_cts</th>\n",
       "      <th>false_cts</th>\n",
       "      <th>half_true_cts</th>\n",
       "      <th>mostly_true_cts</th>\n",
       "      <th>pants_on_fire_cts</th>\n",
       "      <th>context</th>\n",
       "    </tr>\n",
       "  </thead>\n",
       "  <tbody>\n",
       "    <tr>\n",
       "      <th>0</th>\n",
       "      <td>8289</td>\n",
       "      <td>423.json</td>\n",
       "      <td>true</td>\n",
       "      <td>\"McCain opposes a woman's right to choose.\"</td>\n",
       "      <td>7</td>\n",
       "      <td>['mccain', 'oppose', 'woman', 'right', 'choose']</td>\n",
       "      <td>abortion</td>\n",
       "      <td>moveon</td>\n",
       "      <td>NaN</td>\n",
       "      <td>NaN</td>\n",
       "      <td>democrat</td>\n",
       "      <td>2</td>\n",
       "      <td>4</td>\n",
       "      <td>3</td>\n",
       "      <td>0</td>\n",
       "      <td>0</td>\n",
       "      <td>an e-mail message</td>\n",
       "    </tr>\n",
       "    <tr>\n",
       "      <th>1</th>\n",
       "      <td>1156</td>\n",
       "      <td>10379.json</td>\n",
       "      <td>barely-true</td>\n",
       "      <td>The name Frank has risen in popularity by 20 p...</td>\n",
       "      <td>18</td>\n",
       "      <td>['name', 'frank', 'rise', 'popularity', 'perce...</td>\n",
       "      <td>pop-culture</td>\n",
       "      <td>matt-lauer</td>\n",
       "      <td>Today Show host</td>\n",
       "      <td>NaN</td>\n",
       "      <td>none</td>\n",
       "      <td>1</td>\n",
       "      <td>0</td>\n",
       "      <td>0</td>\n",
       "      <td>0</td>\n",
       "      <td>0</td>\n",
       "      <td>a red carpet interview before the Golden Globes</td>\n",
       "    </tr>\n",
       "  </tbody>\n",
       "</table>\n",
       "</div>"
      ],
      "text/plain": [
       "   index          ID        label  \\\n",
       "0   8289    423.json         true   \n",
       "1   1156  10379.json  barely-true   \n",
       "\n",
       "                                           statement  TotalWords  \\\n",
       "0        \"McCain opposes a woman's right to choose.\"           7   \n",
       "1  The name Frank has risen in popularity by 20 p...          18   \n",
       "\n",
       "                                    Lemmatised_words      subject     speaker  \\\n",
       "0   ['mccain', 'oppose', 'woman', 'right', 'choose']     abortion      moveon   \n",
       "1  ['name', 'frank', 'rise', 'popularity', 'perce...  pop-culture  matt-lauer   \n",
       "\n",
       "               job state     party  barely_true_cts  false_cts  half_true_cts  \\\n",
       "0              NaN   NaN  democrat                2          4              3   \n",
       "1  Today Show host   NaN      none                1          0              0   \n",
       "\n",
       "   mostly_true_cts  pants_on_fire_cts  \\\n",
       "0                0                  0   \n",
       "1                0                  0   \n",
       "\n",
       "                                           context  \n",
       "0                                an e-mail message  \n",
       "1  a red carpet interview before the Golden Globes  "
      ]
     },
     "execution_count": 108,
     "metadata": {},
     "output_type": "execute_result"
    }
   ],
   "source": [
    "# We can see that new column 'Lemmtised_words is created which stores the lemmatised words of the 'statements'\n",
    "df_raw_tfid.head(2)"
   ]
  },
  {
   "cell_type": "code",
   "execution_count": 109,
   "metadata": {},
   "outputs": [],
   "source": [
    "X=df_raw_tfid['Lemmatised_words'].tolist()\n",
    "y=df_raw_tfid['label']"
   ]
  },
  {
   "cell_type": "code",
   "execution_count": 110,
   "metadata": {},
   "outputs": [],
   "source": [
    "# fitting TfidfVectorizer with the lemmatised 'statements'\n",
    "Encoder = LabelEncoder()\n",
    "y = Encoder.fit_transform(y)\n",
    "\n",
    "Tfidf_vect = TfidfVectorizer()\n",
    "Tfidf_vect.fit(df_raw_tfid['Lemmatised_words'])\n",
    "X = Tfidf_vect.transform(X)"
   ]
  },
  {
   "cell_type": "code",
   "execution_count": 111,
   "metadata": {},
   "outputs": [],
   "source": [
    "# logistic regression classifier\n",
    "logistic = LogisticRegression(solver='liblinear', random_state=0)"
   ]
  },
  {
   "cell_type": "code",
   "execution_count": 112,
   "metadata": {},
   "outputs": [
    {
     "name": "stdout",
     "output_type": "stream",
     "text": [
      "Accuracy: mean = 25.01%, sd = 0.79%, min = 23.79, max = 26.05\n",
      "Precision: mean = 25.51%, sd = 1.53%, min = 23.30, max = 27.48\n",
      "Recall: mean = 25.01%, sd = 0.79%, min = 23.79, max = 26.05\n",
      "F1: mean = 23.91%, sd = 0.91%, min = 22.53, max = 25.06\n"
     ]
    }
   ],
   "source": [
    "# cross validation\n",
    "cv_scores = cross_validate(logistic, X, y, cv=StratifiedKFold(n_splits=5, random_state=0), return_train_score=False, scoring=['accuracy', 'precision_weighted', 'recall_weighted', 'f1_weighted'])\n",
    "print_cv_scores_summary(\"Accuracy\", cv_scores['test_accuracy'])\n",
    "print_cv_scores_summary(\"Precision\", cv_scores['test_precision_weighted'])\n",
    "print_cv_scores_summary(\"Recall\", cv_scores['test_recall_weighted'])\n",
    "print_cv_scores_summary(\"F1\", cv_scores['test_f1_weighted'])\n",
    "\n"
   ]
  },
  {
   "cell_type": "code",
   "execution_count": 113,
   "metadata": {},
   "outputs": [],
   "source": [
    "#confusion_matrix_heatmap(confusion_matrix(y_test,predictions), search.classes_)"
   ]
  },
  {
   "cell_type": "code",
   "execution_count": 114,
   "metadata": {},
   "outputs": [],
   "source": [
    "SVM_classifier=svm.SVC(C=1.0, kernel='linear', degree=3, gamma='auto', random_state=0)"
   ]
  },
  {
   "cell_type": "code",
   "execution_count": 115,
   "metadata": {},
   "outputs": [
    {
     "name": "stdout",
     "output_type": "stream",
     "text": [
      "Accuracy: mean = 24.31%, sd = 0.90%, min = 22.86, max = 25.27\n",
      "Precision: mean = 25.19%, sd = 1.41%, min = 22.92, max = 27.04\n",
      "Recall: mean = 24.31%, sd = 0.90%, min = 22.86, max = 25.27\n",
      "F1: mean = 23.49%, sd = 0.92%, min = 21.97, max = 24.46\n"
     ]
    }
   ],
   "source": [
    "cv_scores = cross_validate(SVM_classifier, X, y, cv=StratifiedKFold(n_splits=5, random_state=0), return_train_score=False, scoring=['accuracy', 'precision_weighted', 'recall_weighted', 'f1_weighted'])\n",
    "print_cv_scores_summary(\"Accuracy\", cv_scores['test_accuracy'])\n",
    "print_cv_scores_summary(\"Precision\", cv_scores['test_precision_weighted'])\n",
    "print_cv_scores_summary(\"Recall\", cv_scores['test_recall_weighted'])\n",
    "print_cv_scores_summary(\"F1\", cv_scores['test_f1_weighted'])\n"
   ]
  },
  {
   "cell_type": "code",
   "execution_count": 116,
   "metadata": {},
   "outputs": [],
   "source": [
    "XGradientBoost= XGBClassifier(max_depth=3, n_estimators=300, learning_rate=0.1, random_state=0)"
   ]
  },
  {
   "cell_type": "code",
   "execution_count": 117,
   "metadata": {},
   "outputs": [
    {
     "name": "stdout",
     "output_type": "stream",
     "text": [
      "Accuracy: mean = 24.42%, sd = 0.65%, min = 23.55, max = 25.16\n",
      "Precision: mean = 24.45%, sd = 0.64%, min = 23.55, max = 25.30\n",
      "Recall: mean = 24.42%, sd = 0.65%, min = 23.55, max = 25.16\n",
      "F1: mean = 22.86%, sd = 0.69%, min = 21.99, max = 23.80\n"
     ]
    }
   ],
   "source": [
    "cv_scores = cross_validate(XGradientBoost, X, y, cv=StratifiedKFold(n_splits=5, random_state=0), return_train_score=False, scoring=['accuracy', 'precision_weighted', 'recall_weighted', 'f1_weighted'])\n",
    "print_cv_scores_summary(\"Accuracy\", cv_scores['test_accuracy'])\n",
    "print_cv_scores_summary(\"Precision\", cv_scores['test_precision_weighted'])\n",
    "print_cv_scores_summary(\"Recall\", cv_scores['test_recall_weighted'])\n",
    "print_cv_scores_summary(\"F1\", cv_scores['test_f1_weighted'])\n"
   ]
  },
  {
   "cell_type": "markdown",
   "metadata": {},
   "source": [
    "## Converting the Multiclass labels into Binary class labels (Fake & True) and predicting"
   ]
  },
  {
   "cell_type": "code",
   "execution_count": 118,
   "metadata": {},
   "outputs": [
    {
     "data": {
      "text/html": [
       "<div>\n",
       "<style scoped>\n",
       "    .dataframe tbody tr th:only-of-type {\n",
       "        vertical-align: middle;\n",
       "    }\n",
       "\n",
       "    .dataframe tbody tr th {\n",
       "        vertical-align: top;\n",
       "    }\n",
       "\n",
       "    .dataframe thead th {\n",
       "        text-align: right;\n",
       "    }\n",
       "</style>\n",
       "<table border=\"1\" class=\"dataframe\">\n",
       "  <thead>\n",
       "    <tr style=\"text-align: right;\">\n",
       "      <th></th>\n",
       "      <th>label</th>\n",
       "      <th>statement</th>\n",
       "    </tr>\n",
       "  </thead>\n",
       "  <tbody>\n",
       "    <tr>\n",
       "      <th>0</th>\n",
       "      <td>True</td>\n",
       "      <td>\"McCain opposes a woman's right to choose.\"</td>\n",
       "    </tr>\n",
       "    <tr>\n",
       "      <th>1</th>\n",
       "      <td>Fake</td>\n",
       "      <td>The name Frank has risen in popularity by 20 p...</td>\n",
       "    </tr>\n",
       "  </tbody>\n",
       "</table>\n",
       "</div>"
      ],
      "text/plain": [
       "  label                                          statement\n",
       "0  True        \"McCain opposes a woman's right to choose.\"\n",
       "1  Fake  The name Frank has risen in popularity by 20 p..."
      ]
     },
     "execution_count": 118,
     "metadata": {},
     "output_type": "execute_result"
    }
   ],
   "source": [
    "bi_class.head(2)"
   ]
  },
  {
   "cell_type": "code",
   "execution_count": 119,
   "metadata": {},
   "outputs": [],
   "source": [
    "bi_class['TotalWords'] = bi_class['statement'].str.split().str.len()"
   ]
  },
  {
   "cell_type": "code",
   "execution_count": 120,
   "metadata": {},
   "outputs": [
    {
     "data": {
      "text/html": [
       "<div>\n",
       "<style scoped>\n",
       "    .dataframe tbody tr th:only-of-type {\n",
       "        vertical-align: middle;\n",
       "    }\n",
       "\n",
       "    .dataframe tbody tr th {\n",
       "        vertical-align: top;\n",
       "    }\n",
       "\n",
       "    .dataframe thead th {\n",
       "        text-align: right;\n",
       "    }\n",
       "</style>\n",
       "<table border=\"1\" class=\"dataframe\">\n",
       "  <thead>\n",
       "    <tr style=\"text-align: right;\">\n",
       "      <th></th>\n",
       "      <th>label</th>\n",
       "      <th>statement</th>\n",
       "      <th>TotalWords</th>\n",
       "    </tr>\n",
       "  </thead>\n",
       "  <tbody>\n",
       "    <tr>\n",
       "      <th>0</th>\n",
       "      <td>True</td>\n",
       "      <td>\"McCain opposes a woman's right to choose.\"</td>\n",
       "      <td>7</td>\n",
       "    </tr>\n",
       "    <tr>\n",
       "      <th>1</th>\n",
       "      <td>Fake</td>\n",
       "      <td>The name Frank has risen in popularity by 20 p...</td>\n",
       "      <td>18</td>\n",
       "    </tr>\n",
       "  </tbody>\n",
       "</table>\n",
       "</div>"
      ],
      "text/plain": [
       "  label                                          statement  TotalWords\n",
       "0  True        \"McCain opposes a woman's right to choose.\"           7\n",
       "1  Fake  The name Frank has risen in popularity by 20 p...          18"
      ]
     },
     "execution_count": 120,
     "metadata": {},
     "output_type": "execute_result"
    }
   ],
   "source": [
    "bi_class.head(2)"
   ]
  },
  {
   "cell_type": "code",
   "execution_count": 121,
   "metadata": {},
   "outputs": [],
   "source": [
    "X = bi_class[['statement', 'TotalWords']]\n",
    "\n",
    "Y=  bi_class['label']"
   ]
  },
  {
   "cell_type": "code",
   "execution_count": 122,
   "metadata": {},
   "outputs": [],
   "source": [
    "X_train, X_test, y_train, y_test = train_test_split(X, Y, test_size=0.25)"
   ]
  },
  {
   "cell_type": "code",
   "execution_count": 123,
   "metadata": {},
   "outputs": [],
   "source": [
    "\n",
    "classifier_biclass = Pipeline([\n",
    "    ('features', FeatureUnion([\n",
    "        ('text', Pipeline([\n",
    "            ('colext', TextSelector('statement')),\n",
    "            ('tfidf', TfidfVectorizer(analyzer='word',preprocessor=preprocess, tokenizer=Tokenizer, stop_words=stopwords_list,\n",
    "                     min_df=.0025, max_df=0.25, ngram_range=(1,3))),\n",
    "            ('svd', TruncatedSVD(algorithm='randomized', n_components=300)), #for XGB\n",
    "        ])),\n",
    "        ('words', Pipeline([\n",
    "            ('wordext', NumberSelector('TotalWords')),\n",
    "            ('wscaler', StandardScaler()),\n",
    "        ])),\n",
    "    ])),\n",
    "    ('clf', LogisticRegression(solver='liblinear', random_state=0)),\n",
    "    ])"
   ]
  },
  {
   "cell_type": "code",
   "execution_count": 124,
   "metadata": {},
   "outputs": [
    {
     "name": "stdout",
     "output_type": "stream",
     "text": [
      "Accuracy:  0.6110937986911811\n",
      "              precision    recall  f1-score   support\n",
      "\n",
      "        Fake       0.56      0.45      0.50      1373\n",
      "        True       0.64      0.73      0.68      1836\n",
      "\n",
      "   micro avg       0.61      0.61      0.61      3209\n",
      "   macro avg       0.60      0.59      0.59      3209\n",
      "weighted avg       0.60      0.61      0.60      3209\n",
      "\n",
      "[[ 619  754]\n",
      " [ 494 1342]]\n"
     ]
    }
   ],
   "source": [
    "classifier_biclass.fit(X_train, y_train)\n",
    "predictions = classifier_biclass.predict(X_test)\n",
    "print_scores()"
   ]
  },
  {
   "cell_type": "code",
   "execution_count": 125,
   "metadata": {},
   "outputs": [
    {
     "data": {
      "image/png": "[encoded data removed]",
      "text/plain": [
       "<Figure size 432x288 with 2 Axes>"
      ]
     },
     "metadata": {
      "needs_background": "light"
     },
     "output_type": "display_data"
    }
   ],
   "source": [
    "matrix=confusion_matrix(y_test, predictions) # getting the results of confusion matrix from the classification.\n",
    "sns.heatmap(matrix, annot = True,fmt='g')       # printing the matrix\n",
    "plt.title('Logistic Regression binary class Confusion-Matrix')\n",
    "plt.ylabel('True labels')\n",
    "plt.xlabel('Predicted labels');"
   ]
  },
  {
   "cell_type": "code",
   "execution_count": 126,
   "metadata": {},
   "outputs": [
    {
     "name": "stdout",
     "output_type": "stream",
     "text": [
      "Accuracy:  0.5712059831723278\n",
      "              precision    recall  f1-score   support\n",
      "\n",
      "        Fake       0.50      0.56      0.53      1373\n",
      "        True       0.64      0.58      0.61      1836\n",
      "\n",
      "   micro avg       0.57      0.57      0.57      3209\n",
      "   macro avg       0.57      0.57      0.57      3209\n",
      "weighted avg       0.58      0.57      0.57      3209\n",
      "\n",
      "[[ 773  600]\n",
      " [ 776 1060]]\n"
     ]
    }
   ],
   "source": [
    "classifier_biclass.set_params(clf=GaussianNB())\n",
    "classifier_biclass.fit(X_train, y_train)\n",
    "predictions = classifier_biclass.predict(X_test)\n",
    "print_scores()"
   ]
  },
  {
   "cell_type": "code",
   "execution_count": 127,
   "metadata": {},
   "outputs": [
    {
     "name": "stdout",
     "output_type": "stream",
     "text": [
      "Accuracy:  0.5715176067310689\n",
      "              precision    recall  f1-score   support\n",
      "\n",
      "        Fake       0.50      0.57      0.53      1373\n",
      "        True       0.64      0.57      0.60      1836\n",
      "\n",
      "   micro avg       0.57      0.57      0.57      3209\n",
      "   macro avg       0.57      0.57      0.57      3209\n",
      "weighted avg       0.58      0.57      0.57      3209\n",
      "\n",
      "[[ 784  589]\n",
      " [ 786 1050]]\n"
     ]
    }
   ],
   "source": [
    "classifier.set_params(clf=svm.SVC(C=1.0, kernel='linear', degree=3, gamma='auto'))\n",
    "classifier_biclass.fit(X_train, y_train)\n",
    "predictions = classifier_biclass.predict(X_test)\n",
    "print_scores()"
   ]
  },
  {
   "cell_type": "code",
   "execution_count": 128,
   "metadata": {},
   "outputs": [
    {
     "name": "stdout",
     "output_type": "stream",
     "text": [
      "Accuracy:  0.5702711124961047\n",
      "              precision    recall  f1-score   support\n",
      "\n",
      "        Fake       0.50      0.56      0.53      1373\n",
      "        True       0.64      0.58      0.61      1836\n",
      "\n",
      "   micro avg       0.57      0.57      0.57      3209\n",
      "   macro avg       0.57      0.57      0.57      3209\n",
      "weighted avg       0.58      0.57      0.57      3209\n",
      "\n",
      "[[ 770  603]\n",
      " [ 776 1060]]\n"
     ]
    }
   ],
   "source": [
    "decision_tree=tree.DecisionTreeClassifier(random_state=1000)\n",
    "classifier.set_params(clf=decision_tree)\n",
    "classifier_biclass.fit(X_train, y_train)\n",
    "predictions = classifier_biclass.predict(X_test)\n",
    "print_scores()"
   ]
  },
  {
   "cell_type": "code",
   "execution_count": 129,
   "metadata": {},
   "outputs": [
    {
     "name": "stdout",
     "output_type": "stream",
     "text": [
      "Accuracy:  0.5761919601121844\n",
      "              precision    recall  f1-score   support\n",
      "\n",
      "        Fake       0.50      0.57      0.54      1373\n",
      "        True       0.64      0.58      0.61      1836\n",
      "\n",
      "   micro avg       0.58      0.58      0.58      3209\n",
      "   macro avg       0.57      0.58      0.57      3209\n",
      "weighted avg       0.58      0.58      0.58      3209\n",
      "\n",
      "[[ 787  586]\n",
      " [ 774 1062]]\n"
     ]
    }
   ],
   "source": [
    "classifier.set_params(clf=RandomForestClassifier())\n",
    "classifier_biclass.fit(X_train, y_train)\n",
    "predictions = classifier_biclass.predict(X_test)\n",
    "print_scores()"
   ]
  },
  {
   "cell_type": "code",
   "execution_count": 130,
   "metadata": {},
   "outputs": [
    {
     "name": "stdout",
     "output_type": "stream",
     "text": [
      "Accuracy:  0.5780617014646308\n",
      "              precision    recall  f1-score   support\n",
      "\n",
      "        Fake       0.51      0.57      0.54      1373\n",
      "        True       0.64      0.59      0.61      1836\n",
      "\n",
      "   micro avg       0.58      0.58      0.58      3209\n",
      "   macro avg       0.58      0.58      0.57      3209\n",
      "weighted avg       0.59      0.58      0.58      3209\n",
      "\n",
      "[[ 779  594]\n",
      " [ 760 1076]]\n"
     ]
    }
   ],
   "source": [
    "classifier.set_params(clf=XGBClassifier(max_depth=3, n_estimators=300, learning_rate=0.1, random_state=0))\n",
    "classifier_biclass.fit(X_train, y_train)\n",
    "predictions = classifier_biclass.predict(X_test)\n",
    "print_scores()"
   ]
  }
 ],
 "metadata": {
  "kernelspec": {
   "display_name": "Python 3",
   "language": "python",
   "name": "python3"
  },
  "language_info": {
   "codemirror_mode": {
    "name": "ipython",
    "version": 3
   },
   "file_extension": ".py",
   "mimetype": "text/x-python",
   "name": "python",
   "nbconvert_exporter": "python",
   "pygments_lexer": "ipython3",
   "version": "3.7.0"
  }
 },
 "nbformat": 4,
 "nbformat_minor": 2
}
