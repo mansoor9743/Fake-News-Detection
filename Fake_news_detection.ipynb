{
 "cells": [
  {
   "cell_type": "markdown",
   "metadata": {},
   "source": [
    "# Fake News Detection "
   ]
  },
  {
   "cell_type": "code",
   "execution_count": 1,
   "metadata": {},
   "outputs": [],
   "source": [
    "# import libraries\n",
    "import ftfy\n",
    "import nltk\n",
    "import json\n",
    "import re\n",
    "import seaborn as sns\n",
    "import pandas as pd\n",
    "import matplotlib.pyplot as plt\n",
    "%matplotlib inline\n",
    "import pandas as pd\n",
    "import csv\n",
    "import numpy as np\n",
    "import nltk\n",
    "import seaborn as sb\n",
    "import warnings\n",
    "\n",
    "from sklearn.model_selection import train_test_split\n",
    "from sklearn.base import BaseEstimator, TransformerMixin\n",
    "from sklearn.pipeline import Pipeline, FeatureUnion\n",
    "from sklearn.feature_extraction import DictVectorizer\n",
    "from sklearn.feature_selection import SelectKBest, chi2\n",
    "from sklearn.linear_model import LogisticRegression\n",
    "from sklearn.naive_bayes import MultinomialNB\n",
    "from sklearn.model_selection import cross_validate, StratifiedKFold\n",
    "from sklearn.metrics import accuracy_score, classification_report, confusion_matrix\n",
    "from sklearn.model_selection import GridSearchCV\n",
    "from sklearn.feature_extraction.text import TfidfTransformer\n",
    "from sklearn.preprocessing import Binarizer\n",
    "\n",
    "\n",
    "from collections import Counter\n",
    "from os import listdir, makedirs\n",
    "from os.path import isfile, join, splitext, split\n",
    "\n",
    "from nltk.stem import SnowballStemmer\n",
    "from nltk.stem.porter import PorterStemmer\n",
    "from nltk.tokenize import word_tokenize\n",
    "from nltk.corpus import stopwords\n",
    "from collections import defaultdict\n",
    "from nltk.corpus import wordnet as wn\n",
    "from nltk.stem import WordNetLemmatizer\n",
    "from nltk.tokenize import word_tokenize\n",
    "from nltk import pos_tag\n",
    "#nltk.download('stopwords')\n",
    "\n",
    "\n",
    "from wordcloud import STOPWORDS, WordCloud\n",
    "\n",
    "from sklearn.feature_extraction.text import CountVectorizer\n",
    "from sklearn.pipeline import Pipeline, FeatureUnion\n",
    "from sklearn.feature_extraction.text import TfidfVectorizer\n",
    "from sklearn.preprocessing import StandardScaler\n",
    "from sklearn.decomposition import TruncatedSVD\n",
    "from sklearn.metrics import accuracy_score, classification_report, confusion_matrix\n",
    "from sklearn.model_selection import cross_validate, StratifiedKFold\n",
    "from sklearn.naive_bayes import GaussianNB\n",
    "\n",
    "from sklearn import tree\n",
    "from sklearn.ensemble import RandomForestClassifier\n",
    "from sklearn import model_selection, naive_bayes, svm\n",
    "from sklearn.feature_extraction.text import TfidfVectorizer\n",
    "from sklearn.preprocessing import LabelEncoder\n",
    "from xgboost import XGBClassifier # need to import xboost calssifer\n",
    "\n",
    "warnings.filterwarnings('ignore')\n",
    "np.random.seed(0)"
   ]
  },
  {
   "cell_type": "markdown",
   "metadata": {},
   "source": [
    "# Loading the LIAR Dataset\n",
    "The dataset is in the format of 3 tab seperated files. Loading it as a pandas dataframe. Combining the train, test and validation files to a single file so that we can do the train and test split as required."
   ]
  },
  {
   "cell_type": "code",
   "execution_count": 2,
   "metadata": {},
   "outputs": [],
   "source": [
    "# Importing the dataset\n",
    "train = pd.read_csv('train.tsv', delimiter='\\t', quoting=3, header=None)\n",
    "test = pd.read_csv('test.tsv', delimiter='\\t', quoting=3, header=None)\n",
    "valid = pd.read_csv('valid.tsv', delimiter='\\t', quoting=3, header=None)"
   ]
  },
  {
   "cell_type": "code",
   "execution_count": 3,
   "metadata": {},
   "outputs": [
    {
     "data": {
      "text/html": [
       "<div>\n",
       "<style scoped>\n",
       "    .dataframe tbody tr th:only-of-type {\n",
       "        vertical-align: middle;\n",
       "    }\n",
       "\n",
       "    .dataframe tbody tr th {\n",
       "        vertical-align: top;\n",
       "    }\n",
       "\n",
       "    .dataframe thead th {\n",
       "        text-align: right;\n",
       "    }\n",
       "</style>\n",
       "<table border=\"1\" class=\"dataframe\">\n",
       "  <thead>\n",
       "    <tr style=\"text-align: right;\">\n",
       "      <th></th>\n",
       "      <th>index</th>\n",
       "      <th>0</th>\n",
       "      <th>1</th>\n",
       "      <th>2</th>\n",
       "      <th>3</th>\n",
       "      <th>4</th>\n",
       "      <th>5</th>\n",
       "      <th>6</th>\n",
       "      <th>7</th>\n",
       "      <th>8</th>\n",
       "      <th>9</th>\n",
       "      <th>10</th>\n",
       "      <th>11</th>\n",
       "      <th>12</th>\n",
       "      <th>13</th>\n",
       "    </tr>\n",
       "  </thead>\n",
       "  <tbody>\n",
       "    <tr>\n",
       "      <th>0</th>\n",
       "      <td>8289</td>\n",
       "      <td>423.json</td>\n",
       "      <td>true</td>\n",
       "      <td>\"McCain opposes a woman's right to choose.\"</td>\n",
       "      <td>abortion</td>\n",
       "      <td>moveon</td>\n",
       "      <td>NaN</td>\n",
       "      <td>NaN</td>\n",
       "      <td>democrat</td>\n",
       "      <td>2</td>\n",
       "      <td>4</td>\n",
       "      <td>3</td>\n",
       "      <td>0</td>\n",
       "      <td>0</td>\n",
       "      <td>an e-mail message</td>\n",
       "    </tr>\n",
       "    <tr>\n",
       "      <th>1</th>\n",
       "      <td>1156</td>\n",
       "      <td>10379.json</td>\n",
       "      <td>barely-true</td>\n",
       "      <td>The name Frank has risen in popularity by 20 p...</td>\n",
       "      <td>pop-culture</td>\n",
       "      <td>matt-lauer</td>\n",
       "      <td>Today Show host</td>\n",
       "      <td>NaN</td>\n",
       "      <td>none</td>\n",
       "      <td>1</td>\n",
       "      <td>0</td>\n",
       "      <td>0</td>\n",
       "      <td>0</td>\n",
       "      <td>0</td>\n",
       "      <td>a red carpet interview before the Golden Globes</td>\n",
       "    </tr>\n",
       "  </tbody>\n",
       "</table>\n",
       "</div>"
      ],
      "text/plain": [
       "   index           0            1  \\\n",
       "0   8289    423.json         true   \n",
       "1   1156  10379.json  barely-true   \n",
       "\n",
       "                                                   2            3           4  \\\n",
       "0        \"McCain opposes a woman's right to choose.\"     abortion      moveon   \n",
       "1  The name Frank has risen in popularity by 20 p...  pop-culture  matt-lauer   \n",
       "\n",
       "                 5    6         7  8  9  10  11  12  \\\n",
       "0              NaN  NaN  democrat  2  4   3   0   0   \n",
       "1  Today Show host  NaN      none  1  0   0   0   0   \n",
       "\n",
       "                                                13  \n",
       "0                                an e-mail message  \n",
       "1  a red carpet interview before the Golden Globes  "
      ]
     },
     "execution_count": 3,
     "metadata": {},
     "output_type": "execute_result"
    }
   ],
   "source": [
    "df_raw = pd.concat([train, test, valid], axis=0, sort=False)\n",
    "df_raw = df_raw.sample(frac=1).reset_index()\n",
    "df_raw.head(2)"
   ]
  },
  {
   "cell_type": "code",
   "execution_count": 4,
   "metadata": {},
   "outputs": [
    {
     "data": {
      "text/plain": [
       "(12836, 15)"
      ]
     },
     "execution_count": 4,
     "metadata": {},
     "output_type": "execute_result"
    }
   ],
   "source": [
    "# The file contains 12836 rows and 15 columns\n",
    "df_raw.shape"
   ]
  },
  {
   "cell_type": "code",
   "execution_count": 6,
   "metadata": {},
   "outputs": [],
   "source": [
    "# naming the columns of the dataset\n",
    "df_raw.columns=[\"index\",\"ID\", \"label\", \"statement\", \"subject\", \"speaker\", \"job\", \"state\", \"party\", \"barely_true_cts\",\n",
    "        \"false_cts\", \"half_true_cts\", \"mostly_true_cts\", \"pants_on_fire_cts\", \"context\"]"
   ]
  },
  {
   "cell_type": "code",
   "execution_count": 6,
   "metadata": {},
   "outputs": [
    {
     "data": {
      "text/html": [
       "<div>\n",
       "<style scoped>\n",
       "    .dataframe tbody tr th:only-of-type {\n",
       "        vertical-align: middle;\n",
       "    }\n",
       "\n",
       "    .dataframe tbody tr th {\n",
       "        vertical-align: top;\n",
       "    }\n",
       "\n",
       "    .dataframe thead th {\n",
       "        text-align: right;\n",
       "    }\n",
       "</style>\n",
       "<table border=\"1\" class=\"dataframe\">\n",
       "  <thead>\n",
       "    <tr style=\"text-align: right;\">\n",
       "      <th></th>\n",
       "      <th>index</th>\n",
       "      <th>ID</th>\n",
       "      <th>label</th>\n",
       "      <th>statement</th>\n",
       "      <th>subject</th>\n",
       "      <th>speaker</th>\n",
       "      <th>job</th>\n",
       "      <th>state</th>\n",
       "      <th>party</th>\n",
       "      <th>barely_true_cts</th>\n",
       "      <th>false_cts</th>\n",
       "      <th>half_true_cts</th>\n",
       "      <th>mostly_true_cts</th>\n",
       "      <th>pants_on_fire_cts</th>\n",
       "      <th>context</th>\n",
       "    </tr>\n",
       "  </thead>\n",
       "  <tbody>\n",
       "    <tr>\n",
       "      <th>0</th>\n",
       "      <td>8289</td>\n",
       "      <td>423.json</td>\n",
       "      <td>true</td>\n",
       "      <td>\"McCain opposes a woman's right to choose.\"</td>\n",
       "      <td>abortion</td>\n",
       "      <td>moveon</td>\n",
       "      <td>NaN</td>\n",
       "      <td>NaN</td>\n",
       "      <td>democrat</td>\n",
       "      <td>2</td>\n",
       "      <td>4</td>\n",
       "      <td>3</td>\n",
       "      <td>0</td>\n",
       "      <td>0</td>\n",
       "      <td>an e-mail message</td>\n",
       "    </tr>\n",
       "    <tr>\n",
       "      <th>1</th>\n",
       "      <td>1156</td>\n",
       "      <td>10379.json</td>\n",
       "      <td>barely-true</td>\n",
       "      <td>The name Frank has risen in popularity by 20 p...</td>\n",
       "      <td>pop-culture</td>\n",
       "      <td>matt-lauer</td>\n",
       "      <td>Today Show host</td>\n",
       "      <td>NaN</td>\n",
       "      <td>none</td>\n",
       "      <td>1</td>\n",
       "      <td>0</td>\n",
       "      <td>0</td>\n",
       "      <td>0</td>\n",
       "      <td>0</td>\n",
       "      <td>a red carpet interview before the Golden Globes</td>\n",
       "    </tr>\n",
       "  </tbody>\n",
       "</table>\n",
       "</div>"
      ],
      "text/plain": [
       "   index          ID        label  \\\n",
       "0   8289    423.json         true   \n",
       "1   1156  10379.json  barely-true   \n",
       "\n",
       "                                           statement      subject     speaker  \\\n",
       "0        \"McCain opposes a woman's right to choose.\"     abortion      moveon   \n",
       "1  The name Frank has risen in popularity by 20 p...  pop-culture  matt-lauer   \n",
       "\n",
       "               job state     party  barely_true_cts  false_cts  half_true_cts  \\\n",
       "0              NaN   NaN  democrat                2          4              3   \n",
       "1  Today Show host   NaN      none                1          0              0   \n",
       "\n",
       "   mostly_true_cts  pants_on_fire_cts  \\\n",
       "0                0                  0   \n",
       "1                0                  0   \n",
       "\n",
       "                                           context  \n",
       "0                                an e-mail message  \n",
       "1  a red carpet interview before the Golden Globes  "
      ]
     },
     "execution_count": 6,
     "metadata": {},
     "output_type": "execute_result"
    }
   ],
   "source": [
    "df_raw.head(2)"
   ]
  },
  {
   "cell_type": "code",
   "execution_count": 8,
   "metadata": {},
   "outputs": [
    {
     "data": {
      "text/plain": [
       "['\"McCain opposes a woman\\'s right to choose.\"',\n",
       " 'The name Frank has risen in popularity by 20 percent since the debut of House of Cardson Netflix.',\n",
       " 'Says Ted Cruz never denied his father was photographedwith Lee Harvey Oswald.',\n",
       " 'Its been 14 years since a president or a vice president or a member of their family has not gone and attended at least an event at the Olympics.',\n",
       " 'In the year 2013, the Obama administration released 104,000 criminal illegal aliens. They released 196 murderers people with homicide convictions, who are here illegally.',\n",
       " 'Says the United States does not trade as much as other developed nations.',\n",
       " '\"Oil companies ...currently have 68-million acres that they\\'re not using.\"',\n",
       " 'Says 24 million people in this country cant find a full-time job, 50 million cant see a doctor when theyre sick, 47 million people need government help to feed themselves and 15 million families owe more than the value of their home.',\n",
       " 'President Obama went around the world and apologized for America.',\n",
       " '\"Joe Biden is the only candidate with a plan to get us out of Iraq and keep us out.\"',\n",
       " 'Says nearly 29,000 Oregonians almost 5 percent of all homeowners are 90 days or more delinquent on their mortgage.',\n",
       " 'By a two-to-one margin, Rhode Islanders want to ban assault weapons and we have a very small percentage of gun owners in this state, less than 13 percent.',\n",
       " 'The new health care law crushes small businesses with billions in penalties.',\n",
       " 'Says Gov. Scott Walker is cooking the books by releasing numbers he just dreamed up that show Wisconsin gained jobs in 2011.',\n",
       " 'Says Barack Obama had huge majorities in Congress during his first two years in office and did nothing with them to create jobs in America.',\n",
       " 'Paul Broun Jr. sides with sexual deviants to support sale of crush videos.',\n",
       " 'Under the presidents plan, he cuts Medicare by $716 billion, takes that money out of the Medicare trust fund and uses it to pay for Obamacare.',\n",
       " 'Oil companies are able to sell oil that costs no more to produce today than it did one year ago.',\n",
       " 'You cant read a speech by George Washington . . . without hearing him reference God, the Almighty.',\n",
       " 'The United States has seen a net loss of people with health insurance because of Obamacare.',\n",
       " 'The Great Recession emerged in large part because of tax policies that slashed taxes on the wealthy, failed to invest in the middle class, took their eyes off of Wall Street, and created a perfect storm.',\n",
       " 'We have my opponent Sam Olens to thank for [the Arizona immigration ruling] since he was on the team that got Clinton elected.',\n",
       " '75 percent of the (air traffic control) towers the Obama Administration is closing are located in Republican Congressional Districts.',\n",
       " 'The Trans-Pacific Partnership was designed for China to come in, as they always do, through the back door and totally take advantage of everyone.',\n",
       " 'The U.S. House rule barring members from wearing hats while in session dates back to the 1800s and can be waived by the speaker.',\n",
       " 'Says U.S. Rep. Paul Ryans budget proposal eliminates Medicare in 10 years.',\n",
       " 'A little less than 50 percent of the people in this country depend on some form of federal payment, some form of government benefit to help provide for them.',\n",
       " 'Opponent Holly Benson said that Just because youre poor doesnt mean youre unhealthy, it just means you have a lot more time to go running.',\n",
       " 'Corporate tax holidays pushed by Presidents John F. Kennedy and George W. Bush brought billions of dollars back into the United States.',\n",
       " 'Says Mitt Romneys plan calls for a $5 trillion tax cut.',\n",
       " 'The government does not need a warrant to read your old emails.',\n",
       " 'Says Bruce Braley threatened to sue a neighbor over chickens that came onto (his) property.',\n",
       " 'Georgia is now the eighth most populous state in the nation, moving from the number 10 position in just four years.',\n",
       " 'Our rainy day fund has gone from 89 cents to $240 million.',\n",
       " '\"I left the city with $43 million in the bank.\"',\n",
       " 'Condemning violence against the police and urging support for the police is markedly absent from President Barack Obamas public remarks.',\n",
       " 'Barack Obama\\'s plan calls for \"mandates and fines for small businesses.\"',\n",
       " 'Says Democratic legislators this year dont want to cut your taxes under any circumstances.',\n",
       " 'Most federal employees do not have collective bargaining for benefits, nor for pay.',\n",
       " 'The Democrats\\' health care bills would end \"the denial of ... coverage to those who have a pre-existing condition,\" while the Republican bill would not.',\n",
       " 'Chile ranks third internationally in economic freedom, while the U.S. ranks 17th.',\n",
       " 'The transportation tax is regressive, and Emory University is literally getting its own transit line at virtually no cost to itself.',\n",
       " '\"First, he said he would take all of our troops out in six months, and now he acknowledges it would take a year.\"',\n",
       " 'Governor-elect Scott Walkers opposition to high-speed rail killed 13,000 Wisconsin jobs',\n",
       " 'Explosive growth in Medicare is the reason federal deficit spending is predicted to top $1 trillion again after falling to $600 billion annually.',\n",
       " 'Obamacare was patterned after (Mitt Romneys) plan in Massachusetts.',\n",
       " 'By releasing only basic tax information, former U.S. Congressman Nathan Deal is hiding more than hes disclosed about his business dealing with the state.',\n",
       " 'All the talk about socialism during the campaign made young people more interested in it by Election Day.',\n",
       " 'When people enter the service, theres not a mental health evaluation.',\n",
       " 'A cashier earning $20,000 per year pays the same (Virginia) income tax rate as a hedge fund manager earning $20 million per year.',\n",
       " 'Since the Fed was created in 1913, the U.S. Dollar has lost 98% of its purchasing power.',\n",
       " 'An image in a ChrisAbele TV ad depicts wealthy citizens who would benefit from a lake created by the controversial Estabrook Dam.',\n",
       " 'Says Amanda Fritz publicly claimed to be endorsed by NARAL Pro-Choice Oregon, both on her website and in the voters guide.',\n",
       " 'We are already almost halfway to our 2010 goal of creating 700,000 new jobs in seven years.',\n",
       " 'Federal spending on entitlements is projected to consume all revenue by 2045.',\n",
       " 'The Milwaukee Bucks are actually younger than the Marquette team.',\n",
       " 'In 2015 roughly 10,000 political arrests occurred in Cuba. That is five times as many as occurred in 2010, when there were only about 2,000.',\n",
       " 'The U.S. has 47 million people on food stamps. Thats 14 million more than when the current occupant of the White House took over.',\n",
       " '\"Congress can tell [the Supreme Court] which cases they ought to hear. We have that authority.\"',\n",
       " '\"McCain got more money from Airbus\\' U.S. executives than any other politician.\"',\n",
       " 'When news broke that Ferguson 18-year-old Michael Brown was a suspect in a robbery, MSNBC practically went off the air for a while to have behind-closed-doors meetings to figure out how to deal with this new revelation.',\n",
       " 'Says the Human Rights Campaign is secretly funded',\n",
       " 'The first tweet was sent from Austin.',\n",
       " 'Says, Yet in Salem they have traditionally waited until the money is almost gone to pay for the most important things in our states budget.',\n",
       " 'The average kid comes out of Virginia colleges with about $25,000-plus in debt.',\n",
       " 'Says Republican recall challenger Jonathan Steitz failed to pay his taxes.',\n",
       " 'If voters agree in November to approve a one-cent sales tax increase, that will give \"Hillsborough County the highest sales tax of all Florida counties.\"',\n",
       " 'It would be illegal for the Fulton County Commission to raise the county tax rate.',\n",
       " 'For every [coyote] they kill, the population will replace and usually multiply.',\n",
       " 'Under President Ronald Reagan, illegal immigrants were not pouring in likethey are now.',\n",
       " 'Says Texas General Land Office has earned the school children of Texas $451,932.89 on wind leases that haven\\'t produced a watt of energy.\"',\n",
       " 'A real result of his term is Georgia having the lowest taxes per capita of any state.',\n",
       " 'Says Ted Cruzs father was with Lee Harvey Oswald before the assassination of President John F. Kennedy.',\n",
       " 'Over the last two years since President Obama has taken office, the federal government has added 200,000 new federal jobs.',\n",
       " 'Rep. Adam Putnam was silent when Rush Limbaugh called Sonia Sotomayor a racist.',\n",
       " 'Says the top 20 percent of income earners pay nearly 70 percent of all federal taxes.',\n",
       " 'The prosecution of state Sen. Don Balfour cost less than $100, excluding prosecutors salaries.',\n",
       " 'Says CNN deleted an online poll showing Bernie Sanders won the first Democratic presidential debate to help out Hillary Clinton.',\n",
       " 'In my attorney generals office, weve cut the budget 18 percent.',\n",
       " 'Very, very, very few people get a pat-down when they go through airport security.',\n",
       " 'The only time over the last 25 years when the states unemployment rate exceeded the U.S. average was when (Mary) Burke was commerce secretary.',\n",
       " 'Obama for President and Baldwin for Senate have kept their campaign offices up and running in Fox Valley, Eau Claire and La Crosse with their staffs preparing for the next battle.',\n",
       " 'The Florida Supreme Court has no express authority in the Florida Constitution to remove questions from the ballot proposed by the Legislature.',\n",
       " 'Sherrod Brown has voted with Barack Obama 95 percent of the time.',\n",
       " 'Says we are overcharging students . . . to help pay for the health care law.',\n",
       " 'Test scores had gone up steadily for 40 years until No Child Left Behind and Race to the Top.',\n",
       " 'For middle-class families under the Baucus plan, 13 percent of what they make could be deducted directly from their paychecks . . . the so-called Max Tax.',\n",
       " 'Says New Jersey is losing 50 football fields of open space to development every day and the more we develop upstream the more flooding we have downstream.',\n",
       " 'We have trade agreements with 20 countries, and we have trade surpluses with each one of those 20.',\n",
       " 'Agriculture has always required a significant workforce from abroad.',\n",
       " 'Whats clear is (Romney) likes firing people.',\n",
       " 'Paul Ryans Medicare plan could raise future retirees costs more than $6,000.',\n",
       " 'The benefits that were offered to me as a congressman dont even compare to the benefits that you get as a state employee. I just experienced that myself. Theyre not nearly as good.',\n",
       " 'Says Obama wants to give (Iran) nuclear weapons and Michael Bennet, he was all for it.',\n",
       " 'New provisions of the health care law bar the use offlexible spending accounts and health savings accounts to pay for aspirin and other non-prescription health needs.',\n",
       " 'Says Barack Obama has pension investments that include Chinese firms, and investments through a Caymans trust.',\n",
       " '\"I have never asked for nor received a single earmark or pork barrel project for my state.\"',\n",
       " 'Says Wisconsin Gov. Scott Walkers budget calls for raising property taxes by nearly $500 billion.',\n",
       " 'Oregon and the federal government now have more than one million acres of burnt land and millions of trees are being left to rot.',\n",
       " 'The University of Wisconsin-Milwaukee has 2.8 students per faculty member, tied for second-lowest in its history since 1994.',\n",
       " 'During my administration, for example, we boosted U.S. exports to Canada and Mexico by about 50 percent. That supports about 2.8 million American jobs.',\n",
       " 'On possibly raising the Social Security retirement age.',\n",
       " 'Says the unemployment rate for college graduates is 4.4 percent and over 10 percent for noncollege-educated.',\n",
       " '\"John wasn\\'t this raging populist four years ago\" when he ran for president.',\n",
       " 'Coca-Colas CEO said he finds it easier to do work in China than in the United States.',\n",
       " 'Almost half a million people are still eligible (for DACA), particularly in the Asian-American and Pacific Islander community.',\n",
       " 'The Mexican government forces many bad people into our country.',\n",
       " 'One-third of all bank tellers (are) on public assistance.',\n",
       " 'Said former U.S. Ambassador to Kenya Scott Gration was forced to resign two years ago because of his personal use of emails.',\n",
       " 'Allen West called Social Security a Ponzi scheme and said this countrys got to get on sound footing by destroying it.',\n",
       " 'Says the state budget includes spending on commercials for Fortune 500 companies.',\n",
       " 'Bruce Rauner is of record that he will fully support the Trump candidacy. Its documented. Its available.',\n",
       " 'Every new Republican member of the U.S. Senate said they will vote to repeal and replace Obamacare.',\n",
       " 'Since President Obama took office, gas prices have gone up 67 percent.',\n",
       " 'Iowa has the fourth fastest-growing personal income in the United States, while nationally, the real wage has decreased over the past eight years that Congressman (Bruce) Braley has been there by 2.7 percent.',\n",
       " 'As Governor: Romney did not keep public safety funding in line with inflation.',\n",
       " 'Says Rep. Renee Ellmers voted for the government shutdown 21 times.',\n",
       " '(Birmingham, Ala.) is the cradle of the civil rights movement.',\n",
       " 'Under the cap-and-trade bill, homes would have to be retrofitted to meet energy and water efficiency standards before they could be sold.',\n",
       " 'Pregnant women trying to buy health insurance on their own are barred from maternity coverage because they have a pre-existing condition.',\n",
       " 'Under my platform, I will make no changes to the current (Medicare) system for current retirees and anyone approaching retirement.',\n",
       " 'Thirty percent of [Sheldon Whitehouse campaign] money is coming from special interests.',\n",
       " 'Unfortunately everyone needs to cut back in these tough economic times. Thats why I voted to cut my own pay along with the pay of our state employees.',\n",
       " 'Most Americans are ready to put it [marijuana prohibition] behind us and move on.',\n",
       " 'The LGBT community is more often the victims of hate crimes than any other recognized group.',\n",
       " 'Sarah Palin \"has more experience than Barack Obama.\"',\n",
       " 'We know from ... the federal data, that they only stop or apprehend one out of four illegal people crossing our border.',\n",
       " '\"We now have a pro-American president in France, which shows if you live long enough, anything can happen in this world.\"',\n",
       " 'If every small business in our state, on average, was able to create one new job we would cut our unemployment rate in half.',\n",
       " '\"Without representation, (the IRS) can increase taxes.\"',\n",
       " 'Our government right now. . . (is) spending 40 percent more than what we take in.',\n",
       " 'Top U.S. intelligence officials have toldevery member of Congress, including the president, were about to be attacked in a serious way because (of) the threat emanating from Syria and Iraq.',\n",
       " 'The Obama administration spent $205,075 in stimulus funds to relocate a shrub that sells for $16.',\n",
       " 'China is practicing how to blow up our satellites.',\n",
       " 'Say in November 2010, voters overwhelmingly supported the idea of creating a (library) district.',\n",
       " 'More than one in five of veterans aged 20 to 24 cant find a job to support their family or to ease the transition to civilian life.',\n",
       " 'Obama ... gave almost a million dollars to the (Kenya) opposition campaign who just happened to be his cousin, Raila Odinga.',\n",
       " 'As governor, Tim Kaine oversaw a huge increase in illegal immigration, a tremendous increase.',\n",
       " 'Says that under President John F. Kennedy, government took up 27 percent of the economy, and today it consumes 37 percent.',\n",
       " 'Under Virginia law, if you are a non-federally licensed (gun) dealer, you cannot get a background check even if you want one.',\n",
       " '\"He\\'s sued gun manufacturers. He was supportive of Brady. He was supportive of things like assault weapon bans.\"',\n",
       " '\"We actually have not required in this law that you carry health insurance.\"',\n",
       " 'The health care law was a 2,733-page bill! . . . No amendments!',\n",
       " 'There is no war on coal. Period. There are more coal jobs and more coal produced in Ohio than there were five years ago, in spite of the talking points and the yard signs.',\n",
       " 'In Virginia, people are going and getting marriage licenses who are 12 and 13, and 14 and 15 years old.',\n",
       " 'President Obama has worked to change Medicare for the worse by creating an unelected, unaccountable panel with the power to deny coverage of certain treatments.',\n",
       " 'On Tim Kaine: In exchange for campaign contributions, he appointed a radical jihadi to the Virginia Immigration Commission.',\n",
       " 'New Jerseys citizens are working at the highest rate in three years.',\n",
       " 'Says she heard more than 2,400 cases as a Wisconsin appeals court judge',\n",
       " 'Says under his leadership Wisconsin median household income is up 2.7%, while it is down 1.3% nationally under President Obama.',\n",
       " 'Says Obamaexempted Congress and their staff from the full effect of the (health care) law.',\n",
       " 'I didnt try to push a bill to reduce lottery scholarship proceeds for students.',\n",
       " 'Donald Trumps strategy is pretty simple. They have even said in his campaign its to get women to stay home, get young people to stay home, get people of color to stay home, and get a lot smart, intelligent men to stay home, too.',\n",
       " 'Says Gov. Scott Walker is openly backing a move to abolish the state retirement system and convert it to a 401(k)-style plan that will reduce pensions by at least a third for current and retired public employees',\n",
       " 'A few months into office, (President Barack Obama) traveled around the globe to apologize for America.',\n",
       " 'Right now were the highest taxed country in the world.',\n",
       " '\"There are mechanisms in place to shut down the Internet privately.\"',\n",
       " 'Unlike marijuana, medical cannabis oil cannot get you high.',\n",
       " 'Says Ron Johnson opposes entirely a federal minimum wage, except perhaps for guest workers.',\n",
       " 'A minor cannot get a tattoo without parental consent but can get an abortion without parental consent.',\n",
       " 'Americas tax code hasnt been updated in 30 years.',\n",
       " 'The Chamber of Commerce says new carbon regulations will kill 244,000 jobs a year and cost average families $1,200 a year.',\n",
       " 'Says the mayors job is to make sure that if somebody is trying to build a set of water treatment plants to cure us from cryptosporidium we dont have, we dont say yes even if CH2M Hill wants us to.',\n",
       " 'SaysCongressman Jack Kingston voted to raise his pay seven times.',\n",
       " 'Warren Buffett says stop Obamacare now and start over.',\n",
       " 'This is the first time since the Depression that unemployment has stayed above 9 percent for two consecutive years.',\n",
       " 'Says President AbrahamLincoln tried to arm the slaves.',\n",
       " 'On the success of Cash for Clunkers',\n",
       " 'A child born in America today will inherit $1.5 million in debt the moment theyre placed in their mothers arms.',\n",
       " 'Says the pension and health benefits reform eliminated collective bargaining for health benefits.',\n",
       " 'When lenders foreclose on homes, they typically suffer losses that exceed 30 percent of the value of the home.',\n",
       " 'NAFTA, supported by the Secretary (Clinton), cost us 800,000 jobs nationwide.',\n",
       " 'Says high-speed rail would have created 60,000 jobs.',\n",
       " 'Gov. Chris Christie owes the state money for amenities like extra Gorgonzola cheese for his staff on these trips.',\n",
       " 'Nevada Republican Senate nominee Joe Heck voted to criminalize abortion for rape victims.',\n",
       " 'The Republican who was just elected governor of the great state of Florida paid his campaign staffers, not with money, but with American Express gift cards.',\n",
       " 'There has been $5 trillion in debt added over the last four years.',\n",
       " 'Republicans have proposed dozens of (health care) solutions designed to help control costs and improve quality.',\n",
       " 'Says Paul Ryan tried to change the whole game for Social Security',\n",
       " 'Says Texas GOP platform calls for end to teaching critical thinking in public schools.',\n",
       " 'About two-thirds of Medicaid beneficiaries are children, but they account for one-third of the programs cost, while one-third are elderly, and they account for two-thirds of the cost.',\n",
       " 'The only segment in the beer market that is growing is the craft beer segment.',\n",
       " 'When we got the income tax in 1913, the top rate was 7 percent. By 1980, the top rate was 70 percent.',\n",
       " '\"Charlie Crist was the only prominent Republican in the country to campaign with Barack Obama before the stimulus passed, on behalf of the stimulus.\"',\n",
       " 'There is no statistical evidence that bail bonds increase the likelihood of those awaiting trial returning to court for their scheduled hearings.',\n",
       " 'Steve Southerland did not pay his taxes in 05, 06, 07, 08 or 09.',\n",
       " 'Says Michelle Obama waved red communist flags on her trip to China.',\n",
       " 'President Barack Obama ordered our military to enlist illegal aliens.',\n",
       " 'Congressman Kasich wants to use our tax dollars to give secret bonuses to his corporate friends.',\n",
       " 'You can hire lots of bureaucrats. Thats what the presidents done. Hes added 135,000 people to the government workforce.',\n",
       " 'Says the federal stimulus program was ineffective because the number of jobs has actually decreased by 18,300 through July 2011.',\n",
       " 'Says Scott Walker left college under an ethical cloud for having tried to fix the election for student body president.',\n",
       " 'The government -- not the armed forces -- is stockpiling hundreds of millions of rounds of ammunition for domestic use.',\n",
       " 'Hillary Clinton and Barack Obama want to raise capital gains taxes, which apply to home sales.',\n",
       " 'The cost of college education has gone up 1,200 percent since 1978.',\n",
       " 'Only seven of 18 federal food assistance programs have been associated with positive health and nutrition outcomes, while the remaining 11 have not been effective.',\n",
       " 'Says recent studies indicate that nationally, only 8 percent of white voting-age citizens but 25 percent of African-American voting-age citizens lack government-issued photo IDs.',\n",
       " 'The United States Senate Democrats and Republicans (voted) to keep our government open.',\n",
       " 'Pennsylvania has lost 35 percent of its manufacturing jobs since 2001 and Harrisburg has lost 40 percent of its manufacturing jobs since 2001.',\n",
       " 'I am very proud, as governor of Florida, that we signed the first divestment act, as it relates to Iran, divesting any investments in companies that would invest in Iran.',\n",
       " 'States have cumulatively cut over $1.8 billion from their mental health services between 2009 and 2011. This is the largest reduction in state mental health services in half a century.',\n",
       " 'There are 10 or 20 deaths a year from foodborne illness in the United States.',\n",
       " 'AIDS was transmitted to humans because one guy had sex with a monkey and then started having sex with men.',\n",
       " 'There has been no net global warming for over a decade now.',\n",
       " 'Says Oregon canned blueberries will be cheaper in South Korea thanks to a trade agreement.',\n",
       " '\"Bill McCollum has accepted thousands from lobbyists for Planned Parenthood.\"',\n",
       " 'President Obamas education solution includes an effort to nationalize curriculum.',\n",
       " 'Says Mitt Romney did not pay taxes for 10 years.',\n",
       " 'Among Syrian refugees and migrants coming into Europe, there look like very few women. Very few children.',\n",
       " 'Says Gerald Daugherty is endorsed by the Austin American-Statesman.',\n",
       " 'Were importing about 10 percent of our milk supply. Were Americas Dairyland, but yet we dont have enough milk in this state to meet the demand for our cheesemakers.',\n",
       " 'Active duty males in the military are twice as likely to develop prostate cancer than their civilian counterparts.',\n",
       " 'We have been in Afghanistan longer now than we have been in any foreign land conducting a war in our nations history.',\n",
       " 'Says Secretary of State John Kerry, when he was a senator, flew to Managua and met with a communist dictator there, Daniel Ortega, and accused the Reagan administration of engaging in terrorism.',\n",
       " 'North Carolina spends $855 less per student than it did before the Great Recession, and we have one of the lowest per pupil spending levels in the nation.',\n",
       " 'Mitt Romney is tearing down his 3,000-square-foot house to build an 11,000-square-foot house.',\n",
       " 'Barack Obama wants to \"restore\" the estate tax that George W. Bush \"repealed.\"',\n",
       " 'Ninety-five percent of the money used for union-operated worker training centers comes from employers.',\n",
       " 'Says his executive order requiring young girls to be vaccinated against HPV wasnt mandatory.',\n",
       " 'Says the No. 2 cause of death in the U.S. (for) women under 50 is being killed by their spouse or domestic partner.',\n",
       " 'Social Security has not contributed to the debt and the deficits.',\n",
       " 'When my grandfather came to this country back in 1925, there were no government benefits.',\n",
       " 'Says Milwaukee County district attorney candidate Verona Swanigan has worked as a prosecutor.',\n",
       " 'Says Justice Elena Kagan recused herself in many cases where she had little role as solicitor general, simply because of the appearance of a conflict of interest.',\n",
       " 'Says the inspector general for the IRS said there was no political motivation and no outside influence for targeting of tax-exempt applications from tea party groups',\n",
       " 'Economic Development Commission Executive Director Keith Stokes sent me a letter and he said the taxpayers will never be on the hook for these bonds for 38 Studios.',\n",
       " 'There are approximately 20,000 annual gun purchases in Rhode Island.',\n",
       " 'Our welfare system now consumes 42 percent of our budget.',\n",
       " 'Says he never wanted to raise the debt ceiling.',\n",
       " 'Forty-five percent of Americans went without needed care because of costs in 2007.',\n",
       " 'The IRS doesnt have to prove something against you ... youve got the burden of proof.',\n",
       " '\"We could save all the oil that they\\'re talking about getting off drilling, if everybody was just inflating their tires and getting regular tune-ups.\"',\n",
       " 'The United States was not one of 16 countries where David Perdue said in his Pillowtex deposition that he created jobs.',\n",
       " 'Says Donald Trumps plan to repeal the estate tax would mean the Walmart Walton family would get a $53 billion tax break.',\n",
       " 'Because of President Barack Obamas failure to push job creation, the black unemployment rate in Ferguson, Mo., is three times higher than the white unemployment rate.',\n",
       " 'When I started in Ohio it was terrible. Now, were getting bipartisan support for our bills. And thats called leadership.',\n",
       " 'Sen. Jack Reed cast the deciding vote in the Senate for the Affordable Care Act.',\n",
       " 'Says the Obama administration is handing out a pamphlet titled, What To Do When The Veteran In Your Classroom Attempts A Mass Shooting',\n",
       " 'Russ Feingold has not worked anywhere outside of politics.',\n",
       " 'Says Sen. Rand Pauls 2011 budget included a big cut in the CDC.',\n",
       " 'Says Ken Cuccinelli attacked churches for helping the poor.',\n",
       " 'Says the 2014-15 Texas budget increases spending by less than the rate of inflation and population growth.',\n",
       " 'Says PolitiFact validated and independently documented its criminal history claims about Adan Ballesteros.',\n",
       " 'Says how much money the government is collecting from people...in terms of the gross domestic product is the lowest in 40, 50 years.',\n",
       " 'Says Apple CEO Steve Jobs told President Obama that the company moved factories to China because it needed 30,000 engineers.',\n",
       " 'While 9,000 state employees were added to the states payroll, Oregons revenue forecasts dropped by more than $4 billion.',\n",
       " '\"The Children\\'s Defense Fund rated McCain as the worst senator in Congress for children.\"',\n",
       " 'McDonalds in England only sells organic milk and free-range eggs, which provides more nutritious offerings than in the U.S.',\n",
       " 'Under economic sanctions, now Iran is suffering 30 percent inflation, 20 percent unemployment.',\n",
       " 'Like Marco Rubio, Sen. Barack Obama had one of the worst attendance records in the Senate.',\n",
       " 'South Carolina has the fastest-growing economy in the Southeast.',\n",
       " 'Between 1982 and 2007 the cost of a college education increased 439 percent.',\n",
       " 'Says Texas has more than 80,000 abortions each year.',\n",
       " 'Says the Austin chapter of the League of Women Voters has no Republicans among elected officers or on its debate committee.',\n",
       " 'I co-sponsored the Rebuild America Jobs Act for transportation and infrastructure.',\n",
       " 'Obama \"hasn\\'t been to Iraq in years.\"',\n",
       " 'Our economy (in Louisiana) has grown 50 percent faster than the national GDP, even since the national recession.',\n",
       " 'On Iran sanctions',\n",
       " \"Obama's plan for health care reform ends exorbitant out-of-pocket expenses, deductibles or co-pays.\",\n",
       " 'Says the president of the University of Texas has raised four-year student graduation rates to 75 percent.',\n",
       " 'Says Supreme Court Justice Sonia Sotomayor has animmigrant family background.',\n",
       " 'Michael Bennet cast the deciding vote for the stimulus and the health care bill.',\n",
       " 'Our real unemployment is anywhere from 18 to 20 percent. Dont believe the 5.6. Dont believe it.',\n",
       " 'Texas has the lowest crime rate in this state since 1968 because of changes in law regarding nonviolent drug offenders.',\n",
       " 'Says that hes responsible for Austinincluding Anderson Mill Road in the citys proposed transportation bond package.',\n",
       " 'Says we allow more people into America legally than all other countries on the planet combined.',\n",
       " 'Says President BarackObama has issued upwards of 1,000 executive orders, more than any modern president.',\n",
       " 'Says Danny Tarkanian wants to defund Planned Parenthood and would outlaw a womans right to choose, even in cases of rape or incest.',\n",
       " 'Under a proposed medical marijuana amendment in Florida, you dont get refills -- you get it forever.',\n",
       " 'After Hurricane Katrina, Dallas and San Antonio took in 5,000 to 10,000 refugees each, but (Bill) White brought in 250,000 and put them up in his buddies empty apartment buildings and let the federal government pay their rents for over two years. They did not return to New Orleans, most of them are on welfare.',\n",
       " 'Theyre saying that 40 percent of the traffic that goes over [the Sakonnet River Bridge is from] out of state.',\n",
       " 'During the (Benghazi) attack, a stand-down order was given, and our troops were told to change their clothes four times.',\n",
       " 'Austin is the largest city in the U.S. or Texas with no geographic representation on its city council.',\n",
       " 'A recent report from the presidents deficit commission was completely empty on controlling health care costs.',\n",
       " 'Says the treasurers office has saved $37 million in management costs for the oversight of public investments.',\n",
       " 'I made a bunch of these promises during the campaign. ... Weve got about 60 percent done in three years.',\n",
       " 'More people hunt and fish in Texas in a given year than attend the... games of the Dallas Cowboys, the Dallas Mavericks, the Houston Texans and the Houston Rockets combined.',\n",
       " 'Says opponent Tammy Baldwin has had not one positive ad in the campaign for U.S. Senate.',\n",
       " 'Houston is the third-most toxic city in the United States of America.',\n",
       " 'A small business in my district needed 31 different permits and fees just to be able to expand.',\n",
       " 'One in three American women will have had an abortion by the time she reaches the age of 45.',\n",
       " 'Since the beginning of the economic downturn in FY 2008, the state workforce has been reduced by 12.4 percent as part of overall cost savings measures to balance the budget to reduce revenues.',\n",
       " 'Figures for September 2014s job growth in Wisconsin mark the largest private-sector job creation weve had in the month of September in more than a decade',\n",
       " 'Says President Barack Obama did not come into office with the economy in a free fall.',\n",
       " 'The Republican candidate [John Loughlin] has talked about privatizing Social Security ... so we know where he stands on the issue.',\n",
       " 'Two-thirds of the people who start out in minimum wage are above the minimum wage within a year.',\n",
       " 'In 2010, Betty Sutton voted to destroy Medicare.',\n",
       " 'Under Common Core standards, it takes more than a minute to teach a student how to add nine plus six.',\n",
       " 'Wisconsin is not as obese as the national average is. The national average, 35.7 percent of the population is obese. In Wisconsin, its closer to 26 percent.',\n",
       " 'Says state workers have not had across-the-board raises in six years.',\n",
       " 'The Republicans have never done anything really to balance the budget.',\n",
       " '3,000 teachers lost their jobs when (Crist) was governor.',\n",
       " 'Says she introduced a ban on \"dirty dancing.\"',\n",
       " 'More Americans have lost their jobs under Barack Obama than any president in modern history.',\n",
       " 'Milwaukee Mayor Tom Barrett has held the line on property taxes.',\n",
       " 'About two-thirds of all consumption is services. . . It was just the opposite when the sales tax was enacted in the 30s.',\n",
       " 'Say George Washington said that when government takes away citizens right to bear arms it becomes citizens duty to take away governments right to govern.',\n",
       " 'We dont have bars on campus in Texas. Its against the law... no alcohol allowed.',\n",
       " 'Says Clackamas County has more urban renewal debt than all the other Oregon counties combined.',\n",
       " 'We dont allow filming inside of the City Hall unless there is a specific reason.',\n",
       " '(Newt Gingrich) voted in favor of establishing the Department of Education, and yet he gets in a debate and says we should get rid of the Department of Education and send all the education issues back to the states.',\n",
       " 'A lot of what (Cubas) survival depends on is Venezuelan oil money, which is drying up.',\n",
       " 'Says we got a chance to pass what I think is Oregons first human trafficking bill which has increased by 66 percent the calls to the human trafficking hotline.',\n",
       " '\"We spent $3-million of your money to study the DNA of bears.\"',\n",
       " 'Says that when Democrats controlled Congress and the White House, federal spending as a share of the Gross Domestic Product leapt from 18.2 percent in 2001 to 25.2 percent in 2009 -- the largest such increase in any eight-year period since World War II.',\n",
       " 'What we said was, you can keep (your plan) if it hasnt changed since the law passed.',\n",
       " 'Undocumented students who qualify for in-state Oregon tuition are actively working toward U.S. citizenship.',\n",
       " 'Theres still about $400 billion or $500 billion of the stimulus plan that has not been spent. Why dont we stop it.',\n",
       " 'Democratic candidate Jeff Greene ran for Congress as a California Republican.',\n",
       " 'Hes the only candidate whos balanced budgets and brought jobs to Providence.',\n",
       " 'The facts show that approximately 40 persons on death row have had all of their appellate review completed and await only the governors signature on a death warrant to end the case.',\n",
       " 'Our median income here in Providence is the same as the median income in Mississippi.',\n",
       " 'Pediatricians have cut down on the number and proximity of vaccines because they recognize there have been too many in too short a period of time.',\n",
       " 'I am the only senator who turned down the state pension plan for part-time legislators.',\n",
       " 'More than three women per day lose their lives at the hands of their partners.',\n",
       " 'Says legislation pending in the House would effectively limit or eliminate time-and-a-half for people who work overtime.',\n",
       " 'On counting state budget shortfalls',\n",
       " 'Says Governor-elect Scott Walkers choice as transition team leader killed the release of a damaging report on Walkers record in the days leading up to the election.',\n",
       " 'Says Donald Trump spent the least amount of money of any of the competitive primary contenders that he beat so badly.',\n",
       " '\"Florida leads the nation in elected officials charged with crimes.\"',\n",
       " 'According to a government supplier of emergency products, the Disaster Assistance Response Team was told to be prepared to be activated in the month of October for an outbreak of Ebola.',\n",
       " 'Says that Romney touted the Massachusetts health plan for the nation in his hardcover book but then deleted it for the paperback edition.',\n",
       " 'The Chinese government provides their people no access to the Internet.',\n",
       " '\"I cut taxes 23 times when I was mayor of New York City.\"',\n",
       " 'Says Ron Johnson gave himself a $10 million sweetheart corporate payout',\n",
       " 'Says out of 588 school districts, we give 31 (former Abbott) districts 70 percent of the aid.',\n",
       " 'Says President Barack Obama promised he would cut the deficit in half, but instead will at least double it.',\n",
       " 'Job losses are so certain under this new cap-and-tax plan that it includes a provision accommodating newly unemployed workers from the resulting dried-up energy sector, to the tune of $4.2 billion over eight years. So much for creating jobs.',\n",
       " 'Frankly, (Hillary Clinton) doesnt do very well with women.',\n",
       " 'By some estimates, as few as 2 percent of the 50,000 (Central American) children who have crossed the border illegally this year have been sent home.',\n",
       " 'Anybody who is familiar with the historical data from the IRS knows that raising income tax rates will likely actually reduce federal revenues.',\n",
       " 'John McCain has seven houses.',\n",
       " 'Polls show Bernie Sanders would do better than Hillary Clinton in a head-to-head battle against Donald Trump.',\n",
       " 'In eighth grade math, weve fallen to ninth place.',\n",
       " 'A precinct in the Allen West-Patrick Murphy recount has 7 registered voters in Guatemalan community and the tally showed 900 voted!!!!!',\n",
       " '\"The richest 1 percent have more financial wealth than the bottom 95 percent combined.\"',\n",
       " 'Oregon Rep. Tina Kotek, D-Portland, has never held a job nor run a business',\n",
       " 'The Russians didnt wear uniforms when they came in to Ukraine.',\n",
       " 'Over 97 percent of the scientific community believe that humans are contributing to climate change.',\n",
       " 'Wisconsin is #1 in the Midwest for personal income growth over the year.',\n",
       " 'On Medicare for current retirees, hes cutting $716 billion from the program.',\n",
       " 'Democrats have lost more than 900 state legislators since Barack Obama has been president.',\n",
       " 'Governor Christie, his idea of jumpstarting the economy is to propose a trickle-down income tax cut last year and in his budget address this year, he stated his support for it again.',\n",
       " 'In Florida, illegal immigration costs taxpayers nearly $4 billion (a year). This amounts to $700 for every household in Florida.',\n",
       " 'We are amassing most of our military strength in a country where fewer than 100 members of al Qaeda remain.',\n",
       " 'Republican-leaning states get more in federal dollars than they pay in taxes.',\n",
       " 'Says Donald Trump says he has foreign policy experience because he ran the Miss Universe pageant in Russia.',\n",
       " 'Seventy percent of Americans dont have a college degree.',\n",
       " 'Money towards the Ebola vaccine is basically cut in half to what it was. More cuts are coming under the congressional sequester.',\n",
       " 'In Libya, America spent $2 billion total and didnt lose a single life.',\n",
       " 'In Wisconsin, a second arrest for carrying pot is a felony, but a second or subsequent arrest for carrying a gun illegally is a misdemeanor.',\n",
       " 'This is what President Obama said the jobless rate would be if we passed the stimulus: 5.6 percent.',\n",
       " 'Says Oak Grove is one of the largest cities in Oregon and is the biggest city in Clackamas County and its not a city.',\n",
       " 'Weve had the private sector more than double the investment that was made by the public sector at Quonset Business Park.',\n",
       " 'The Republicans have demanded deep cuts in education. Theyve demanded cuts in cancer research and other research to find cures and treatments to diseases.',\n",
       " 'Says her campaign platform includes the biggest investment in new, good-paying jobs since World War II.',\n",
       " 'We need to pass a carbon tax to stop climate change. Break up the Wall Street banks. And stop the government spying on innocent Americans. Cory Booker doesnt support any of these ideas.',\n",
       " 'What concerns me is there is only two sentences that have been written about minority business.',\n",
       " 'Says Rick Scott changed his promise from700,000 jobs created on top of what normal growth would be to just 700,000 jobs.',\n",
       " 'With only 67 bills or so passed into law, 2013 was the least productive year in congressional history since weve been keeping record.',\n",
       " 'Hydrogen sulfide . . . [was] used in the genocide of Jews in Germany.',\n",
       " 'Says Zack Space voted for budgets and debt, energy taxes and the stimulus, and we still lost more than 2.5 million jobs.',\n",
       " 'In 2016, Dallas, Texas, has fewer police officer-related shootings than any large city in America.',\n",
       " 'Irans defense budget is $30 billion. Our defense budget is closer to $600 billion.',\n",
       " 'SaysHillary (Clinton) wants to increase the number (of Syrian refugees) by 500 percent.',\n",
       " 'Over the course of one four-year term, it costs taxpayers more than $1 million simply to operate the governors mansion.',\n",
       " 'Women are paid 77 cents for every $1 men get for the same work.',\n",
       " 'UPS left 15,000 employees spouses without health insurance and told them to, go on an exchange with no employer subsidy.',\n",
       " 'By using a little-known loophole ... Obama minions are allowing Nestle Company to export precious fresh water out of Lake Michigan.',\n",
       " '\"Let\\'s not blame President Bush for all of this. We\\'ve got a Congress who sat around on their hands and done nothing but spend a lot of money ... leaving us $9-trillion in debt that we\\'re passing on to our grandchildren.\"',\n",
       " 'Two-thirds of the people who receive the minimum wage are female.',\n",
       " \"Every other democracy in the world has a health care system that covers everybody, and we don't.\",\n",
       " 'Georgia has lost 14 percent of its jobs paying more than $50,000 a year and added 15 percent to its Medicaid rolls during the recovery.',\n",
       " 'On public financing of his campaign.',\n",
       " 'Says Donald Trump wants to keep big government in charge of federally-owned land.',\n",
       " 'Homicides last year increased by 17 percent in Americas 50 largest cities. Thats the largest increase in 25 years.',\n",
       " 'Since the beginning of the year weve created a net increase of 45,000 jobs.',\n",
       " 'Electric car sales in Georgia have dropped dramatically since a $5,000 tax credit was eliminated and a $200 annual registration fee was imposed July 1.',\n",
       " 'Since 1980, over 145 incidents have been documented of suction entrapment in swimming pools and spas, including 36 deaths of children.',\n",
       " 'On supporting the eventual Republican presidential nominee',\n",
       " 'Since Scott Walker took office as governor in January 2011, there has been an increase of 33,200 jobs in Wisconsin.',\n",
       " 'Abortions account for 94 percent of the services provided for pregnant women by Planned Parenthood.',\n",
       " 'When Obama went to Pakistan in 1981, he could not have been traveling as a U.S. citizen.',\n",
       " 'Says Sean Duffy was a no-show as Ashland County District Attorney while he was on the campaign trail',\n",
       " 'Newark is now home to one-third of all commercial and multi-family development.',\n",
       " 'We got a million jobs.',\n",
       " 'Says she is the subject of 60 books.',\n",
       " 'Wendy Davis opposes any limits on abortion.',\n",
       " 'Wisconsin now ranks among the top 10 states for out-migration.',\n",
       " 'Social Security took seven years before anybody got the first check.',\n",
       " 'On resigning from the Texas Railroad Commission.',\n",
       " 'The $5 billion website for Obamacare never worked. Still doesnt work.',\n",
       " 'The STAR Ohio fund just received the highest possible credit rating one of these funds can receive.',\n",
       " 'Ive got the spending down, Ive got the debt down a little bit, Ive got the reserves up.',\n",
       " 'His new running mate, Congressman Ryan, put forward a plan that would let Governor Romney pay less than 1 percent in taxes each year.',\n",
       " 'Rep. Paul Hodes, D-N.H., voted for the pork-filled stimulus bill -- $1.9 million to study ants in Africa, $39 million for office upgrades for politicians.',\n",
       " 'Contrary to popular belief, we actually dont have that many public employeesWe are well below average in the number of public employees.',\n",
       " 'Unemployment in Texas has risen over two percentage points with Rick Perry as governor.',\n",
       " 'While Rob Portman relies on his super PAC and a handful of billionaires to do his dirty work, we dont have a super PAC, and quite frankly, we dont want one that spends millions to spew out lies and distortions.',\n",
       " 'Obamacare is costing 2 million jobs.',\n",
       " \"Geithner still didn't correct the same type of error for some years, even after the Internal Revenue Service flagged him for the failure to pay the taxes in other years.\",\n",
       " 'Sen. Marco Rubio refuses to accept the basic science on climate change and is a climate change denier.',\n",
       " 'Says Daniel Webster wants to make divorce illegal, even for abused wives.',\n",
       " 'Odd fact for odd draft: No. 2 overall pick will earn more than the No. 1 pick due to no state tax in Florida. So 2 not so bad.',\n",
       " 'The DeWine campaign is receiving money from so many more people.(Cordrays) money is coming almost exclusively from the party, labor unions, and special counsel that he has given business to.',\n",
       " 'I am the only candidate who ran in either primary who said, I will not raise taxes on the middle class.',\n",
       " 'Some of these members of the House of Representatives get hundreds of thousands of dollars in farm subsidies but want to cut food stamps.',\n",
       " '(Deborah) Ross defends those who want to burn the American flag, and even called efforts to ban flag-burning ridiculous, yet refused to help a disabled veteran fly the flag.',\n",
       " 'Says John Barrow voted with Obama 85 percent of the time.',\n",
       " 'On foreign policy, Joe Biden was against aid for Vietnam, said the fall of the Shah was a step forward for human rights in Iran, opposed Reagans defense build-up and voted against the first Gulf War.',\n",
       " 'Water rates in Manila, Philippines, were raised up to 845 percent when a subsidiary of the World Bank became a partial owner.',\n",
       " 'Obama \"won health care for 150,000 people.\"',\n",
       " 'Sheriffs Call For Obamas Lynching While Leader Meets With GOP Senators',\n",
       " 'Says Rob Portman even voted to allow people on the terrorism watch list to buy guns.',\n",
       " 'Wisconsin dropped from second in the country to 41st among states where more than half the students took the ACT exam.',\n",
       " 'Says as secretary of state she was reserving judgment about the Trans-Pacific Partnership and hoped it would be the gold standard.',\n",
       " 'In Connecticut and New York, students at Achievement First schools consistently outperform city and statewide averages.',\n",
       " 'Says Israel profiles based on ethnicity and does it very successfully.',\n",
       " 'The employer mandate affects only 5 percent of businesses in this country.',\n",
       " 'I deployed the Texas National Guard to the Texas-Mexico border. And the policy worked; apprehensions at the border declined 74 percent.',\n",
       " 'Today California is kicking our butt, creating more jobs and more economic growth than Texas.',\n",
       " 'Barack Obama\\'s health care plan \"would leave 15 million Americans out.\"',\n",
       " 'The Keystone pipeline creates 35 permanent jobs after construction, according to a government report.',\n",
       " 'The proposed Gogebic iron ore mine is just up the hill from the Apostle Islands National Lakeshore caves along Lake Superior.',\n",
       " 'Says a Senate resolution would restore $140 in monthly general assistance payments and prevent people from committing crime.',\n",
       " 'President Obama and liberal former DNC Chairman Tim Kaines $787 billion stimulus failed to create jobs.',\n",
       " 'Ted Cruz is unknown to the vast majority of Texans.',\n",
       " \"Democrats in Congress had control since January of 2007. They haven't passed a law making waterboarding illegal. They haven't gone into any of these things and changed law.\",\n",
       " 'The new Atlanta Braves stadium will require no tax increase for homeowners and provide $3 million annually for Cobb County schools.',\n",
       " 'This rule could prevent children under 18 from using such tools as a power screwdriver, a milking machine or something as simple as a wheelbarrow on the family farm . . .',\n",
       " 'Clinton has \"raised the most money from Washington lobbyists ... from the health industry, drug companies, health insurance companies (and) the defense industry.\"',\n",
       " 'For the first time in 35 years, we have more businesses closing than starting.',\n",
       " 'Atlanta Public Schools 2011 CRCT tests were given under the strictest security possible.',\n",
       " 'That 3.5 percent (increase in the third quarter GDP) came from two things government spending on Cash for Clunkers they just moved fourth-quarter auto sales into the third quarter and the first-time home buyer thing.',\n",
       " 'The State Department says the 42,000 jobs created by the Keystone XL pipeline are ongoing, enduring jobs.',\n",
       " 'We lose an average of 90 Americans every day because of guns.',\n",
       " 'Says President Barack Obama is absolutely a Muslim.',\n",
       " 'In Georgia, hard-earned lottery dollars are doled out to the scion[s] of wealthy families.',\n",
       " '\"Minnick voted to let the government fund abortion under Obamacare.\"',\n",
       " 'This years state budget and my spending proposal for Fiscal Year 2016 represent an infusion of more than $1 billion in additional money for K-12 education.',\n",
       " 'When career politician Daniel Webster became speaker of the House, he wasted $32,000 of our money on a spiral staircase for his office.',\n",
       " 'We created as many jobs in the first six months of this year as we did in all of 2011 and 2011 was the best single year for private-sector job growth since the year 2000.',\n",
       " 'I was never against same-sex marriage.',\n",
       " 'I watched in Jersey City, N.J., where thousands and thousands of people were cheering as the World Trade Center collapsed.',\n",
       " '\"Fred\\'s never had a 100 percent record on right-to-life in his Senate career. The records reflect that. And he doesn\\'t support the human life amendment, which is most amazing because that\\'s been a part of the Republican platform since 1980.\"',\n",
       " 'The state budget will include scholarship money for minority students as a concession to Senate Democrats for supporting the GOP-initiated transportation bill.',\n",
       " 'Says there are four super PACs on the Republican side of the Texas U.S. Senate race.',\n",
       " 'Greg Abbott said it would be a waste to expand pre-k to all Texas children.',\n",
       " 'The president has had 1,540 of his nominations confirmed, only four defeated.',\n",
       " 'The man who killed a motorist who fatally struck a 2-year-old was back on the street because he had received a 13-year sentence for bank robbery but only served two years.',\n",
       " 'Says private-sector job growth in 2011 places New Jersey in the top third among all of the states.',\n",
       " 'Big rooftop solars plan forces Nevada families who dont have solar panels to pay higher power bills to subsidize rooftop solar.',\n",
       " 'When the United States \"first created the federal income tax, frankly, nobody below a million dollars a year paid anything.\"',\n",
       " 'Latin Americas economy is almost as big as the economy of China.',\n",
       " 'In the 100 days since its passage, the economic stimulus has \"saved or created nearly 150,000 jobs.\"',\n",
       " 'Common Core expects English teachers to spend at least half of their reading instructional time at every grade level on informational texts.',\n",
       " 'Says he has a fiduciary responsibility to his business, his family and his employees to pay no more tax than legally required.',\n",
       " 'Since President Obama took office, 2 million jobs. Gone.',\n",
       " 'President Barack Obama said at the beginning of the negotiations that the basic approach was to dismantle Irans nuclear program in exchange for dismantling the sanctions.',\n",
       " 'Ohio Director of Job Creation Mark Kvamme just clawed back about $900,000 from companies that made promises and they didnt keep them.',\n",
       " 'Bill McCollum on the Arizona immigration law.',\n",
       " 'Democrats give Newports to the homeless to get them to the polls.',\n",
       " '\"I\\'m probably one of the four or five best-known Americans in the world.\"',\n",
       " 'More children die in agricultural jobs than in any other industry.',\n",
       " 'Austin ISD has the highest graduation rate of every major city in Texas.',\n",
       " 'Says that except for Donald Trump, every other major party nominee for the past 40 years has released their tax returns.',\n",
       " 'During my tenure as governor, Wisconsins overall tax burden went DOWN.',\n",
       " 'Austin is the only city in an arid landscape in the western United States dependent on a single source of water.',\n",
       " 'Says Donald Trump has outlined policies that read like a Kremlin wish list.',\n",
       " 'Workers in the United States are making less than they were almost 20 years ago, and yet they are working harder.',\n",
       " 'Thurbert Baker kept a teen in jail \"who didn\\'t even commit a felony.\"',\n",
       " '\"Obama held one of the first meetings of his political career in Bill Ayers\\'s home. And they\\'ve worked together on various projects in Chicago.\"',\n",
       " 'Says Ocean Spray is moving its Bordentown processing facility to Pennsylvania largely because of costs associated with the Regional Greenhouse Gas Initiative.',\n",
       " 'Medicaid spending declined by 1.9 percent in 2012, the second such decline in 47 years.',\n",
       " 'Under the House Republican budget, if these cuts were to be spread out evenly the year after next, nearly 10 million college students would see their financial aid cut by an average of more than $1,000 each.',\n",
       " 'The minimum wage is mostly an entry-level wage for young people.',\n",
       " 'The federal deficit is growing.',\n",
       " 'The Katy Freeway, or Interstate 10 west of Houston, is the widest freeway in the world, with up to 26 lanes, including frontage road lanes.',\n",
       " 'The debt is nearly $6 trillion more than when President Obama was sworn into office.',\n",
       " 'Texas legislation would allow teachers to kill their students if they felt it was needed.',\n",
       " 'American colleges amount to a cartel.',\n",
       " 'The Capitol was built by slaves.',\n",
       " 'When the country was founded, Congress had exactly the same attitude about the sanctity of Christmas celebrations that a 7-Eleven does today: Yeah, were open.',\n",
       " 'In a poll, 53 percent of young Republican voters . . . under age 35 said that they would describe a climate [change] denier as ignorant, out of touch or crazy.',\n",
       " 'With the exception of slavery and the Chinese Exclusion Act, our laws have never barred persons from becoming citizens.',\n",
       " 'Over 40 percent of children born in America are born out of wedlock.',\n",
       " 'Outside of recall elections, theres never been a public official removed from office in Wisconsin for anything but malfeasance in office.',\n",
       " 'Unemployment has fallen from 10 percent during the presidents first year in office to 8.5 percent today.',\n",
       " 'During Lyndon B. Johnsons first 20 years in Congress, he opposed every civil rights measure that came up for a vote.',\n",
       " 'John Holdren, director of the White House Office of Science and Technology Policy, has proposed forcing abortions and putting sterilants in the drinking water to control population.',\n",
       " 'The richest 1 percent of America will get a bigger tax cut through this bill than the family income of the average family here in Central Texas.',\n",
       " 'Recommendations for a major tax overhaul for Georgia are an overall tax hike.',\n",
       " 'Says Detroit dumping a bunch of sewage in Lake Erie causes big problems for Ohio.',\n",
       " '\"The board of a nonprofit organization on which Obama served as a paid director ... granted funding to a controversial Arab group.\"',\n",
       " 'In Buffalos SolarCity project, Andrew Cuomo will create maybe 500 jobs if it ever happens at all, at about $1.5 million per job.',\n",
       " 'Right now, 50 percent of Florida students leaving high school cannot read at grade level.',\n",
       " 'Tide gauges measuring sea level in Rhode Island since 1930 have risen maybe about 10 inches since that time.',\n",
       " 'Says Hillary Clintons Iran nuclear deal lined the pockets of the worlds number one state sponsor of terrorism with your money.',\n",
       " 'Michigan and Massachusetts raised their bottle deposit and could no longer afford the program because the redemptions were so high there was no profit in there.',\n",
       " 'Americans will spend more on taxes in 2014 than they will on food, clothing and housing combined.',\n",
       " 'Republican redistricting plans cut Democrat Nancy Nusbaum out of her state Senate district by a half a block.',\n",
       " 'Says We do about 300 investigations a year into housing discrimination and in recent years have put about $150,000 of damages into the pockets of individuals who have been treated unfairly.',\n",
       " 'For every one mile of light-rail track that will be built, 16 miles of new road capacity will be built.',\n",
       " 'Medicare officials have treated Humana and AARP inconsistently on how they can communicate with seniors.',\n",
       " 'The Senate version of the health care reform bill allows taxpayer money to pay directly for abortion in federal community health centers funded in the bill.',\n",
       " 'Says Erv Nelson voted yes on the pro-amnesty SJR 21, a bill urgingCongress to provide citizenship for those residing illegally in our country.',\n",
       " 'The only years that anybodys ever seen of Donald Trumps tax returns showed he didnt pay any federal income tax.',\n",
       " 'Rick Perry is taking money away from hurricane victims and diverting it to remodel the Governors Mansion.',\n",
       " 'I opposed TPP (Trans-Pacific Partnership) and have always opposed TPP.',\n",
       " 'Says the United States is the Saudi Arabia of coal.',\n",
       " 'Electricity rates are 40 percent higher in states that have required utility companies to use a certain amount of renewable energy such as solar power.',\n",
       " 'Says the U.S. Supreme Court found that Social Security is not guaranteed.',\n",
       " 'Chris Christie cut equal pay for women, calling it senseless bureaucracy.',\n",
       " 'Will Hurd tends to have a 96 percent straight Republican, straight party voting record.',\n",
       " '\"A ham and cheese sandwich on one slice of bread is the responsibility of the USDA ... But a ham and cheese sandwich on two slices of bread is the responsibility of the Food and Drug Administration.\"',\n",
       " '\"Most of the people that work in finance make $70,000, $80,000 a year.\"',\n",
       " 'We expanded charter schools.',\n",
       " 'Wisconsin education agency urged white students to wear white wristbands as a reminder about your (white) privilege.',\n",
       " 'Eleven years ago, the city of Detroit lifted the residency requirement for police officers and today, 53 percent of officers live outside of the city. If we want the tax base of Milwaukee to resemble the tax base of Detroit, this is the way to go.',\n",
       " 'Says Keene, N.H., requested a military-grade armored personnel truck, citing their annual Pumpkin Festival as a possible target for terrorists.',\n",
       " '97 percent of the work that Planned Parenthood does is about mammograms and preventative health.',\n",
       " 'Weve cut taxes 50 times and look what has happened to our revenues. Theyve grown.',\n",
       " 'Says that in 2009 ExxonMobil paid no federal income taxes, received a $156 million rebate.',\n",
       " 'Says the claims that Texas faces a $27 billion shortfall are flat-out false.',\n",
       " '\"An audit of the last census found that over 370,000 people living in Texas were not counted, and our state lost an estimated $1 billion in federal funds as a result.\"',\n",
       " 'Says Republican presidential candidate and Gov. John Kasich has spent 177 days out of state and used $350,000 in taxpayer money on his costly campaign.',\n",
       " 'President Ronald Reagan sent troops into conflict only in one circumstance, which was in Grenada We were in a peacekeeping setting in Lebanon.',\n",
       " 'The American people have endured 21 consecutive months of 9% or higher unemployment [and] 2.6 million jobs have been lost, since the stimulus bill was signed.',\n",
       " 'Says U.S. Sen. Ron Johnson doesnt even believe that theres a man-made role in climate change.',\n",
       " 'Peter Kilmartin voted for the 38 Studios loan guarantee and his State House job was to twist [legislators] arms to vote for deals like this.',\n",
       " '\"Since that famous day in February where the governor campaigned with Barack Obama on behalf of the stimulus program, 211,000 Floridians have lost their jobs.\"',\n",
       " 'Were losing as many people to heroin and opioid overdoses as we lost to the AIDS epidemic at its peak.',\n",
       " 'On Donald Trumps plan to cut federal funding to sanctuary cities, because of a decision by the Supreme Court, no presidents in a position to cut off funding across the board. It has to be very specific to the matter at hand.',\n",
       " 'President Obama will now own 60 percent of GM, and his union buddies will own almost 20 percent.',\n",
       " 'Wisconsins criminal threshold for drunken-driving is way out of line with states surrounding us, which have the second offense as a felony.',\n",
       " 'Says Nathan Deal killed pro-gun bills in 2013.',\n",
       " 'I led the fight to require the Coast Guard to buy their engines from us, not foreign companies.',\n",
       " '\"The Alternative Minimum Tax...was created by Congress in 1969 to affect 155 wealthy Americans. Because it was never indexed for inflation, those original 155 taxpayers has increased to affect about 3.5-million in 2006.\"',\n",
       " 'Last year, ExxonMobil made $19 billion in profit. Guess what. They paid zero in taxes. They got a $156 million refund from the IRS.',\n",
       " 'If Buehler were elected, our vote-by-mail system would be at risk.',\n",
       " 'Says Thom Tillis gives tax breaks to yacht and jet owners.',\n",
       " 'Says enrolling a student in a subsidized lunch program triggers an at risk designation, resulting in an extra $6,000 to $7,000 of state school aid per student.',\n",
       " 'As weve seen that federal support for states diminish, youve seen the biggest job losses in the public sector -- teachers, police officers, firefighters losing their jobs.',\n",
       " 'This year, the overwhelming majority of new jobs are part time.',\n",
       " 'Between 2008 and 2014, criminal aliens accounted for 38 percentof all murder convictions in the five states of California, Texas, Arizona, Florida and New York.',\n",
       " 'Says Ted Kennedy sent a letter to then Soviet leader Yuri Andropov apologizing for Ronald Reagan and begging the Soviets not to overreact.',\n",
       " 'You (Hillary Clinton) get a subpoena, and after getting the subpoena you delete 33,000 emails.',\n",
       " 'We have a governor whos vetoed measures like increasing our minimum wage and restoring the earned income tax cut.',\n",
       " 'Says he lived in a colonia while working as a farm worker.',\n",
       " 'Michelle Nunns foundation directed grants to an Islamic group tied to radical terrorists.',\n",
       " 'Says in the last six months of the Bush administration, the U.S. lost 3.5 million jobs, including 760,000 jobs during January 2009 alone.',\n",
       " 'In the last 10 years, only one piece of legislation has been cosponsored and passed by John Duncan Jr.',\n",
       " 'In Rhode Island, a recent study showed that among a group of people who had been homeless for a year or more, Medicaid costs averaged about $60,000 per person.',\n",
       " 'Says Sen. John McCain told dreamers that hell support the Dream Act, then he voted against it.',\n",
       " 'Says Rick Perry turned down our invitation to meet President Barack Obama in El Paso.',\n",
       " 'If you are born poor in America, we rank ninth or tenth in our citizens ability to climb up through that ladder and get themselves into the middle class.',\n",
       " '\"We send a billion dollars to foreign countries every day because of our addiction to foreign oil.\"',\n",
       " 'Property taxes had increased 70 percent in the previous 10 years.',\n",
       " 'Says the typical homeowner will pay $4 more per month if library district passes.',\n",
       " 'McCain opposed the border fence.',\n",
       " 'Almost every country on Earth sees America as stronger and more respected today than they did eight years ago when I took office.',\n",
       " 'Hillary Clinton supports unlimited abortion on demand up until the moment of birth, including partial-birth abortion, with taxpayer funding.',\n",
       " 'Under a bill before the legislature, youd have to go to court to fire an employee.',\n",
       " 'McCain is \"raising campaign cash with one of (Jack) Abramoff\\'s closest business partners: scandal-plagued conservative activist Ralph Reed.\"',\n",
       " \"Romney used to favor gun control, and said he didn't want to go back to Reagan-Bush.\",\n",
       " '\"As governor, Mike Huckabee supported higher income taxes, sales taxes, gas taxes, grocery taxes, tobacco taxes, beer taxes, Internet taxes, nursing home bed taxes.\"',\n",
       " 'Says Carlos Lopez-Cantera even voiced enthusiastic support for bringing an Arizona-style immigration law to Florida, calling the measure common sense.',\n",
       " 'Holding up a BlackBerry, McCain campaign adviser says, \"youre looking at the miracle John McCain helped create.\"',\n",
       " 'San Antonio is now the largest city in the United States ever to have an African American woman mayor.',\n",
       " 'When I was speaker, we had four consecutive balanced budgets.',\n",
       " 'President Obama is a Muslim.',\n",
       " 'Dark money spending in the 2016 election cycle is 10 times what it was at the same point in the 2012 election cycle, when it topped $308 million.',\n",
       " 'Some Republicans who voted against the stimulus \"have been all too happy to claim credit for Recovery Act projects and the jobs those projects have produced. They come to the ribbon cuttings.\"',\n",
       " 'Says Sen. Luther Olsen, his recall opponent, supported the sale of state-owned power plants not to the highest bidder, but to the biggest donors with no oversight.',\n",
       " 'On President Barack Obamas stimulus',\n",
       " 'After World War II, we tried, convicted, and, in some cases, executed Japanese soldiers for war crimes that included charges of waterboarding.',\n",
       " 'On raising taxes.',\n",
       " 'Obama has admitted a cap and trade plan would cause electricity bills to skyrocket.',\n",
       " 'There have been more terrorist attacks on U.S. soil by ... Muslims in Obamas first 18 months in office than in the six years under Bush after he invaded Iraq.',\n",
       " 'Creeping defense commitments in (the Middle East) and globally now consume over half the U.S. discretionary budget annually.',\n",
       " 'Forty aides who serve President Barack Obama owe $333,485 in back taxes.',\n",
       " 'Says Tom Steyer is aCalifornia billionaire who stands to profit by blocking Keystone and is spending big to help Bruce Braley.',\n",
       " 'Says U.S. corporate tax rate is highest in the world at 35 percent.',\n",
       " 'Says 7,000 millionaires gamed the system to pay no income taxes.',\n",
       " 'In reality, there have been no problems whatsoever with the Texas voter ID law.',\n",
       " 'Says Barack Obama is getting his nominees confirmed faster than President (George W.) Bush was at the same time in his second term.',\n",
       " 'Says he voted no on the Wall Street bailouts.',\n",
       " 'Right now, here in Texas, wind power is already cheaper than dirty fossil fuels.',\n",
       " 'Women make only 78 percent of what men make for the same job.',\n",
       " 'Joe Morrissey has been a delegate in the General Assembly for eight years with no laws passed to help our black community with education or workforce.',\n",
       " 'In the month of July alone, EU exports to South Korea increased by over 36 percent. A lot of that is our market share. Those are our farmers and our service providers who are suffering.',\n",
       " 'One international flight a day in a wide-bodied jet ... one flight daily generates $150 million a year and approximately 2,300 jobs.',\n",
       " 'Barack Obama \"said in 2004 there was no difference between (Obama) and George Bush on the war.\"',\n",
       " 'Says in 2003 Texas cut $10 billion out of the entire budget, yet we put $1.8 billion more into public education. We put $800 million more into health and human services.',\n",
       " 'Chris Christie has not been effective at creating jobs (or have) a record of governing for effectiveness. ... New Jersey (has) one of the higher unemployment rates in the country at 9.4 percent.',\n",
       " 'After Ronald Reagan cut taxes in 1981 the U.S. enjoyed exponential growth.',\n",
       " 'Says U.S. Senate candidate Cory Gardner blocked immigration reform and voted to deport our DREAMers.',\n",
       " 'While Americans pray for Paris, the government has acted on mandatory national vaccinations.',\n",
       " '\"The truth was revealed there in that report that showed there was no unlawful or unethical activity on my part.\"',\n",
       " 'There is no Plan B if the transportation referendum is not passed by voters.',\n",
       " 'Historically, Senate ratification of arms control treaties has been bipartisan.',\n",
       " 'SaysPatrick Murphys Pay More energy agenda means you could pay another $500 a year for your utility bills!',\n",
       " '\"Ronald Reagan did amnesty.\"',\n",
       " 'Its legal to sign a recall petition (against Gov. Scott Walker) even if you have already signed another recall petition, but only one signature counts',\n",
       " 'Says every school will be negatively impacted if Education Stability Fund is not tapped.',\n",
       " 'The Trans-Pacific trade deal could cost America 448,000 more jobs.',\n",
       " 'Says Bill White profiteered in the aftermath of Hurricane Rita.',\n",
       " 'Team Trump has accused Ted Cruz of fraud in Iowa, Texas, Colorado, Oklahoma, Louisiana, Kansas, Maine, Utah and Wisconsin.',\n",
       " 'In 2011, Milwaukee Public Schools will provide 77 cents in employee benefits for every dollar it spends on wages.',\n",
       " 'Mitt Romney is the first Massachusetts politician to run for president and not win the New Hampshire primary in a generation.',\n",
       " 'FCAT tests account for less than 1 percent of the instructional time provided during the year.',\n",
       " 'The party in the White House is responsible for a massive tax increase on the middle class.',\n",
       " 'SaysJeb Bush significantly cut early voting prior to the 2008 presidential election.',\n",
       " 'Says Oregon ranks 43rd in education.',\n",
       " 'Eighty-five percent of every dollar donated to the Clinton Foundation ended up either with the Clintons or with their staff to pay for travel, salaries, and benefits. Fifteen cents of every dollar actually went to some charitable beneficiary.',\n",
       " 'Pls refer to Jan.1 tax changes appropriately: theyre OBAMA TAX HIKES theyll slam every Americans savings, investments job opportunity',\n",
       " 'Over the last six years, the state of Illinois spent about $320 million on illegal immigrants.',\n",
       " 'Says because of his actions, Wisconsin property taxes today are lower than they were four years ago.',\n",
       " 'Says Democratic U.S. Senate candidate Tammy Baldwin ranks as the most liberal member of the House.',\n",
       " 'When Mitt Romney was governor, Massachusetts lost 40,000 manufacturing jobs, a rate twice the national average, and fell to 47th in job creation, fourth from the bottom.',\n",
       " 'On deporting illegal immigrants.',\n",
       " 'There hasnt been a Republican in the legislature or the City Council in Providence in over 30 years.',\n",
       " 'Our state economic development agency under Walker, WEDC, actually isnt even using the funds that are appropriated to it.',\n",
       " 'There is no evidence that poor people abuse drugs more frequently than any other socio-economic group.',\n",
       " 'Says the Affordable Care Act has already reduced the number of uninsured in Oregon by 10 percent.',\n",
       " 'McCain intervened on behalf of Charles Keating with federal regulators... that allowed Keating to continue his fraud at an incredible cost to taxpayers.',\n",
       " 'The U.S. military is at risk of losing its military superiority because our Navy is smaller than its been since 1917. Our Air Force is smaller and older than any time since 1947.',\n",
       " 'Says under our current sentencing laws, about 75 percent of all convicted felons in Oregon do not go to prison.',\n",
       " '[Renewable energy] projects . . . get us off foreign oil and away, step by step, from these foreign entanglements that we have to get into to defend our oil supply.',\n",
       " 'What do Rutgers University, Kean University, Montclair State University, New Jersey City University, Stockton College, Rowan University and William Paterson all have in common? They all graduate less than 50 percent of their students within four years.',\n",
       " 'Over the past eight years, black youth unemployment is up.',\n",
       " '\"I would love to see us have in this country what I helped lead in Arkansas...Amendment 65 (which) says that we believe life begins at conception, and that we ought to do everything in the world possible to protect it until its natural conclusion.\"',\n",
       " '\"Crist stays in $2,000 a night luxury hotel suites where he racks up $1,300 in mini-bar charges, and doesn\\'t pay for a dime of it himself.\"',\n",
       " 'Massachusetts has less than 1 percent of our kids that are uninsured. You (Gov. Perry) have a million kids uninsured in Texas.',\n",
       " 'Says Gov. Scott Walker has made Wisconsin 2nd in the nation in losing jobs.',\n",
       " 'On whether he wants to be vice president.',\n",
       " 'Nine million people have lower-cost HIV/AIDS medicine because of the work of the Clinton Foundation and my husband.',\n",
       " 'Sarah Eckhardt refused to take her own pay increases repeatedly.',\n",
       " 'The United States already has the highest corporate tax rate in the world.',\n",
       " 'Says one of Austin City Council Member Randi Shades biggest contributors is the lobbyist for the Formula 1 racetrack planned outside Austin.',\n",
       " 'Says the federal government mandates transexuals (sic) and homosexuals grabbing children in their stranger-danger zones in the name of airport security.',\n",
       " 'Says the oil industry subsidies that President Barack Obama is attacking dont exist',\n",
       " 'In labor negotiations with city employees, Milwaukee Mayor Tom Barrett demanded concessions that went beyond those mandated by Gov. Scott Walkers collective bargaining law',\n",
       " 'David Cicilline was required to provide key information about city finances to an independent outside auditor. The deadlines were clear -- yet [he intentionally] missed them by months until after the November 2010 election.',\n",
       " 'Wars in Afghanistan and Iraq have cost every U.S. family $45,000.',\n",
       " '95 percent of teachers and principals are not implicated in the [Atlanta Public Schools cheating scandal] report at all.',\n",
       " 'The Kenosha casino would be one of the states largest employers and pay more to the state than any other company or Tribe essentially, it would be Wisconsins biggest taxpayer.',\n",
       " 'Says that since he took office, there have been no large-scale attacks on the United States.',\n",
       " 'NAFTA allows a lot of trucks from Mexico, for example, to leave there and ... drive straight through without even being inspected.',\n",
       " 'On support for Ronald Reagans policies',\n",
       " 'The (Wisconsin) governor has proposed tax giveaways to corporations.',\n",
       " '[Hillary Clinton]s not trusted -- virtually at all.',\n",
       " 'Almost 88,000 United States service members are still missing and unaccounted for, dating back to World War II.',\n",
       " 'The average student debt coming out of the University of Wisconsin-Madison is something like 28,000 dollars.',\n",
       " 'As a result of Chris Sununus vote against a Planned Parenthood contract, nearly 3,000 fewer women and families statewide accessed health care for birth control, cancer screenings and annual exams.',\n",
       " 'In Arizona, there are only one and a half (Border Patrol) agents per every 10 square miles.',\n",
       " 'Says over 40 percent of recent county bonds are for Precinct One, northeast Travis County, because he is quick to identify projects that help make the East Side a desirable place to live.',\n",
       " 'The average (public school) teacher in Wisconsins making $89,000 a year in salary and benefits.',\n",
       " 'Says Indiana Gov. Mike Pence provides zero state funding for homeless shelters.',\n",
       " 'Oregon concealed gun applications include home phone numbers, home address, Social Security numbers, what kinds of guns you have in the house whether you were dishonorably discharged from the military, what controlled substances you are taking and were you ever accused of -- accused, mind you -- of stalking.',\n",
       " 'In 2002, Iran was more or less an American ally.',\n",
       " '\"Because of the steps we took, there are about 2 million Americans working right now who would otherwise be unemployed.\"',\n",
       " 'While (Barack) Obama preaches we are our brothers keeper, his brother and aunt live in real poverty in Kenya.',\n",
       " 'Says Bill Pascrell voted to eliminate all estate taxes for billionaires, and I voted no.',\n",
       " 'Under Barack Obama, the U.S. now has the lowest workforce since (President Jimmy) Carter.',\n",
       " 'Mike Martinez has voted to raise taxes and utility rates while ending free bus service for seniors.',\n",
       " '\"The Democratic Congress has already taken significant steps to create jobs and jump-start the economy, resulting in the lowest tax rates in over 50 years and the creation of over 500,000 new jobs so far this year.\"',\n",
       " 'What I have done -- and this is unprecedented ... is Ive said to each agency ... look at regulations that are already on the books and if they dont make sense, lets get rid of them.',\n",
       " 'For the votes that we got, I think we spent, on average, two bucks a pop. Compared to 42 bucks for incumbent Milwaukee County Executive Chris Abele.',\n",
       " '\"To say a family has to buy a product from a private company is clearly beyond the delegated powers of the U.S. Constitution.\"',\n",
       " 'I was gone when there was a red line against Syria.',\n",
       " '\"I didn\\'t campaign on a public option.\"',\n",
       " 'The shutdown is projected to result in $10 billion in costs to the economy per week.',\n",
       " 'The U.S. military is in 130 countries. We have 900 bases around the world.',\n",
       " 'Qataris dont really work.',\n",
       " '\"Sen. Obama has been to Iraq once.\"',\n",
       " 'About half of the presidents have been governors; half of them, senators.',\n",
       " 'Sotomayor thinks \"that ones sex, race and ethnicity ought to affect the decisions one renders from the bench.\"',\n",
       " 'Six years after unionization, 20,000 fewer children in Illinois were being served by the Child Care and Development Fund program.',\n",
       " 'The Islamic State is so small it couldnt fill a DoubleAballpark in Charleston, W. Va.',\n",
       " 'Says Barack Obama said black males are two times more likely to be shot by a law enforcement officer than white males and that is a lie because there is no data.',\n",
       " 'Says Hillary Clinton will receive her congressional salary until she dies and the Secret Service pays her mortgage.',\n",
       " 'The city of Clarkston cant decriminalize marijuana. Only state legislators and Congress can do that.',\n",
       " 'Says Mitt Romney has said we dont need more firemen, more policemen, more teachers.',\n",
       " 'The United States right now incarcerates more African-Americans as a percentage than apartheid South Africa did.',\n",
       " 'On his support for sharply limiting collective bargaining by public employees.',\n",
       " 'Says Marco Rubio would take away a womans right to choose for victims of rape or incest.',\n",
       " 'Atlanta now has as many visitors as Las Vegas, San Diego and Los Angeles. Orlando, Fla., and New York City still have more visitors.',\n",
       " 'Jesus was an undocumented immigrant.',\n",
       " 'Over 73% of all donations raised (from the ALS Ice Bucket Challenge) are going to fundraising, overhead, executive salaries, and external donations.',\n",
       " 'During the (housing) crisis, Catherine Cortez Masto gave a sweetheart contract worth millions to a D.C. law firm that then donated thousands to her political campaigns.',\n",
       " 'Says state Rep. Diana Maldonado of Round Rock uses Craigslist to hire campaign block walkers.',\n",
       " 'The presidents health care proposals will cause most Americans to have their premiums increased, not decreased, and hundreds of millions of people lose their current insurance coverage.',\n",
       " 'At the 50 Milwaukee schools serving at least 80% African-American and at least 80% low income students, the reading proficiency is 8%.',\n",
       " 'NASA scientists fudged the numbers to make 1998 the hottest year to overstate the extent of global warming.',\n",
       " 'Says Hillary Clintons top 10 donors are mainly banks, corporations and media, while Bernie Sanders top 10 donors are labor unions.',\n",
       " 'Under New York Mayor Bill de Blasio, homicides are up by 20 percent, and subway delays have soared 45 percent.',\n",
       " 'Labor union president Andy Stern is the most frequent visitor at the White House.',\n",
       " 'When Social Security first started, there was 16 workers for every retiree. Today there are three workers for every retiree and soon there will be only two for every retiree.',\n",
       " 'Because of Obamacare, over the last two years, health care premiums have gone up -- its true -- but theyve gone up slower than any time in the last 50 years.',\n",
       " 'The 2011 Rebuild America Jobs Act would have cost the average American family $1,000 a year while making no significant impact to fix our infrastructure and roads.',\n",
       " 'The health care numbers are going up.',\n",
       " '\"As Florida\\'s CFO, I shut down Krakow\\'s scam and refunded more than $1.2 million to Josephine and other victims of this con man.\"',\n",
       " 'Women make 77 cents for every dollar a man earns.',\n",
       " 'Blocking a U.S. Supreme Court nomination during the remaining months of President Obamas term would leave the nations highest court with an unprecedented year-long vacancy.',\n",
       " 'The health care reform plan being proposed in Congress would mean big tax increases.',\n",
       " 'The United States invented the community college. Nobody else had ever done anything like it.',\n",
       " 'A recall election for Wisconsin governor would cost $7.7 million -- $7.7 million that may already be allocated to merit raises for teachers or health care for the poor or school books for your kids.',\n",
       " 'The Democrat-controlled Senate, it hasnt passed a budget in more than 1,000 days.',\n",
       " 'Says Tennessees higher education funding model is 100 percent outcomes-based and we are already seeing this model changing the way our postsecondary institutions do business.',\n",
       " 'If your plan is the result of collective bargaining, no subsequent changes by anybody -- insurance companies, Obamacare -- can force your grandfathered policy to change.',\n",
       " 'Says the reasoning behind Portlands high water and sewer rates is all kinds of pet projects unrelated to the core function of the water and sewer bureaus',\n",
       " 'Last year, out of the 500,000 (in) population growth we had in the state of Texas, about 250,000 of the 500,000 came to Texas... from the other 49 states.',\n",
       " 'Says public education will get more money in 2012-13 though lawmakers cut $15 billion in overall spending.',\n",
       " 'Richard Nixon released tax returns when he was under audit.',\n",
       " 'If Gov. Romneys plan goes into effect the average senior would have to pay $460 a year more in tax for their Social Security.',\n",
       " 'Congressman Joe Heck has (voted) 62% of the time with Nancy Pelosi and the Democrats on a variety of important issues.',\n",
       " 'McCain \"voted against a bill to ban waterboarding, and then applauded President Bush for vetoing that ban.\"',\n",
       " 'The Providence teacher contract is one of the longest in the country.',\n",
       " 'Out of the total U.S. military budget, significantly less than 10 percent of that money is used to fight international terrorism.',\n",
       " 'Says there have been no cases of wolves killing people in Rocky Mountain states.',\n",
       " 'Under Gov. Mitt Romney, Massachusetts ranked 47th in job creation.',\n",
       " 'The health care plan for members of Congress \"is no better than the janitor who cleans their offices.\"',\n",
       " 'John Cornyn has voted to increase the debt, raise taxes, bail out Wall Street banks and fund Obamacare.',\n",
       " 'Says Ron Johnson referred to The Lego Movie as an insidious anti-business conspiracy.',\n",
       " 'You had more women getting computer sciences degrees in the 80s by a factor of 2-plus than you do now.',\n",
       " 'McCain says the price of a gas tax \"holiday\" would be about the same as \"a Bridge to Nowhere (or) another pork barrel project.\"',\n",
       " 'Obamacarerepresents the largest tax increase in the history of the world.',\n",
       " '18 percent of our land in our state right now is either federally, state or county owned for conservation purposes.',\n",
       " 'Under the Arizona immigration law, police are required to check immigration status if someone\\'s \"lawn is overgrown\" or if a dog is \"barking too loudly.\"',\n",
       " 'Says Bernie Sanders chose to spend his honeymoon in the Soviet Union in 1988.',\n",
       " 'Lake Erie supports nearly 10 percent of Ohios jobs and generates $750 million in state and local taxes.',\n",
       " 'Quite frankly, it was during the Bush years of spending, multiplied now by the Obama years that we have this mess.',\n",
       " 'Says an illegal immigrant fraudulently claimed children who actually lived in Mexico on income tax forms to collect more than $29,000.',\n",
       " '\"It is just a fact that Hamas, apparently the North American spokesperson, is endorsing Senator Obama.\"',\n",
       " 'Every day, a black name resume is 50 percent less likely to get responded to than a white nameresume.',\n",
       " 'The price of gasoline was at $1.85 a gallon when President Barack Obama took office and has since nearly doubled because of his policies',\n",
       " 'Says Michele Bachmann said English was good enough for Jesus when he wrote the Bible.',\n",
       " 'John McCain wants to \"give oil companies another $4-billion\" in tax breaks.',\n",
       " 'The form students fill out to get college financial aid is \"longer than the form to get U.S. citizenship.\"',\n",
       " 'The reason we even have colleges is that at some point there were politicians who said, You know what? We should start colleges.',\n",
       " 'Says 94 percent of Wisconsin employers think the state is heading in the right direction and a majority say they will grow their companies in 2012.',\n",
       " 'Weve had 11,000 attempts to amend the Constitution since 1789.',\n",
       " 'Hedge fund managers and others in private equity pay much lower (tax) rates on their income than do truck drivers and teachers and nurses.',\n",
       " 'For every Kentuckian that has enrolled in Obamacare, 40 have been dropped from their coverage.',\n",
       " 'Says, Carl proposed a windfall tax on real estate development when he was a Metro Councilor.',\n",
       " 'Says President Barack Obama has launched twice as many strikes (on)countries that are predominantly Muslim than President George W. Bush.',\n",
       " 'The Legislature passed Gov. Walkers so-called property tax relief bill, but the Republicans are still raising your property taxes.',\n",
       " 'No one beta-tested healthcare.gov.',\n",
       " 'This is the first time since Roe was decided in 1973 that a court has granted personhood status to the preborn.',\n",
       " 'Scott Walker supported the same transportation bill hes attacking me for. He said at the time it would save the taxpayers money.',\n",
       " 'A new federal program provides subsidized \"Obama phones\" with 70 free minutes of cell phone service every month.',\n",
       " 'The Obama administration originally wanted 10,000 troops to remain in Iraq -- not combat troops, but military advisers, special operations forces, to watch the counterterrorism effort.',\n",
       " 'Says his comment about extremists being a JV team wasnt specifically referring to Islamic State.',\n",
       " 'Chinese tire imports threatened 1,000 American jobs, so President Obama stood up to China and protected American workers. Mitt Romney attacked Obamas decision.',\n",
       " 'Did you know ObamaCare will cost nearly twice as much as initially expected -- $1.8 TRILLION?',\n",
       " 'George Allen had 40,000 earmarks while he was a senator.',\n",
       " 'Says he tore down hundreds of abandoned homes that served as havens for crime and reduce(d) the value of our neighborhoods.',\n",
       " 'Under current conditions, by 2023, the interest payments on the national debt will be $722 billion, larger than the projected defense spending of $696 billion.',\n",
       " 'Says Mitt Romney put Planned Parenthood on a state medical board but failed to put a pro-life group on the same board.',\n",
       " 'Says Hillary Clinton sent a memo to all State Department staff that said you should not do State Department business on personal email.',\n",
       " 'The proposed Keystone XL oil pipeline is a bipartisan proposal.',\n",
       " 'When I was born, less than 10 percent of the federal budget was entitlement spending. Its now 60 percent of the budget.',\n",
       " 'You will learn more about Donald Trump by going down to the Federal Elections to see the financial disclosure form than by looking at tax returns.',\n",
       " 'The White House has three staff calligraphers making between $86,000 and $97,000 each, and just one National Security Director. She makes $55,000.',\n",
       " 'We win when voter turnout is high, we lose when it is low.',\n",
       " 'With the auto rescue, President Barack Obama saved more than 1 million middle-class jobs all across America, including more than 28,000 in Wisconsin.',\n",
       " 'Says Mitt Romney asked for a waiver from federal welfare rules.',\n",
       " 'Californias marijuana legalization initiative, Prop. 64 allows marijuana smoking ads in prime time, on programs with millions of children and teenage viewers.',\n",
       " 'Cap and trade legislation was originally a Republican idea.',\n",
       " 'Under John McCain\\'s health care plan, people get a $5,000 tax credit to buy a $12,000 health care policy, and \"that\\'s a loss for you.\"',\n",
       " 'The president is advocating a drone strike program in America.',\n",
       " 'Congress will begin its recess without having allocated one penny to fight Zika.',\n",
       " 'Says Sal Esquivel wants a 5 percent state sales tax on groceries.',\n",
       " 'There are millions of women all across the country who rely on Planned Parenthood for not just contraceptive care; they rely on it for mammograms.',\n",
       " 'Says Donald Trump was asked if he would defend our allies. He said well, first hed want to know if they made any payments to us to defend them.',\n",
       " 'Says the Treasury Department says 41 percent of all business income reported on individual returns would be hit by the [millionaires] surtax that would harm small businessmen and women, the very people we are counting on to create new jobs.',\n",
       " 'In the past decade, K-12 funding has grown six times faster than the rate of enrollment.',\n",
       " 'The presence of gorillas calls into question the concept of evolution.',\n",
       " 'Says her accomplishments include a fiscally responsible budget agreement that controls state spending.',\n",
       " 'Limiting labor negotiations to only wages is how it is for the most part in the private sector.',\n",
       " 'For the first time since 1990, American manufacturers are creating new jobs.',\n",
       " 'Congressman Patrick Murphy voted to keep the scandal-ridden IRS in charge of enforcing Obamacare.',\n",
       " 'The FBI is involved in an investigation about people in the Rio Grande Valley who are using cocaine to buy votes.',\n",
       " 'We have the lowest percentage of Americans actually holding a job in 40 years.',\n",
       " 'Broward County was one of three counties in the nation pivotal to an Obama victory in 2012.',\n",
       " 'Ive supported every investigation (into Hurricane Katrina) and ways of finding out how what caused the tragedy. Ive met with people on the ground. Ive met with the governor.',\n",
       " 'We rank 38th in wages. ... (Rick Scott) goes out around the country and advertises that to other states.',\n",
       " 'Virtually no Republican in Washington accepts climate change science.',\n",
       " 'Marco Rubio controlled funds that \"out of the $600,000 that were raised, only $4,000 went to candidates to try to improve their chances to be elected to office.\"',\n",
       " 'Obamacare cuts seniors Medicare.',\n",
       " '\"Our national debt ... is on track to exceed the size of our entire economy ... in just two more years.\"',\n",
       " 'Kathryn Starkey only attended half of those meetings.',\n",
       " 'Says Adam Hasner said he will never accept a pay increase, but he voted to raise his pay four times.',\n",
       " 'Jorge Elorza wants to impose a municipal income tax.',\n",
       " 'Every president since Eisenhower has taken executive action to address immigration issues.',\n",
       " 'In 1999, the NRA leadership in Washington, pretty much the same people intact, were for (expanded background checks.)',\n",
       " 'Theyre paying a less rate of tax -- these richest people in America -- than they have in the last 80 years.',\n",
       " 'Women take birth control, more than half of them, as a medication for other conditions.',\n",
       " 'At the mere request from Putin, President Obama withdrew the plans for a missile defense program based in Poland and the Czech Republic.',\n",
       " 'Says Barack Obama is the only American president who has not visited the D-Day Monument in Normandy on D-Day.',\n",
       " 'The president won the youth vote 3 to1, but his numbers have dropped 20, 30 percent among the youth.',\n",
       " 'Social Security, like I told you, is out of money. This year it is borrowing from the general treasury.',\n",
       " 'Says Newt Gingrich said Spanish is the language of the ghetto.',\n",
       " 'Under the health care law, everybody will have lower rates, better quality care and better access.',\n",
       " 'Robert Hurt supported a bill that helped the uranium industry after taking contributions from the industry and because his father had a stake in it.',\n",
       " 'Says a man in Ferguson, Mo., was photographed holding a sign that said, No mother should have to fear for her sons life every time he robs a store.',\n",
       " 'Says Rep. Bruce Braley, D-Iowa, skipped an important VA reform hearing to attend three fundraisers.',\n",
       " 'The runnerup to Caitlyn Jenner for ESPNs Arthur Ashe Courage Award was Army veteran Noah Galloway, who lost an arm and leg to a roadside bomb in Iraq.',\n",
       " 'Says Jeb Bush not only opposes marriage equality, hes said he personally believes gay couples should be banned from adopting children.',\n",
       " 'Says he banned texting while driving in Austin.',\n",
       " 'In the past three years, state legislatures have enacted more of these restrictions (on abortion) than in the previous 10 years combined.',\n",
       " 'In the Paula Jones case, Bill Clinton paid an $850,000 penalty.',\n",
       " '\"I was pretty proud of being the only guy on the stage that ever had a job in the private sector.\"',\n",
       " 'Of the 13 (Bill) Clinton speeches that fetched $500,000 or more, only two occurred during the years his wife was not secretary of state.',\n",
       " 'Income inequality seems to be worst in cities run by Democrats.',\n",
       " 'The United States (is) the largest provider of humanitarian assistance to displaced persons and refugees.',\n",
       " 'The government is going to have the right to get into your bank account with the health care bill and make transfers without you knowing it.',\n",
       " 'We (Georgia) collect fewer state taxes per capita than any other state although state taxes are low, Georgia is the eighth-most-dependent state on the federal government.',\n",
       " 'Carly Fiorina, shes against banning assault weapons.',\n",
       " 'Todd Staples recently tried to woo his supporters and right-wing base by suggesting the Agriculture Commission cut programs intended to feed the elderly and disabled, many of whom are veterans.',\n",
       " 'Because of the 2011 debt ceiling fight, the stock market lost 2,000 points.',\n",
       " '\"I didn\\'t say\" it doesn\\'t really matter whether Gore or Bush is president.',\n",
       " 'At $587 apiece, USA would need to bring home about 33.1 BILLION gold medals to pay off our national debt.',\n",
       " 'We are \"borrowing Saudi money for Saudi oil\" with the result being \"dependency and debt.\"',\n",
       " 'Says he faced a record budget deficit in Virginia in 2014.',\n",
       " 'Says Ohios economic recovery started in February 2010.',\n",
       " '\"George Bush, and a Republican Congress, have presided over a 55 percent increase in the size of domestic government spending in the last seven years.\"',\n",
       " 'Says Hillary Clinton negotiated the first agreement ever where China and India officially committed to reduce their emissions.',\n",
       " 'Under the White Houses budget proposal, we will not be adding more to the national debt by the middle of the decade.',\n",
       " 'Russia has an economy the size of Italy.',\n",
       " 'On supporting the budget proposed by Rep. Paul Ryan',\n",
       " 'Says British voters under 50, especially millennials, overwhelmingly voted to stay, in the European Union. It was older voters who voted to leave.',\n",
       " 'Some even advocate wiping out 401(k)s entirely and replacing them with government-run accounts.',\n",
       " 'Under President Barack Obama, the United States has doubled our exports.',\n",
       " 'Despite opposition from national Club for Growth, Club for Growth Wisconsin has endorsed him for U.S. Senate.',\n",
       " 'If you dont buy cigarettes at your local supermarket, your grocery bill wont go up a dime. The same is true of the sugary drink tax. If passed, you can avoid paying the tax by not buying sugary drinks.',\n",
       " 'The Affordable Care Act basically puts a penalty or a tax on employers for every new job they create.',\n",
       " 'He received \"A\" ratings from \"every conservative organization that gives ratings.\"',\n",
       " 'Thanks to (Rick) Perrys bad budgeting, the (Texas) highway department has to convert some modern paved state roads back to gravel.',\n",
       " 'We got back every dime used to rescue the banks.',\n",
       " 'The six largest cities in Ohio all have higher rates of violence and crime than every major city along the U.S.-Mexico border.',\n",
       " 'Forty-six states have a line-item veto for the governor.',\n",
       " 'Says Ohio Gov. John Kasich had the worst rating on spending of any governor in the country, Republican or Democrat.',\n",
       " 'We are seeing kids who are healthier.',\n",
       " 'Says my plan is a property tax cut.',\n",
       " 'Says Matt Wand has sided with anti-choice activists to restrict access to reproductive health care services.',\n",
       " 'Ed Gillespies 2006 book promoted an individual health care mandate, and recommends that it be enforced by the IRS through the income tax code.',\n",
       " 'If you look at any real analysis, the Trans-Pacific Partnership is going to generate better-paying jobs that are more stable.',\n",
       " 'John Kitzhaber is the only pro-choice candidate in the race for governor.',\n",
       " 'Dan Webster would force victims of rape and incest to bear their attackers child.',\n",
       " 'There are no rules governing the 2016 Republican convention, the rules have not been set.',\n",
       " 'Says the Austin City Council may give $4 million a year to subsidize a race track.',\n",
       " 'Only five states, including Georgia, do not have a hate crimes law.',\n",
       " 'Says Common Core is a federal mandate.',\n",
       " 'Says CNN reported Ben Carson was taking a break from campaigning and the Cruz campaign forwarded that news to our volunteers.',\n",
       " 'At Twin River, were more than competitive with nearby casinos in slot machine payouts.',\n",
       " 'On supporting right to work legislation in 2015',\n",
       " 'Bank of America could create 878,300 jobs with benefits if they spent their 2010 bonuses on job creation.',\n",
       " 'The weight of the evidence (on global warming) is that most of it, maybe all of it, is because of natural causes ... its fair to say the science is in dispute.',\n",
       " 'Illegal immigrants mow the grass around the (Texas) Capitol.',\n",
       " 'The U.S. gives foreign aid to Cuba and Venezuela, even though those countries are our enemies.',\n",
       " 'Im the only candidate for governor whos rolled out any policies so far.',\n",
       " '[Eighty-five percent] of the funds collected in each county will be redistributed elsewhere -- not spent in the county in which it is collected.',\n",
       " 'Its actually easier for the United States to get flight manifests from E.U. nations than it is for E.U. nations to get them from their own neighbors, thanks to an agreement the U.S. negotiated when I was secretary of state.',\n",
       " 'The Pell bridge is a tourism bridge essentially and not a commuter bridge.',\n",
       " 'President Barack Obamas latest executive order mandates the apprehension and detention of Americans who merely show signs of respiratory illness.',\n",
       " 'Says David Dewhurst accused Cruz of being a Red Chinese Communist.',\n",
       " 'Says Bush Jr. handed Obama a $1.4 trillion deficit and Obama reduced Bush Jr.s deficit to just $492 billion.',\n",
       " 'In 2009, the Small Business Entrepreneurship Council ranked Ohio 11th in the nation and 1st in the Midwest for overall business climate.',\n",
       " 'The balanced-budget amendment once came within one vote of passing Congress but was defeated because of the no vote from a top Senate Republican, and Rick Santorum says he stood up and called for him to resign his chairmanship.',\n",
       " '\"I think we came down here (to Florida) one time ... but we weren\\'t actively fundraising here.\"',\n",
       " '\"McCain opposed a requirement that the government buy American-made motorcycles. And he said all buy-American provisions were quote \\'disgraceful.\\' \"',\n",
       " 'Joe Garcia raised utility rates on families.',\n",
       " 'Victory! Republicans by 2 to 1 vote to endorse Mark Neumann on first ballot at GOP convention.',\n",
       " 'Says the United States actually exports more gasoline, diesel and other fuels than it imported in 2011 for the first time since, I think, 1949.',\n",
       " 'We spent twice as much per capita for health care in this country as the next closest nation.',\n",
       " 'Rather than prioritize and pass ethics reform measures to restore trust in state government, (Democrats) sat on their hands and did nothing when they were the majority.',\n",
       " 'From 2008 to 2011, the pages in the conforming bills have gone from 400 pages to 2,200.',\n",
       " \"If you're over 65 years old in America today, you have no choice but to be in Medicare. Even if you want out of Medicare, you have to forfeit your Social Security to get out of it.\",\n",
       " 'The (Ohio) economy is on the mend. It is in better shape than it was when we took office.',\n",
       " 'Pat Toomey advocated for eliminating all corporate taxes.',\n",
       " \"President Obama's own director of national intelligence, Admiral Blair, put it this way: 'High-value information came from interrogations in which those methods were used and provided a deeper understanding of the al-Qaida organization that was attacking this country.'\",\n",
       " 'Says he said last year theres absolutely no reason for Texas to secede.',\n",
       " \"Obama couldn't have afforded his home without Rezko's help.\",\n",
       " 'You cant build a Christian church in Saudi Arabia.',\n",
       " 'Im running for office with much more experience and qualifications than Barack Obama had when he ran.',\n",
       " 'Today we stand as the highest-performing urban school district in America.',\n",
       " 'Onion Creeks highest flow rate on a recent night of flooding was 120,000 cubic feet per second, which is nearly double the average flow rate of Niagara Falls.',\n",
       " 'Rhode Island is at the top of the country for alcohol-related fatalities.',\n",
       " 'Over the last four years, 53 percent of black wealth has just disappeared.',\n",
       " 'Scientists are questioning the original idea that man-made global warming is what is causing the climate to change. (It is) more and more being put into question.',\n",
       " 'Harry Reid has voted to give illegals Social Security benefits even for the time they were here illegally.',\n",
       " 'Climate change is directly related to the growth of terrorism.',\n",
       " 'U.S. Reps. Hank Johnson, John Lewis and other members of the Congressional Progressive Caucus are socialists who are openly serving in the U.S. Congress.',\n",
       " 'Says state\\'s expected \"increase in federal political clout is almost entirely due to the growth of the African American and Hispanic populations in Texas in virtually every region of the state.',\n",
       " 'Says Glenn Grothman pushed through state tax credits that when phased in, someone that owns a factory that produces millions in income will pay less tax than their nephew would if he worked full time at Taco Bell for minimum wage.',\n",
       " 'Huckabee \"was one of the highest taxing governors that we had in this country and rivaling Bill Clinton in terms of the Cato ratings.\"',\n",
       " 'Gangs have increased by 40 percent since this president was elected.',\n",
       " 'Claims Wisconsin Senate Majority Leader Scott Fitzgerald said: It is necessary to eliminate unions in order to balance future budgets.',\n",
       " 'Florida has more concealed weapons permits than any other state.',\n",
       " 'Says he has exposed plans by Wisconsin Gov. Scott Walker to push legislation that would allow the state to declare financial martial law and take over municipal governments.',\n",
       " 'Wisconsin has created just under 100,000 jobs since he took office.',\n",
       " 'Per-student K-12 state funding for Portland Public Schools has dipped from $6,036 in the 2007-2008 school year to $5,644 in the 2010-2011 school year',\n",
       " 'The premiums on Medicares prescription drug program have fallen almost every year since it began.',\n",
       " 'Forty percent of illegal immigrants are people coming legally on visas and overstaying their visas.',\n",
       " 'Says Maggie Hassan is the only female governor in the country.',\n",
       " 'Says hes taken an 8% pay decrease in each of the nine years he has been in office.',\n",
       " 'Says the federal government is earning more tax revenue now than any other time.',\n",
       " 'Six out of 10 of the highest unemployment rates are also in so-called right to work states.',\n",
       " 'Says Donald Trump has been talking about the option of using a nuclear weapon against our Western European allies.',\n",
       " 'More than half of the people on food stamps today are children.',\n",
       " 'McGinty previously told a local community newspaper in her native Philadelphia that she has found an alarming undercurrent of misinformed people in the T part of the state outside of Philadelphia and Pittsburgh.',\n",
       " 'Says Wisconsin Assembly Republicans voted to repeal a law that ensures that women cannot get paid less than a man for doing the same job.',\n",
       " 'Says if Texas abortion measure passes, someone living in El Paso would have to drive 550 miles each way to San Antonio for something as simple as cervical cancer screening.',\n",
       " 'Says Michael Cargill was arrested and incarcerated in Bell County.',\n",
       " 'On a cap-and-trade plan.',\n",
       " 'More Texans have new jobs today than the entire population of Fort Worth.',\n",
       " 'The financial services regulatory bill \"will end taxpayer bailouts.\"',\n",
       " 'China is going to have twice the number of submarines we have in just over a decade.',\n",
       " \"A scheduled speech by President Barack Obama will be the first time an American president has spoken directly to the nation's school children about persisting and succeeding in school.\",\n",
       " 'A 5-cent charge on paper bags is a tax.',\n",
       " 'You might be surprised to know that 137 billion gallons flows (into Lake Erie) every day. You might be surprised to know that only 86.3 billion gallons flow out. ... Leaving us a net surplus of approximately 50 billion gallons a day.',\n",
       " 'Women of childbearing age spend 68 percent more in out-of-pocket health care costs than men.',\n",
       " 'When I go on Letterman the ratings go up.',\n",
       " 'Obamacare-caused paperwork will annually absorb 190 million hours or more--and Mount Rushmore could be built 1,547 times over with the paperwork.',\n",
       " 'Says most illegal immigrants draw welfare benefits, theyre sending their kids to school, theyre using the public services.',\n",
       " '59 percent of Americans today believe that Barack Obama is still a Muslim.',\n",
       " 'Says Fran DeWines made-from-scratch dinner rolls are a delicious favorite in a traditional Thanksgiving dinner.',\n",
       " 'And by the way, when I was governor, I did make the payment into the pension fund.',\n",
       " 'Proof of citizenship isnt necessary before you register to vote in Florida.',\n",
       " 'Our trade with Mexico is $720 million a day; thats our No. 1 trading partner.',\n",
       " 'When it comes to urgency on passing a budget repair bill, theres no rush on this thing because the fiscal year doesnt end until June 30, 2011.',\n",
       " 'John Raeses wife is registered to vote in Florida so she cant even vote for him.',\n",
       " 'Says Hillary Clinton has been saying lately that she thinks that I am, not qualifiedto be president.',\n",
       " 'The U.S. State Department has ordered 160,000 Hazmat suits for Ebola, prompting concerns that the federal government is anticipating the rapid spread of the virus.',\n",
       " 'The recidivism rate is nearly 29 percent and has been climbing steadily since detainees began being released from Guantanamo.',\n",
       " 'In Texas, weve had three ISIS-related incidents already.',\n",
       " 'Leticia Van de Putte voted to give illegal immigrants in this country free health care--not emergency health care but total free health care.',\n",
       " 'Says Republican-approved changes to make it more difficult to participate in Ohio elections include reducing in-person early voting from 35 days to six.',\n",
       " '(Bill) McCollum also voted for numerous amendments to weaken the legislation, even voting to make trains less accessible to those in wheelchairs.',\n",
       " 'With Obamacare, were fixing to get hit with the biggest entitlement program the American taxpayers have ever seen.',\n",
       " 'Currently, there is no one from South Austin on the (Austin City) Council!',\n",
       " 'Schools in some states are spending up to 100 days a year doing test-prep or actual testing.',\n",
       " '\"I haven\\'t missed a vote since 1993.\"',\n",
       " 'Democrats are cutting our school funding. Four times in the last 10 years before we came into office.',\n",
       " 'Says U.S. Rep. John Barrow left taxpayers on the hook for $950k study on genetic makeup of ants.',\n",
       " 'The national debt is equal to $48,700 for every American or $128,300 for every U.S. household. It is now equivalent to the size of our entire economy.',\n",
       " 'Four times, I said, he (John McCain)is a hero, but you know ... people choose selective pieces.',\n",
       " 'Wisconsins laws ranked the worst in the world for mining investment.',\n",
       " 'Were fifth in the world (in executions), behind China, Iran, Iraq and Saudi Arabia.',\n",
       " 'Since Republicans took over after the 2010 election, the graduation rate in Wisconsin has gone from 86 percent to 88 percent. The black graduation rate has gone from 60 percent to 65 percent. The Latino graduation rate has gone from 65 percent to 71 percent.',\n",
       " 'Says that Tennessee Gov. Bill Haslam has made it clear by his repeated actions that he will pursue a policy that promotes the interest of Islamist (sic) and their radical ideology as long as he is governor.',\n",
       " 'The 2006 Massachusetts health care law has added (only) about 1 percent to our state budget.',\n",
       " 'The number of people in Atlanta dying from HIV and AIDS declined 59 percent between 2004 and 2012.',\n",
       " 'Says campaign contributions to her rival for a state House seat was money intended for schoolchildren.',\n",
       " 'Says GOP Congressional candidate Scott Jones wants to build a wall. He wants to round people up and deport folks.',\n",
       " 'It still had not gotten terrible on the roads by 2 to 3 p.m. Tuesday.',\n",
       " 'In Texas, schools do not even have to teach sex education.',\n",
       " 'The Obama administration raised discretionary spending by 24 percent from President George W. Bushs last full-year budget and will run up more debt by October than Bush did in eight years.',\n",
       " 'Marco Rubio has the No. 1absentee record in the United States Senate.',\n",
       " 'Since ObamaCare and the stimulus passed, the unemployment rate in the U.S. has increased.',\n",
       " 'On choosing a Texas House speaker',\n",
       " 'In 2009, Yost spent 2.5 times more money than it took to run the (prosecutors) office before he got there.',\n",
       " 'I did not I did not I do not say that. I do not say that climate change is a hoax perpetrated by the Chinese.',\n",
       " 'Brock Turners early release will be a regular occurrence if Prop. 57 passes.',\n",
       " 'Nancy Pelosi wants a Windfall Tax on Retirement Income.',\n",
       " 'America is one of the highest-taxed nations in the world.',\n",
       " 'Any state tax law has to start in the House and the renewal of the state hospital bed tax this year started in the Senate, which is unconstitutional.',\n",
       " 'Since January 2008 the private sector has lost nearly 8 million jobs while local, state and federal governments added 590,000.',\n",
       " 'After how hard you work and how much you pay in taxes, New York City ends up getting the money. Im Chris Jacobs. I think its time we have someone in Albany thats making sure our region gets our fair share',\n",
       " 'In 2008, 33.2 percent of those who voted early on the last Sunday before Election Day were African-American, while 23.6 percent were Hispanic.',\n",
       " 'Says we brought crime rate down by 30 percent when he was mayor of Dallas.',\n",
       " 'Says Connie Macks Penny Plan would cut over $200 billion out of Medicare, over $1 trillion out of Social Security. ... $3 trillion out of defense.',\n",
       " 'We have only one person on the (TVA) board, to my knowledge, who even has any corporate board experience.',\n",
       " 'We dont need a separate (prescription drug) database ... Pharmacies already have a database in place.',\n",
       " 'Ninety percent of the topsoil has inadequate moisture to grow crops.',\n",
       " 'North Dakotas economy is reeling.',\n",
       " 'On signing a no-tax pledge',\n",
       " 'Obama \"voted against funding our troops.\"',\n",
       " 'The Keystone oil pipeline would employ 20,000 people in the United States.',\n",
       " 'As first lady, Clinton would travel to places that were \"too small, too poor or too dangerous\" for the president.',\n",
       " 'Says that under President Barack Obamas health care law, your insurance premiums could go up by 200 percent and cost as much as a new Explorer.',\n",
       " 'On running a civil and polite campaign.',\n",
       " 'Buono voted 154 times to raise our taxes -- like the sales tax, the income tax, health care taxes, even small business taxes.',\n",
       " 'Says the Congressional Budget Office estimates a cap-and-trade program would cost the average family the equivalent of a postage stamp a day.',\n",
       " '\"I don\\'t describe your plan as amnesty in my ad. I don\\'t call it amnesty.\"',\n",
       " \"Under the new Arizona immigration law, police can't stop someone to check their immigration status unless they think they see something illegal.\",\n",
       " 'Barack Obama has never even worked in business.',\n",
       " 'Michelle Obama ordered $400 worth of lobster and caviar at a New York hotel.',\n",
       " 'Says Michigan U.S. Senate candidateTerri Lynn Land said guaranteeing equal pay for women who do the same job as men is not a good idea.',\n",
       " 'Ohio currently ranks 50th out of all states in income growth.',\n",
       " 'Says U.S. Senate opponent Ron Johnson is opposed to all government-assisted student loans.',\n",
       " 'Says Rick Perry and the Republican-controlled Texas Legislature managed to slash the budget of the volunteer fire departments in our state by 75 percent in the last legislative session, reducing their abilities to fight recent wildfires.',\n",
       " 'Says Supreme Court nominee Merrick Garlandvoted, so the folks know, in Washington, D.C., to keep guns away from private citizens.',\n",
       " 'The federal government may put 16,500 IRS agents in charge of policing President Obamas health care bill.',\n",
       " 'Americans are working longer hours for low wages . . . and yet almost all new income and wealth is going to the top 1 percent.',\n",
       " 'Says the Koch brothers want to protect tax cuts for companies that ship our jobs overseas.',\n",
       " 'Earlier this year, the head of the Congressional Budget Office testified before Congress that implementation of Obamacare would cost 800,000 jobs.',\n",
       " 'Half of all hospitalized seniors are suffering from malnutrition so severe that it either caused their illness or it prevents them from getting better.',\n",
       " ...]"
      ]
     },
     "execution_count": 8,
     "metadata": {},
     "output_type": "execute_result"
    }
   ],
   "source": [
    "df_raw['statement'].tolist()"
   ]
  },
  {
   "cell_type": "code",
   "execution_count": 9,
   "metadata": {},
   "outputs": [
    {
     "data": {
      "text/plain": [
       "0                          moveon\n",
       "1                      matt-lauer\n",
       "2                    donald-trump\n",
       "3                   candy-crowley\n",
       "4                        ted-cruz\n",
       "5                     rob-portman\n",
       "6                    barack-obama\n",
       "7                    alan-grayson\n",
       "8                     mitt-romney\n",
       "9                       joe-biden\n",
       "10                ellen-rosenblum\n",
       "11                     linda-finn\n",
       "12            us-chamber-commerce\n",
       "13                    tom-barrett\n",
       "14                 chris-christie\n",
       "15                russell-edwards\n",
       "16                    mitt-romney\n",
       "17                   jeff-merkley\n",
       "18                  rush-limbaugh\n",
       "19                   john-boehner\n",
       "20                hillary-clinton\n",
       "21                  preston-smith\n",
       "22              jim-sensenbrenner\n",
       "23                   donald-trump\n",
       "24               frederica-wilson\n",
       "25                      joe-biden\n",
       "26                  rick-santorum\n",
       "27                      pam-bondi\n",
       "28                 johnny-isakson\n",
       "29                   barack-obama\n",
       "                   ...           \n",
       "12806                    bernie-s\n",
       "12807                brett-hulsey\n",
       "12808    debbie-wasserman-schultz\n",
       "12809                bill-clinton\n",
       "12810            suzanne-bonamici\n",
       "12811                  rudy-moise\n",
       "12812                barack-obama\n",
       "12813                john-boehner\n",
       "12814               newt-gingrich\n",
       "12815                scott-walker\n",
       "12816               kathleen-falk\n",
       "12817             sandra-williams\n",
       "12818             hillary-clinton\n",
       "12819             jim-francesconi\n",
       "12820                donald-trump\n",
       "12821              chris-christie\n",
       "12822            michele-bachmann\n",
       "12823             hillary-clinton\n",
       "12824                monica-wehby\n",
       "12825               gina-raimondo\n",
       "12826              george-lemieux\n",
       "12827                john-boehner\n",
       "12828                phil-gingrey\n",
       "12829                  pat-toomey\n",
       "12830                kelly-ayotte\n",
       "12831              facebook-posts\n",
       "12832                  frank-wolf\n",
       "12833              crossroads-gps\n",
       "12834                scott-walker\n",
       "12835                paul-krugman\n",
       "Name: speaker, Length: 12836, dtype: object"
      ]
     },
     "execution_count": 9,
     "metadata": {},
     "output_type": "execute_result"
    }
   ],
   "source": [
    "df_raw['speaker']"
   ]
  },
  {
   "cell_type": "markdown",
   "metadata": {},
   "source": [
    "# Exploratory Data Analysis"
   ]
  },
  {
   "cell_type": "code",
   "execution_count": 7,
   "metadata": {},
   "outputs": [
    {
     "data": {
      "text/plain": [
       "Text(0.5, 1.0, 'Types & Number of Classes in the dataset')"
      ]
     },
     "execution_count": 7,
     "metadata": {},
     "output_type": "execute_result"
    },
    {
     "data": {
      "image/png": "[encoded data removed]",
      "text/plain": [
       "<Figure size 432x288 with 1 Axes>"
      ]
     },
     "metadata": {
      "needs_background": "light"
     },
     "output_type": "display_data"
    }
   ],
   "source": [
    "sns.countplot(x='label',data=df_raw)\n",
    "plt.title('Types & Number of Classes in the dataset')"
   ]
  },
  {
   "cell_type": "markdown",
   "metadata": {},
   "source": [
    "### Converting multiclass labels to two classes - Fake and True for exploratory data analysis"
   ]
  },
  {
   "cell_type": "code",
   "execution_count": 8,
   "metadata": {},
   "outputs": [],
   "source": [
    "#function for mapping labels \"true, mostly-true, half-true\" to TRUE and \"false, barely-true, pants-fire\" to FAKE.\n",
    "def binary_class_dataset(data):\n",
    "    \n",
    "    data = data.iloc[:, [2, 3]]\n",
    "    data.columns = ['label', 'statement']\n",
    "    Original_labels = {\n",
    "        'true': 'True',\n",
    "        'mostly-true': 'True',\n",
    "        'half-true': 'True',\n",
    "        'false': 'Fake',\n",
    "        'barely-true': 'Fake',\n",
    "        'pants-fire': 'Fake'\n",
    "    }\n",
    "    data['label'] = data['label'].map(Original_labels)\n",
    "\n",
    "    return data"
   ]
  },
  {
   "cell_type": "code",
   "execution_count": 9,
   "metadata": {},
   "outputs": [],
   "source": [
    "# running the function on the loaded dataframe\n",
    "bi_class= binary_class_dataset(df_raw)"
   ]
  },
  {
   "cell_type": "code",
   "execution_count": 10,
   "metadata": {},
   "outputs": [
    {
     "data": {
      "text/html": [
       "<div>\n",
       "<style scoped>\n",
       "    .dataframe tbody tr th:only-of-type {\n",
       "        vertical-align: middle;\n",
       "    }\n",
       "\n",
       "    .dataframe tbody tr th {\n",
       "        vertical-align: top;\n",
       "    }\n",
       "\n",
       "    .dataframe thead th {\n",
       "        text-align: right;\n",
       "    }\n",
       "</style>\n",
       "<table border=\"1\" class=\"dataframe\">\n",
       "  <thead>\n",
       "    <tr style=\"text-align: right;\">\n",
       "      <th></th>\n",
       "      <th>label</th>\n",
       "      <th>statement</th>\n",
       "    </tr>\n",
       "  </thead>\n",
       "  <tbody>\n",
       "    <tr>\n",
       "      <th>0</th>\n",
       "      <td>True</td>\n",
       "      <td>\"McCain opposes a woman's right to choose.\"</td>\n",
       "    </tr>\n",
       "    <tr>\n",
       "      <th>1</th>\n",
       "      <td>Fake</td>\n",
       "      <td>The name Frank has risen in popularity by 20 p...</td>\n",
       "    </tr>\n",
       "  </tbody>\n",
       "</table>\n",
       "</div>"
      ],
      "text/plain": [
       "  label                                          statement\n",
       "0  True        \"McCain opposes a woman's right to choose.\"\n",
       "1  Fake  The name Frank has risen in popularity by 20 p..."
      ]
     },
     "execution_count": 10,
     "metadata": {},
     "output_type": "execute_result"
    }
   ],
   "source": [
    "# new dataset with binary class labels - True and Fake substituted for the originals labels\n",
    "\n",
    "bi_class.head(2)"
   ]
  },
  {
   "cell_type": "markdown",
   "metadata": {},
   "source": [
    "## Creating Word Clouds for the text 'statements' in the LIAR dataset"
   ]
  },
  {
   "cell_type": "code",
   "execution_count": 11,
   "metadata": {},
   "outputs": [
    {
     "data": {
      "image/png": "[encoded data removed]",
      "text/plain": [
       "<Figure size 432x288 with 1 Axes>"
      ]
     },
     "metadata": {
      "needs_background": "light"
     },
     "output_type": "display_data"
    }
   ],
   "source": [
    "np.random.seed(0) # setting seed to get similar results over multiple experiments.\n",
    "\n",
    "# word cloud for all the statements in the entire dataset\n",
    "text = bi_class['statement'].values\n",
    "wordcloud = WordCloud(width=3000, height=2000, background_color='white',stopwords=STOPWORDS).generate(str(text))\n",
    "plt.imshow(wordcloud)\n",
    "plt.axis('off')\n",
    "plt.title(\"Word Cloud of 'Statements' in LIAR dataset\")\n",
    "plt.show()"
   ]
  },
  {
   "cell_type": "code",
   "execution_count": 12,
   "metadata": {},
   "outputs": [],
   "source": [
    "# creating two dataset consisting of True and Fake statements seperately\n",
    "np.random.seed(0)\n",
    "true_statements_dataset = bi_class[bi_class['label'].astype(str) == 'True']\n",
    "fake_statements_dataset = bi_class[bi_class['label'].astype(str) == 'Fake']"
   ]
  },
  {
   "cell_type": "code",
   "execution_count": 13,
   "metadata": {},
   "outputs": [
    {
     "data": {
      "text/html": [
       "<div>\n",
       "<style scoped>\n",
       "    .dataframe tbody tr th:only-of-type {\n",
       "        vertical-align: middle;\n",
       "    }\n",
       "\n",
       "    .dataframe tbody tr th {\n",
       "        vertical-align: top;\n",
       "    }\n",
       "\n",
       "    .dataframe thead th {\n",
       "        text-align: right;\n",
       "    }\n",
       "</style>\n",
       "<table border=\"1\" class=\"dataframe\">\n",
       "  <thead>\n",
       "    <tr style=\"text-align: right;\">\n",
       "      <th></th>\n",
       "      <th>label</th>\n",
       "      <th>statement</th>\n",
       "    </tr>\n",
       "  </thead>\n",
       "  <tbody>\n",
       "    <tr>\n",
       "      <th>0</th>\n",
       "      <td>True</td>\n",
       "      <td>\"McCain opposes a woman's right to choose.\"</td>\n",
       "    </tr>\n",
       "    <tr>\n",
       "      <th>3</th>\n",
       "      <td>True</td>\n",
       "      <td>Its been 14 years since a president or a vice ...</td>\n",
       "    </tr>\n",
       "    <tr>\n",
       "      <th>4</th>\n",
       "      <td>True</td>\n",
       "      <td>In the year 2013, the Obama administration rel...</td>\n",
       "    </tr>\n",
       "    <tr>\n",
       "      <th>5</th>\n",
       "      <td>True</td>\n",
       "      <td>Says the United States does not trade as much ...</td>\n",
       "    </tr>\n",
       "    <tr>\n",
       "      <th>7</th>\n",
       "      <td>True</td>\n",
       "      <td>Says 24 million people in this country cant fi...</td>\n",
       "    </tr>\n",
       "  </tbody>\n",
       "</table>\n",
       "</div>"
      ],
      "text/plain": [
       "  label                                          statement\n",
       "0  True        \"McCain opposes a woman's right to choose.\"\n",
       "3  True  Its been 14 years since a president or a vice ...\n",
       "4  True  In the year 2013, the Obama administration rel...\n",
       "5  True  Says the United States does not trade as much ...\n",
       "7  True  Says 24 million people in this country cant fi..."
      ]
     },
     "execution_count": 13,
     "metadata": {},
     "output_type": "execute_result"
    }
   ],
   "source": [
    "np.random.seed(0)\n",
    "# contains only TRUE statements\n",
    "true_statements_dataset.head(5)"
   ]
  },
  {
   "cell_type": "code",
   "execution_count": 14,
   "metadata": {},
   "outputs": [
    {
     "data": {
      "text/html": [
       "<div>\n",
       "<style scoped>\n",
       "    .dataframe tbody tr th:only-of-type {\n",
       "        vertical-align: middle;\n",
       "    }\n",
       "\n",
       "    .dataframe tbody tr th {\n",
       "        vertical-align: top;\n",
       "    }\n",
       "\n",
       "    .dataframe thead th {\n",
       "        text-align: right;\n",
       "    }\n",
       "</style>\n",
       "<table border=\"1\" class=\"dataframe\">\n",
       "  <thead>\n",
       "    <tr style=\"text-align: right;\">\n",
       "      <th></th>\n",
       "      <th>label</th>\n",
       "      <th>statement</th>\n",
       "    </tr>\n",
       "  </thead>\n",
       "  <tbody>\n",
       "    <tr>\n",
       "      <th>1</th>\n",
       "      <td>Fake</td>\n",
       "      <td>The name Frank has risen in popularity by 20 p...</td>\n",
       "    </tr>\n",
       "    <tr>\n",
       "      <th>2</th>\n",
       "      <td>Fake</td>\n",
       "      <td>Says Ted Cruz never denied his father was phot...</td>\n",
       "    </tr>\n",
       "    <tr>\n",
       "      <th>6</th>\n",
       "      <td>Fake</td>\n",
       "      <td>\"Oil companies ...currently have 68-million ac...</td>\n",
       "    </tr>\n",
       "    <tr>\n",
       "      <th>8</th>\n",
       "      <td>Fake</td>\n",
       "      <td>President Obama went around the world and apol...</td>\n",
       "    </tr>\n",
       "    <tr>\n",
       "      <th>12</th>\n",
       "      <td>Fake</td>\n",
       "      <td>The new health care law crushes small business...</td>\n",
       "    </tr>\n",
       "  </tbody>\n",
       "</table>\n",
       "</div>"
      ],
      "text/plain": [
       "   label                                          statement\n",
       "1   Fake  The name Frank has risen in popularity by 20 p...\n",
       "2   Fake  Says Ted Cruz never denied his father was phot...\n",
       "6   Fake  \"Oil companies ...currently have 68-million ac...\n",
       "8   Fake  President Obama went around the world and apol...\n",
       "12  Fake  The new health care law crushes small business..."
      ]
     },
     "execution_count": 14,
     "metadata": {},
     "output_type": "execute_result"
    }
   ],
   "source": [
    "# contains only FAKE statements\n",
    "np.random.seed(0)\n",
    "fake_statements_dataset.head(5)"
   ]
  },
  {
   "cell_type": "code",
   "execution_count": 15,
   "metadata": {},
   "outputs": [
    {
     "data": {
      "image/png": "[encoded data removed]",
      "text/plain": [
       "<Figure size 432x288 with 1 Axes>"
      ]
     },
     "metadata": {
      "needs_background": "light"
     },
     "output_type": "display_data"
    }
   ],
   "source": [
    "np.random.seed(0)\n",
    "# creating word cloud for only those statements that are TRUE\n",
    "text_true = true_statements_dataset['statement'].values\n",
    "wordcloud_true = WordCloud(width=3000, height=2000, background_color='white',stopwords=STOPWORDS).generate(str(text_true))\n",
    "plt.imshow(wordcloud_true)\n",
    "plt.axis('off')\n",
    "plt.title(\"Word Cloud of statements that are TRUE\")\n",
    "plt.show()"
   ]
  },
  {
   "cell_type": "code",
   "execution_count": 16,
   "metadata": {},
   "outputs": [
    {
     "data": {
      "image/png": "[encoded data removed]",
      "text/plain": [
       "<Figure size 432x288 with 1 Axes>"
      ]
     },
     "metadata": {
      "needs_background": "light"
     },
     "output_type": "display_data"
    }
   ],
   "source": [
    "np.random.seed(0)\n",
    "# creating word cloud for or only those statements that are FAKE\n",
    "text_false = fake_statements_dataset['statement'].values\n",
    "wordcloud_false = WordCloud(width=3000, height=2000, background_color='white',stopwords=STOPWORDS).generate(str(text_false))\n",
    "plt.imshow(wordcloud_false)\n",
    "plt.axis('off')\n",
    "plt.title(\"Word Cloud of statements that are FALSE\")\n",
    "plt.show()"
   ]
  },
  {
   "cell_type": "markdown",
   "metadata": {},
   "source": [
    "### Exploring the 'speakers' who have given the statements in the LIAR dataset"
   ]
  },
  {
   "cell_type": "code",
   "execution_count": 17,
   "metadata": {},
   "outputs": [
    {
     "name": "stdout",
     "output_type": "stream",
     "text": [
      "The total number of speakers in the LIAR dataset is : 3318  \n",
      "\n",
      "Some sample speakers are:\n",
      " ['moveon', 'matt-lauer', 'donald-trump', 'candy-crowley', 'ted-cruz', 'rob-portman', 'barack-obama', 'alan-grayson', 'mitt-romney', 'joe-biden']\n"
     ]
    }
   ],
   "source": [
    "\"\"\"finding the total number of unique 'speakers' in the LIAR dataset\"\"\"\n",
    "speakers_data = df_raw.copy()\n",
    "speakers = speakers_data['speaker'].unique()\n",
    "\n",
    "print(\"The total number of speakers in the LIAR dataset is : %d  \" % len(speakers))\n",
    "print()\n",
    "print(\"Some sample speakers are:\\n\", speakers[:10].tolist())"
   ]
  },
  {
   "cell_type": "code",
   "execution_count": 18,
   "metadata": {},
   "outputs": [
    {
     "name": "stdout",
     "output_type": "stream",
     "text": [
      "There are 13 speakers who have made statements more than 50 times in the dataset\n",
      "\n",
      "Some of the speakers and the number of statements made by them are:\n",
      " speaker\n",
      "barack-obama       616\n",
      "bernie-s           107\n",
      "chain-email        178\n",
      "chris-christie     105\n",
      "donald-trump       344\n",
      "hillary-clinton    297\n",
      "john-mccain        189\n",
      "marco-rubio        153\n",
      "mitt-romney        216\n",
      "rick-perry         173\n",
      "Name: statement, dtype: int64\n"
     ]
    }
   ],
   "source": [
    "\n",
    "\"\"\"\"displaying all the speakers in exploratory plot will not be possible nor meaningful.\n",
    "            Hence finding the top speakers who have made frequent statements\"\"\"\n",
    "\n",
    "speakers_cts = speakers_data.groupby(\"speaker\").statement.count()\n",
    "speakers = speakers_cts[speakers_cts > 100] # speakers who have made more than 100 statements.\n",
    "print(\"There are %d speakers who have made statements more than 50 times in the dataset\" % len(speakers))\n",
    "print()\n",
    "print(\"Some of the speakers and the number of statements made by them are:\\n\", speakers[:10])"
   ]
  },
  {
   "cell_type": "code",
   "execution_count": 19,
   "metadata": {},
   "outputs": [],
   "source": [
    "#Limiting ourselves to only prominent speakers for visualization\n",
    "speakers_data = speakers_data[speakers_data['speaker'].isin(speakers.keys())]"
   ]
  },
  {
   "cell_type": "code",
   "execution_count": 20,
   "metadata": {},
   "outputs": [],
   "source": [
    "\"\"\"function to groupby the speakers by the class and count of statements spoken by them\"\"\"\n",
    "\n",
    "def class_counts(data, column):\n",
    "    return data.groupby([column,\"label\"]).agg({\"ID\" : \"count\"})\n"
   ]
  },
  {
   "cell_type": "markdown",
   "metadata": {},
   "source": [
    "#### Plot of top 13 speakers in the LIAR dataset labelled by class and count of statements they have given."
   ]
  },
  {
   "cell_type": "code",
   "execution_count": 21,
   "metadata": {},
   "outputs": [
    {
     "data": {
      "text/plain": [
       "Text(0.5, 1.0, 'Top 13 speakers in the LIAR dataset with count and class of statements made')"
      ]
     },
     "execution_count": 21,
     "metadata": {},
     "output_type": "execute_result"
    },
    {
     "data": {
      "image/png": "[encoded data removed]",
      "text/plain": [
       "<Figure size 1080x360 with 1 Axes>"
      ]
     },
     "metadata": {
      "needs_background": "light"
     },
     "output_type": "display_data"
    }
   ],
   "source": [
    "# stacked bar plot of speakrs with class and count of statements\n",
    "breakdown = class_counts(speakers_data, 'speaker')\n",
    "breakdown.unstack().plot(kind='bar', stacked=True, figsize=(15,5))\n",
    "plt.title(\"Top 13 speakers in the LIAR dataset with count and class of statements made\")"
   ]
  },
  {
   "cell_type": "code",
   "execution_count": 22,
   "metadata": {},
   "outputs": [],
   "source": [
    "# Function for Normalising the statements and the speakers for comparison purpose\n",
    "\n",
    "def normalize(data, column):\n",
    "    norm = data.reset_index()\n",
    "    norm = norm.set_index([column,'label'])['ID'].unstack(fill_value=0)\n",
    "\n",
    "    row_totals = norm.sum(axis=1)\n",
    "    for row in range(len(norm.index)):\n",
    "        norm.iloc[row]/= row_totals[row]\n",
    "\n",
    "    norm = norm.stack().reset_index(name='Percent').set_index([column, 'label'])\n",
    "    return norm"
   ]
  },
  {
   "cell_type": "markdown",
   "metadata": {},
   "source": [
    "#### Normalised plot of top 13 speakers in the LIAR dataset labelled type of statements they have given (for comparison)"
   ]
  },
  {
   "cell_type": "code",
   "execution_count": 23,
   "metadata": {},
   "outputs": [
    {
     "data": {
      "text/plain": [
       "Text(0.5, 1.0, 'Top 13 speakers in the LIAR dataset with count and class of statements made by them')"
      ]
     },
     "execution_count": 23,
     "metadata": {},
     "output_type": "execute_result"
    },
    {
     "data": {
      "image/png": "[encoded data removed]",
      "text/plain": [
       "<Figure size 1080x360 with 1 Axes>"
      ]
     },
     "metadata": {
      "needs_background": "light"
     },
     "output_type": "display_data"
    }
   ],
   "source": [
    "normalised_data = normalize(breakdown, 'speaker')\n",
    "normalised_data.unstack().plot(kind='bar', stacked=True, figsize=(15,5))\n",
    "plt.title(\"Top 13 speakers in the LIAR dataset with count and class of statements made by them\")"
   ]
  },
  {
   "cell_type": "markdown",
   "metadata": {},
   "source": [
    "From the above plot it can be seen that Facebook posts, Chain emails and Donald Trump have relatively higher number of 'pant-on_fire' fake statements compared to other speakers. We can also note that even though Obama made highest number of statements, his pant-on-fire statements are almost nill."
   ]
  },
  {
   "cell_type": "markdown",
   "metadata": {},
   "source": [
    "### Exploring the parties who have given statements in the LIAR dataset"
   ]
  },
  {
   "cell_type": "code",
   "execution_count": 24,
   "metadata": {},
   "outputs": [
    {
     "name": "stdout",
     "output_type": "stream",
     "text": [
      "The total number of parties in LIAR dataset are : 24\n",
      "\n",
      "Some  parties are:\n",
      " ['democrat', 'none', 'republican', 'organization', 'journalist', 'newsmaker', 'independent', 'libertarian', 'state-official', 'columnist', 'activist', 'tea-party-member', 'labor-leader', 'talk-show-host', 'ocean-state-tea-party-action', 'business-leader', 'county-commissioner', 'constitution-party', 'government-body', 'education-official', 'democratic-farmer-labor', 'green', 'Moderate', 'liberal-party-canada']\n"
     ]
    }
   ],
   "source": [
    "# finding total number of parties in the LIAR dataset\n",
    "parties_data = df_raw.copy()\n",
    "parties = parties_data['party'].unique()\n",
    "print(\"The total number of parties in LIAR dataset are : %d\" % len(parties))\n",
    "print()\n",
    "print(\"Some  parties are:\\n\", parties.tolist())"
   ]
  },
  {
   "cell_type": "code",
   "execution_count": 25,
   "metadata": {},
   "outputs": [
    {
     "name": "stdout",
     "output_type": "stream",
     "text": [
      "Number of parties or entities who have made more than 20 statements in the LIAR dataset : 12\n",
      "\n",
      "Some of the parties and number of statements made by them are :\n",
      " party\n",
      "activist          47\n",
      "columnist         45\n",
      "democrat        4150\n",
      "independent      182\n",
      "journalist        49\n",
      "libertarian       51\n",
      "newsmaker         66\n",
      "none            2185\n",
      "organization     265\n",
      "republican      5687\n",
      "Name: statement, dtype: int64\n"
     ]
    }
   ],
   "source": [
    "# limiting the parties to those which have made frequent statements in the dataset.\n",
    "parties_count = parties_data.groupby(\"party\").statement.count()\n",
    "parties = parties_count[parties_count > 20]     # more than 20 statements\n",
    "\n",
    "print(\"Number of parties or entities who have made more than 20 statements in the LIAR dataset : %d\" % len(parties))\n",
    "print()\n",
    "print(\"Some of the parties and number of statements made by them are :\\n\", parties[:10])"
   ]
  },
  {
   "cell_type": "code",
   "execution_count": 26,
   "metadata": {},
   "outputs": [],
   "source": [
    "## Limiting ourselves to the top 12 parties in the LIAR dataset\n",
    "\n",
    "parties_data = parties_data[parties_data['party'].isin(parties.keys())]"
   ]
  },
  {
   "cell_type": "markdown",
   "metadata": {},
   "source": [
    "####  Plot of top 12 parties in the LIAR dataset labelled type of statements they have given"
   ]
  },
  {
   "cell_type": "code",
   "execution_count": 27,
   "metadata": {},
   "outputs": [
    {
     "data": {
      "text/plain": [
       "Text(0.5, 1.0, 'Top 12 parties/entities in the LIAR dataset with count and class of statements made by them')"
      ]
     },
     "execution_count": 27,
     "metadata": {},
     "output_type": "execute_result"
    },
    {
     "data": {
      "image/png": "[encoded data removed]",
      "text/plain": [
       "<Figure size 1440x360 with 1 Axes>"
      ]
     },
     "metadata": {
      "needs_background": "light"
     },
     "output_type": "display_data"
    }
   ],
   "source": [
    "breakdown = class_counts(parties_data, 'party')\n",
    "breakdown.unstack().plot(kind='bar', stacked=True, figsize=(20,5))\n",
    "plt.title(\"Top 12 parties/entities in the LIAR dataset with count and class of statements made by them\")"
   ]
  },
  {
   "cell_type": "markdown",
   "metadata": {},
   "source": [
    "#### Normalised plot of top 12 parties in the LIAR dataset labelled type of statements they have given (for comparison)"
   ]
  },
  {
   "cell_type": "code",
   "execution_count": 28,
   "metadata": {},
   "outputs": [
    {
     "data": {
      "text/plain": [
       "Text(0.5, 1.0, 'Top 12 parties/entities in the LIAR dataset with count and class of statements made by them')"
      ]
     },
     "execution_count": 28,
     "metadata": {},
     "output_type": "execute_result"
    },
    {
     "data": {
      "image/png": "[encoded data removed]",
      "text/plain": [
       "<Figure size 1080x360 with 1 Axes>"
      ]
     },
     "metadata": {
      "needs_background": "light"
     },
     "output_type": "display_data"
    }
   ],
   "source": [
    "normalized_data = normalize(breakdown, 'party')\n",
    "normalized_data.unstack().plot(kind='bar', stacked=True, figsize=(15,5))\n",
    "plt.title(\"Top 12 parties/entities in the LIAR dataset with count and class of statements made by them\")"
   ]
  },
  {
   "cell_type": "markdown",
   "metadata": {},
   "source": [
    "# Using CountVectorizer for Extracting features from 'statements' in LIAR dataset"
   ]
  },
  {
   "cell_type": "code",
   "execution_count": 29,
   "metadata": {},
   "outputs": [],
   "source": [
    "# specifying features and labels\n",
    "X= df_raw['statement']\n",
    "y=df_raw['label']"
   ]
  },
  {
   "cell_type": "code",
   "execution_count": 30,
   "metadata": {},
   "outputs": [
    {
     "data": {
      "text/plain": [
       "['\"McCain opposes a woman\\'s right to choose.\"',\n",
       " 'The name Frank has risen in popularity by 20 percent since the debut of House of Cardson Netflix.',\n",
       " 'Says Ted Cruz never denied his father was photographedwith Lee Harvey Oswald.',\n",
       " 'Its been 14 years since a president or a vice president or a member of their family has not gone and attended at least an event at the Olympics.',\n",
       " 'In the year 2013, the Obama administration released 104,000 criminal illegal aliens. They released 196 murderers people with homicide convictions, who are here illegally.']"
      ]
     },
     "execution_count": 30,
     "metadata": {},
     "output_type": "execute_result"
    }
   ],
   "source": [
    "# sample statements\n",
    "X.head(5).tolist()"
   ]
  },
  {
   "cell_type": "code",
   "execution_count": 31,
   "metadata": {},
   "outputs": [
    {
     "data": {
      "text/plain": [
       "0           true\n",
       "1    barely-true\n",
       "2     pants-fire\n",
       "3           true\n",
       "4      half-true\n",
       "Name: label, dtype: object"
      ]
     },
     "execution_count": 31,
     "metadata": {},
     "output_type": "execute_result"
    }
   ],
   "source": [
    "#sample labels\n",
    "y.head(5)"
   ]
  },
  {
   "cell_type": "code",
   "execution_count": 32,
   "metadata": {},
   "outputs": [
    {
     "name": "stdout",
     "output_type": "stream",
     "text": [
      "10268 2568\n",
      "10268 2568\n"
     ]
    }
   ],
   "source": [
    "# specifying train and test split with ratio of 80:20\n",
    "X_train, X_test, y_train, y_test = train_test_split(X,y, test_size=0.2, random_state = 0, stratify=y)\n",
    "print(len(X_train), len(X_test))\n",
    "print(len(y_train), len(y_test))"
   ]
  },
  {
   "cell_type": "markdown",
   "metadata": {},
   "source": [
    "### Custom Pre - Processing and Tokenisation of the data"
   ]
  },
  {
   "cell_type": "code",
   "execution_count": 33,
   "metadata": {},
   "outputs": [
    {
     "data": {
      "text/plain": [
       "' function for decontracting the statements'"
      ]
     },
     "execution_count": 33,
     "metadata": {},
     "output_type": "execute_result"
    }
   ],
   "source": [
    "\n",
    "\"\"\" Regular expression for cleaning the statements\"\"\"\n",
    "\n",
    "hashtag_re = re.compile(r\"#\\w+\")\n",
    "mention_re = re.compile(r\"@\\w+\")\n",
    "url_re = re.compile(r\"(?:https?://)?(?:[-\\w]+\\.)+[a-zA-Z]{2,9}[-\\w/#~:;.?+=&%@~]*\")\n",
    "extras_re = re.compile(\"[.;:!\\'?,\\\"()\\[\\]]\")\n",
    "#apos_re = \"\\'[a-z]*\"\n",
    "#leftover_re = \"\\S+\"\n",
    "\n",
    "\"\"\" Preprocessing the text in the statements\"\"\"\n",
    "def preprocess(text):\n",
    "    p_text = hashtag_re.sub(\"[hashtag]\",text)\n",
    "    p_text = mention_re.sub(\"[mention]\",p_text)\n",
    "    p_text = extras_re.sub(\"\",p_text)\n",
    "    p_text = url_re.sub(\"[url]\",p_text)\n",
    "    p_text = ftfy.fix_text(p_text)\n",
    "    return p_text.lower()\n",
    "\n",
    "# regular expression for custom tokenisation\"\n",
    "tokenise_re = re.compile(r\"(\\[[^\\]]+\\]|[-'\\w]+|[^\\s\\w\\[']+)\") #([]|words|other non-space)\n",
    "\n",
    "# defining 3 types of tokenisation\n",
    "\n",
    "def custom_tokenise(text):\n",
    "    return tokenise_re.findall(text.lower())\n",
    "\n",
    "def Tokenizer(str_input):\n",
    "    words = re.sub(r\"[^A-Za-z0-9\\-]\", \" \", str_input).lower().split()\n",
    "    porter_stemmer=nltk.PorterStemmer()\n",
    "    words = [porter_stemmer.stem(word) for word in words]\n",
    "    return words\n",
    "\n",
    "\n",
    "def nltk_twitter_tokenise(text):\n",
    "    twtok = nltk.tokenize.TweetTokenizer()\n",
    "    return twtok.tokenize(text.lower())\n",
    "\n",
    "# stop words list set to english\n",
    "stopwords_list = stopwords.words('english') # stop word list\n",
    "\n",
    "\n",
    "\n",
    "\"\"\" function for decontracting the statements\"\"\"\n",
    "#def decontracted(phrase):\n",
    "   # phrase = re.sub(r\"won\\'t\", \"will not\", phrase)\n",
    "   # phrase = re.sub(r\"can\\'t\", \"can not\", phrase)\n",
    "   # phrase = re.sub(r\"n\\'t\", \" not\", phrase)\n",
    "   # phrase = re.sub(r\"\\'re\", \" are\", phrase)\n",
    "   # phrase = re.sub(r\"\\'s\", \" is\", phrase)\n",
    "   # phrase = re.sub(r\"\\'d\", \" would\", phrase)\n",
    "    #phrase = re.sub(r\"\\'ll\", \" will\", phrase)\n",
    "    #phrase = re.sub(r\"\\'t\", \" not\", phrase)\n",
    "    #phrase = re.sub(r\"\\'ve\", \" have\", phrase)\n",
    "   # phrase = re.sub(r\"\\'m\", \" am\", phrase)\n",
    "    #return phrase"
   ]
  },
  {
   "cell_type": "markdown",
   "metadata": {},
   "source": [
    "### Defining custom functions for displaying results of Classification"
   ]
  },
  {
   "cell_type": "code",
   "execution_count": 34,
   "metadata": {},
   "outputs": [],
   "source": [
    "# function for results of cross-validation\n",
    "def print_cv_scores_summary(name, scores):\n",
    "    print(\"{}: mean = {:.2f}%, sd = {:.2f}%, min = {:.2f}, max = {:.2f}\".format(name, scores.mean()*100, scores.std()*100, scores.min()*100, scores.max()*100))\n",
    "\n",
    "\n",
    "# fucntion for results of model fitting\n",
    "def print_scores():\n",
    "    print(\"Accuracy: \", accuracy_score(y_test, predictions))\n",
    "    print(classification_report(y_test, predictions))\n",
    "    print(confusion_matrix(y_test, predictions))\n",
    "    \n",
    "# function for displaying confusion matrix\n",
    "def confusion_matrix_heatmap(cm, index):\n",
    "    cmdf = pd.DataFrame(cm, index = index, columns=index)\n",
    "    dims = (10, 8)\n",
    "    fig, ax = plt.subplots(figsize=dims)\n",
    "    sns.heatmap(cmdf, annot=True, cmap=\"BuPu\", center=0, fmt='g')\n",
    "    ax.set_ylabel('Actual')    \n",
    "    ax.set_xlabel('Predicted')\n",
    "\n",
    "# function for displaying confusion matrix in percentage terms\n",
    "def confusion_matrix_percent_heatmap(cm, index):\n",
    "    cmdf = pd.DataFrame(cm, index = index, columns=index)\n",
    "    percents = cmdf.div(cmdf.sum(axis=1), axis=0)*100\n",
    "    dims = (10, 10)\n",
    "    fig, ax = plt.subplots(figsize=dims)\n",
    "    sns.heatmap(percents, annot=True, cmap=\"PiYG\", center=0, vmin=0, vmax=100)\n",
    "    ax.set_ylabel('Actual')    \n",
    "    ax.set_xlabel('Predicted')\n",
    "    cbar = ax.collections[0].colorbar\n",
    "    cbar.set_ticks([0, 25, 50, 75, 100])\n",
    "    cbar.set_ticklabels(['0%', '25%', '50%', '75%', '100%'])\n",
    "    \n",
    "#list(df_columns.columns))-list(df_raw['labels'])\"coolwarm\"'Blues'PiYG'BuPu'"
   ]
  },
  {
   "cell_type": "markdown",
   "metadata": {},
   "source": [
    "## Creating Pipeline with CountVectorizer with Custom preprocessing, Tokenisation, Stopwords, Normalistion (using TFIDTransformer), Feature selection and Logistic regression classifier"
   ]
  },
  {
   "cell_type": "code",
   "execution_count": 35,
   "metadata": {},
   "outputs": [],
   "source": [
    "model = Pipeline([\n",
    "    ('vectorizer', CountVectorizer(analyzer='word',preprocessor=preprocess,tokenizer=Tokenizer,stop_words=stopwords_list)),\n",
    "    ('norm2', TfidfTransformer(norm=None)),\n",
    "    ('selector', SelectKBest(chi2, k=1000)),\n",
    "    ('clf', LogisticRegression(solver='liblinear', random_state=0)),\n",
    "])"
   ]
  },
  {
   "cell_type": "code",
   "execution_count": 36,
   "metadata": {},
   "outputs": [
    {
     "name": "stdout",
     "output_type": "stream",
     "text": [
      "Accuracy:  0.24182242990654207\n",
      "              precision    recall  f1-score   support\n",
      "\n",
      " barely-true       0.25      0.17      0.20       422\n",
      "       false       0.22      0.40      0.28       502\n",
      "   half-true       0.24      0.25      0.25       528\n",
      " mostly-true       0.26      0.25      0.25       493\n",
      "  pants-fire       0.32      0.15      0.20       210\n",
      "        true       0.26      0.15      0.19       413\n",
      "\n",
      "   micro avg       0.24      0.24      0.24      2568\n",
      "   macro avg       0.26      0.23      0.23      2568\n",
      "weighted avg       0.25      0.24      0.23      2568\n",
      "\n",
      "[[ 71 162  85  64  17  23]\n",
      " [ 59 202 109  76  18  38]\n",
      " [ 60 172 134  94  15  53]\n",
      " [ 32 158 120 121   9  53]\n",
      " [ 28  84  39  19  31   9]\n",
      " [ 29 146  75  93   8  62]]\n"
     ]
    }
   ],
   "source": [
    "# fitting the model\n",
    "model.fit(X_train, y_train)\n",
    "predictions = model.predict(X_test)\n",
    "print_scores() # using the predefined function to display results of the classification"
   ]
  },
  {
   "cell_type": "code",
   "execution_count": 37,
   "metadata": {},
   "outputs": [
    {
     "data": {
      "text/plain": [
       "Pipeline(memory=None,\n",
       "     steps=[('vectorizer', CountVectorizer(analyzer='word', binary=False, decode_error='strict',\n",
       "        dtype=<class 'numpy.int64'>, encoding='utf-8', input='content',\n",
       "        lowercase=True, max_df=1.0, max_features=1000, min_df=1,\n",
       "        ngram_range=(1, 1),\n",
       "        preprocessor=<function preprocess a...nalty='l2', random_state=0, solver='liblinear',\n",
       "          tol=0.0001, verbose=0, warm_start=False))])"
      ]
     },
     "execution_count": 37,
     "metadata": {},
     "output_type": "execute_result"
    }
   ],
   "source": [
    "# limiting the max features to 1000 and checking the model\n",
    "model.set_params(vectorizer__max_features=1000)"
   ]
  },
  {
   "cell_type": "code",
   "execution_count": 38,
   "metadata": {},
   "outputs": [
    {
     "name": "stdout",
     "output_type": "stream",
     "text": [
      "Accuracy:  0.23870716510903428\n",
      "              precision    recall  f1-score   support\n",
      "\n",
      " barely-true       0.23      0.20      0.22       422\n",
      "       false       0.25      0.30      0.27       502\n",
      "   half-true       0.24      0.24      0.24       528\n",
      " mostly-true       0.27      0.27      0.27       493\n",
      "  pants-fire       0.19      0.17      0.18       210\n",
      "        true       0.21      0.21      0.21       413\n",
      "\n",
      "   micro avg       0.24      0.24      0.24      2568\n",
      "   macro avg       0.23      0.23      0.23      2568\n",
      "weighted avg       0.24      0.24      0.24      2568\n",
      "\n",
      "[[ 84 113  79  62  29  55]\n",
      " [ 70 149  92  71  48  72]\n",
      " [ 71 103 125 107  36  86]\n",
      " [ 63  86  91 132  22  99]\n",
      " [ 32  58  45  21  36  18]\n",
      " [ 39  87  90  88  22  87]]\n"
     ]
    }
   ],
   "source": [
    "model.fit(X_train, y_train)\n",
    "predictions = model.predict(X_test)\n",
    "print_scores()\n",
    "# the accuracy is reduced so reverting back without setting max features"
   ]
  },
  {
   "cell_type": "markdown",
   "metadata": {},
   "source": [
    "#### Using Binarizer for normalisation instead of TfidfTransformer (i.e. scale to 0 for not present or 1 for present at any frequency), this is useful when documents are shorts as 'statements' in LIAR dataset"
   ]
  },
  {
   "cell_type": "code",
   "execution_count": 39,
   "metadata": {},
   "outputs": [],
   "source": [
    "\n",
    "model = Pipeline([\n",
    "    ('vectorizer', CountVectorizer(analyzer='word',preprocessor=preprocess,tokenizer=Tokenizer,stop_words=stopwords_list)),\n",
    "    ('norm', Binarizer()),\n",
    "    ('clf', LogisticRegression(solver='liblinear', random_state=0)),\n",
    "])"
   ]
  },
  {
   "cell_type": "code",
   "execution_count": 40,
   "metadata": {},
   "outputs": [
    {
     "name": "stdout",
     "output_type": "stream",
     "text": [
      "Accuracy:  0.2472741433021807\n",
      "              precision    recall  f1-score   support\n",
      "\n",
      " barely-true       0.25      0.23      0.24       422\n",
      "       false       0.24      0.28      0.26       502\n",
      "   half-true       0.27      0.30      0.28       528\n",
      " mostly-true       0.25      0.25      0.25       493\n",
      "  pants-fire       0.24      0.14      0.17       210\n",
      "        true       0.23      0.21      0.22       413\n",
      "\n",
      "   micro avg       0.25      0.25      0.25      2568\n",
      "   macro avg       0.24      0.23      0.24      2568\n",
      "weighted avg       0.25      0.25      0.25      2568\n",
      "\n",
      "[[ 98 100  94  60  23  47]\n",
      " [ 82 140  96  89  28  67]\n",
      " [ 67 100 157 103  19  82]\n",
      " [ 71  98 108 123   8  85]\n",
      " [ 41  57  46  21  29  16]\n",
      " [ 35  88  83 104  15  88]]\n"
     ]
    }
   ],
   "source": [
    "model.fit(X_train, y_train)\n",
    "predictions = model.predict(X_test)\n",
    "print_scores()\n"
   ]
  },
  {
   "cell_type": "code",
   "execution_count": 41,
   "metadata": {},
   "outputs": [
    {
     "data": {
      "image/png": "[encoded data removed]",
      "text/plain": [
       "<Figure size 720x576 with 2 Axes>"
      ]
     },
     "metadata": {
      "needs_background": "light"
     },
     "output_type": "display_data"
    }
   ],
   "source": [
    "confusion_matrix_heatmap(confusion_matrix(y_test,predictions), model.classes_)"
   ]
  },
  {
   "cell_type": "code",
   "execution_count": 42,
   "metadata": {},
   "outputs": [],
   "source": [
    "# code to view the selected features\n",
    "vectorizer = CountVectorizer(analyzer='word')\n",
    "selector = SelectKBest(chi2, k=100)\n",
    "feats = vectorizer.fit_transform(X_train)\n",
    "filtered = selector.fit_transform(feats, y_train)"
   ]
  },
  {
   "cell_type": "code",
   "execution_count": 43,
   "metadata": {},
   "outputs": [
    {
     "name": "stdout",
     "output_type": "stream",
     "text": [
      "['000', '10', '247', 'and', 'average', 'bachmann', 'barack', 'beliefs', 'blue', 'border', 'bulbs', 'care', 'country', 'cross', 'cut', 'debunked', 'duffy', 'face', 'georgia', 'gov', 'half', 'hillary', 'in', 'increased', 'jersey', 'jobs', 'kenyan', 'kloppenburgs', 'landrieu', 'last', 'less', 'lowest', 'lying', 'mcauliffe', 'mccain', 'meat', 'michelle', 'million', 'monument', 'more', 'mormon', 'muslim', 'muslims', 'nose', 'obama', 'obamacare', 'obamas', 'of', 'ops', 'oswald', 'outbreak', 'outlaws', 'percent', 'photographed', 'plan', 'poverty', 'president', 'prisons', 'protein', 'radar', 'rate', 'rep', 'reps', 'retiree', 'richest', 'riot', 'rugs', 'says', 'scheme', 'scott', 'sean', 'sharia', 'sic', 'since', 'socialists', 'society', 'spending', 'sporting', 'states', 'stimulus', 'supports', 'takeover', 'than', 'the', 'three', 'to', 'today', 'top', 'transactions', 'unelected', 'walker', 'wash', 'we', 'wic', 'will', 'wisconsin', 'wording', 'words', 'year', 'your']\n"
     ]
    }
   ],
   "source": [
    "from itertools import compress\n",
    "cols = selector.get_support()\n",
    "names = vectorizer.get_feature_names()\n",
    "\n",
    "print(list(compress(names,cols)))"
   ]
  },
  {
   "cell_type": "code",
   "execution_count": 44,
   "metadata": {},
   "outputs": [
    {
     "data": {
      "text/plain": [
       "Pipeline(memory=None,\n",
       "     steps=[('vectorizer', CountVectorizer(analyzer='word', binary=False, decode_error='strict',\n",
       "        dtype=<class 'numpy.int64'>, encoding='utf-8', input='content',\n",
       "        lowercase=True, max_df=1.0, max_features=None, min_df=1,\n",
       "        ngram_range=(1, 1),\n",
       "        preprocessor=<function preprocess a...zer(copy=True, threshold=0.0)), ('clf', MultinomialNB(alpha=1.0, class_prior=None, fit_prior=True))])"
      ]
     },
     "execution_count": 44,
     "metadata": {},
     "output_type": "execute_result"
    }
   ],
   "source": [
    "# Using Multinomial Naive Bayes classifier\n",
    "model.set_params(clf=MultinomialNB())"
   ]
  },
  {
   "cell_type": "code",
   "execution_count": 45,
   "metadata": {},
   "outputs": [
    {
     "name": "stdout",
     "output_type": "stream",
     "text": [
      "Accuracy:  0.24805295950155765\n",
      "              precision    recall  f1-score   support\n",
      "\n",
      " barely-true       0.23      0.21      0.22       422\n",
      "       false       0.23      0.23      0.23       502\n",
      "   half-true       0.25      0.36      0.29       528\n",
      " mostly-true       0.27      0.33      0.30       493\n",
      "  pants-fire       0.30      0.08      0.13       210\n",
      "        true       0.24      0.15      0.18       413\n",
      "\n",
      "   micro avg       0.25      0.25      0.25      2568\n",
      "   macro avg       0.25      0.23      0.23      2568\n",
      "weighted avg       0.25      0.25      0.24      2568\n",
      "\n",
      "[[ 90  93 122  73  12  32]\n",
      " [ 84 117 140 100  12  49]\n",
      " [ 70  93 191 115  10  49]\n",
      " [ 62  73 144 161   3  50]\n",
      " [ 43  60  54  24  17  12]\n",
      " [ 36  68 125 120   3  61]]\n"
     ]
    }
   ],
   "source": [
    "model.fit(X_train, y_train)\n",
    "predictions = model.predict(X_test)\n",
    "print_scores()"
   ]
  },
  {
   "cell_type": "code",
   "execution_count": 46,
   "metadata": {},
   "outputs": [
    {
     "name": "stdout",
     "output_type": "stream",
     "text": [
      "Accuracy:  0.23325545171339565\n",
      "              precision    recall  f1-score   support\n",
      "\n",
      " barely-true       0.20      0.25      0.22       422\n",
      "       false       0.24      0.28      0.26       502\n",
      "   half-true       0.27      0.27      0.27       528\n",
      " mostly-true       0.25      0.22      0.23       493\n",
      "  pants-fire       0.21      0.16      0.18       210\n",
      "        true       0.22      0.17      0.19       413\n",
      "\n",
      "   micro avg       0.23      0.23      0.23      2568\n",
      "   macro avg       0.23      0.22      0.23      2568\n",
      "weighted avg       0.23      0.23      0.23      2568\n",
      "\n",
      "[[104 108  88  51  26  45]\n",
      " [117 141  74  74  39  57]\n",
      " [105  94 141  93  31  64]\n",
      " [ 94  98 107 109  11  74]\n",
      " [ 53  58  33  18  33  15]\n",
      " [ 59  98  80  90  15  71]]\n"
     ]
    }
   ],
   "source": [
    "# Fitting C-Support Vector Classifier\n",
    "model.set_params(clf=svm.SVC(C=1.0, kernel='linear', degree=3, gamma='auto',random_state=1000))\n",
    "model.fit(X_train, y_train)\n",
    "predictions = model.predict(X_test)\n",
    "print_scores()"
   ]
  },
  {
   "cell_type": "code",
   "execution_count": 47,
   "metadata": {},
   "outputs": [
    {
     "name": "stdout",
     "output_type": "stream",
     "text": [
      "Accuracy:  0.23208722741433022\n",
      "              precision    recall  f1-score   support\n",
      "\n",
      " barely-true       0.20      0.18      0.19       422\n",
      "       false       0.27      0.32      0.30       502\n",
      "   half-true       0.24      0.24      0.24       528\n",
      " mostly-true       0.24      0.25      0.25       493\n",
      "  pants-fire       0.15      0.13      0.14       210\n",
      "        true       0.21      0.20      0.20       413\n",
      "\n",
      "   micro avg       0.23      0.23      0.23      2568\n",
      "   macro avg       0.22      0.22      0.22      2568\n",
      "weighted avg       0.23      0.23      0.23      2568\n",
      "\n",
      "[[ 76 103  91  72  28  52]\n",
      " [ 80 162  88  77  36  59]\n",
      " [ 67 111 126 108  36  80]\n",
      " [ 60  99  89 124  27  94]\n",
      " [ 36  49  37  39  27  22]\n",
      " [ 55  71  90  91  25  81]]\n"
     ]
    }
   ],
   "source": [
    "# fitting Decision tree classifier\n",
    "decision_tree=tree.DecisionTreeClassifier(random_state=1000)\n",
    "model.set_params(clf=decision_tree)\n",
    "model.fit(X_train, y_train)\n",
    "predictions = model.predict(X_test)\n",
    "print_scores()"
   ]
  },
  {
   "cell_type": "code",
   "execution_count": 48,
   "metadata": {},
   "outputs": [
    {
     "name": "stdout",
     "output_type": "stream",
     "text": [
      "Accuracy:  0.220404984423676\n",
      "              precision    recall  f1-score   support\n",
      "\n",
      " barely-true       0.20      0.21      0.21       422\n",
      "       false       0.22      0.36      0.28       502\n",
      "   half-true       0.24      0.23      0.23       528\n",
      " mostly-true       0.21      0.20      0.21       493\n",
      "  pants-fire       0.22      0.10      0.13       210\n",
      "        true       0.23      0.14      0.17       413\n",
      "\n",
      "   micro avg       0.22      0.22      0.22      2568\n",
      "   macro avg       0.22      0.21      0.20      2568\n",
      "weighted avg       0.22      0.22      0.21      2568\n",
      "\n",
      "[[ 90 142  84  66  12  28]\n",
      " [ 89 182  87  80  20  44]\n",
      " [102 142 119 106  15  44]\n",
      " [ 71 153  99  99  12  59]\n",
      " [ 43  78  36  22  20  11]\n",
      " [ 53 119  78  96  11  56]]\n"
     ]
    }
   ],
   "source": [
    "# fitting Random forest classifier\n",
    "model.set_params(clf=RandomForestClassifier(random_state=1000))\n",
    "model.fit(X_train, y_train)\n",
    "predictions = model.predict(X_test)\n",
    "print_scores()"
   ]
  },
  {
   "cell_type": "code",
   "execution_count": 49,
   "metadata": {},
   "outputs": [
    {
     "name": "stdout",
     "output_type": "stream",
     "text": [
      "Accuracy:  0.23870716510903428\n",
      "              precision    recall  f1-score   support\n",
      "\n",
      " barely-true       0.21      0.11      0.15       422\n",
      "       false       0.23      0.43      0.30       502\n",
      "   half-true       0.25      0.29      0.27       528\n",
      " mostly-true       0.24      0.26      0.25       493\n",
      "  pants-fire       0.29      0.05      0.09       210\n",
      "        true       0.24      0.13      0.17       413\n",
      "\n",
      "   micro avg       0.24      0.24      0.24      2568\n",
      "   macro avg       0.24      0.21      0.20      2568\n",
      "weighted avg       0.24      0.24      0.22      2568\n",
      "\n",
      "[[ 47 159 106  81   6  23]\n",
      " [ 49 218 104  88   9  34]\n",
      " [ 51 161 152 106   8  50]\n",
      " [ 30 139 128 130   2  64]\n",
      " [ 25 111  34  25  11   4]\n",
      " [ 20 142  85 109   2  55]]\n"
     ]
    }
   ],
   "source": [
    "# fitting X-gradient boost algorithm\n",
    "model.set_params(clf=XGBClassifier(max_depth=3, n_estimators=300, learning_rate=0.1, random_state=0))\n",
    "model.fit(X_train, y_train)\n",
    "predictions = model.predict(X_test)\n",
    "print_scores()"
   ]
  },
  {
   "cell_type": "markdown",
   "metadata": {},
   "source": [
    "## Cross validating the best models from CountVectorizer Pipeline - Logistic regression and Multinomial Guassian NB"
   ]
  },
  {
   "cell_type": "code",
   "execution_count": 50,
   "metadata": {},
   "outputs": [
    {
     "data": {
      "text/plain": [
       "Pipeline(memory=None,\n",
       "     steps=[('vectorizer', CountVectorizer(analyzer='word', binary=False, decode_error='strict',\n",
       "        dtype=<class 'numpy.int64'>, encoding='utf-8', input='content',\n",
       "        lowercase=True, max_df=1.0, max_features=None, min_df=1,\n",
       "        ngram_range=(1, 1),\n",
       "        preprocessor=<function preprocess a...nalty='l2', random_state=0, solver='liblinear',\n",
       "          tol=0.0001, verbose=0, warm_start=False))])"
      ]
     },
     "execution_count": 50,
     "metadata": {},
     "output_type": "execute_result"
    }
   ],
   "source": [
    "model.set_params(clf= LogisticRegression(solver='liblinear', random_state=0))"
   ]
  },
  {
   "cell_type": "code",
   "execution_count": 51,
   "metadata": {},
   "outputs": [],
   "source": [
    "\n",
    "cv_scores = cross_validate(model, X, y, \n",
    "                           cv=StratifiedKFold(n_splits=5, random_state=0), \n",
    "                           return_train_score=False, \n",
    "                           scoring=['accuracy', 'precision_weighted', 'recall_weighted', 'f1_weighted']\n",
    "                          )"
   ]
  },
  {
   "cell_type": "code",
   "execution_count": 52,
   "metadata": {},
   "outputs": [
    {
     "name": "stdout",
     "output_type": "stream",
     "text": [
      "Accuracy: mean = 24.19%, sd = 1.05%, min = 22.96, max = 25.55\n",
      "Precision: mean = 24.19%, sd = 1.03%, min = 22.94, max = 25.50\n",
      "Recall: mean = 24.19%, sd = 1.05%, min = 22.96, max = 25.55\n",
      "F1: mean = 23.98%, sd = 1.05%, min = 22.81, max = 25.35\n"
     ]
    }
   ],
   "source": [
    "print_cv_scores_summary(\"Accuracy\", cv_scores['test_accuracy'])\n",
    "print_cv_scores_summary(\"Precision\", cv_scores['test_precision_weighted'])\n",
    "print_cv_scores_summary(\"Recall\", cv_scores['test_recall_weighted'])\n",
    "print_cv_scores_summary(\"F1\", cv_scores['test_f1_weighted'])"
   ]
  },
  {
   "cell_type": "code",
   "execution_count": 53,
   "metadata": {},
   "outputs": [
    {
     "data": {
      "text/plain": [
       "Pipeline(memory=None,\n",
       "     steps=[('vectorizer', CountVectorizer(analyzer='word', binary=False, decode_error='strict',\n",
       "        dtype=<class 'numpy.int64'>, encoding='utf-8', input='content',\n",
       "        lowercase=True, max_df=1.0, max_features=None, min_df=1,\n",
       "        ngram_range=(1, 1),\n",
       "        preprocessor=<function preprocess a...zer(copy=True, threshold=0.0)), ('clf', MultinomialNB(alpha=1.0, class_prior=None, fit_prior=True))])"
      ]
     },
     "execution_count": 53,
     "metadata": {},
     "output_type": "execute_result"
    }
   ],
   "source": [
    "model.set_params(clf=MultinomialNB())"
   ]
  },
  {
   "cell_type": "code",
   "execution_count": 54,
   "metadata": {},
   "outputs": [],
   "source": [
    "cv_scores = cross_validate(model, X, y, \n",
    "                           cv=StratifiedKFold(n_splits=5, random_state=0), \n",
    "                           return_train_score=False, \n",
    "                           scoring=['accuracy', 'precision_weighted', 'recall_weighted', 'f1_weighted']\n",
    "                          )"
   ]
  },
  {
   "cell_type": "code",
   "execution_count": 55,
   "metadata": {},
   "outputs": [
    {
     "name": "stdout",
     "output_type": "stream",
     "text": [
      "Accuracy: mean = 24.28%, sd = 0.63%, min = 23.56, max = 25.22\n",
      "Precision: mean = 24.43%, sd = 0.77%, min = 23.36, max = 25.20\n",
      "Recall: mean = 24.28%, sd = 0.63%, min = 23.56, max = 25.22\n",
      "F1: mean = 23.38%, sd = 0.63%, min = 22.68, max = 24.33\n"
     ]
    }
   ],
   "source": [
    "print_cv_scores_summary(\"Accuracy\", cv_scores['test_accuracy'])\n",
    "print_cv_scores_summary(\"Precision\", cv_scores['test_precision_weighted'])\n",
    "print_cv_scores_summary(\"Recall\", cv_scores['test_recall_weighted'])\n",
    "print_cv_scores_summary(\"F1\", cv_scores['test_f1_weighted'])"
   ]
  },
  {
   "cell_type": "markdown",
   "metadata": {},
   "source": [
    "### Replacing 'word' with char_wb(which counts characters within words) and ngrams range of 1-3 in the pipeline."
   ]
  },
  {
   "cell_type": "code",
   "execution_count": 56,
   "metadata": {},
   "outputs": [],
   "source": [
    "model = Pipeline([\n",
    "    ('vectorizer', CountVectorizer(analyzer='char_wb',preprocessor=preprocess,tokenizer=Tokenizer,stop_words=stopwords_list, ngram_range=(1,3))),\n",
    "    ('norm', Binarizer()),\n",
    "    ('clf', LogisticRegression(solver='liblinear', random_state=0)),\n",
    "])"
   ]
  },
  {
   "cell_type": "code",
   "execution_count": 57,
   "metadata": {},
   "outputs": [
    {
     "name": "stdout",
     "output_type": "stream",
     "text": [
      "Accuracy:  0.21378504672897197\n",
      "              precision    recall  f1-score   support\n",
      "\n",
      " barely-true       0.18      0.18      0.18       422\n",
      "       false       0.22      0.24      0.23       502\n",
      "   half-true       0.25      0.26      0.25       528\n",
      " mostly-true       0.24      0.25      0.25       493\n",
      "  pants-fire       0.15      0.12      0.13       210\n",
      "        true       0.19      0.17      0.18       413\n",
      "\n",
      "   micro avg       0.21      0.21      0.21      2568\n",
      "   macro avg       0.20      0.20      0.20      2568\n",
      "weighted avg       0.21      0.21      0.21      2568\n",
      "\n",
      "[[ 77  87 100  74  31  53]\n",
      " [105 119  87  77  48  66]\n",
      " [ 82  97 136 103  25  85]\n",
      " [ 72  79 115 121  22  84]\n",
      " [ 39  57  41  27  26  20]\n",
      " [ 56  93  75  92  27  70]]\n"
     ]
    }
   ],
   "source": [
    "model.fit(X_train, y_train)\n",
    "predictions = model.predict(X_test)\n",
    "print_scores()\n",
    "\n"
   ]
  },
  {
   "cell_type": "code",
   "execution_count": 58,
   "metadata": {},
   "outputs": [
    {
     "name": "stdout",
     "output_type": "stream",
     "text": [
      "Accuracy:  0.24182242990654207\n",
      "              precision    recall  f1-score   support\n",
      "\n",
      " barely-true       0.22      0.21      0.22       422\n",
      "       false       0.24      0.28      0.26       502\n",
      "   half-true       0.28      0.23      0.25       528\n",
      " mostly-true       0.26      0.27      0.26       493\n",
      "  pants-fire       0.20      0.25      0.22       210\n",
      "        true       0.24      0.20      0.22       413\n",
      "\n",
      "   micro avg       0.24      0.24      0.24      2568\n",
      "   macro avg       0.24      0.24      0.24      2568\n",
      "weighted avg       0.24      0.24      0.24      2568\n",
      "\n",
      "[[ 89 107  67  74  47  38]\n",
      " [ 81 140  76  77  71  57]\n",
      " [ 76 104 122 117  41  68]\n",
      " [ 65  93  83 134  31  87]\n",
      " [ 40  58  24  18  53  17]\n",
      " [ 48  90  63 102  27  83]]\n"
     ]
    }
   ],
   "source": [
    "model.set_params(clf=MultinomialNB())\n",
    "model.fit(X_train, y_train)\n",
    "predictions = model.predict(X_test)\n",
    "print_scores()\n"
   ]
  },
  {
   "cell_type": "code",
   "execution_count": 59,
   "metadata": {},
   "outputs": [
    {
     "name": "stdout",
     "output_type": "stream",
     "text": [
      "Accuracy:  0.2044392523364486\n",
      "              precision    recall  f1-score   support\n",
      "\n",
      " barely-true       0.16      0.23      0.19       422\n",
      "       false       0.23      0.25      0.24       502\n",
      "   half-true       0.24      0.23      0.23       528\n",
      " mostly-true       0.23      0.19      0.21       493\n",
      "  pants-fire       0.15      0.14      0.15       210\n",
      "        true       0.19      0.14      0.16       413\n",
      "\n",
      "   micro avg       0.20      0.20      0.20      2568\n",
      "   macro avg       0.20      0.20      0.20      2568\n",
      "weighted avg       0.21      0.20      0.20      2568\n",
      "\n",
      "[[ 96  98  84  73  36  35]\n",
      " [135 126  74  69  45  53]\n",
      " [121 104 121  85  32  65]\n",
      " [102  92 106  95  26  72]\n",
      " [ 57  51  35  22  30  15]\n",
      " [ 79  89  89  70  29  57]]\n"
     ]
    }
   ],
   "source": [
    "model.set_params(clf=svm.SVC(C=1.0, kernel='linear', degree=3, gamma='auto',random_state=1000))\n",
    "model.fit(X_train, y_train)\n",
    "predictions = model.predict(X_test)\n",
    "print_scores()"
   ]
  },
  {
   "cell_type": "code",
   "execution_count": 60,
   "metadata": {},
   "outputs": [
    {
     "name": "stdout",
     "output_type": "stream",
     "text": [
      "Accuracy:  0.2091121495327103\n",
      "              precision    recall  f1-score   support\n",
      "\n",
      " barely-true       0.18      0.19      0.18       422\n",
      "       false       0.26      0.26      0.26       502\n",
      "   half-true       0.24      0.24      0.24       528\n",
      " mostly-true       0.20      0.21      0.21       493\n",
      "  pants-fire       0.10      0.10      0.10       210\n",
      "        true       0.20      0.18      0.19       413\n",
      "\n",
      "   micro avg       0.21      0.21      0.21      2568\n",
      "   macro avg       0.20      0.20      0.20      2568\n",
      "weighted avg       0.21      0.21      0.21      2568\n",
      "\n",
      "[[ 79  75  89  82  39  58]\n",
      " [ 80 132 100  93  41  56]\n",
      " [108  92 128  98  28  74]\n",
      " [ 81  88  90 105  43  86]\n",
      " [ 41  39  49  43  20  18]\n",
      " [ 57  82  77  93  31  73]]\n"
     ]
    }
   ],
   "source": [
    "decision_tree=tree.DecisionTreeClassifier(random_state=1000)\n",
    "model.set_params(clf=decision_tree)\n",
    "model.fit(X_train, y_train)\n",
    "predictions = model.predict(X_test)\n",
    "print_scores()"
   ]
  },
  {
   "cell_type": "code",
   "execution_count": 61,
   "metadata": {},
   "outputs": [
    {
     "name": "stdout",
     "output_type": "stream",
     "text": [
      "Accuracy:  0.21456386292834892\n",
      "              precision    recall  f1-score   support\n",
      "\n",
      " barely-true       0.21      0.28      0.24       422\n",
      "       false       0.20      0.28      0.24       502\n",
      "   half-true       0.21      0.24      0.22       528\n",
      " mostly-true       0.24      0.20      0.22       493\n",
      "  pants-fire       0.21      0.05      0.08       210\n",
      "        true       0.22      0.13      0.16       413\n",
      "\n",
      "   micro avg       0.21      0.21      0.21      2568\n",
      "   macro avg       0.22      0.20      0.19      2568\n",
      "weighted avg       0.22      0.21      0.21      2568\n",
      "\n",
      "[[119 126  87  61   6  23]\n",
      " [121 141 113  67  18  42]\n",
      " [ 99 143 125 102   9  50]\n",
      " [ 88 120 122 101   6  56]\n",
      " [ 48  60  44  29  11  18]\n",
      " [ 88 102  97  69   3  54]]\n"
     ]
    }
   ],
   "source": [
    "model.set_params(clf=RandomForestClassifier(random_state=1000))\n",
    "model.fit(X_train, y_train)\n",
    "predictions = model.predict(X_test)\n",
    "print_scores()"
   ]
  },
  {
   "cell_type": "code",
   "execution_count": 62,
   "metadata": {},
   "outputs": [
    {
     "name": "stdout",
     "output_type": "stream",
     "text": [
      "Accuracy:  0.2542834890965732\n",
      "              precision    recall  f1-score   support\n",
      "\n",
      " barely-true       0.25      0.15      0.19       422\n",
      "       false       0.25      0.43      0.32       502\n",
      "   half-true       0.27      0.34      0.30       528\n",
      " mostly-true       0.24      0.26      0.25       493\n",
      "  pants-fire       0.21      0.04      0.07       210\n",
      "        true       0.26      0.15      0.19       413\n",
      "\n",
      "   micro avg       0.25      0.25      0.25      2568\n",
      "   macro avg       0.25      0.23      0.22      2568\n",
      "weighted avg       0.25      0.25      0.24      2568\n",
      "\n",
      "[[ 63 126 125  80   8  20]\n",
      " [ 52 215  97  87  15  36]\n",
      " [ 46 145 177 106   5  49]\n",
      " [ 42 140 121 126   4  60]\n",
      " [ 29  87  42  33   9  10]\n",
      " [ 25 133  94  96   2  63]]\n"
     ]
    }
   ],
   "source": [
    "model.set_params(clf=XGBClassifier(max_depth=3, n_estimators=300, learning_rate=0.1, random_state=0))\n",
    "model.fit(X_train, y_train)\n",
    "predictions = model.predict(X_test)\n",
    "print_scores()"
   ]
  },
  {
   "cell_type": "markdown",
   "metadata": {},
   "source": [
    "## Grid search CV with top_k from chi squared feature selection set to different values and top 2 performing classifiers with CountVectorizer "
   ]
  },
  {
   "cell_type": "code",
   "execution_count": 63,
   "metadata": {},
   "outputs": [
    {
     "data": {
      "text/plain": [
       "GridSearchCV(cv=StratifiedKFold(n_splits=5, random_state=0, shuffle=False),\n",
       "       error_score='raise-deprecating',\n",
       "       estimator=Pipeline(memory=None,\n",
       "     steps=[('vectorizer', CountVectorizer(analyzer='word', binary=False, decode_error='strict',\n",
       "        dtype=<class 'numpy.int64'>, encoding='utf-8', input='content',\n",
       "        lowercase=True, max_df=1.0, max_features=None, min_df=1,\n",
       "        ngram_range=(1, 3),\n",
       "        preprocessor=<function preprocess a...nalty='l2', random_state=0, solver='liblinear',\n",
       "          tol=0.0001, verbose=0, warm_start=False))]),\n",
       "       fit_params=None, iid='warn', n_jobs=None,\n",
       "       param_grid={'selector__k': [10, 50, 100, 250, 500, 1000], 'clf': [MultinomialNB(alpha=1.0, class_prior=None, fit_prior=True), XGBClassifier(base_score=0.5, booster='gbtree', colsample_bylevel=1,\n",
       "       colsample_bytree=1, gamma=0, learning_rate=0.1, max_delta_step=0,\n",
       "       max_depth=3, min_child_we...\n",
       "       reg_alpha=0, reg_lambda=1, scale_pos_weight=1, seed=None,\n",
       "       silent=True, subsample=1)]},\n",
       "       pre_dispatch='2*n_jobs', refit='f1_weighted',\n",
       "       return_train_score=False,\n",
       "       scoring=['accuracy', 'precision_weighted', 'recall_weighted', 'f1_weighted'],\n",
       "       verbose=0)"
      ]
     },
     "execution_count": 63,
     "metadata": {},
     "output_type": "execute_result"
    }
   ],
   "source": [
    "model = Pipeline([\n",
    "    ('vectorizer', CountVectorizer(analyzer='word',preprocessor=preprocess,tokenizer=Tokenizer,stop_words=stopwords_list, ngram_range=(1,3))),\n",
    "    ('norm', Binarizer()),\n",
    "    ('selector', SelectKBest(score_func = chi2)),\n",
    "    ('clf', LogisticRegression(solver='liblinear', random_state=0)),\n",
    "])\n",
    "\n",
    "search = GridSearchCV(model, cv=StratifiedKFold(n_splits=5, random_state=0), \n",
    "                      return_train_score=False, \n",
    "                      scoring=['accuracy', 'precision_weighted', 'recall_weighted', 'f1_weighted'],\n",
    "                      refit = 'f1_weighted',\n",
    "                      param_grid={\n",
    "                          'selector__k': [10, 50, 100, 250, 500, 1000],\n",
    "                          'clf': [MultinomialNB(), XGBClassifier(max_depth=3, n_estimators=300, learning_rate=0.1, random_state=0)],\n",
    "                      })\n",
    "\n",
    "search.fit(X_train, y_train)"
   ]
  },
  {
   "cell_type": "code",
   "execution_count": 64,
   "metadata": {},
   "outputs": [
    {
     "data": {
      "text/html": [
       "<div>\n",
       "<style scoped>\n",
       "    .dataframe tbody tr th:only-of-type {\n",
       "        vertical-align: middle;\n",
       "    }\n",
       "\n",
       "    .dataframe tbody tr th {\n",
       "        vertical-align: top;\n",
       "    }\n",
       "\n",
       "    .dataframe thead th {\n",
       "        text-align: right;\n",
       "    }\n",
       "</style>\n",
       "<table border=\"1\" class=\"dataframe\">\n",
       "  <thead>\n",
       "    <tr style=\"text-align: right;\">\n",
       "      <th></th>\n",
       "      <th>mean_fit_time</th>\n",
       "      <th>std_fit_time</th>\n",
       "      <th>mean_score_time</th>\n",
       "      <th>std_score_time</th>\n",
       "      <th>param_clf</th>\n",
       "      <th>param_selector__k</th>\n",
       "      <th>params</th>\n",
       "      <th>split0_test_accuracy</th>\n",
       "      <th>split1_test_accuracy</th>\n",
       "      <th>split2_test_accuracy</th>\n",
       "      <th>...</th>\n",
       "      <th>std_test_recall_weighted</th>\n",
       "      <th>rank_test_recall_weighted</th>\n",
       "      <th>split0_test_f1_weighted</th>\n",
       "      <th>split1_test_f1_weighted</th>\n",
       "      <th>split2_test_f1_weighted</th>\n",
       "      <th>split3_test_f1_weighted</th>\n",
       "      <th>split4_test_f1_weighted</th>\n",
       "      <th>mean_test_f1_weighted</th>\n",
       "      <th>std_test_f1_weighted</th>\n",
       "      <th>rank_test_f1_weighted</th>\n",
       "    </tr>\n",
       "  </thead>\n",
       "  <tbody>\n",
       "    <tr>\n",
       "      <th>0</th>\n",
       "      <td>5.085631</td>\n",
       "      <td>0.020033</td>\n",
       "      <td>4.512526</td>\n",
       "      <td>0.031273</td>\n",
       "      <td>MultinomialNB(alpha=1.0, class_prior=None, fit...</td>\n",
       "      <td>10</td>\n",
       "      <td>{'clf': MultinomialNB(alpha=1.0, class_prior=N...</td>\n",
       "      <td>0.210219</td>\n",
       "      <td>0.204966</td>\n",
       "      <td>0.212756</td>\n",
       "      <td>...</td>\n",
       "      <td>0.005313</td>\n",
       "      <td>11</td>\n",
       "      <td>0.146366</td>\n",
       "      <td>0.117305</td>\n",
       "      <td>0.148734</td>\n",
       "      <td>0.139070</td>\n",
       "      <td>0.162499</td>\n",
       "      <td>0.142792</td>\n",
       "      <td>0.014830</td>\n",
       "      <td>11</td>\n",
       "    </tr>\n",
       "    <tr>\n",
       "      <th>1</th>\n",
       "      <td>5.076910</td>\n",
       "      <td>0.016505</td>\n",
       "      <td>4.509740</td>\n",
       "      <td>0.015089</td>\n",
       "      <td>MultinomialNB(alpha=1.0, class_prior=None, fit...</td>\n",
       "      <td>50</td>\n",
       "      <td>{'clf': MultinomialNB(alpha=1.0, class_prior=N...</td>\n",
       "      <td>0.217518</td>\n",
       "      <td>0.215190</td>\n",
       "      <td>0.220545</td>\n",
       "      <td>...</td>\n",
       "      <td>0.005010</td>\n",
       "      <td>10</td>\n",
       "      <td>0.177294</td>\n",
       "      <td>0.177779</td>\n",
       "      <td>0.179298</td>\n",
       "      <td>0.184101</td>\n",
       "      <td>0.190455</td>\n",
       "      <td>0.181783</td>\n",
       "      <td>0.004958</td>\n",
       "      <td>9</td>\n",
       "    </tr>\n",
       "    <tr>\n",
       "      <th>2</th>\n",
       "      <td>5.107371</td>\n",
       "      <td>0.059290</td>\n",
       "      <td>4.526283</td>\n",
       "      <td>0.046652</td>\n",
       "      <td>MultinomialNB(alpha=1.0, class_prior=None, fit...</td>\n",
       "      <td>100</td>\n",
       "      <td>{'clf': MultinomialNB(alpha=1.0, class_prior=N...</td>\n",
       "      <td>0.217032</td>\n",
       "      <td>0.205453</td>\n",
       "      <td>0.223953</td>\n",
       "      <td>...</td>\n",
       "      <td>0.009590</td>\n",
       "      <td>9</td>\n",
       "      <td>0.196841</td>\n",
       "      <td>0.171910</td>\n",
       "      <td>0.202899</td>\n",
       "      <td>0.196349</td>\n",
       "      <td>0.204892</td>\n",
       "      <td>0.194576</td>\n",
       "      <td>0.011813</td>\n",
       "      <td>5</td>\n",
       "    </tr>\n",
       "    <tr>\n",
       "      <th>3</th>\n",
       "      <td>5.071245</td>\n",
       "      <td>0.012925</td>\n",
       "      <td>4.510831</td>\n",
       "      <td>0.023711</td>\n",
       "      <td>MultinomialNB(alpha=1.0, class_prior=None, fit...</td>\n",
       "      <td>250</td>\n",
       "      <td>{'clf': MultinomialNB(alpha=1.0, class_prior=N...</td>\n",
       "      <td>0.218005</td>\n",
       "      <td>0.208374</td>\n",
       "      <td>0.223466</td>\n",
       "      <td>...</td>\n",
       "      <td>0.009709</td>\n",
       "      <td>8</td>\n",
       "      <td>0.194495</td>\n",
       "      <td>0.172376</td>\n",
       "      <td>0.210059</td>\n",
       "      <td>0.196029</td>\n",
       "      <td>0.199171</td>\n",
       "      <td>0.194425</td>\n",
       "      <td>0.012295</td>\n",
       "      <td>6</td>\n",
       "    </tr>\n",
       "    <tr>\n",
       "      <th>4</th>\n",
       "      <td>5.061772</td>\n",
       "      <td>0.008596</td>\n",
       "      <td>4.506714</td>\n",
       "      <td>0.019484</td>\n",
       "      <td>MultinomialNB(alpha=1.0, class_prior=None, fit...</td>\n",
       "      <td>500</td>\n",
       "      <td>{'clf': MultinomialNB(alpha=1.0, class_prior=N...</td>\n",
       "      <td>0.222384</td>\n",
       "      <td>0.232230</td>\n",
       "      <td>0.234177</td>\n",
       "      <td>...</td>\n",
       "      <td>0.005406</td>\n",
       "      <td>4</td>\n",
       "      <td>0.206567</td>\n",
       "      <td>0.219778</td>\n",
       "      <td>0.227306</td>\n",
       "      <td>0.223806</td>\n",
       "      <td>0.212865</td>\n",
       "      <td>0.218064</td>\n",
       "      <td>0.007492</td>\n",
       "      <td>3</td>\n",
       "    </tr>\n",
       "    <tr>\n",
       "      <th>5</th>\n",
       "      <td>5.059429</td>\n",
       "      <td>0.007067</td>\n",
       "      <td>4.514002</td>\n",
       "      <td>0.020718</td>\n",
       "      <td>MultinomialNB(alpha=1.0, class_prior=None, fit...</td>\n",
       "      <td>1000</td>\n",
       "      <td>{'clf': MultinomialNB(alpha=1.0, class_prior=N...</td>\n",
       "      <td>0.246715</td>\n",
       "      <td>0.241967</td>\n",
       "      <td>0.239533</td>\n",
       "      <td>...</td>\n",
       "      <td>0.003819</td>\n",
       "      <td>2</td>\n",
       "      <td>0.238117</td>\n",
       "      <td>0.234687</td>\n",
       "      <td>0.233107</td>\n",
       "      <td>0.233334</td>\n",
       "      <td>0.227087</td>\n",
       "      <td>0.233268</td>\n",
       "      <td>0.003571</td>\n",
       "      <td>1</td>\n",
       "    </tr>\n",
       "    <tr>\n",
       "      <th>6</th>\n",
       "      <td>6.934936</td>\n",
       "      <td>0.045551</td>\n",
       "      <td>4.990043</td>\n",
       "      <td>0.024984</td>\n",
       "      <td>XGBClassifier(base_score=0.5, booster='gbtree'...</td>\n",
       "      <td>10</td>\n",
       "      <td>{'clf': XGBClassifier(base_score=0.5, booster=...</td>\n",
       "      <td>0.206813</td>\n",
       "      <td>0.205453</td>\n",
       "      <td>0.214216</td>\n",
       "      <td>...</td>\n",
       "      <td>0.003412</td>\n",
       "      <td>12</td>\n",
       "      <td>0.139372</td>\n",
       "      <td>0.117942</td>\n",
       "      <td>0.137553</td>\n",
       "      <td>0.140697</td>\n",
       "      <td>0.134278</td>\n",
       "      <td>0.133968</td>\n",
       "      <td>0.008299</td>\n",
       "      <td>12</td>\n",
       "    </tr>\n",
       "    <tr>\n",
       "      <th>7</th>\n",
       "      <td>7.546651</td>\n",
       "      <td>0.094746</td>\n",
       "      <td>5.004430</td>\n",
       "      <td>0.017011</td>\n",
       "      <td>XGBClassifier(base_score=0.5, booster='gbtree'...</td>\n",
       "      <td>50</td>\n",
       "      <td>{'clf': XGBClassifier(base_score=0.5, booster=...</td>\n",
       "      <td>0.224818</td>\n",
       "      <td>0.219085</td>\n",
       "      <td>0.240019</td>\n",
       "      <td>...</td>\n",
       "      <td>0.007378</td>\n",
       "      <td>7</td>\n",
       "      <td>0.179077</td>\n",
       "      <td>0.164246</td>\n",
       "      <td>0.185533</td>\n",
       "      <td>0.183433</td>\n",
       "      <td>0.166620</td>\n",
       "      <td>0.175783</td>\n",
       "      <td>0.008735</td>\n",
       "      <td>10</td>\n",
       "    </tr>\n",
       "    <tr>\n",
       "      <th>8</th>\n",
       "      <td>82.632850</td>\n",
       "      <td>148.741768</td>\n",
       "      <td>5.273029</td>\n",
       "      <td>0.244578</td>\n",
       "      <td>XGBClassifier(base_score=0.5, booster='gbtree'...</td>\n",
       "      <td>100</td>\n",
       "      <td>{'clf': XGBClassifier(base_score=0.5, booster=...</td>\n",
       "      <td>0.222871</td>\n",
       "      <td>0.221519</td>\n",
       "      <td>0.242454</td>\n",
       "      <td>...</td>\n",
       "      <td>0.007708</td>\n",
       "      <td>6</td>\n",
       "      <td>0.187396</td>\n",
       "      <td>0.180239</td>\n",
       "      <td>0.206881</td>\n",
       "      <td>0.192986</td>\n",
       "      <td>0.188731</td>\n",
       "      <td>0.191247</td>\n",
       "      <td>0.008830</td>\n",
       "      <td>8</td>\n",
       "    </tr>\n",
       "    <tr>\n",
       "      <th>9</th>\n",
       "      <td>8.943246</td>\n",
       "      <td>0.137023</td>\n",
       "      <td>5.001005</td>\n",
       "      <td>0.037081</td>\n",
       "      <td>XGBClassifier(base_score=0.5, booster='gbtree'...</td>\n",
       "      <td>250</td>\n",
       "      <td>{'clf': XGBClassifier(base_score=0.5, booster=...</td>\n",
       "      <td>0.222871</td>\n",
       "      <td>0.221519</td>\n",
       "      <td>0.248783</td>\n",
       "      <td>...</td>\n",
       "      <td>0.009900</td>\n",
       "      <td>5</td>\n",
       "      <td>0.187396</td>\n",
       "      <td>0.180239</td>\n",
       "      <td>0.218803</td>\n",
       "      <td>0.192986</td>\n",
       "      <td>0.188731</td>\n",
       "      <td>0.193631</td>\n",
       "      <td>0.013240</td>\n",
       "      <td>7</td>\n",
       "    </tr>\n",
       "    <tr>\n",
       "      <th>10</th>\n",
       "      <td>10.938443</td>\n",
       "      <td>0.104729</td>\n",
       "      <td>4.992189</td>\n",
       "      <td>0.022825</td>\n",
       "      <td>XGBClassifier(base_score=0.5, booster='gbtree'...</td>\n",
       "      <td>500</td>\n",
       "      <td>{'clf': XGBClassifier(base_score=0.5, booster=...</td>\n",
       "      <td>0.235523</td>\n",
       "      <td>0.240993</td>\n",
       "      <td>0.246349</td>\n",
       "      <td>...</td>\n",
       "      <td>0.003485</td>\n",
       "      <td>3</td>\n",
       "      <td>0.207796</td>\n",
       "      <td>0.219128</td>\n",
       "      <td>0.225414</td>\n",
       "      <td>0.214705</td>\n",
       "      <td>0.206453</td>\n",
       "      <td>0.214700</td>\n",
       "      <td>0.007072</td>\n",
       "      <td>4</td>\n",
       "    </tr>\n",
       "    <tr>\n",
       "      <th>11</th>\n",
       "      <td>14.392562</td>\n",
       "      <td>0.048052</td>\n",
       "      <td>4.991052</td>\n",
       "      <td>0.030848</td>\n",
       "      <td>XGBClassifier(base_score=0.5, booster='gbtree'...</td>\n",
       "      <td>1000</td>\n",
       "      <td>{'clf': XGBClassifier(base_score=0.5, booster=...</td>\n",
       "      <td>0.242336</td>\n",
       "      <td>0.246349</td>\n",
       "      <td>0.244401</td>\n",
       "      <td>...</td>\n",
       "      <td>0.002451</td>\n",
       "      <td>1</td>\n",
       "      <td>0.219954</td>\n",
       "      <td>0.224784</td>\n",
       "      <td>0.226250</td>\n",
       "      <td>0.225249</td>\n",
       "      <td>0.225083</td>\n",
       "      <td>0.224263</td>\n",
       "      <td>0.002211</td>\n",
       "      <td>2</td>\n",
       "    </tr>\n",
       "  </tbody>\n",
       "</table>\n",
       "<p>12 rows × 39 columns</p>\n",
       "</div>"
      ],
      "text/plain": [
       "    mean_fit_time  std_fit_time  mean_score_time  std_score_time  \\\n",
       "0        5.085631      0.020033         4.512526        0.031273   \n",
       "1        5.076910      0.016505         4.509740        0.015089   \n",
       "2        5.107371      0.059290         4.526283        0.046652   \n",
       "3        5.071245      0.012925         4.510831        0.023711   \n",
       "4        5.061772      0.008596         4.506714        0.019484   \n",
       "5        5.059429      0.007067         4.514002        0.020718   \n",
       "6        6.934936      0.045551         4.990043        0.024984   \n",
       "7        7.546651      0.094746         5.004430        0.017011   \n",
       "8       82.632850    148.741768         5.273029        0.244578   \n",
       "9        8.943246      0.137023         5.001005        0.037081   \n",
       "10      10.938443      0.104729         4.992189        0.022825   \n",
       "11      14.392562      0.048052         4.991052        0.030848   \n",
       "\n",
       "                                            param_clf param_selector__k  \\\n",
       "0   MultinomialNB(alpha=1.0, class_prior=None, fit...                10   \n",
       "1   MultinomialNB(alpha=1.0, class_prior=None, fit...                50   \n",
       "2   MultinomialNB(alpha=1.0, class_prior=None, fit...               100   \n",
       "3   MultinomialNB(alpha=1.0, class_prior=None, fit...               250   \n",
       "4   MultinomialNB(alpha=1.0, class_prior=None, fit...               500   \n",
       "5   MultinomialNB(alpha=1.0, class_prior=None, fit...              1000   \n",
       "6   XGBClassifier(base_score=0.5, booster='gbtree'...                10   \n",
       "7   XGBClassifier(base_score=0.5, booster='gbtree'...                50   \n",
       "8   XGBClassifier(base_score=0.5, booster='gbtree'...               100   \n",
       "9   XGBClassifier(base_score=0.5, booster='gbtree'...               250   \n",
       "10  XGBClassifier(base_score=0.5, booster='gbtree'...               500   \n",
       "11  XGBClassifier(base_score=0.5, booster='gbtree'...              1000   \n",
       "\n",
       "                                               params  split0_test_accuracy  \\\n",
       "0   {'clf': MultinomialNB(alpha=1.0, class_prior=N...              0.210219   \n",
       "1   {'clf': MultinomialNB(alpha=1.0, class_prior=N...              0.217518   \n",
       "2   {'clf': MultinomialNB(alpha=1.0, class_prior=N...              0.217032   \n",
       "3   {'clf': MultinomialNB(alpha=1.0, class_prior=N...              0.218005   \n",
       "4   {'clf': MultinomialNB(alpha=1.0, class_prior=N...              0.222384   \n",
       "5   {'clf': MultinomialNB(alpha=1.0, class_prior=N...              0.246715   \n",
       "6   {'clf': XGBClassifier(base_score=0.5, booster=...              0.206813   \n",
       "7   {'clf': XGBClassifier(base_score=0.5, booster=...              0.224818   \n",
       "8   {'clf': XGBClassifier(base_score=0.5, booster=...              0.222871   \n",
       "9   {'clf': XGBClassifier(base_score=0.5, booster=...              0.222871   \n",
       "10  {'clf': XGBClassifier(base_score=0.5, booster=...              0.235523   \n",
       "11  {'clf': XGBClassifier(base_score=0.5, booster=...              0.242336   \n",
       "\n",
       "    split1_test_accuracy  split2_test_accuracy          ...            \\\n",
       "0               0.204966              0.212756          ...             \n",
       "1               0.215190              0.220545          ...             \n",
       "2               0.205453              0.223953          ...             \n",
       "3               0.208374              0.223466          ...             \n",
       "4               0.232230              0.234177          ...             \n",
       "5               0.241967              0.239533          ...             \n",
       "6               0.205453              0.214216          ...             \n",
       "7               0.219085              0.240019          ...             \n",
       "8               0.221519              0.242454          ...             \n",
       "9               0.221519              0.248783          ...             \n",
       "10              0.240993              0.246349          ...             \n",
       "11              0.246349              0.244401          ...             \n",
       "\n",
       "    std_test_recall_weighted  rank_test_recall_weighted  \\\n",
       "0                   0.005313                         11   \n",
       "1                   0.005010                         10   \n",
       "2                   0.009590                          9   \n",
       "3                   0.009709                          8   \n",
       "4                   0.005406                          4   \n",
       "5                   0.003819                          2   \n",
       "6                   0.003412                         12   \n",
       "7                   0.007378                          7   \n",
       "8                   0.007708                          6   \n",
       "9                   0.009900                          5   \n",
       "10                  0.003485                          3   \n",
       "11                  0.002451                          1   \n",
       "\n",
       "    split0_test_f1_weighted  split1_test_f1_weighted  split2_test_f1_weighted  \\\n",
       "0                  0.146366                 0.117305                 0.148734   \n",
       "1                  0.177294                 0.177779                 0.179298   \n",
       "2                  0.196841                 0.171910                 0.202899   \n",
       "3                  0.194495                 0.172376                 0.210059   \n",
       "4                  0.206567                 0.219778                 0.227306   \n",
       "5                  0.238117                 0.234687                 0.233107   \n",
       "6                  0.139372                 0.117942                 0.137553   \n",
       "7                  0.179077                 0.164246                 0.185533   \n",
       "8                  0.187396                 0.180239                 0.206881   \n",
       "9                  0.187396                 0.180239                 0.218803   \n",
       "10                 0.207796                 0.219128                 0.225414   \n",
       "11                 0.219954                 0.224784                 0.226250   \n",
       "\n",
       "    split3_test_f1_weighted  split4_test_f1_weighted  mean_test_f1_weighted  \\\n",
       "0                  0.139070                 0.162499               0.142792   \n",
       "1                  0.184101                 0.190455               0.181783   \n",
       "2                  0.196349                 0.204892               0.194576   \n",
       "3                  0.196029                 0.199171               0.194425   \n",
       "4                  0.223806                 0.212865               0.218064   \n",
       "5                  0.233334                 0.227087               0.233268   \n",
       "6                  0.140697                 0.134278               0.133968   \n",
       "7                  0.183433                 0.166620               0.175783   \n",
       "8                  0.192986                 0.188731               0.191247   \n",
       "9                  0.192986                 0.188731               0.193631   \n",
       "10                 0.214705                 0.206453               0.214700   \n",
       "11                 0.225249                 0.225083               0.224263   \n",
       "\n",
       "    std_test_f1_weighted  rank_test_f1_weighted  \n",
       "0               0.014830                     11  \n",
       "1               0.004958                      9  \n",
       "2               0.011813                      5  \n",
       "3               0.012295                      6  \n",
       "4               0.007492                      3  \n",
       "5               0.003571                      1  \n",
       "6               0.008299                     12  \n",
       "7               0.008735                     10  \n",
       "8               0.008830                      8  \n",
       "9               0.013240                      7  \n",
       "10              0.007072                      4  \n",
       "11              0.002211                      2  \n",
       "\n",
       "[12 rows x 39 columns]"
      ]
     },
     "execution_count": 64,
     "metadata": {},
     "output_type": "execute_result"
    }
   ],
   "source": [
    "pd.DataFrame(search.cv_results_)"
   ]
  },
  {
   "cell_type": "code",
   "execution_count": 65,
   "metadata": {},
   "outputs": [
    {
     "name": "stdout",
     "output_type": "stream",
     "text": [
      "Accuracy:  0.24104361370716512\n",
      "              precision    recall  f1-score   support\n",
      "\n",
      " barely-true       0.26      0.20      0.22       422\n",
      "       false       0.26      0.30      0.28       502\n",
      "   half-true       0.22      0.32      0.26       528\n",
      " mostly-true       0.23      0.25      0.24       493\n",
      "  pants-fire       0.31      0.11      0.16       210\n",
      "        true       0.23      0.17      0.20       413\n",
      "\n",
      "   micro avg       0.24      0.24      0.24      2568\n",
      "   macro avg       0.25      0.22      0.23      2568\n",
      "weighted avg       0.25      0.24      0.24      2568\n",
      "\n",
      "[[ 83 115 105  75  13  31]\n",
      " [ 65 152 150  79  14  42]\n",
      " [ 68  89 168 119  11  73]\n",
      " [ 37  85 158 121   8  84]\n",
      " [ 30  67  62  16  23  12]\n",
      " [ 34  80 110 112   5  72]]\n"
     ]
    },
    {
     "data": {
      "image/png": "[encoded data removed]",
      "text/plain": [
       "<Figure size 720x576 with 2 Axes>"
      ]
     },
     "metadata": {
      "needs_background": "light"
     },
     "output_type": "display_data"
    }
   ],
   "source": [
    "# results of the best fit classifier\n",
    "predictions = search.predict(X_test)\n",
    "\n",
    "print(\"Accuracy: \", accuracy_score(y_test, predictions))\n",
    "print(classification_report(y_test, predictions))\n",
    "print(confusion_matrix(y_test, predictions))\n",
    "\n",
    "confusion_matrix_heatmap(confusion_matrix(y_test,predictions), search.classes_)"
   ]
  },
  {
   "cell_type": "code",
   "execution_count": 66,
   "metadata": {},
   "outputs": [
    {
     "name": "stdout",
     "output_type": "stream",
     "text": [
      "Pipeline(memory=None,\n",
      "     steps=[('vectorizer', CountVectorizer(analyzer='word', binary=False, decode_error='strict',\n",
      "        dtype=<class 'numpy.int64'>, encoding='utf-8', input='content',\n",
      "        lowercase=True, max_df=1.0, max_features=None, min_df=1,\n",
      "        ngram_range=(1, 3),\n",
      "        preprocessor=<function preprocess a...unction chi2 at 0x111c8a730>)), ('clf', MultinomialNB(alpha=1.0, class_prior=None, fit_prior=True))])\n"
     ]
    }
   ],
   "source": [
    "print(search.best_estimator_ )"
   ]
  },
  {
   "cell_type": "code",
   "execution_count": 67,
   "metadata": {},
   "outputs": [
    {
     "data": {
      "text/plain": [
       "0.23326803598618945"
      ]
     },
     "execution_count": 67,
     "metadata": {},
     "output_type": "execute_result"
    }
   ],
   "source": [
    "search.best_score_"
   ]
  },
  {
   "cell_type": "code",
   "execution_count": 68,
   "metadata": {},
   "outputs": [
    {
     "name": "stdout",
     "output_type": "stream",
     "text": [
      "{'clf': MultinomialNB(alpha=1.0, class_prior=None, fit_prior=True), 'selector__k': 1000}\n"
     ]
    }
   ],
   "source": [
    "print(search.best_params_)"
   ]
  },
  {
   "cell_type": "code",
   "execution_count": 69,
   "metadata": {},
   "outputs": [
    {
     "name": "stdout",
     "output_type": "stream",
     "text": [
      "{'accuracy': make_scorer(accuracy_score), 'precision_weighted': make_scorer(precision_score, pos_label=None, average=weighted), 'recall_weighted': make_scorer(recall_score, pos_label=None, average=weighted), 'f1_weighted': make_scorer(f1_score, pos_label=None, average=weighted)}\n"
     ]
    }
   ],
   "source": [
    "print(search.scorer_)"
   ]
  },
  {
   "cell_type": "code",
   "execution_count": null,
   "metadata": {},
   "outputs": [],
   "source": []
  },
  {
   "cell_type": "markdown",
   "metadata": {},
   "source": [
    "## Creating Pipeline with TFID Vectorizer along with Feature Union of 'total words' in the 'statements'\n"
   ]
  },
  {
   "cell_type": "markdown",
   "metadata": {},
   "source": [
    "TF-IDF - stands for “Term Frequency — Inverse Document”. Term Frequency summarizes how often a given word appears within a document.Inverse Document Frequency scales words that appear a lot across documents.TF-IDF highlight words that are more interesting, e.g. frequent in a document but not across documents."
   ]
  },
  {
   "cell_type": "markdown",
   "metadata": {},
   "source": [
    "However in this instance we use feature union as well by incorporating the total words in each sentence as another feature. We build a custom transformer with two classes for features in the statements and the total number of words in the statements. By setting min\\_df to 0.25 and max\\_df to 0.75 we restrict the terms in the vocabulary based on document frequency"
   ]
  },
  {
   "cell_type": "code",
   "execution_count": 70,
   "metadata": {},
   "outputs": [],
   "source": [
    "from sklearn.base import BaseEstimator, TransformerMixin\n",
    "class TextSelector(BaseEstimator, TransformerMixin):\n",
    "    def __init__(self, field):\n",
    "        self.field = field\n",
    "    def fit(self, X, y=None):\n",
    "        return self\n",
    "    def transform(self, X):\n",
    "        return X[self.field]\n",
    "class NumberSelector(BaseEstimator, TransformerMixin):\n",
    "    def __init__(self, field):\n",
    "        self.field = field\n",
    "    def fit(self, X, y=None):\n",
    "        return self\n",
    "    def transform(self, X):\n",
    "        return X[[self.field]]"
   ]
  },
  {
   "cell_type": "code",
   "execution_count": 71,
   "metadata": {},
   "outputs": [],
   "source": [
    "df_raw_tfid= df_raw.copy()"
   ]
  },
  {
   "cell_type": "code",
   "execution_count": 72,
   "metadata": {},
   "outputs": [
    {
     "data": {
      "text/html": [
       "<div>\n",
       "<style scoped>\n",
       "    .dataframe tbody tr th:only-of-type {\n",
       "        vertical-align: middle;\n",
       "    }\n",
       "\n",
       "    .dataframe tbody tr th {\n",
       "        vertical-align: top;\n",
       "    }\n",
       "\n",
       "    .dataframe thead th {\n",
       "        text-align: right;\n",
       "    }\n",
       "</style>\n",
       "<table border=\"1\" class=\"dataframe\">\n",
       "  <thead>\n",
       "    <tr style=\"text-align: right;\">\n",
       "      <th></th>\n",
       "      <th>index</th>\n",
       "      <th>ID</th>\n",
       "      <th>label</th>\n",
       "      <th>statement</th>\n",
       "      <th>subject</th>\n",
       "      <th>speaker</th>\n",
       "      <th>job</th>\n",
       "      <th>state</th>\n",
       "      <th>party</th>\n",
       "      <th>barely_true_cts</th>\n",
       "      <th>false_cts</th>\n",
       "      <th>half_true_cts</th>\n",
       "      <th>mostly_true_cts</th>\n",
       "      <th>pants_on_fire_cts</th>\n",
       "      <th>context</th>\n",
       "    </tr>\n",
       "  </thead>\n",
       "  <tbody>\n",
       "    <tr>\n",
       "      <th>0</th>\n",
       "      <td>8289</td>\n",
       "      <td>423.json</td>\n",
       "      <td>true</td>\n",
       "      <td>\"McCain opposes a woman's right to choose.\"</td>\n",
       "      <td>abortion</td>\n",
       "      <td>moveon</td>\n",
       "      <td>NaN</td>\n",
       "      <td>NaN</td>\n",
       "      <td>democrat</td>\n",
       "      <td>2</td>\n",
       "      <td>4</td>\n",
       "      <td>3</td>\n",
       "      <td>0</td>\n",
       "      <td>0</td>\n",
       "      <td>an e-mail message</td>\n",
       "    </tr>\n",
       "    <tr>\n",
       "      <th>1</th>\n",
       "      <td>1156</td>\n",
       "      <td>10379.json</td>\n",
       "      <td>barely-true</td>\n",
       "      <td>The name Frank has risen in popularity by 20 p...</td>\n",
       "      <td>pop-culture</td>\n",
       "      <td>matt-lauer</td>\n",
       "      <td>Today Show host</td>\n",
       "      <td>NaN</td>\n",
       "      <td>none</td>\n",
       "      <td>1</td>\n",
       "      <td>0</td>\n",
       "      <td>0</td>\n",
       "      <td>0</td>\n",
       "      <td>0</td>\n",
       "      <td>a red carpet interview before the Golden Globes</td>\n",
       "    </tr>\n",
       "  </tbody>\n",
       "</table>\n",
       "</div>"
      ],
      "text/plain": [
       "   index          ID        label  \\\n",
       "0   8289    423.json         true   \n",
       "1   1156  10379.json  barely-true   \n",
       "\n",
       "                                           statement      subject     speaker  \\\n",
       "0        \"McCain opposes a woman's right to choose.\"     abortion      moveon   \n",
       "1  The name Frank has risen in popularity by 20 p...  pop-culture  matt-lauer   \n",
       "\n",
       "               job state     party  barely_true_cts  false_cts  half_true_cts  \\\n",
       "0              NaN   NaN  democrat                2          4              3   \n",
       "1  Today Show host   NaN      none                1          0              0   \n",
       "\n",
       "   mostly_true_cts  pants_on_fire_cts  \\\n",
       "0                0                  0   \n",
       "1                0                  0   \n",
       "\n",
       "                                           context  \n",
       "0                                an e-mail message  \n",
       "1  a red carpet interview before the Golden Globes  "
      ]
     },
     "execution_count": 72,
     "metadata": {},
     "output_type": "execute_result"
    }
   ],
   "source": [
    "df_raw_tfid.head(2)"
   ]
  },
  {
   "cell_type": "code",
   "execution_count": 73,
   "metadata": {},
   "outputs": [],
   "source": [
    "header_list=[\"index\",\"ID\", \"label\", \"statement\",\"TotalWords\",\"Lemmatised_words\", \"subject\", \"speaker\", \"job\", \"state\", \"party\", \"barely_true_cts\",\n",
    "        \"false_cts\", \"half_true_cts\", \"mostly_true_cts\", \"pants_on_fire_cts\", \"context\"]"
   ]
  },
  {
   "cell_type": "code",
   "execution_count": 74,
   "metadata": {},
   "outputs": [],
   "source": [
    "df_raw_tfid = df_raw_tfid.reindex(columns = header_list) "
   ]
  },
  {
   "cell_type": "code",
   "execution_count": 75,
   "metadata": {},
   "outputs": [],
   "source": [
    "# creating new column to hold total number of words in the statements and calculating the total words\n",
    "df_raw_tfid['TotalWords'] = df_raw_tfid['statement'].str.split().str.len()"
   ]
  },
  {
   "cell_type": "code",
   "execution_count": 76,
   "metadata": {},
   "outputs": [
    {
     "data": {
      "text/html": [
       "<div>\n",
       "<style scoped>\n",
       "    .dataframe tbody tr th:only-of-type {\n",
       "        vertical-align: middle;\n",
       "    }\n",
       "\n",
       "    .dataframe tbody tr th {\n",
       "        vertical-align: top;\n",
       "    }\n",
       "\n",
       "    .dataframe thead th {\n",
       "        text-align: right;\n",
       "    }\n",
       "</style>\n",
       "<table border=\"1\" class=\"dataframe\">\n",
       "  <thead>\n",
       "    <tr style=\"text-align: right;\">\n",
       "      <th></th>\n",
       "      <th>index</th>\n",
       "      <th>ID</th>\n",
       "      <th>label</th>\n",
       "      <th>statement</th>\n",
       "      <th>TotalWords</th>\n",
       "      <th>Lemmatised_words</th>\n",
       "      <th>subject</th>\n",
       "      <th>speaker</th>\n",
       "      <th>job</th>\n",
       "      <th>state</th>\n",
       "      <th>party</th>\n",
       "      <th>barely_true_cts</th>\n",
       "      <th>false_cts</th>\n",
       "      <th>half_true_cts</th>\n",
       "      <th>mostly_true_cts</th>\n",
       "      <th>pants_on_fire_cts</th>\n",
       "      <th>context</th>\n",
       "    </tr>\n",
       "  </thead>\n",
       "  <tbody>\n",
       "    <tr>\n",
       "      <th>0</th>\n",
       "      <td>8289</td>\n",
       "      <td>423.json</td>\n",
       "      <td>true</td>\n",
       "      <td>\"McCain opposes a woman's right to choose.\"</td>\n",
       "      <td>7</td>\n",
       "      <td>NaN</td>\n",
       "      <td>abortion</td>\n",
       "      <td>moveon</td>\n",
       "      <td>NaN</td>\n",
       "      <td>NaN</td>\n",
       "      <td>democrat</td>\n",
       "      <td>2</td>\n",
       "      <td>4</td>\n",
       "      <td>3</td>\n",
       "      <td>0</td>\n",
       "      <td>0</td>\n",
       "      <td>an e-mail message</td>\n",
       "    </tr>\n",
       "    <tr>\n",
       "      <th>1</th>\n",
       "      <td>1156</td>\n",
       "      <td>10379.json</td>\n",
       "      <td>barely-true</td>\n",
       "      <td>The name Frank has risen in popularity by 20 p...</td>\n",
       "      <td>18</td>\n",
       "      <td>NaN</td>\n",
       "      <td>pop-culture</td>\n",
       "      <td>matt-lauer</td>\n",
       "      <td>Today Show host</td>\n",
       "      <td>NaN</td>\n",
       "      <td>none</td>\n",
       "      <td>1</td>\n",
       "      <td>0</td>\n",
       "      <td>0</td>\n",
       "      <td>0</td>\n",
       "      <td>0</td>\n",
       "      <td>a red carpet interview before the Golden Globes</td>\n",
       "    </tr>\n",
       "  </tbody>\n",
       "</table>\n",
       "</div>"
      ],
      "text/plain": [
       "   index          ID        label  \\\n",
       "0   8289    423.json         true   \n",
       "1   1156  10379.json  barely-true   \n",
       "\n",
       "                                           statement  TotalWords  \\\n",
       "0        \"McCain opposes a woman's right to choose.\"           7   \n",
       "1  The name Frank has risen in popularity by 20 p...          18   \n",
       "\n",
       "   Lemmatised_words      subject     speaker              job state     party  \\\n",
       "0               NaN     abortion      moveon              NaN   NaN  democrat   \n",
       "1               NaN  pop-culture  matt-lauer  Today Show host   NaN      none   \n",
       "\n",
       "   barely_true_cts  false_cts  half_true_cts  mostly_true_cts  \\\n",
       "0                2          4              3                0   \n",
       "1                1          0              0                0   \n",
       "\n",
       "   pants_on_fire_cts                                          context  \n",
       "0                  0                                an e-mail message  \n",
       "1                  0  a red carpet interview before the Golden Globes  "
      ]
     },
     "execution_count": 76,
     "metadata": {},
     "output_type": "execute_result"
    }
   ],
   "source": [
    "df_raw_tfid.head(2)"
   ]
  },
  {
   "cell_type": "code",
   "execution_count": 77,
   "metadata": {},
   "outputs": [],
   "source": [
    "X = df_raw_tfid[['statement', 'TotalWords']]\n",
    "\n",
    "Y = df_raw_tfid['label']"
   ]
  },
  {
   "cell_type": "code",
   "execution_count": 78,
   "metadata": {},
   "outputs": [],
   "source": [
    "X_train, X_test, y_train, y_test = train_test_split(X, Y, test_size=0.25)"
   ]
  },
  {
   "cell_type": "markdown",
   "metadata": {},
   "source": [
    "## Creating the pipeline with TFIDVectorizer and feature union of total words in statements"
   ]
  },
  {
   "cell_type": "code",
   "execution_count": 79,
   "metadata": {},
   "outputs": [],
   "source": [
    "classifier = Pipeline([\n",
    "    ('features', FeatureUnion([\n",
    "        ('text', Pipeline([\n",
    "            ('colext', TextSelector('statement')),\n",
    "            ('tfidf', TfidfVectorizer(analyzer='word',preprocessor=preprocess, tokenizer=Tokenizer, stop_words=stopwords_list,\n",
    "                     min_df=.0025, max_df=0.25, ngram_range=(1,3))),\n",
    "            ('svd', TruncatedSVD(algorithm='randomized', n_components=300)), #for XGB\n",
    "        ])),\n",
    "        ('words', Pipeline([\n",
    "            ('wordext', NumberSelector('TotalWords')),\n",
    "            ('wscaler', StandardScaler()),\n",
    "        ])),\n",
    "    ])),\n",
    "    ('clf', LogisticRegression(solver='liblinear', random_state=0)),\n",
    "    ])\n",
    "\n"
   ]
  },
  {
   "cell_type": "code",
   "execution_count": 80,
   "metadata": {},
   "outputs": [
    {
     "name": "stdout",
     "output_type": "stream",
     "text": [
      "Accuracy:  0.2542848239326893\n",
      "              precision    recall  f1-score   support\n",
      "\n",
      " barely-true       0.24      0.18      0.20       497\n",
      "       false       0.28      0.39      0.32       644\n",
      "   half-true       0.24      0.31      0.27       647\n",
      " mostly-true       0.25      0.30      0.28       629\n",
      "  pants-fire       0.22      0.03      0.06       244\n",
      "        true       0.26      0.15      0.19       548\n",
      "\n",
      "   micro avg       0.25      0.25      0.25      3209\n",
      "   macro avg       0.25      0.23      0.22      3209\n",
      "weighted avg       0.25      0.25      0.24      3209\n",
      "\n",
      "[[ 87 143 135  90   5  37]\n",
      " [ 56 248 168 104   7  61]\n",
      " [ 81 143 199 169   4  51]\n",
      " [ 53 142 163 190   6  75]\n",
      " [ 34 102  53  33   8  14]\n",
      " [ 46 121 127 163   7  84]]\n"
     ]
    }
   ],
   "source": [
    "# logistic regression\n",
    "classifier.fit(X_train, y_train)\n",
    "predictions = classifier.predict(X_test)\n",
    "print_scores()\n",
    "\n"
   ]
  },
  {
   "cell_type": "code",
   "execution_count": 81,
   "metadata": {},
   "outputs": [
    {
     "data": {
      "image/png": "[encoded data removed]",
      "text/plain": [
       "<Figure size 720x576 with 2 Axes>"
      ]
     },
     "metadata": {
      "needs_background": "light"
     },
     "output_type": "display_data"
    }
   ],
   "source": [
    "confusion_matrix_heatmap(confusion_matrix(y_test, predictions), classifier.classes_)"
   ]
  },
  {
   "cell_type": "code",
   "execution_count": 82,
   "metadata": {},
   "outputs": [
    {
     "name": "stdout",
     "output_type": "stream",
     "text": [
      "Accuracy:  0.20878778435649736\n",
      "              precision    recall  f1-score   support\n",
      "\n",
      " barely-true       0.23      0.11      0.15       497\n",
      "       false       0.22      0.30      0.26       644\n",
      "   half-true       0.26      0.13      0.17       647\n",
      " mostly-true       0.23      0.27      0.25       629\n",
      "  pants-fire       0.12      0.30      0.17       244\n",
      "        true       0.21      0.18      0.19       548\n",
      "\n",
      "   micro avg       0.21      0.21      0.21      3209\n",
      "   macro avg       0.21      0.21      0.20      3209\n",
      "weighted avg       0.22      0.21      0.20      3209\n",
      "\n",
      "[[ 54 130  55  99 101  58]\n",
      " [ 43 193  52 141 140  75]\n",
      " [ 44 192  83 138 100  90]\n",
      " [ 43 167  51 172  92 104]\n",
      " [ 22  55  23  37  72  35]\n",
      " [ 30 129  56 160  77  96]]\n"
     ]
    }
   ],
   "source": [
    "#becasue multinominal naive baiese deosnt fit\n",
    "classifier.set_params(clf=GaussianNB())\n",
    "classifier.fit(X_train, y_train)\n",
    "predictions = classifier.predict(X_test)\n",
    "print_scores()"
   ]
  },
  {
   "cell_type": "code",
   "execution_count": 83,
   "metadata": {},
   "outputs": [
    {
     "name": "stdout",
     "output_type": "stream",
     "text": [
      "Accuracy:  0.25771268307884077\n",
      "              precision    recall  f1-score   support\n",
      "\n",
      " barely-true       0.24      0.19      0.21       497\n",
      "       false       0.28      0.43      0.34       644\n",
      "   half-true       0.24      0.31      0.27       647\n",
      " mostly-true       0.26      0.30      0.28       629\n",
      "  pants-fire       0.00      0.00      0.00       244\n",
      "        true       0.25      0.13      0.17       548\n",
      "\n",
      "   micro avg       0.26      0.26      0.26      3209\n",
      "   macro avg       0.21      0.23      0.21      3209\n",
      "weighted avg       0.24      0.26      0.24      3209\n",
      "\n",
      "[[ 94 150 129  89   1  34]\n",
      " [ 71 275 152  94   2  50]\n",
      " [ 87 152 200 162   1  45]\n",
      " [ 66 148 164 187   0  64]\n",
      " [ 30 111  60  27   0  16]\n",
      " [ 39 142 124 172   0  71]]\n"
     ]
    }
   ],
   "source": [
    "classifier.set_params(clf=svm.SVC(C=1.0, kernel='linear', degree=3, gamma='auto',random_state=1000))\n",
    "classifier.fit(X_train, y_train)\n",
    "predictions = classifier.predict(X_test)\n",
    "print_scores()"
   ]
  },
  {
   "cell_type": "code",
   "execution_count": 84,
   "metadata": {},
   "outputs": [
    {
     "data": {
      "image/png": "[encoded data removed]",
      "text/plain": [
       "<Figure size 720x576 with 2 Axes>"
      ]
     },
     "metadata": {
      "needs_background": "light"
     },
     "output_type": "display_data"
    }
   ],
   "source": [
    "#highest accuracy \n",
    "confusion_matrix_heatmap(confusion_matrix(y_test,predictions), classifier.classes_)"
   ]
  },
  {
   "cell_type": "code",
   "execution_count": 85,
   "metadata": {},
   "outputs": [
    {
     "name": "stdout",
     "output_type": "stream",
     "text": [
      "Accuracy:  0.20130881894671238\n",
      "              precision    recall  f1-score   support\n",
      "\n",
      " barely-true       0.17      0.19      0.18       497\n",
      "       false       0.23      0.22      0.23       644\n",
      "   half-true       0.21      0.20      0.20       647\n",
      " mostly-true       0.23      0.23      0.23       629\n",
      "  pants-fire       0.11      0.12      0.12       244\n",
      "        true       0.21      0.20      0.20       548\n",
      "\n",
      "   micro avg       0.20      0.20      0.20      3209\n",
      "   macro avg       0.19      0.19      0.19      3209\n",
      "weighted avg       0.20      0.20      0.20      3209\n",
      "\n",
      "[[ 96 104  96  90  43  68]\n",
      " [122 143 106 122  55  96]\n",
      " [106 127 127 130  52 105]\n",
      " [124 106 116 143  40 100]\n",
      " [ 41  50  42  44  30  37]\n",
      " [ 85  94 114 104  44 107]]\n"
     ]
    }
   ],
   "source": [
    "decision_tree=tree.DecisionTreeClassifier(random_state=1000)\n",
    "classifier.set_params(clf=decision_tree)\n",
    "classifier.fit(X_train, y_train)\n",
    "predictions = classifier.predict(X_test)\n",
    "print_scores()"
   ]
  },
  {
   "cell_type": "code",
   "execution_count": 86,
   "metadata": {},
   "outputs": [
    {
     "name": "stdout",
     "output_type": "stream",
     "text": [
      "Accuracy:  0.20598317232782798\n",
      "              precision    recall  f1-score   support\n",
      "\n",
      " barely-true       0.16      0.23      0.19       497\n",
      "       false       0.22      0.29      0.25       644\n",
      "   half-true       0.20      0.22      0.21       647\n",
      " mostly-true       0.23      0.20      0.21       629\n",
      "  pants-fire       0.13      0.05      0.07       244\n",
      "        true       0.26      0.15      0.19       548\n",
      "\n",
      "   micro avg       0.21      0.21      0.21      3209\n",
      "   macro avg       0.20      0.19      0.19      3209\n",
      "weighted avg       0.21      0.21      0.20      3209\n",
      "\n",
      "[[114 143 108  91   8  33]\n",
      " [137 186 147 102  14  58]\n",
      " [160 167 145  99  20  56]\n",
      " [142 152 135 125  15  60]\n",
      " [ 46  72  55  42  11  18]\n",
      " [112 128 126  88  14  80]]\n"
     ]
    }
   ],
   "source": [
    "classifier.set_params(clf=RandomForestClassifier(random_state=1000))\n",
    "classifier.fit(X_train, y_train)\n",
    "predictions = classifier.predict(X_test)\n",
    "print_scores()"
   ]
  },
  {
   "cell_type": "code",
   "execution_count": 87,
   "metadata": {},
   "outputs": [
    {
     "name": "stdout",
     "output_type": "stream",
     "text": [
      "Accuracy:  0.22904331567466502\n",
      "              precision    recall  f1-score   support\n",
      "\n",
      " barely-true       0.21      0.17      0.19       497\n",
      "       false       0.26      0.33      0.29       644\n",
      "   half-true       0.24      0.30      0.26       647\n",
      " mostly-true       0.21      0.26      0.23       629\n",
      "  pants-fire       0.22      0.06      0.09       244\n",
      "        true       0.21      0.12      0.15       548\n",
      "\n",
      "   micro avg       0.23      0.23      0.23      3209\n",
      "   macro avg       0.22      0.21      0.20      3209\n",
      "weighted avg       0.23      0.23      0.22      3209\n",
      "\n",
      "[[ 86 133 123 109   9  37]\n",
      " [ 75 211 150 139  16  53]\n",
      " [ 84 123 192 180   8  60]\n",
      " [ 77 144 154 166  10  78]\n",
      " [ 30  88  54  38  14  20]\n",
      " [ 58 124 138 156   6  66]]\n"
     ]
    }
   ],
   "source": [
    "classifier.set_params(clf=XGBClassifier(max_depth=3, n_estimators=300, learning_rate=0.1, random_state=0))\n",
    "classifier.fit(X_train, y_train)\n",
    "predictions = classifier.predict(X_test)\n",
    "print_scores()"
   ]
  },
  {
   "cell_type": "markdown",
   "metadata": {},
   "source": [
    "## Using char_wb for the TFIDVectorizer and features union"
   ]
  },
  {
   "cell_type": "code",
   "execution_count": 88,
   "metadata": {},
   "outputs": [],
   "source": [
    "classifier_char_wb = Pipeline([\n",
    "    ('features', FeatureUnion([\n",
    "        ('text', Pipeline([\n",
    "            ('colext', TextSelector('statement')),\n",
    "            ('tfidf', TfidfVectorizer(analyzer='char_wb',preprocessor=preprocess, tokenizer=Tokenizer, stop_words=stopwords_list,\n",
    "                     min_df=.0025, max_df=0.25, ngram_range=(1,3))),\n",
    "            ('svd', TruncatedSVD(algorithm='randomized', n_components=300)), #for XGB\n",
    "        ])),\n",
    "        ('words', Pipeline([\n",
    "            ('wordext', NumberSelector('TotalWords')),\n",
    "            ('wscaler', StandardScaler()),\n",
    "        ])),\n",
    "    ])),\n",
    "    ('clf', LogisticRegression(solver='liblinear', random_state=1000)),\n",
    "    ])"
   ]
  },
  {
   "cell_type": "code",
   "execution_count": 89,
   "metadata": {},
   "outputs": [
    {
     "name": "stdout",
     "output_type": "stream",
     "text": [
      "Accuracy:  0.24992209411031474\n",
      "              precision    recall  f1-score   support\n",
      "\n",
      " barely-true       0.23      0.17      0.19       497\n",
      "       false       0.26      0.35      0.30       644\n",
      "   half-true       0.25      0.35      0.29       647\n",
      " mostly-true       0.26      0.29      0.27       629\n",
      "  pants-fire       0.07      0.01      0.01       244\n",
      "        true       0.26      0.15      0.19       548\n",
      "\n",
      "   micro avg       0.25      0.25      0.25      3209\n",
      "   macro avg       0.22      0.22      0.21      3209\n",
      "weighted avg       0.24      0.25      0.24      3209\n",
      "\n",
      "[[ 84 142 132  92   7  40]\n",
      " [ 79 225 162 106  10  62]\n",
      " [ 73 138 225 154   4  53]\n",
      " [ 61 147 171 185   0  65]\n",
      " [ 35  90  72  32   2  13]\n",
      " [ 35 132 138 156   6  81]]\n"
     ]
    }
   ],
   "source": [
    "#logistic regression\n",
    "classifier_char_wb.fit(X_train, y_train)\n",
    "predictions = classifier_char_wb.predict(X_test)\n",
    "print_scores()"
   ]
  },
  {
   "cell_type": "code",
   "execution_count": 90,
   "metadata": {},
   "outputs": [
    {
     "name": "stdout",
     "output_type": "stream",
     "text": [
      "Accuracy:  0.22655032720473667\n",
      "              precision    recall  f1-score   support\n",
      "\n",
      " barely-true       0.20      0.18      0.19       497\n",
      "       false       0.25      0.23      0.24       644\n",
      "   half-true       0.26      0.26      0.26       647\n",
      " mostly-true       0.25      0.24      0.24       629\n",
      "  pants-fire       0.15      0.26      0.19       244\n",
      "        true       0.22      0.20      0.21       548\n",
      "\n",
      "   micro avg       0.23      0.23      0.23      3209\n",
      "   macro avg       0.22      0.23      0.22      3209\n",
      "weighted avg       0.23      0.23      0.23      3209\n",
      "\n",
      "[[ 91  92  93  83  71  67]\n",
      " [ 95 145 109 106  92  97]\n",
      " [ 98 114 169 118  63  85]\n",
      " [ 88  91 123 150  70 107]\n",
      " [ 31  58  44  22  63  26]\n",
      " [ 51  90 110 125  63 109]]\n"
     ]
    }
   ],
   "source": [
    "# Gaussian NB\n",
    "classifier_char_wb.set_params(clf=GaussianNB())\n",
    "classifier_char_wb.fit(X_train, y_train)\n",
    "predictions = classifier_char_wb.predict(X_test)\n",
    "print_scores()"
   ]
  },
  {
   "cell_type": "code",
   "execution_count": 91,
   "metadata": {},
   "outputs": [
    {
     "name": "stdout",
     "output_type": "stream",
     "text": [
      "Accuracy:  0.24992209411031474\n",
      "              precision    recall  f1-score   support\n",
      "\n",
      " barely-true       0.25      0.20      0.22       497\n",
      "       false       0.24      0.35      0.29       644\n",
      "   half-true       0.26      0.37      0.30       647\n",
      " mostly-true       0.25      0.26      0.26       629\n",
      "  pants-fire       0.00      0.00      0.00       244\n",
      "        true       0.25      0.13      0.17       548\n",
      "\n",
      "   micro avg       0.25      0.25      0.25      3209\n",
      "   macro avg       0.21      0.22      0.21      3209\n",
      "weighted avg       0.23      0.25      0.23      3209\n",
      "\n",
      "[[ 97 151 132  80   0  37]\n",
      " [ 85 227 174 104   0  54]\n",
      " [ 73 154 239 137   0  44]\n",
      " [ 59 160 174 166   0  70]\n",
      " [ 31 100  72  29   0  12]\n",
      " [ 40 143 136 156   0  73]]\n"
     ]
    }
   ],
   "source": [
    "#Support vector Machine classifier\n",
    "classifier_char_wb.set_params(clf=svm.SVC(C=1.0, kernel='linear', degree=3, gamma='auto'))\n",
    "classifier_char_wb.fit(X_train, y_train)\n",
    "predictions = classifier_char_wb.predict(X_test)\n",
    "print_scores()"
   ]
  },
  {
   "cell_type": "code",
   "execution_count": 92,
   "metadata": {},
   "outputs": [
    {
     "name": "stdout",
     "output_type": "stream",
     "text": [
      "Accuracy:  0.1869741352446245\n",
      "              precision    recall  f1-score   support\n",
      "\n",
      " barely-true       0.19      0.19      0.19       497\n",
      "       false       0.21      0.20      0.20       644\n",
      "   half-true       0.22      0.23      0.22       647\n",
      " mostly-true       0.20      0.20      0.20       629\n",
      "  pants-fire       0.09      0.11      0.10       244\n",
      "        true       0.16      0.14      0.15       548\n",
      "\n",
      "   micro avg       0.19      0.19      0.19      3209\n",
      "   macro avg       0.18      0.18      0.18      3209\n",
      "weighted avg       0.19      0.19      0.19      3209\n",
      "\n",
      "[[ 94  94 100  92  42  75]\n",
      " [ 91 130 139 131  62  91]\n",
      " [ 99 109 148 127  56 108]\n",
      " [103 119 120 126  61 100]\n",
      " [ 34  62  37  55  27  29]\n",
      " [ 78 116 128 108  43  75]]\n"
     ]
    }
   ],
   "source": [
    "#decision tree\n",
    "decision_tree=tree.DecisionTreeClassifier(random_state=1000)\n",
    "classifier_char_wb.set_params(clf=decision_tree)\n",
    "classifier_char_wb.fit(X_train, y_train)\n",
    "predictions = classifier_char_wb.predict(X_test)\n",
    "print_scores()"
   ]
  },
  {
   "cell_type": "code",
   "execution_count": 93,
   "metadata": {},
   "outputs": [
    {
     "name": "stdout",
     "output_type": "stream",
     "text": [
      "Accuracy:  0.198504206918043\n",
      "              precision    recall  f1-score   support\n",
      "\n",
      " barely-true       0.16      0.24      0.19       497\n",
      "       false       0.23      0.28      0.25       644\n",
      "   half-true       0.22      0.26      0.24       647\n",
      " mostly-true       0.20      0.17      0.18       629\n",
      "  pants-fire       0.08      0.02      0.03       244\n",
      "        true       0.18      0.10      0.13       548\n",
      "\n",
      "   micro avg       0.20      0.20      0.20      3209\n",
      "   macro avg       0.18      0.18      0.17      3209\n",
      "weighted avg       0.19      0.20      0.19      3209\n",
      "\n",
      "[[118 124 124  70  15  46]\n",
      " [131 183 146 115  13  56]\n",
      " [141 135 170 115  18  68]\n",
      " [157 149 150 106   9  58]\n",
      " [ 65  67  55  29   5  23]\n",
      " [130 145 129  83   6  55]]\n"
     ]
    }
   ],
   "source": [
    "classifier_char_wb.set_params(clf=RandomForestClassifier())\n",
    "classifier_char_wb.fit(X_train, y_train)\n",
    "predictions = classifier_char_wb.predict(X_test)\n",
    "print_scores()"
   ]
  },
  {
   "cell_type": "code",
   "execution_count": 94,
   "metadata": {},
   "outputs": [
    {
     "name": "stdout",
     "output_type": "stream",
     "text": [
      "Accuracy:  0.22904331567466502\n",
      "              precision    recall  f1-score   support\n",
      "\n",
      " barely-true       0.21      0.17      0.19       497\n",
      "       false       0.26      0.33      0.29       644\n",
      "   half-true       0.24      0.30      0.26       647\n",
      " mostly-true       0.21      0.26      0.23       629\n",
      "  pants-fire       0.22      0.06      0.09       244\n",
      "        true       0.21      0.12      0.15       548\n",
      "\n",
      "   micro avg       0.23      0.23      0.23      3209\n",
      "   macro avg       0.22      0.21      0.20      3209\n",
      "weighted avg       0.23      0.23      0.22      3209\n",
      "\n",
      "[[ 86 133 123 109   9  37]\n",
      " [ 75 211 150 139  16  53]\n",
      " [ 84 123 192 180   8  60]\n",
      " [ 77 144 154 166  10  78]\n",
      " [ 30  88  54  38  14  20]\n",
      " [ 58 124 138 156   6  66]]\n"
     ]
    }
   ],
   "source": [
    "classifier_char_wb.set_params(clf=XGBClassifier(max_depth=3, n_estimators=300, learning_rate=0.1, random_state=0))\n",
    "classifier_char_wb.fit(X_train, y_train)\n",
    "predictions = classifier.predict(X_test)\n",
    "print_scores()"
   ]
  },
  {
   "cell_type": "markdown",
   "metadata": {},
   "source": [
    "### Grid Search CV with TFIDVectorizer, feature Union and top 2 performing classifiers"
   ]
  },
  {
   "cell_type": "code",
   "execution_count": 95,
   "metadata": {},
   "outputs": [],
   "source": [
    "classifier_grid = Pipeline([\n",
    "    ('features', FeatureUnion([\n",
    "        ('text', Pipeline([\n",
    "            ('colext', TextSelector('statement')),\n",
    "            ('tfidf', TfidfVectorizer(analyzer='word', preprocessor=preprocess, tokenizer=Tokenizer, stop_words='english',\n",
    "                     min_df=.0025, max_df=0.25, ngram_range=(1,3))),\n",
    "            ('svd', TruncatedSVD(algorithm='randomized', n_components=300)), #for XGB\n",
    "        ])),\n",
    "        ('words', Pipeline([\n",
    "            ('wordext', NumberSelector('TotalWords')),\n",
    "            ('wscaler', StandardScaler()),\n",
    "        ])),\n",
    "    ])),\n",
    "    ('clf',None),\n",
    "    ])\n",
    "    \n",
    "param_grid={\n",
    "   # 'selector__k': [100, 50,150],\n",
    "    'clf': [LogisticRegression(solver='liblinear', random_state=0),svm.SVC(C=1.0, kernel='linear', degree=3, gamma='auto'),\n",
    "    svm.SVC(C=1.0, kernel='linear', degree=3, gamma='auto'),RandomForestClassifier() ],\n",
    "}\n"
   ]
  },
  {
   "cell_type": "code",
   "execution_count": 96,
   "metadata": {},
   "outputs": [
    {
     "data": {
      "text/plain": [
       "GridSearchCV(cv=StratifiedKFold(n_splits=5, random_state=0, shuffle=False),\n",
       "       error_score='raise-deprecating',\n",
       "       estimator=Pipeline(memory=None,\n",
       "     steps=[('features', FeatureUnion(n_jobs=None,\n",
       "       transformer_list=[('text', Pipeline(memory=None,\n",
       "     steps=[('colext', TextSelector(field='statement')), ('tfidf', TfidfVectorizer(analyzer='word', binary=False, decode_error='strict',\n",
       "        dtype=<class 'numpy.float64'>, encoding='utf-8', inpu...er(copy=True, with_mean=True, with_std=True))]))],\n",
       "       transformer_weights=None)), ('clf', None)]),\n",
       "       fit_params=None, iid='warn', n_jobs=None,\n",
       "       param_grid={'clf': [LogisticRegression(C=1.0, class_weight=None, dual=False, fit_intercept=True,\n",
       "          intercept_scaling=1, max_iter=100, multi_class='warn',\n",
       "          n_jobs=None, penalty='l2', random_state=0, solver='liblinear',\n",
       "          tol=0.0001, verbose=0, warm_start=False), SVC(C=1.0, ca...obs=None,\n",
       "            oob_score=False, random_state=None, verbose=0,\n",
       "            warm_start=False)]},\n",
       "       pre_dispatch='2*n_jobs', refit='f1_weighted',\n",
       "       return_train_score=False,\n",
       "       scoring=['accuracy', 'precision_weighted', 'recall_weighted', 'f1_weighted'],\n",
       "       verbose=0)"
      ]
     },
     "execution_count": 96,
     "metadata": {},
     "output_type": "execute_result"
    }
   ],
   "source": [
    "search = GridSearchCV(classifier_grid, cv = StratifiedKFold(n_splits=5, random_state=0), \n",
    "                      return_train_score = False, \n",
    "                      scoring = ['accuracy', 'precision_weighted', 'recall_weighted', 'f1_weighted'],\n",
    "                      refit = 'f1_weighted',\n",
    "                      param_grid = param_grid)\n",
    "\n",
    "search.fit(X_train, y_train)\n",
    " "
   ]
  },
  {
   "cell_type": "code",
   "execution_count": 97,
   "metadata": {},
   "outputs": [
    {
     "data": {
      "text/html": [
       "<div>\n",
       "<style scoped>\n",
       "    .dataframe tbody tr th:only-of-type {\n",
       "        vertical-align: middle;\n",
       "    }\n",
       "\n",
       "    .dataframe tbody tr th {\n",
       "        vertical-align: top;\n",
       "    }\n",
       "\n",
       "    .dataframe thead th {\n",
       "        text-align: right;\n",
       "    }\n",
       "</style>\n",
       "<table border=\"1\" class=\"dataframe\">\n",
       "  <thead>\n",
       "    <tr style=\"text-align: right;\">\n",
       "      <th></th>\n",
       "      <th>mean_fit_time</th>\n",
       "      <th>std_fit_time</th>\n",
       "      <th>mean_score_time</th>\n",
       "      <th>std_score_time</th>\n",
       "      <th>param_clf</th>\n",
       "      <th>params</th>\n",
       "      <th>split0_test_accuracy</th>\n",
       "      <th>split1_test_accuracy</th>\n",
       "      <th>split2_test_accuracy</th>\n",
       "      <th>split3_test_accuracy</th>\n",
       "      <th>...</th>\n",
       "      <th>std_test_recall_weighted</th>\n",
       "      <th>rank_test_recall_weighted</th>\n",
       "      <th>split0_test_f1_weighted</th>\n",
       "      <th>split1_test_f1_weighted</th>\n",
       "      <th>split2_test_f1_weighted</th>\n",
       "      <th>split3_test_f1_weighted</th>\n",
       "      <th>split4_test_f1_weighted</th>\n",
       "      <th>mean_test_f1_weighted</th>\n",
       "      <th>std_test_f1_weighted</th>\n",
       "      <th>rank_test_f1_weighted</th>\n",
       "    </tr>\n",
       "  </thead>\n",
       "  <tbody>\n",
       "    <tr>\n",
       "      <th>0</th>\n",
       "      <td>9.359230</td>\n",
       "      <td>1.831047</td>\n",
       "      <td>5.694313</td>\n",
       "      <td>1.376726</td>\n",
       "      <td>LogisticRegression(C=1.0, class_weight=None, d...</td>\n",
       "      <td>{'clf': LogisticRegression(C=1.0, class_weight...</td>\n",
       "      <td>0.238466</td>\n",
       "      <td>0.241433</td>\n",
       "      <td>0.246881</td>\n",
       "      <td>0.240644</td>\n",
       "      <td>...</td>\n",
       "      <td>0.003636</td>\n",
       "      <td>1</td>\n",
       "      <td>0.227192</td>\n",
       "      <td>0.232748</td>\n",
       "      <td>0.237134</td>\n",
       "      <td>0.230332</td>\n",
       "      <td>0.223467</td>\n",
       "      <td>0.230173</td>\n",
       "      <td>0.004667</td>\n",
       "      <td>1</td>\n",
       "    </tr>\n",
       "    <tr>\n",
       "      <th>1</th>\n",
       "      <td>43.894832</td>\n",
       "      <td>2.890693</td>\n",
       "      <td>24.334531</td>\n",
       "      <td>1.969127</td>\n",
       "      <td>SVC(C=1.0, cache_size=200, class_weight=None, ...</td>\n",
       "      <td>{'clf': SVC(C=1.0, cache_size=200, class_weigh...</td>\n",
       "      <td>0.237947</td>\n",
       "      <td>0.234683</td>\n",
       "      <td>0.240644</td>\n",
       "      <td>0.233888</td>\n",
       "      <td>...</td>\n",
       "      <td>0.003712</td>\n",
       "      <td>3</td>\n",
       "      <td>0.220479</td>\n",
       "      <td>0.217470</td>\n",
       "      <td>0.223236</td>\n",
       "      <td>0.218769</td>\n",
       "      <td>0.212340</td>\n",
       "      <td>0.218459</td>\n",
       "      <td>0.003616</td>\n",
       "      <td>3</td>\n",
       "    </tr>\n",
       "    <tr>\n",
       "      <th>2</th>\n",
       "      <td>43.213136</td>\n",
       "      <td>2.360158</td>\n",
       "      <td>25.511674</td>\n",
       "      <td>2.045494</td>\n",
       "      <td>SVC(C=1.0, cache_size=200, class_weight=None, ...</td>\n",
       "      <td>{'clf': SVC(C=1.0, cache_size=200, class_weigh...</td>\n",
       "      <td>0.238984</td>\n",
       "      <td>0.235722</td>\n",
       "      <td>0.243763</td>\n",
       "      <td>0.234927</td>\n",
       "      <td>...</td>\n",
       "      <td>0.004062</td>\n",
       "      <td>2</td>\n",
       "      <td>0.220552</td>\n",
       "      <td>0.219367</td>\n",
       "      <td>0.226006</td>\n",
       "      <td>0.219154</td>\n",
       "      <td>0.213436</td>\n",
       "      <td>0.219703</td>\n",
       "      <td>0.004002</td>\n",
       "      <td>2</td>\n",
       "    </tr>\n",
       "    <tr>\n",
       "      <th>3</th>\n",
       "      <td>9.009752</td>\n",
       "      <td>1.517045</td>\n",
       "      <td>5.257853</td>\n",
       "      <td>1.152030</td>\n",
       "      <td>(DecisionTreeClassifier(class_weight=None, cri...</td>\n",
       "      <td>{'clf': (DecisionTreeClassifier(class_weight=N...</td>\n",
       "      <td>0.208917</td>\n",
       "      <td>0.198858</td>\n",
       "      <td>0.211019</td>\n",
       "      <td>0.189709</td>\n",
       "      <td>...</td>\n",
       "      <td>0.007888</td>\n",
       "      <td>4</td>\n",
       "      <td>0.197807</td>\n",
       "      <td>0.190557</td>\n",
       "      <td>0.201956</td>\n",
       "      <td>0.182481</td>\n",
       "      <td>0.189505</td>\n",
       "      <td>0.192464</td>\n",
       "      <td>0.006791</td>\n",
       "      <td>4</td>\n",
       "    </tr>\n",
       "  </tbody>\n",
       "</table>\n",
       "<p>4 rows × 38 columns</p>\n",
       "</div>"
      ],
      "text/plain": [
       "   mean_fit_time  std_fit_time  mean_score_time  std_score_time  \\\n",
       "0       9.359230      1.831047         5.694313        1.376726   \n",
       "1      43.894832      2.890693        24.334531        1.969127   \n",
       "2      43.213136      2.360158        25.511674        2.045494   \n",
       "3       9.009752      1.517045         5.257853        1.152030   \n",
       "\n",
       "                                           param_clf  \\\n",
       "0  LogisticRegression(C=1.0, class_weight=None, d...   \n",
       "1  SVC(C=1.0, cache_size=200, class_weight=None, ...   \n",
       "2  SVC(C=1.0, cache_size=200, class_weight=None, ...   \n",
       "3  (DecisionTreeClassifier(class_weight=None, cri...   \n",
       "\n",
       "                                              params  split0_test_accuracy  \\\n",
       "0  {'clf': LogisticRegression(C=1.0, class_weight...              0.238466   \n",
       "1  {'clf': SVC(C=1.0, cache_size=200, class_weigh...              0.237947   \n",
       "2  {'clf': SVC(C=1.0, cache_size=200, class_weigh...              0.238984   \n",
       "3  {'clf': (DecisionTreeClassifier(class_weight=N...              0.208917   \n",
       "\n",
       "   split1_test_accuracy  split2_test_accuracy  split3_test_accuracy  \\\n",
       "0              0.241433              0.246881              0.240644   \n",
       "1              0.234683              0.240644              0.233888   \n",
       "2              0.235722              0.243763              0.234927   \n",
       "3              0.198858              0.211019              0.189709   \n",
       "\n",
       "           ...            std_test_recall_weighted  rank_test_recall_weighted  \\\n",
       "0          ...                            0.003636                          1   \n",
       "1          ...                            0.003712                          3   \n",
       "2          ...                            0.004062                          2   \n",
       "3          ...                            0.007888                          4   \n",
       "\n",
       "   split0_test_f1_weighted  split1_test_f1_weighted  split2_test_f1_weighted  \\\n",
       "0                 0.227192                 0.232748                 0.237134   \n",
       "1                 0.220479                 0.217470                 0.223236   \n",
       "2                 0.220552                 0.219367                 0.226006   \n",
       "3                 0.197807                 0.190557                 0.201956   \n",
       "\n",
       "   split3_test_f1_weighted  split4_test_f1_weighted  mean_test_f1_weighted  \\\n",
       "0                 0.230332                 0.223467               0.230173   \n",
       "1                 0.218769                 0.212340               0.218459   \n",
       "2                 0.219154                 0.213436               0.219703   \n",
       "3                 0.182481                 0.189505               0.192464   \n",
       "\n",
       "   std_test_f1_weighted  rank_test_f1_weighted  \n",
       "0              0.004667                      1  \n",
       "1              0.003616                      3  \n",
       "2              0.004002                      2  \n",
       "3              0.006791                      4  \n",
       "\n",
       "[4 rows x 38 columns]"
      ]
     },
     "execution_count": 97,
     "metadata": {},
     "output_type": "execute_result"
    }
   ],
   "source": [
    "pd.DataFrame(search.cv_results_)"
   ]
  },
  {
   "cell_type": "code",
   "execution_count": 98,
   "metadata": {},
   "outputs": [
    {
     "name": "stdout",
     "output_type": "stream",
     "text": [
      "Accuracy:  0.24306637581801185\n",
      "              precision    recall  f1-score   support\n",
      "\n",
      " barely-true       0.22      0.18      0.20       497\n",
      "       false       0.27      0.36      0.31       644\n",
      "   half-true       0.24      0.30      0.26       647\n",
      " mostly-true       0.23      0.28      0.25       629\n",
      "  pants-fire       0.21      0.04      0.06       244\n",
      "        true       0.24      0.15      0.18       548\n",
      "\n",
      "   micro avg       0.24      0.24      0.24      3209\n",
      "   macro avg       0.24      0.22      0.21      3209\n",
      "weighted avg       0.24      0.24      0.23      3209\n",
      "\n",
      "[[ 87 143 120  93   5  49]\n",
      " [ 77 235 157 114   7  54]\n",
      " [ 83 131 193 174   7  59]\n",
      " [ 68 146 158 175   7  75]\n",
      " [ 34 102  52  32   9  15]\n",
      " [ 40 126 134 159   8  81]]\n"
     ]
    },
    {
     "data": {
      "image/png": "[encoded data removed]",
      "text/plain": [
       "<Figure size 720x576 with 2 Axes>"
      ]
     },
     "metadata": {
      "needs_background": "light"
     },
     "output_type": "display_data"
    }
   ],
   "source": [
    "predictions = search.predict(X_test)\n",
    "\n",
    "print(\"Accuracy: \", accuracy_score(y_test, predictions))\n",
    "print(classification_report(y_test, predictions))\n",
    "print(confusion_matrix(y_test, predictions))\n",
    "\n",
    "confusion_matrix_heatmap(confusion_matrix(y_test,predictions), search.classes_)"
   ]
  },
  {
   "cell_type": "code",
   "execution_count": 99,
   "metadata": {},
   "outputs": [
    {
     "data": {
      "image/png": "[encoded data removed]",
      "text/plain": [
       "<Figure size 720x720 with 2 Axes>"
      ]
     },
     "metadata": {
      "needs_background": "light"
     },
     "output_type": "display_data"
    }
   ],
   "source": [
    "confusion_matrix_percent_heatmap(confusion_matrix(y_test,predictions), search.classes_)"
   ]
  },
  {
   "cell_type": "code",
   "execution_count": 100,
   "metadata": {},
   "outputs": [
    {
     "name": "stdout",
     "output_type": "stream",
     "text": [
      "Pipeline(memory=None,\n",
      "     steps=[('features', FeatureUnion(n_jobs=None,\n",
      "       transformer_list=[('text', Pipeline(memory=None,\n",
      "     steps=[('colext', TextSelector(field='statement')), ('tfidf', TfidfVectorizer(analyzer='word', binary=False, decode_error='strict',\n",
      "        dtype=<class 'numpy.float64'>, encoding='utf-8', inpu...nalty='l2', random_state=0, solver='liblinear',\n",
      "          tol=0.0001, verbose=0, warm_start=False))])\n"
     ]
    }
   ],
   "source": [
    "print(search.best_estimator_ )"
   ]
  },
  {
   "cell_type": "code",
   "execution_count": 101,
   "metadata": {},
   "outputs": [
    {
     "data": {
      "text/plain": [
       "0.2301733652620842"
      ]
     },
     "execution_count": 101,
     "metadata": {},
     "output_type": "execute_result"
    }
   ],
   "source": [
    "search.best_score_"
   ]
  },
  {
   "cell_type": "code",
   "execution_count": 102,
   "metadata": {},
   "outputs": [
    {
     "name": "stdout",
     "output_type": "stream",
     "text": [
      "{'clf': LogisticRegression(C=1.0, class_weight=None, dual=False, fit_intercept=True,\n",
      "          intercept_scaling=1, max_iter=100, multi_class='warn',\n",
      "          n_jobs=None, penalty='l2', random_state=0, solver='liblinear',\n",
      "          tol=0.0001, verbose=0, warm_start=False)}\n"
     ]
    }
   ],
   "source": [
    "print(search.best_params_) "
   ]
  },
  {
   "cell_type": "code",
   "execution_count": 103,
   "metadata": {},
   "outputs": [
    {
     "name": "stdout",
     "output_type": "stream",
     "text": [
      "{'accuracy': make_scorer(accuracy_score), 'precision_weighted': make_scorer(precision_score, pos_label=None, average=weighted), 'recall_weighted': make_scorer(recall_score, pos_label=None, average=weighted), 'f1_weighted': make_scorer(f1_score, pos_label=None, average=weighted)}\n"
     ]
    }
   ],
   "source": [
    "print(search.scorer_)"
   ]
  },
  {
   "cell_type": "markdown",
   "metadata": {},
   "source": [
    "## Lemmatisation of the 'statements' by giving POS (parts of speech) Tags as context"
   ]
  },
  {
   "cell_type": "markdown",
   "metadata": {},
   "source": [
    "> Earlier we did stemming of the 'statements' in the LIAR dataset using NLTK porter stemmer. Now we use stemming.The aim of both is the similar that is to reduce the inflectional forms of each word into a common base or root. Lemmatization is closely related to stemming, However the difference is that a stemmer operates on a single word without knowledge of the context, and therefore cannot discriminate between words which have different meanings depending on part of speech. Here we provide POS (parts of speech tagging) as the context for lemmatisation. Stemmers are typically easier to implement and run faster but have reduced accuracy.\n"
   ]
  },
  {
   "cell_type": "code",
   "execution_count": 104,
   "metadata": {},
   "outputs": [],
   "source": [
    "\"\"\"WordNetLemmatizer requires Pos tags to understand if the word is noun or verb or adjective etc.\n",
    "        By default it is set to Noun. Here we consider only POS tags of Noun, Adjective, Verb and Adverb. \"\"\"\n",
    "\n",
    "corpus=[]\n",
    "\n",
    "for state in df_raw_tfid['statement']:\n",
    "    \n",
    "    texts=preprocess(state)\n",
    "    token=nltk.word_tokenize(texts)\n",
    "    corpus.append(token)\n",
    "\n",
    "tag_map = defaultdict(lambda : wn.NOUN)\n",
    "tag_map['J'] = wn.ADJ\n",
    "tag_map['V'] = wn.VERB\n",
    "tag_map['R'] = wn.ADV\n",
    "\n",
    "for index,entry in enumerate(corpus):\n",
    "    # looping through the entries and saving in the corpus\n",
    "    Final_words = []\n",
    "    # fitting WordNetLemmatizer()\n",
    "    word_Lemmatized = WordNetLemmatizer()\n",
    "    # pos_tag will provide the 'tag' i.e if the word is Noun(N) or Verb(V) etc.\n",
    "    for word, tag in pos_tag(entry):\n",
    "        # condition is to check for Stop words and consider only alphabets\n",
    "        if word not in stopwords.words('english') and word.isalpha():\n",
    "            word_Final = word_Lemmatized.lemmatize(word,tag_map[tag[0]])\n",
    "            Final_words.append(word_Final)\n",
    "    # The processed words for each 'statement' will be store in column 'lemmatised_words in the dataframe'\n",
    "    df_raw_tfid.loc[index,'Lemmatised_words'] = str(Final_words)"
   ]
  },
  {
   "cell_type": "code",
   "execution_count": 105,
   "metadata": {},
   "outputs": [
    {
     "data": {
      "text/plain": [
       "[['the',\n",
       "  'name',\n",
       "  'frank',\n",
       "  'has',\n",
       "  'risen',\n",
       "  'in',\n",
       "  'popularity',\n",
       "  'by',\n",
       "  '20',\n",
       "  'percent',\n",
       "  'since',\n",
       "  'the',\n",
       "  'debut',\n",
       "  'of',\n",
       "  'house',\n",
       "  'of',\n",
       "  'cardson',\n",
       "  'netflix']]"
      ]
     },
     "execution_count": 105,
     "metadata": {},
     "output_type": "execute_result"
    }
   ],
   "source": [
    "# sample lemmatised text of the 'statements'\n",
    "corpus[1:2]"
   ]
  },
  {
   "cell_type": "code",
   "execution_count": 106,
   "metadata": {},
   "outputs": [
    {
     "data": {
      "text/html": [
       "<div>\n",
       "<style scoped>\n",
       "    .dataframe tbody tr th:only-of-type {\n",
       "        vertical-align: middle;\n",
       "    }\n",
       "\n",
       "    .dataframe tbody tr th {\n",
       "        vertical-align: top;\n",
       "    }\n",
       "\n",
       "    .dataframe thead th {\n",
       "        text-align: right;\n",
       "    }\n",
       "</style>\n",
       "<table border=\"1\" class=\"dataframe\">\n",
       "  <thead>\n",
       "    <tr style=\"text-align: right;\">\n",
       "      <th></th>\n",
       "      <th>index</th>\n",
       "      <th>ID</th>\n",
       "      <th>label</th>\n",
       "      <th>statement</th>\n",
       "      <th>TotalWords</th>\n",
       "      <th>Lemmatised_words</th>\n",
       "      <th>subject</th>\n",
       "      <th>speaker</th>\n",
       "      <th>job</th>\n",
       "      <th>state</th>\n",
       "      <th>party</th>\n",
       "      <th>barely_true_cts</th>\n",
       "      <th>false_cts</th>\n",
       "      <th>half_true_cts</th>\n",
       "      <th>mostly_true_cts</th>\n",
       "      <th>pants_on_fire_cts</th>\n",
       "      <th>context</th>\n",
       "    </tr>\n",
       "  </thead>\n",
       "  <tbody>\n",
       "    <tr>\n",
       "      <th>0</th>\n",
       "      <td>8289</td>\n",
       "      <td>423.json</td>\n",
       "      <td>true</td>\n",
       "      <td>\"McCain opposes a woman's right to choose.\"</td>\n",
       "      <td>7</td>\n",
       "      <td>['mccain', 'oppose', 'woman', 'right', 'choose']</td>\n",
       "      <td>abortion</td>\n",
       "      <td>moveon</td>\n",
       "      <td>NaN</td>\n",
       "      <td>NaN</td>\n",
       "      <td>democrat</td>\n",
       "      <td>2</td>\n",
       "      <td>4</td>\n",
       "      <td>3</td>\n",
       "      <td>0</td>\n",
       "      <td>0</td>\n",
       "      <td>an e-mail message</td>\n",
       "    </tr>\n",
       "    <tr>\n",
       "      <th>1</th>\n",
       "      <td>1156</td>\n",
       "      <td>10379.json</td>\n",
       "      <td>barely-true</td>\n",
       "      <td>The name Frank has risen in popularity by 20 p...</td>\n",
       "      <td>18</td>\n",
       "      <td>['name', 'frank', 'rise', 'popularity', 'perce...</td>\n",
       "      <td>pop-culture</td>\n",
       "      <td>matt-lauer</td>\n",
       "      <td>Today Show host</td>\n",
       "      <td>NaN</td>\n",
       "      <td>none</td>\n",
       "      <td>1</td>\n",
       "      <td>0</td>\n",
       "      <td>0</td>\n",
       "      <td>0</td>\n",
       "      <td>0</td>\n",
       "      <td>a red carpet interview before the Golden Globes</td>\n",
       "    </tr>\n",
       "  </tbody>\n",
       "</table>\n",
       "</div>"
      ],
      "text/plain": [
       "   index          ID        label  \\\n",
       "0   8289    423.json         true   \n",
       "1   1156  10379.json  barely-true   \n",
       "\n",
       "                                           statement  TotalWords  \\\n",
       "0        \"McCain opposes a woman's right to choose.\"           7   \n",
       "1  The name Frank has risen in popularity by 20 p...          18   \n",
       "\n",
       "                                    Lemmatised_words      subject     speaker  \\\n",
       "0   ['mccain', 'oppose', 'woman', 'right', 'choose']     abortion      moveon   \n",
       "1  ['name', 'frank', 'rise', 'popularity', 'perce...  pop-culture  matt-lauer   \n",
       "\n",
       "               job state     party  barely_true_cts  false_cts  half_true_cts  \\\n",
       "0              NaN   NaN  democrat                2          4              3   \n",
       "1  Today Show host   NaN      none                1          0              0   \n",
       "\n",
       "   mostly_true_cts  pants_on_fire_cts  \\\n",
       "0                0                  0   \n",
       "1                0                  0   \n",
       "\n",
       "                                           context  \n",
       "0                                an e-mail message  \n",
       "1  a red carpet interview before the Golden Globes  "
      ]
     },
     "execution_count": 106,
     "metadata": {},
     "output_type": "execute_result"
    }
   ],
   "source": [
    "# We can see that new column 'Lemmtised_words is created which stores the lemmatised words of the 'statements'\n",
    "df_raw_tfid.head(2)"
   ]
  },
  {
   "cell_type": "code",
   "execution_count": 107,
   "metadata": {},
   "outputs": [],
   "source": [
    "X=df_raw_tfid['Lemmatised_words'].tolist()\n",
    "y=df_raw_tfid['label']"
   ]
  },
  {
   "cell_type": "code",
   "execution_count": 108,
   "metadata": {},
   "outputs": [],
   "source": [
    "# fitting TfidfVectorizer with the lemmatised 'statements'\n",
    "Encoder = LabelEncoder()\n",
    "y = Encoder.fit_transform(y)\n",
    "\n",
    "Tfidf_vect = TfidfVectorizer()\n",
    "Tfidf_vect.fit(df_raw_tfid['Lemmatised_words'])\n",
    "X = Tfidf_vect.transform(X)"
   ]
  },
  {
   "cell_type": "code",
   "execution_count": 109,
   "metadata": {},
   "outputs": [],
   "source": [
    "# logistic regression classifier\n",
    "logistic = LogisticRegression(solver='liblinear', random_state=0)"
   ]
  },
  {
   "cell_type": "code",
   "execution_count": 110,
   "metadata": {},
   "outputs": [
    {
     "name": "stdout",
     "output_type": "stream",
     "text": [
      "Accuracy: mean = 25.01%, sd = 0.79%, min = 23.79, max = 26.05\n",
      "Precision: mean = 25.51%, sd = 1.53%, min = 23.30, max = 27.48\n",
      "Recall: mean = 25.01%, sd = 0.79%, min = 23.79, max = 26.05\n",
      "F1: mean = 23.91%, sd = 0.91%, min = 22.53, max = 25.06\n"
     ]
    }
   ],
   "source": [
    "# cross validation\n",
    "cv_scores = cross_validate(logistic, X, y, cv=StratifiedKFold(n_splits=5, random_state=0), return_train_score=False, scoring=['accuracy', 'precision_weighted', 'recall_weighted', 'f1_weighted'])\n",
    "print_cv_scores_summary(\"Accuracy\", cv_scores['test_accuracy'])\n",
    "print_cv_scores_summary(\"Precision\", cv_scores['test_precision_weighted'])\n",
    "print_cv_scores_summary(\"Recall\", cv_scores['test_recall_weighted'])\n",
    "print_cv_scores_summary(\"F1\", cv_scores['test_f1_weighted'])\n",
    "\n"
   ]
  },
  {
   "cell_type": "code",
   "execution_count": 111,
   "metadata": {},
   "outputs": [],
   "source": [
    "#confusion_matrix_heatmap(confusion_matrix(y_test,predictions), search.classes_)"
   ]
  },
  {
   "cell_type": "code",
   "execution_count": 112,
   "metadata": {},
   "outputs": [],
   "source": [
    "SVM_classifier=svm.SVC(C=1.0, kernel='linear', degree=3, gamma='auto', random_state=0)"
   ]
  },
  {
   "cell_type": "code",
   "execution_count": 113,
   "metadata": {},
   "outputs": [
    {
     "name": "stdout",
     "output_type": "stream",
     "text": [
      "Accuracy: mean = 24.31%, sd = 0.90%, min = 22.86, max = 25.27\n",
      "Precision: mean = 25.19%, sd = 1.41%, min = 22.92, max = 27.04\n",
      "Recall: mean = 24.31%, sd = 0.90%, min = 22.86, max = 25.27\n",
      "F1: mean = 23.49%, sd = 0.92%, min = 21.97, max = 24.46\n"
     ]
    }
   ],
   "source": [
    "cv_scores = cross_validate(SVM_classifier, X, y, cv=StratifiedKFold(n_splits=5, random_state=0), return_train_score=False, scoring=['accuracy', 'precision_weighted', 'recall_weighted', 'f1_weighted'])\n",
    "print_cv_scores_summary(\"Accuracy\", cv_scores['test_accuracy'])\n",
    "print_cv_scores_summary(\"Precision\", cv_scores['test_precision_weighted'])\n",
    "print_cv_scores_summary(\"Recall\", cv_scores['test_recall_weighted'])\n",
    "print_cv_scores_summary(\"F1\", cv_scores['test_f1_weighted'])\n"
   ]
  },
  {
   "cell_type": "code",
   "execution_count": 114,
   "metadata": {},
   "outputs": [],
   "source": [
    "XGradientBoost= XGBClassifier(max_depth=3, n_estimators=300, learning_rate=0.1, random_state=0)"
   ]
  },
  {
   "cell_type": "code",
   "execution_count": 115,
   "metadata": {},
   "outputs": [
    {
     "name": "stdout",
     "output_type": "stream",
     "text": [
      "Accuracy: mean = 24.42%, sd = 0.65%, min = 23.55, max = 25.16\n",
      "Precision: mean = 24.45%, sd = 0.64%, min = 23.55, max = 25.30\n",
      "Recall: mean = 24.42%, sd = 0.65%, min = 23.55, max = 25.16\n",
      "F1: mean = 22.86%, sd = 0.69%, min = 21.99, max = 23.80\n"
     ]
    }
   ],
   "source": [
    "cv_scores = cross_validate(XGradientBoost, X, y, cv=StratifiedKFold(n_splits=5, random_state=0), return_train_score=False, scoring=['accuracy', 'precision_weighted', 'recall_weighted', 'f1_weighted'])\n",
    "print_cv_scores_summary(\"Accuracy\", cv_scores['test_accuracy'])\n",
    "print_cv_scores_summary(\"Precision\", cv_scores['test_precision_weighted'])\n",
    "print_cv_scores_summary(\"Recall\", cv_scores['test_recall_weighted'])\n",
    "print_cv_scores_summary(\"F1\", cv_scores['test_f1_weighted'])\n"
   ]
  },
  {
   "cell_type": "markdown",
   "metadata": {},
   "source": [
    "## Converting the Multiclass labels into Binary class labels (Fake & True) and predicting"
   ]
  },
  {
   "cell_type": "code",
   "execution_count": 116,
   "metadata": {},
   "outputs": [
    {
     "data": {
      "text/html": [
       "<div>\n",
       "<style scoped>\n",
       "    .dataframe tbody tr th:only-of-type {\n",
       "        vertical-align: middle;\n",
       "    }\n",
       "\n",
       "    .dataframe tbody tr th {\n",
       "        vertical-align: top;\n",
       "    }\n",
       "\n",
       "    .dataframe thead th {\n",
       "        text-align: right;\n",
       "    }\n",
       "</style>\n",
       "<table border=\"1\" class=\"dataframe\">\n",
       "  <thead>\n",
       "    <tr style=\"text-align: right;\">\n",
       "      <th></th>\n",
       "      <th>label</th>\n",
       "      <th>statement</th>\n",
       "    </tr>\n",
       "  </thead>\n",
       "  <tbody>\n",
       "    <tr>\n",
       "      <th>0</th>\n",
       "      <td>True</td>\n",
       "      <td>\"McCain opposes a woman's right to choose.\"</td>\n",
       "    </tr>\n",
       "    <tr>\n",
       "      <th>1</th>\n",
       "      <td>Fake</td>\n",
       "      <td>The name Frank has risen in popularity by 20 p...</td>\n",
       "    </tr>\n",
       "  </tbody>\n",
       "</table>\n",
       "</div>"
      ],
      "text/plain": [
       "  label                                          statement\n",
       "0  True        \"McCain opposes a woman's right to choose.\"\n",
       "1  Fake  The name Frank has risen in popularity by 20 p..."
      ]
     },
     "execution_count": 116,
     "metadata": {},
     "output_type": "execute_result"
    }
   ],
   "source": [
    "bi_class.head(2)"
   ]
  },
  {
   "cell_type": "code",
   "execution_count": 117,
   "metadata": {},
   "outputs": [],
   "source": [
    "bi_class['TotalWords'] = bi_class['statement'].str.split().str.len()"
   ]
  },
  {
   "cell_type": "code",
   "execution_count": 118,
   "metadata": {},
   "outputs": [
    {
     "data": {
      "text/html": [
       "<div>\n",
       "<style scoped>\n",
       "    .dataframe tbody tr th:only-of-type {\n",
       "        vertical-align: middle;\n",
       "    }\n",
       "\n",
       "    .dataframe tbody tr th {\n",
       "        vertical-align: top;\n",
       "    }\n",
       "\n",
       "    .dataframe thead th {\n",
       "        text-align: right;\n",
       "    }\n",
       "</style>\n",
       "<table border=\"1\" class=\"dataframe\">\n",
       "  <thead>\n",
       "    <tr style=\"text-align: right;\">\n",
       "      <th></th>\n",
       "      <th>label</th>\n",
       "      <th>statement</th>\n",
       "      <th>TotalWords</th>\n",
       "    </tr>\n",
       "  </thead>\n",
       "  <tbody>\n",
       "    <tr>\n",
       "      <th>0</th>\n",
       "      <td>True</td>\n",
       "      <td>\"McCain opposes a woman's right to choose.\"</td>\n",
       "      <td>7</td>\n",
       "    </tr>\n",
       "    <tr>\n",
       "      <th>1</th>\n",
       "      <td>Fake</td>\n",
       "      <td>The name Frank has risen in popularity by 20 p...</td>\n",
       "      <td>18</td>\n",
       "    </tr>\n",
       "  </tbody>\n",
       "</table>\n",
       "</div>"
      ],
      "text/plain": [
       "  label                                          statement  TotalWords\n",
       "0  True        \"McCain opposes a woman's right to choose.\"           7\n",
       "1  Fake  The name Frank has risen in popularity by 20 p...          18"
      ]
     },
     "execution_count": 118,
     "metadata": {},
     "output_type": "execute_result"
    }
   ],
   "source": [
    "bi_class.head(2)"
   ]
  },
  {
   "cell_type": "code",
   "execution_count": 119,
   "metadata": {},
   "outputs": [],
   "source": [
    "X = bi_class[['statement', 'TotalWords']]\n",
    "\n",
    "Y=  bi_class['label']"
   ]
  },
  {
   "cell_type": "code",
   "execution_count": 120,
   "metadata": {},
   "outputs": [],
   "source": [
    "X_train, X_test, y_train, y_test = train_test_split(X, Y, test_size=0.25)"
   ]
  },
  {
   "cell_type": "code",
   "execution_count": 121,
   "metadata": {},
   "outputs": [],
   "source": [
    "\n",
    "classifier_biclass = Pipeline([\n",
    "    ('features', FeatureUnion([\n",
    "        ('text', Pipeline([\n",
    "            ('colext', TextSelector('statement')),\n",
    "            ('tfidf', TfidfVectorizer(analyzer='word',preprocessor=preprocess, tokenizer=Tokenizer, stop_words=stopwords_list,\n",
    "                     min_df=.0025, max_df=0.25, ngram_range=(1,3))),\n",
    "            ('svd', TruncatedSVD(algorithm='randomized', n_components=300)), #for XGB\n",
    "        ])),\n",
    "        ('words', Pipeline([\n",
    "            ('wordext', NumberSelector('TotalWords')),\n",
    "            ('wscaler', StandardScaler()),\n",
    "        ])),\n",
    "    ])),\n",
    "    ('clf', LogisticRegression(solver='liblinear', random_state=0)),\n",
    "    ])"
   ]
  },
  {
   "cell_type": "code",
   "execution_count": 122,
   "metadata": {},
   "outputs": [
    {
     "name": "stdout",
     "output_type": "stream",
     "text": [
      "Accuracy:  0.6110937986911811\n",
      "              precision    recall  f1-score   support\n",
      "\n",
      "        Fake       0.56      0.45      0.50      1373\n",
      "        True       0.64      0.73      0.68      1836\n",
      "\n",
      "   micro avg       0.61      0.61      0.61      3209\n",
      "   macro avg       0.60      0.59      0.59      3209\n",
      "weighted avg       0.60      0.61      0.60      3209\n",
      "\n",
      "[[ 619  754]\n",
      " [ 494 1342]]\n"
     ]
    }
   ],
   "source": [
    "classifier_biclass.fit(X_train, y_train)\n",
    "predictions = classifier_biclass.predict(X_test)\n",
    "print_scores()"
   ]
  },
  {
   "cell_type": "code",
   "execution_count": 123,
   "metadata": {},
   "outputs": [
    {
     "data": {
      "image/png": "[encoded data removed]",
      "text/plain": [
       "<Figure size 432x288 with 2 Axes>"
      ]
     },
     "metadata": {
      "needs_background": "light"
     },
     "output_type": "display_data"
    }
   ],
   "source": [
    "matrix=confusion_matrix(y_test, predictions) # getting the results of confusion matrix from the classification.\n",
    "sns.heatmap(matrix, annot = True,fmt='g')       # printing the matrix\n",
    "plt.title('Logistic Regression binary class Confusion-Matrix')\n",
    "plt.ylabel('True labels')\n",
    "plt.xlabel('Predicted labels');"
   ]
  },
  {
   "cell_type": "code",
   "execution_count": 124,
   "metadata": {},
   "outputs": [
    {
     "name": "stdout",
     "output_type": "stream",
     "text": [
      "Accuracy:  0.5712059831723278\n",
      "              precision    recall  f1-score   support\n",
      "\n",
      "        Fake       0.50      0.56      0.53      1373\n",
      "        True       0.64      0.58      0.61      1836\n",
      "\n",
      "   micro avg       0.57      0.57      0.57      3209\n",
      "   macro avg       0.57      0.57      0.57      3209\n",
      "weighted avg       0.58      0.57      0.57      3209\n",
      "\n",
      "[[ 773  600]\n",
      " [ 776 1060]]\n"
     ]
    }
   ],
   "source": [
    "classifier_biclass.set_params(clf=GaussianNB())\n",
    "classifier_biclass.fit(X_train, y_train)\n",
    "predictions = classifier_biclass.predict(X_test)\n",
    "print_scores()"
   ]
  },
  {
   "cell_type": "code",
   "execution_count": 125,
   "metadata": {},
   "outputs": [
    {
     "name": "stdout",
     "output_type": "stream",
     "text": [
      "Accuracy:  0.5715176067310689\n",
      "              precision    recall  f1-score   support\n",
      "\n",
      "        Fake       0.50      0.57      0.53      1373\n",
      "        True       0.64      0.57      0.60      1836\n",
      "\n",
      "   micro avg       0.57      0.57      0.57      3209\n",
      "   macro avg       0.57      0.57      0.57      3209\n",
      "weighted avg       0.58      0.57      0.57      3209\n",
      "\n",
      "[[ 784  589]\n",
      " [ 786 1050]]\n"
     ]
    }
   ],
   "source": [
    "classifier.set_params(clf=svm.SVC(C=1.0, kernel='linear', degree=3, gamma='auto'))\n",
    "classifier_biclass.fit(X_train, y_train)\n",
    "predictions = classifier_biclass.predict(X_test)\n",
    "print_scores()"
   ]
  },
  {
   "cell_type": "code",
   "execution_count": 126,
   "metadata": {},
   "outputs": [
    {
     "name": "stdout",
     "output_type": "stream",
     "text": [
      "Accuracy:  0.5702711124961047\n",
      "              precision    recall  f1-score   support\n",
      "\n",
      "        Fake       0.50      0.56      0.53      1373\n",
      "        True       0.64      0.58      0.61      1836\n",
      "\n",
      "   micro avg       0.57      0.57      0.57      3209\n",
      "   macro avg       0.57      0.57      0.57      3209\n",
      "weighted avg       0.58      0.57      0.57      3209\n",
      "\n",
      "[[ 770  603]\n",
      " [ 776 1060]]\n"
     ]
    }
   ],
   "source": [
    "decision_tree=tree.DecisionTreeClassifier(random_state=1000)\n",
    "classifier.set_params(clf=decision_tree)\n",
    "classifier_biclass.fit(X_train, y_train)\n",
    "predictions = classifier_biclass.predict(X_test)\n",
    "print_scores()"
   ]
  },
  {
   "cell_type": "code",
   "execution_count": 127,
   "metadata": {},
   "outputs": [
    {
     "name": "stdout",
     "output_type": "stream",
     "text": [
      "Accuracy:  0.5761919601121844\n",
      "              precision    recall  f1-score   support\n",
      "\n",
      "        Fake       0.50      0.57      0.54      1373\n",
      "        True       0.64      0.58      0.61      1836\n",
      "\n",
      "   micro avg       0.58      0.58      0.58      3209\n",
      "   macro avg       0.57      0.58      0.57      3209\n",
      "weighted avg       0.58      0.58      0.58      3209\n",
      "\n",
      "[[ 787  586]\n",
      " [ 774 1062]]\n"
     ]
    }
   ],
   "source": [
    "classifier.set_params(clf=RandomForestClassifier())\n",
    "classifier_biclass.fit(X_train, y_train)\n",
    "predictions = classifier_biclass.predict(X_test)\n",
    "print_scores()"
   ]
  },
  {
   "cell_type": "code",
   "execution_count": 128,
   "metadata": {},
   "outputs": [
    {
     "name": "stdout",
     "output_type": "stream",
     "text": [
      "Accuracy:  0.5780617014646308\n",
      "              precision    recall  f1-score   support\n",
      "\n",
      "        Fake       0.51      0.57      0.54      1373\n",
      "        True       0.64      0.59      0.61      1836\n",
      "\n",
      "   micro avg       0.58      0.58      0.58      3209\n",
      "   macro avg       0.58      0.58      0.57      3209\n",
      "weighted avg       0.59      0.58      0.58      3209\n",
      "\n",
      "[[ 779  594]\n",
      " [ 760 1076]]\n"
     ]
    }
   ],
   "source": [
    "classifier.set_params(clf=XGBClassifier(max_depth=3, n_estimators=300, learning_rate=0.1, random_state=0))\n",
    "classifier_biclass.fit(X_train, y_train)\n",
    "predictions = classifier_biclass.predict(X_test)\n",
    "print_scores()"
   ]
  }
 ],
 "metadata": {
  "kernelspec": {
   "display_name": "Python 3",
   "language": "python",
   "name": "python3"
  },
  "language_info": {
   "codemirror_mode": {
    "name": "ipython",
    "version": 3
   },
   "file_extension": ".py",
   "mimetype": "text/x-python",
   "name": "python",
   "nbconvert_exporter": "python",
   "pygments_lexer": "ipython3",
   "version": "3.7.0"
  }
 },
 "nbformat": 4,
 "nbformat_minor": 2
}
